{
 "cells": [
  {
   "cell_type": "markdown",
   "metadata": {
    "tags": [
     "notebook-header"
    ]
   },
   "source": [
    "[![GitHub issues by-label](https://img.shields.io/github/issues-raw/pfebrer/sisl/GeometryPlot?style=for-the-badge)](https://github.com/pfebrer/sisl/labels/GeometryPlot)"
   ]
  },
  {
   "cell_type": "markdown",
   "metadata": {},
   "source": [
    "    \n",
    "    \n",
    "GeometryPlot\n",
    "========="
   ]
  },
  {
   "cell_type": "code",
   "execution_count": 1,
   "metadata": {},
   "outputs": [],
   "source": [
    "import sisl\n",
    "import sisl.viz\n",
    "import numpy as np"
   ]
  },
  {
   "cell_type": "markdown",
   "metadata": {},
   "source": [
    "First of all, we will create a geometry to work with"
   ]
  },
  {
   "cell_type": "code",
   "execution_count": 2,
   "metadata": {},
   "outputs": [],
   "source": [
    "geom = sisl.geom.graphene_nanoribbon(9)"
   ]
  },
  {
   "cell_type": "markdown",
   "metadata": {},
   "source": [
    "`GeometryPlot` allows you to quickly visualize a geometry. You can create a `GeometryPlot` out of a geometry very easily:"
   ]
  },
  {
   "cell_type": "code",
   "execution_count": 3,
   "metadata": {},
   "outputs": [],
   "source": [
    "# GeometryPlot is the default plot of a geometry, so one can just do\n",
    "plot = geom.plot()"
   ]
  },
  {
   "cell_type": "markdown",
   "metadata": {},
   "source": [
    "Now let's see what we got:"
   ]
  },
  {
   "cell_type": "code",
   "execution_count": 4,
   "metadata": {},
   "outputs": [
    {
     "data": {
      "application/vnd.jupyter.widget-view+json": {
       "model_id": "acc9e5b611ef4174b8fa2049895d49cf",
       "version_major": 2,
       "version_minor": 0
      },
      "text/plain": [
       "FigureWidget({\n",
       "    'data': [{'line': {'color': 'gray', 'coloraxis': 'coloraxis', 'width': 15},\n",
       "              '…"
      ]
     },
     "metadata": {},
     "output_type": "display_data"
    }
   ],
   "source": [
    "plot"
   ]
  },
  {
   "cell_type": "markdown",
   "metadata": {},
   "source": [
    "## Plotting in 3D, 2D and 1D\n",
    "\n",
    "The 3D view is great, but for big geometries it can take some time to render. If we have a 2d material, a 2D view might be more practical instead. We can get it by specifying the axes that we want:"
   ]
  },
  {
   "cell_type": "code",
   "execution_count": 5,
   "metadata": {},
   "outputs": [
    {
     "data": {
      "application/vnd.jupyter.widget-view+json": {
       "model_id": "fa3329b893df4aadb9a720b6e1691733",
       "version_major": 2,
       "version_minor": 0
      },
      "text/plain": [
       "FigureWidget({\n",
       "    'data': [{'line': {'color': '#cccccc', 'width': 3},\n",
       "              'mode': 'lines',\n",
       "        …"
      ]
     },
     "metadata": {},
     "output_type": "display_data"
    }
   ],
   "source": [
    "plot.update_settings(axes=\"xy\")"
   ]
  },
  {
   "cell_type": "markdown",
   "metadata": {},
   "source": [
    "The next section goes more in depth on what the `axes` setting accepts. The important part for now is that asking for two axes gets you a 2D representation. Samewise, asking for 1 axis gets you a 1D representation:"
   ]
  },
  {
   "cell_type": "code",
   "execution_count": 6,
   "metadata": {
    "scrolled": false
   },
   "outputs": [
    {
     "data": {
      "application/vnd.jupyter.widget-view+json": {
       "model_id": "db96f9bb37ae4bb584941f4cb9a9aa7d",
       "version_major": 2,
       "version_minor": 0
      },
      "text/plain": [
       "FigureWidget({\n",
       "    'data': [{'marker': {'color': [grey, grey, grey, grey, grey, grey, grey, grey,\n",
       "            …"
      ]
     },
     "metadata": {},
     "output_type": "display_data"
    }
   ],
   "source": [
    "plot.update_settings(axes=\"x\")"
   ]
  },
  {
   "cell_type": "markdown",
   "metadata": {},
   "source": [
    "Notice how asking for a 1D representation leaves the Y axis of the plot at your disposal. You can control the values in the second axis using the `dataaxis_1d` setting.\n",
    "\n",
    "It can be an array that **explicitly sets the values**:"
   ]
  },
  {
   "cell_type": "code",
   "execution_count": 7,
   "metadata": {
    "scrolled": false
   },
   "outputs": [
    {
     "data": {
      "application/vnd.jupyter.widget-view+json": {
       "model_id": "e5378aefe37c406496e351fea919a753",
       "version_major": 2,
       "version_minor": 0
      },
      "text/plain": [
       "FigureWidget({\n",
       "    'data': [{'marker': {'color': [grey, grey, grey, grey, grey, grey, grey, grey,\n",
       "            …"
      ]
     },
     "metadata": {},
     "output_type": "display_data"
    }
   ],
   "source": [
    "plot.update_settings(axes=\"x\", dataaxis_1d=plot.geometry.atoms.Z)"
   ]
  },
  {
   "cell_type": "markdown",
   "metadata": {},
   "source": [
    "Or a function that **accepts the projected coordinates and returns the values**."
   ]
  },
  {
   "cell_type": "code",
   "execution_count": 8,
   "metadata": {
    "scrolled": false
   },
   "outputs": [
    {
     "data": {
      "application/vnd.jupyter.widget-view+json": {
       "model_id": "77eae67711434a75bf6e156d3ad297ae",
       "version_major": 2,
       "version_minor": 0
      },
      "text/plain": [
       "FigureWidget({\n",
       "    'data': [{'marker': {'color': [grey, grey, grey, grey, grey, grey, grey, grey,\n",
       "            …"
      ]
     },
     "metadata": {},
     "output_type": "display_data"
    }
   ],
   "source": [
    "plot.update_settings(dataaxis_1d=np.sin)"
   ]
  },
  {
   "cell_type": "markdown",
   "metadata": {},
   "source": [
    "Asking for three axes would bring us back to the 3D representation:"
   ]
  },
  {
   "cell_type": "code",
   "execution_count": 9,
   "metadata": {},
   "outputs": [
    {
     "data": {
      "application/vnd.jupyter.widget-view+json": {
       "model_id": "20cf44c86d2248eca1b699714d06aac1",
       "version_major": 2,
       "version_minor": 0
      },
      "text/plain": [
       "FigureWidget({\n",
       "    'data': [{'line': {'color': 'gray', 'coloraxis': 'coloraxis', 'width': 15},\n",
       "              '…"
      ]
     },
     "metadata": {},
     "output_type": "display_data"
    }
   ],
   "source": [
    "plot.update_settings(axes=\"xyz\")"
   ]
  },
  {
   "cell_type": "markdown",
   "metadata": {},
   "source": [
    "Specifying the axes\n",
    "----------\n",
    "\n",
    "There are many ways in which you may want to display the coordinates of your geometry. The most common one is to display the cartesian coordinates. You indicate that you want cartesian coordinates by passing `{\"x\", \"y\", \"z\"}`. You can pass them as a list: "
   ]
  },
  {
   "cell_type": "code",
   "execution_count": 10,
   "metadata": {},
   "outputs": [
    {
     "data": {
      "application/vnd.jupyter.widget-view+json": {
       "model_id": "eaeef2e2441746388c12662aa6998817",
       "version_major": 2,
       "version_minor": 0
      },
      "text/plain": [
       "FigureWidget({\n",
       "    'data': [{'line': {'color': '#cccccc', 'width': 3},\n",
       "              'mode': 'lines',\n",
       "        …"
      ]
     },
     "metadata": {},
     "output_type": "display_data"
    }
   ],
   "source": [
    "plot.update_settings(axes=[\"x\", \"y\"])"
   ]
  },
  {
   "cell_type": "markdown",
   "metadata": {},
   "source": [
    "But it is usually more convenient to pass them as a multicharacter string:"
   ]
  },
  {
   "cell_type": "code",
   "execution_count": 11,
   "metadata": {},
   "outputs": [
    {
     "data": {
      "application/vnd.jupyter.widget-view+json": {
       "model_id": "9df62e30a1b749a5a326f6a9be8e919f",
       "version_major": 2,
       "version_minor": 0
      },
      "text/plain": [
       "FigureWidget({\n",
       "    'data': [{'line': {'color': '#cccccc', 'width': 3},\n",
       "              'mode': 'lines',\n",
       "        …"
      ]
     },
     "metadata": {},
     "output_type": "display_data"
    }
   ],
   "source": [
    "plot.update_settings(axes=\"xy\")"
   ]
  },
  {
   "cell_type": "markdown",
   "metadata": {},
   "source": [
    "Notice that you can order axes in any way you want. The first one will go to the X axis of the plot, and the second to the Y axis:"
   ]
  },
  {
   "cell_type": "code",
   "execution_count": 12,
   "metadata": {},
   "outputs": [
    {
     "data": {
      "application/vnd.jupyter.widget-view+json": {
       "model_id": "0eace08dd9ff48aabde2ed9723ad997e",
       "version_major": 2,
       "version_minor": 0
      },
      "text/plain": [
       "FigureWidget({\n",
       "    'data': [{'line': {'color': '#cccccc', 'width': 3},\n",
       "              'mode': 'lines',\n",
       "        …"
      ]
     },
     "metadata": {},
     "output_type": "display_data"
    }
   ],
   "source": [
    "plot.update_settings(axes=\"yx\")"
   ]
  },
  {
   "cell_type": "markdown",
   "metadata": {},
   "source": [
    "You are not limited to cartesian coordinates though. Passing `{\"a\", \"b\", \"c\"}` will display the fractional coordinates:"
   ]
  },
  {
   "cell_type": "code",
   "execution_count": 13,
   "metadata": {},
   "outputs": [
    {
     "data": {
      "application/vnd.jupyter.widget-view+json": {
       "model_id": "53ec3418d27746b1ae445c32fbdc59f1",
       "version_major": 2,
       "version_minor": 0
      },
      "text/plain": [
       "FigureWidget({\n",
       "    'data': [{'line': {'color': '#cccccc', 'width': 3},\n",
       "              'mode': 'lines',\n",
       "        …"
      ]
     },
     "metadata": {},
     "output_type": "display_data"
    }
   ],
   "source": [
    "plot.update_settings(axes=\"ab\")"
   ]
  },
  {
   "cell_type": "markdown",
   "metadata": {},
   "source": [
    "And you can also pass an **arbitrary direction** as an axis: "
   ]
  },
  {
   "cell_type": "code",
   "execution_count": 14,
   "metadata": {},
   "outputs": [
    {
     "data": {
      "application/vnd.jupyter.widget-view+json": {
       "model_id": "26e2b5ca2a514010984a24cfa40e8d22",
       "version_major": 2,
       "version_minor": 0
      },
      "text/plain": [
       "FigureWidget({\n",
       "    'data': [{'line': {'color': '#cccccc', 'width': 3},\n",
       "              'mode': 'lines',\n",
       "        …"
      ]
     },
     "metadata": {},
     "output_type": "display_data"
    }
   ],
   "source": [
    "plot.update_settings(axes=[[1,1,0], [1, -1, 0]])"
   ]
  },
  {
   "cell_type": "markdown",
   "metadata": {},
   "source": [
    "In this case, we have projected the coordinates into the `[1,1,0]` and `[1, -1, 0]` directions. Notice that the modulus of the vector is important for the scaling. See for example what happens when we scale the second vector by a factor of two:"
   ]
  },
  {
   "cell_type": "code",
   "execution_count": 15,
   "metadata": {},
   "outputs": [
    {
     "data": {
      "application/vnd.jupyter.widget-view+json": {
       "model_id": "4a2ceb95232f4d7187881d779618afa2",
       "version_major": 2,
       "version_minor": 0
      },
      "text/plain": [
       "FigureWidget({\n",
       "    'data': [{'line': {'color': '#cccccc', 'width': 3},\n",
       "              'mode': 'lines',\n",
       "        …"
      ]
     },
     "metadata": {},
     "output_type": "display_data"
    }
   ],
   "source": [
    "plot.update_settings(axes=[[1,1,0], [2, -2, 0]])"
   ]
  },
  {
   "cell_type": "markdown",
   "metadata": {},
   "source": [
    "Finally, you can even mix the different possibilities!"
   ]
  },
  {
   "cell_type": "code",
   "execution_count": 16,
   "metadata": {},
   "outputs": [
    {
     "data": {
      "application/vnd.jupyter.widget-view+json": {
       "model_id": "ce7d3fa0794742c0bcfeeb3e9bdbee41",
       "version_major": 2,
       "version_minor": 0
      },
      "text/plain": [
       "FigureWidget({\n",
       "    'data': [{'line': {'color': '#cccccc', 'width': 3},\n",
       "              'mode': 'lines',\n",
       "        …"
      ]
     },
     "metadata": {},
     "output_type": "display_data"
    }
   ],
   "source": [
    "plot.update_settings(axes=[\"x\", [1,1,0]])"
   ]
  },
  {
   "cell_type": "markdown",
   "metadata": {},
   "source": [
    "To summarize the different possibilities:\n",
    "\n",
    "- `{\"x\", \"y\", \"z\"}`: The **cartesian coordinates** are displayed.\n",
    "- `{\"a\", \"b\", \"c\"}`: The **fractional coordinates** are displayed. Same for {0,1,2}.\n",
    "- `np.array of shape (3, )`: The coordinates are **projected into that direction**. If two directions are passed, the coordinates are not projected to each axis separately. The displayed coordinates are then the coefficients of the linear combination to get that point (or the projection of that point into the plane formed by the two axes).\n",
    "\n",
    "<div class=\"alert alert-warning\">\n",
    "    \n",
    "Some non-obvious behavior\n",
    "    \n",
    "**Fractional coordinates are only displayed if all axes are lattice vectors**. Otherwise, the plot works as if you had passed the direction of the lattice vector. Also, for now, the **3D representation only displays cartesian coordinates**.\n",
    "\n",
    "</div>"
   ]
  },
  {
   "cell_type": "markdown",
   "metadata": {},
   "source": [
    "## Toggling bonds, atoms and cell\n",
    "\n",
    "You might have noticed that, by default, the cell, atoms and bonds are displayed. Thanks to plotly's capabilities, **you can interactively toggle them by clicking at the names in the legend**, which is great!\n",
    "\n",
    "However, if you want to make sure they are not displayed in the first place, you can set the `show_bonds`, `show_cell` and `show_atoms` settings to `False`."
   ]
  },
  {
   "cell_type": "code",
   "execution_count": 17,
   "metadata": {},
   "outputs": [
    {
     "ename": "IndexError",
     "evalue": "arrays used as indices must be of integer (or boolean) type",
     "output_type": "error",
     "traceback": [
      "\u001b[0;31m---------------------------------------------------------------------------\u001b[0m",
      "\u001b[0;31mIndexError\u001b[0m                                Traceback (most recent call last)",
      "\u001b[0;32m<ipython-input-17-001b597f551d>\u001b[0m in \u001b[0;36m<module>\u001b[0;34m\u001b[0m\n\u001b[0;32m----> 1\u001b[0;31m \u001b[0mplot\u001b[0m\u001b[0;34m.\u001b[0m\u001b[0mupdate_settings\u001b[0m\u001b[0;34m(\u001b[0m\u001b[0maxes\u001b[0m\u001b[0;34m=\u001b[0m\u001b[0;34m\"xy\"\u001b[0m\u001b[0;34m,\u001b[0m \u001b[0mshow_cell\u001b[0m\u001b[0;34m=\u001b[0m\u001b[0;32mFalse\u001b[0m\u001b[0;34m,\u001b[0m \u001b[0mshow_atoms\u001b[0m\u001b[0;34m=\u001b[0m\u001b[0;32mFalse\u001b[0m\u001b[0;34m)\u001b[0m\u001b[0;34m\u001b[0m\u001b[0;34m\u001b[0m\u001b[0m\n\u001b[0m",
      "\u001b[0;32m/opt/gnu/9.3.0/python/packages/3.8.5/sisl-dev/0/lib/python3.8/site-packages/sisl-0.12.0.dev0-py3.8-linux-x86_64.egg/sisl/viz/configurable.py\u001b[0m in \u001b[0;36mupdate_settings\u001b[0;34m(self, *args, **kwargs)\u001b[0m\n\u001b[1;32m    437\u001b[0m             \u001b[0;31m# the available kwargs for the plot class and provide more help to the user\u001b[0m\u001b[0;34m\u001b[0m\u001b[0;34m\u001b[0m\u001b[0;34m\u001b[0m\u001b[0m\n\u001b[1;32m    438\u001b[0m             \u001b[0;32mdef\u001b[0m \u001b[0mupdate_settings\u001b[0m\u001b[0;34m(\u001b[0m\u001b[0mself\u001b[0m\u001b[0;34m,\u001b[0m \u001b[0;34m*\u001b[0m\u001b[0margs\u001b[0m\u001b[0;34m,\u001b[0m \u001b[0;34m**\u001b[0m\u001b[0mkwargs\u001b[0m\u001b[0;34m)\u001b[0m\u001b[0;34m:\u001b[0m\u001b[0;34m\u001b[0m\u001b[0;34m\u001b[0m\u001b[0m\n\u001b[0;32m--> 439\u001b[0;31m                 \u001b[0;32mreturn\u001b[0m \u001b[0mself\u001b[0m\u001b[0;34m.\u001b[0m\u001b[0m_update_settings\u001b[0m\u001b[0;34m(\u001b[0m\u001b[0;34m*\u001b[0m\u001b[0margs\u001b[0m\u001b[0;34m,\u001b[0m \u001b[0;34m**\u001b[0m\u001b[0mkwargs\u001b[0m\u001b[0;34m)\u001b[0m\u001b[0;34m\u001b[0m\u001b[0;34m\u001b[0m\u001b[0m\n\u001b[0m\u001b[1;32m    440\u001b[0m \u001b[0;34m\u001b[0m\u001b[0m\n\u001b[1;32m    441\u001b[0m             \u001b[0mupdate_settings\u001b[0m\u001b[0;34m.\u001b[0m\u001b[0m__doc__\u001b[0m \u001b[0;34m=\u001b[0m \u001b[0;34mf\"Updates the settings of this plot.\\n\\nDocs for {new_cls.__name__}:\\n\\n{get_configurable_docstring(new_cls)}\"\u001b[0m\u001b[0;34m\u001b[0m\u001b[0;34m\u001b[0m\u001b[0m\n",
      "\u001b[0;32m/opt/gnu/9.3.0/python/packages/3.8.5/sisl-dev/0/lib/python3.8/site-packages/sisl-0.12.0.dev0-py3.8-linux-x86_64.egg/sisl/viz/configurable.py\u001b[0m in \u001b[0;36m_update_settings\u001b[0;34m(self, run_updates, **kwargs)\u001b[0m\n\u001b[1;32m    558\u001b[0m             \u001b[0;31m#Do things after updating the settings\u001b[0m\u001b[0;34m\u001b[0m\u001b[0;34m\u001b[0m\u001b[0;34m\u001b[0m\u001b[0m\n\u001b[1;32m    559\u001b[0m             \u001b[0;32mif\u001b[0m \u001b[0mlen\u001b[0m\u001b[0;34m(\u001b[0m\u001b[0mself\u001b[0m\u001b[0;34m.\u001b[0m\u001b[0msettings_history\u001b[0m\u001b[0;34m.\u001b[0m\u001b[0mlast_updated\u001b[0m\u001b[0;34m)\u001b[0m \u001b[0;34m>\u001b[0m \u001b[0;36m0\u001b[0m \u001b[0;32mand\u001b[0m \u001b[0mrun_updates\u001b[0m\u001b[0;34m:\u001b[0m\u001b[0;34m\u001b[0m\u001b[0;34m\u001b[0m\u001b[0m\n\u001b[0;32m--> 560\u001b[0;31m                 \u001b[0mself\u001b[0m\u001b[0;34m.\u001b[0m\u001b[0m_run_updates\u001b[0m\u001b[0;34m(\u001b[0m\u001b[0mself\u001b[0m\u001b[0;34m.\u001b[0m\u001b[0msettings_history\u001b[0m\u001b[0;34m.\u001b[0m\u001b[0mlast_updated\u001b[0m\u001b[0;34m)\u001b[0m\u001b[0;34m\u001b[0m\u001b[0;34m\u001b[0m\u001b[0m\n\u001b[0m\u001b[1;32m    561\u001b[0m \u001b[0;34m\u001b[0m\u001b[0m\n\u001b[1;32m    562\u001b[0m         \u001b[0;32mreturn\u001b[0m \u001b[0mself\u001b[0m\u001b[0;34m\u001b[0m\u001b[0;34m\u001b[0m\u001b[0m\n",
      "\u001b[0;32m/opt/gnu/9.3.0/python/packages/3.8.5/sisl-dev/0/lib/python3.8/site-packages/sisl-0.12.0.dev0-py3.8-linux-x86_64.egg/sisl/viz/configurable.py\u001b[0m in \u001b[0;36m_run_updates\u001b[0;34m(self, for_keys)\u001b[0m\n\u001b[1;32m    586\u001b[0m         \u001b[0;31m# Execute the functions that we need to execute.\u001b[0m\u001b[0;34m\u001b[0m\u001b[0;34m\u001b[0m\u001b[0;34m\u001b[0m\u001b[0m\n\u001b[1;32m    587\u001b[0m         \u001b[0;32mfor\u001b[0m \u001b[0mf_name\u001b[0m \u001b[0;32min\u001b[0m \u001b[0mfunc_names\u001b[0m\u001b[0;34m:\u001b[0m\u001b[0;34m\u001b[0m\u001b[0;34m\u001b[0m\u001b[0m\n\u001b[0;32m--> 588\u001b[0;31m             \u001b[0mgetattr\u001b[0m\u001b[0;34m(\u001b[0m\u001b[0mself\u001b[0m\u001b[0;34m,\u001b[0m \u001b[0mf_name\u001b[0m\u001b[0;34m)\u001b[0m\u001b[0;34m(\u001b[0m\u001b[0;34m)\u001b[0m\u001b[0;34m\u001b[0m\u001b[0;34m\u001b[0m\u001b[0m\n\u001b[0m\u001b[1;32m    589\u001b[0m \u001b[0;34m\u001b[0m\u001b[0m\n\u001b[1;32m    590\u001b[0m         \u001b[0;32mreturn\u001b[0m \u001b[0mself\u001b[0m\u001b[0;34m\u001b[0m\u001b[0;34m\u001b[0m\u001b[0m\n",
      "\u001b[0;32m/opt/gnu/9.3.0/python/packages/3.8.5/sisl-dev/0/lib/python3.8/site-packages/sisl-0.12.0.dev0-py3.8-linux-x86_64.egg/sisl/viz/plotutils.py\u001b[0m in \u001b[0;36mapply_to_all_plots\u001b[0;34m(obj, children_sel, *args, **kwargs)\u001b[0m\n\u001b[1;32m    823\u001b[0m         \u001b[0;32melse\u001b[0m\u001b[0;34m:\u001b[0m\u001b[0;34m\u001b[0m\u001b[0;34m\u001b[0m\u001b[0m\n\u001b[1;32m    824\u001b[0m \u001b[0;34m\u001b[0m\u001b[0m\n\u001b[0;32m--> 825\u001b[0;31m             \u001b[0;32mreturn\u001b[0m \u001b[0mmethod\u001b[0m\u001b[0;34m(\u001b[0m\u001b[0mobj\u001b[0m\u001b[0;34m,\u001b[0m \u001b[0;34m*\u001b[0m\u001b[0margs\u001b[0m\u001b[0;34m,\u001b[0m \u001b[0;34m**\u001b[0m\u001b[0mkwargs\u001b[0m\u001b[0;34m)\u001b[0m\u001b[0;34m\u001b[0m\u001b[0;34m\u001b[0m\u001b[0m\n\u001b[0m\u001b[1;32m    826\u001b[0m \u001b[0;34m\u001b[0m\u001b[0m\n\u001b[1;32m    827\u001b[0m     \u001b[0;32mreturn\u001b[0m \u001b[0mapply_to_all_plots\u001b[0m\u001b[0;34m\u001b[0m\u001b[0;34m\u001b[0m\u001b[0m\n",
      "\u001b[0;32m/opt/gnu/9.3.0/python/packages/3.8.5/sisl-dev/0/lib/python3.8/site-packages/sisl-0.12.0.dev0-py3.8-linux-x86_64.egg/sisl/viz/configurable.py\u001b[0m in \u001b[0;36mfunc\u001b[0;34m(obj, *args, **kwargs)\u001b[0m\n\u001b[1;32m    892\u001b[0m             \u001b[0;32mdef\u001b[0m \u001b[0mfunc\u001b[0m\u001b[0;34m(\u001b[0m\u001b[0mobj\u001b[0m\u001b[0;34m,\u001b[0m \u001b[0;34m*\u001b[0m\u001b[0margs\u001b[0m\u001b[0;34m,\u001b[0m \u001b[0;34m**\u001b[0m\u001b[0mkwargs\u001b[0m\u001b[0;34m)\u001b[0m\u001b[0;34m:\u001b[0m\u001b[0;34m\u001b[0m\u001b[0;34m\u001b[0m\u001b[0m\n\u001b[1;32m    893\u001b[0m                 \u001b[0mgetattr\u001b[0m\u001b[0;34m(\u001b[0m\u001b[0mobj\u001b[0m\u001b[0;34m,\u001b[0m \u001b[0mmethod_name\u001b[0m\u001b[0;34m)\u001b[0m\u001b[0;34m(\u001b[0m\u001b[0;34m**\u001b[0m\u001b[0mkwargs\u001b[0m\u001b[0;34m,\u001b[0m \u001b[0;34m**\u001b[0m\u001b[0mextra_kwargs\u001b[0m\u001b[0;34m)\u001b[0m\u001b[0;34m\u001b[0m\u001b[0;34m\u001b[0m\u001b[0m\n\u001b[0;32m--> 894\u001b[0;31m                 \u001b[0;32mreturn\u001b[0m \u001b[0mmethod\u001b[0m\u001b[0;34m(\u001b[0m\u001b[0mobj\u001b[0m\u001b[0;34m,\u001b[0m \u001b[0;34m*\u001b[0m\u001b[0margs\u001b[0m\u001b[0;34m,\u001b[0m \u001b[0;34m**\u001b[0m\u001b[0mkwargs\u001b[0m\u001b[0;34m)\u001b[0m\u001b[0;34m\u001b[0m\u001b[0;34m\u001b[0m\u001b[0m\n\u001b[0m\u001b[1;32m    895\u001b[0m \u001b[0;34m\u001b[0m\u001b[0m\n\u001b[1;32m    896\u001b[0m         \u001b[0;32melif\u001b[0m \u001b[0mwhen\u001b[0m \u001b[0;34m==\u001b[0m \u001b[0;34m'after'\u001b[0m\u001b[0;34m:\u001b[0m\u001b[0;34m\u001b[0m\u001b[0;34m\u001b[0m\u001b[0m\n",
      "\u001b[0;32m/opt/gnu/9.3.0/python/packages/3.8.5/sisl-dev/0/lib/python3.8/site-packages/sisl-0.12.0.dev0-py3.8-linux-x86_64.egg/sisl/viz/plot.py\u001b[0m in \u001b[0;36mset_data\u001b[0;34m(self, update_fig, **kwargs)\u001b[0m\n\u001b[1;32m   1088\u001b[0m         \"\"\"\n\u001b[1;32m   1089\u001b[0m \u001b[0;34m\u001b[0m\u001b[0m\n\u001b[0;32m-> 1090\u001b[0;31m         \u001b[0mself\u001b[0m\u001b[0;34m.\u001b[0m\u001b[0m_for_backend\u001b[0m \u001b[0;34m=\u001b[0m \u001b[0mself\u001b[0m\u001b[0;34m.\u001b[0m\u001b[0m_set_data\u001b[0m\u001b[0;34m(\u001b[0m\u001b[0;34m)\u001b[0m\u001b[0;34m\u001b[0m\u001b[0;34m\u001b[0m\u001b[0m\n\u001b[0m\u001b[1;32m   1091\u001b[0m \u001b[0;34m\u001b[0m\u001b[0m\n\u001b[1;32m   1092\u001b[0m         \u001b[0;32mif\u001b[0m \u001b[0mupdate_fig\u001b[0m\u001b[0;34m:\u001b[0m\u001b[0;34m\u001b[0m\u001b[0;34m\u001b[0m\u001b[0m\n",
      "\u001b[0;32m/opt/gnu/9.3.0/python/packages/3.8.5/sisl-dev/0/lib/python3.8/site-packages/sisl-0.12.0.dev0-py3.8-linux-x86_64.egg/sisl/viz/configurable.py\u001b[0m in \u001b[0;36mf_default_setting_args\u001b[0;34m(self, *args, **kwargs)\u001b[0m\n\u001b[1;32m    973\u001b[0m                     \u001b[0;32mpass\u001b[0m\u001b[0;34m\u001b[0m\u001b[0;34m\u001b[0m\u001b[0m\n\u001b[1;32m    974\u001b[0m \u001b[0;34m\u001b[0m\u001b[0m\n\u001b[0;32m--> 975\u001b[0;31m         \u001b[0;32mreturn\u001b[0m \u001b[0mf\u001b[0m\u001b[0;34m(\u001b[0m\u001b[0mself\u001b[0m\u001b[0;34m,\u001b[0m \u001b[0;34m*\u001b[0m\u001b[0margs\u001b[0m\u001b[0;34m,\u001b[0m \u001b[0;34m**\u001b[0m\u001b[0mkwargs\u001b[0m\u001b[0;34m)\u001b[0m\u001b[0;34m\u001b[0m\u001b[0;34m\u001b[0m\u001b[0m\n\u001b[0m\u001b[1;32m    976\u001b[0m \u001b[0;34m\u001b[0m\u001b[0m\n\u001b[1;32m    977\u001b[0m     \u001b[0;32mreturn\u001b[0m \u001b[0mf_default_setting_args\u001b[0m\u001b[0;34m\u001b[0m\u001b[0;34m\u001b[0m\u001b[0m\n",
      "\u001b[0;32m/opt/gnu/9.3.0/python/packages/3.8.5/sisl-dev/0/lib/python3.8/site-packages/sisl-0.12.0.dev0-py3.8-linux-x86_64.egg/sisl/viz/plots/geometry.py\u001b[0m in \u001b[0;36m_set_data\u001b[0;34m(self, axes, atoms, atoms_color, atoms_size, show_atoms, bind_bonds_to_ats, dataaxis_1d, show_cell, nsc, kwargs3d, kwargs2d, kwargs1d)\u001b[0m\n\u001b[1;32m    342\u001b[0m         \u001b[0;32melif\u001b[0m \u001b[0mself\u001b[0m\u001b[0;34m.\u001b[0m\u001b[0m_ndim\u001b[0m \u001b[0;34m==\u001b[0m \u001b[0;36m2\u001b[0m\u001b[0;34m:\u001b[0m\u001b[0;34m\u001b[0m\u001b[0;34m\u001b[0m\u001b[0m\n\u001b[1;32m    343\u001b[0m             \u001b[0mxaxis\u001b[0m\u001b[0;34m,\u001b[0m \u001b[0myaxis\u001b[0m \u001b[0;34m=\u001b[0m \u001b[0maxes\u001b[0m\u001b[0;34m\u001b[0m\u001b[0;34m\u001b[0m\u001b[0m\n\u001b[0;32m--> 344\u001b[0;31m             \u001b[0mbackend_info\u001b[0m \u001b[0;34m=\u001b[0m \u001b[0mself\u001b[0m\u001b[0;34m.\u001b[0m\u001b[0m_prepare2D\u001b[0m\u001b[0;34m(\u001b[0m\u001b[0mxaxis\u001b[0m\u001b[0;34m=\u001b[0m\u001b[0mxaxis\u001b[0m\u001b[0;34m,\u001b[0m \u001b[0myaxis\u001b[0m\u001b[0;34m=\u001b[0m\u001b[0myaxis\u001b[0m\u001b[0;34m,\u001b[0m \u001b[0;34m**\u001b[0m\u001b[0matoms_kwargs\u001b[0m\u001b[0;34m,\u001b[0m \u001b[0mbind_bonds_to_ats\u001b[0m\u001b[0;34m=\u001b[0m\u001b[0mbind_bonds_to_ats\u001b[0m\u001b[0;34m,\u001b[0m \u001b[0mnsc\u001b[0m\u001b[0;34m=\u001b[0m\u001b[0mnsc\u001b[0m\u001b[0;34m,\u001b[0m \u001b[0;34m**\u001b[0m\u001b[0mkwargs2d\u001b[0m\u001b[0;34m)\u001b[0m\u001b[0;34m\u001b[0m\u001b[0;34m\u001b[0m\u001b[0m\n\u001b[0m\u001b[1;32m    345\u001b[0m         \u001b[0;32melif\u001b[0m \u001b[0mself\u001b[0m\u001b[0;34m.\u001b[0m\u001b[0m_ndim\u001b[0m \u001b[0;34m==\u001b[0m \u001b[0;36m1\u001b[0m\u001b[0;34m:\u001b[0m\u001b[0;34m\u001b[0m\u001b[0;34m\u001b[0m\u001b[0m\n\u001b[1;32m    346\u001b[0m             \u001b[0mxaxis\u001b[0m \u001b[0;34m=\u001b[0m \u001b[0maxes\u001b[0m\u001b[0;34m[\u001b[0m\u001b[0;36m0\u001b[0m\u001b[0;34m]\u001b[0m\u001b[0;34m\u001b[0m\u001b[0;34m\u001b[0m\u001b[0m\n",
      "\u001b[0;32m/opt/gnu/9.3.0/python/packages/3.8.5/sisl-dev/0/lib/python3.8/site-packages/sisl-0.12.0.dev0-py3.8-linux-x86_64.egg/sisl/viz/configurable.py\u001b[0m in \u001b[0;36mf_default_setting_args\u001b[0;34m(self, *args, **kwargs)\u001b[0m\n\u001b[1;32m    973\u001b[0m                     \u001b[0;32mpass\u001b[0m\u001b[0;34m\u001b[0m\u001b[0;34m\u001b[0m\u001b[0m\n\u001b[1;32m    974\u001b[0m \u001b[0;34m\u001b[0m\u001b[0m\n\u001b[0;32m--> 975\u001b[0;31m         \u001b[0;32mreturn\u001b[0m \u001b[0mf\u001b[0m\u001b[0;34m(\u001b[0m\u001b[0mself\u001b[0m\u001b[0;34m,\u001b[0m \u001b[0;34m*\u001b[0m\u001b[0margs\u001b[0m\u001b[0;34m,\u001b[0m \u001b[0;34m**\u001b[0m\u001b[0mkwargs\u001b[0m\u001b[0;34m)\u001b[0m\u001b[0;34m\u001b[0m\u001b[0;34m\u001b[0m\u001b[0m\n\u001b[0m\u001b[1;32m    976\u001b[0m \u001b[0;34m\u001b[0m\u001b[0m\n\u001b[1;32m    977\u001b[0m     \u001b[0;32mreturn\u001b[0m \u001b[0mf_default_setting_args\u001b[0m\u001b[0;34m\u001b[0m\u001b[0;34m\u001b[0m\u001b[0m\n",
      "\u001b[0;32m/opt/gnu/9.3.0/python/packages/3.8.5/sisl-dev/0/lib/python3.8/site-packages/sisl-0.12.0.dev0-py3.8-linux-x86_64.egg/sisl/viz/plots/geometry.py\u001b[0m in \u001b[0;36m_prepare2D\u001b[0;34m(self, xaxis, yaxis, atoms, atoms_color, atoms_size, atoms_colorscale, show_bonds, bind_bonds_to_ats, bonds_together, points_per_bond, show_cell, wrap_atoms, wrap_bond, nsc)\u001b[0m\n\u001b[1;32m    763\u001b[0m         \u001b[0mself\u001b[0m\u001b[0;34m.\u001b[0m\u001b[0m_display_props\u001b[0m\u001b[0;34m[\u001b[0m\u001b[0;34m\"atoms\"\u001b[0m\u001b[0;34m]\u001b[0m\u001b[0;34m[\u001b[0m\u001b[0;34m\"colorscale\"\u001b[0m\u001b[0;34m]\u001b[0m \u001b[0;34m=\u001b[0m \u001b[0matoms_colorscale\u001b[0m\u001b[0;34m\u001b[0m\u001b[0;34m\u001b[0m\u001b[0m\n\u001b[1;32m    764\u001b[0m \u001b[0;34m\u001b[0m\u001b[0m\n\u001b[0;32m--> 765\u001b[0;31m         \u001b[0mxy\u001b[0m \u001b[0;34m=\u001b[0m \u001b[0mself\u001b[0m\u001b[0;34m.\u001b[0m\u001b[0m_projected_2Dcoords\u001b[0m\u001b[0;34m(\u001b[0m\u001b[0mself\u001b[0m\u001b[0;34m.\u001b[0m\u001b[0mgeometry\u001b[0m\u001b[0;34m,\u001b[0m \u001b[0mself\u001b[0m\u001b[0;34m.\u001b[0m\u001b[0mgeometry\u001b[0m\u001b[0;34m[\u001b[0m\u001b[0matoms\u001b[0m\u001b[0;34m]\u001b[0m\u001b[0;34m,\u001b[0m \u001b[0mxaxis\u001b[0m\u001b[0;34m=\u001b[0m\u001b[0mxaxis\u001b[0m\u001b[0;34m,\u001b[0m \u001b[0myaxis\u001b[0m\u001b[0;34m=\u001b[0m\u001b[0myaxis\u001b[0m\u001b[0;34m,\u001b[0m \u001b[0mnsc\u001b[0m\u001b[0;34m=\u001b[0m\u001b[0mnsc\u001b[0m\u001b[0;34m)\u001b[0m\u001b[0;34m.\u001b[0m\u001b[0mT\u001b[0m\u001b[0;34m\u001b[0m\u001b[0;34m\u001b[0m\u001b[0m\n\u001b[0m\u001b[1;32m    766\u001b[0m \u001b[0;34m\u001b[0m\u001b[0m\n\u001b[1;32m    767\u001b[0m         \u001b[0;31m# Add atoms\u001b[0m\u001b[0;34m\u001b[0m\u001b[0;34m\u001b[0m\u001b[0;34m\u001b[0m\u001b[0m\n",
      "\u001b[0;32m/opt/gnu/9.3.0/python/3.8.5/lib/python3.8/functools.py\u001b[0m in \u001b[0;36m_method\u001b[0;34m(*args, **kwargs)\u001b[0m\n\u001b[1;32m    910\u001b[0m         \u001b[0;32mdef\u001b[0m \u001b[0m_method\u001b[0m\u001b[0;34m(\u001b[0m\u001b[0;34m*\u001b[0m\u001b[0margs\u001b[0m\u001b[0;34m,\u001b[0m \u001b[0;34m**\u001b[0m\u001b[0mkwargs\u001b[0m\u001b[0;34m)\u001b[0m\u001b[0;34m:\u001b[0m\u001b[0;34m\u001b[0m\u001b[0;34m\u001b[0m\u001b[0m\n\u001b[1;32m    911\u001b[0m             \u001b[0mmethod\u001b[0m \u001b[0;34m=\u001b[0m \u001b[0mself\u001b[0m\u001b[0;34m.\u001b[0m\u001b[0mdispatcher\u001b[0m\u001b[0;34m.\u001b[0m\u001b[0mdispatch\u001b[0m\u001b[0;34m(\u001b[0m\u001b[0margs\u001b[0m\u001b[0;34m[\u001b[0m\u001b[0;36m0\u001b[0m\u001b[0;34m]\u001b[0m\u001b[0;34m.\u001b[0m\u001b[0m__class__\u001b[0m\u001b[0;34m)\u001b[0m\u001b[0;34m\u001b[0m\u001b[0;34m\u001b[0m\u001b[0m\n\u001b[0;32m--> 912\u001b[0;31m             \u001b[0;32mreturn\u001b[0m \u001b[0mmethod\u001b[0m\u001b[0;34m.\u001b[0m\u001b[0m__get__\u001b[0m\u001b[0;34m(\u001b[0m\u001b[0mobj\u001b[0m\u001b[0;34m,\u001b[0m \u001b[0mcls\u001b[0m\u001b[0;34m)\u001b[0m\u001b[0;34m(\u001b[0m\u001b[0;34m*\u001b[0m\u001b[0margs\u001b[0m\u001b[0;34m,\u001b[0m \u001b[0;34m**\u001b[0m\u001b[0mkwargs\u001b[0m\u001b[0;34m)\u001b[0m\u001b[0;34m\u001b[0m\u001b[0;34m\u001b[0m\u001b[0m\n\u001b[0m\u001b[1;32m    913\u001b[0m \u001b[0;34m\u001b[0m\u001b[0m\n\u001b[1;32m    914\u001b[0m         \u001b[0m_method\u001b[0m\u001b[0;34m.\u001b[0m\u001b[0m__isabstractmethod__\u001b[0m \u001b[0;34m=\u001b[0m \u001b[0mself\u001b[0m\u001b[0;34m.\u001b[0m\u001b[0m__isabstractmethod__\u001b[0m\u001b[0;34m\u001b[0m\u001b[0;34m\u001b[0m\u001b[0m\n",
      "\u001b[0;32m/opt/gnu/9.3.0/python/packages/3.8.5/sisl-dev/0/lib/python3.8/site-packages/sisl-0.12.0.dev0-py3.8-linux-x86_64.egg/sisl/geometry.py\u001b[0m in \u001b[0;36m__getitem__\u001b[0;34m(self, atoms)\u001b[0m\n\u001b[1;32m    310\u001b[0m     \u001b[0;32mdef\u001b[0m \u001b[0m__getitem__\u001b[0m\u001b[0;34m(\u001b[0m\u001b[0mself\u001b[0m\u001b[0;34m,\u001b[0m \u001b[0matoms\u001b[0m\u001b[0;34m)\u001b[0m\u001b[0;34m:\u001b[0m\u001b[0;34m\u001b[0m\u001b[0;34m\u001b[0m\u001b[0m\n\u001b[1;32m    311\u001b[0m         \u001b[0;34m\"\"\" Geometry coordinates (allows supercell indices) \"\"\"\u001b[0m\u001b[0;34m\u001b[0m\u001b[0;34m\u001b[0m\u001b[0m\n\u001b[0;32m--> 312\u001b[0;31m         \u001b[0;32mreturn\u001b[0m \u001b[0mself\u001b[0m\u001b[0;34m.\u001b[0m\u001b[0maxyz\u001b[0m\u001b[0;34m(\u001b[0m\u001b[0matoms\u001b[0m\u001b[0;34m)\u001b[0m\u001b[0;34m\u001b[0m\u001b[0;34m\u001b[0m\u001b[0m\n\u001b[0m\u001b[1;32m    313\u001b[0m \u001b[0;34m\u001b[0m\u001b[0m\n\u001b[1;32m    314\u001b[0m     \u001b[0;34m@\u001b[0m\u001b[0m__getitem__\u001b[0m\u001b[0;34m.\u001b[0m\u001b[0mregister\u001b[0m\u001b[0;34m(\u001b[0m\u001b[0mslice\u001b[0m\u001b[0;34m)\u001b[0m\u001b[0;34m\u001b[0m\u001b[0;34m\u001b[0m\u001b[0m\n",
      "\u001b[0;32m/opt/gnu/9.3.0/python/packages/3.8.5/sisl-dev/0/lib/python3.8/site-packages/sisl-0.12.0.dev0-py3.8-linux-x86_64.egg/sisl/geometry.py\u001b[0m in \u001b[0;36maxyz\u001b[0;34m(self, atoms, isc)\u001b[0m\n\u001b[1;32m   2738\u001b[0m         \u001b[0;32mif\u001b[0m \u001b[0misc\u001b[0m \u001b[0;32mis\u001b[0m \u001b[0;32mNone\u001b[0m\u001b[0;34m:\u001b[0m\u001b[0;34m\u001b[0m\u001b[0;34m\u001b[0m\u001b[0m\n\u001b[1;32m   2739\u001b[0m             \u001b[0;31m# get offsets from atomic indices (note that this will be per atom)\u001b[0m\u001b[0;34m\u001b[0m\u001b[0;34m\u001b[0m\u001b[0;34m\u001b[0m\u001b[0m\n\u001b[0;32m-> 2740\u001b[0;31m             \u001b[0misc\u001b[0m \u001b[0;34m=\u001b[0m \u001b[0mself\u001b[0m\u001b[0;34m.\u001b[0m\u001b[0ma2isc\u001b[0m\u001b[0;34m(\u001b[0m\u001b[0matoms\u001b[0m\u001b[0;34m)\u001b[0m\u001b[0;34m\u001b[0m\u001b[0;34m\u001b[0m\u001b[0m\n\u001b[0m\u001b[1;32m   2741\u001b[0m             \u001b[0moffset\u001b[0m \u001b[0;34m=\u001b[0m \u001b[0mself\u001b[0m\u001b[0;34m.\u001b[0m\u001b[0msc\u001b[0m\u001b[0;34m.\u001b[0m\u001b[0moffset\u001b[0m\u001b[0;34m(\u001b[0m\u001b[0misc\u001b[0m\u001b[0;34m)\u001b[0m\u001b[0;34m\u001b[0m\u001b[0;34m\u001b[0m\u001b[0m\n\u001b[1;32m   2742\u001b[0m             \u001b[0;32mreturn\u001b[0m \u001b[0mself\u001b[0m\u001b[0;34m.\u001b[0m\u001b[0mxyz\u001b[0m\u001b[0;34m[\u001b[0m\u001b[0mself\u001b[0m\u001b[0;34m.\u001b[0m\u001b[0msc2uc\u001b[0m\u001b[0;34m(\u001b[0m\u001b[0matoms\u001b[0m\u001b[0;34m)\u001b[0m\u001b[0;34m,\u001b[0m \u001b[0;34m:\u001b[0m\u001b[0;34m]\u001b[0m \u001b[0;34m+\u001b[0m \u001b[0moffset\u001b[0m\u001b[0;34m\u001b[0m\u001b[0;34m\u001b[0m\u001b[0m\n",
      "\u001b[0;32m/opt/gnu/9.3.0/python/packages/3.8.5/sisl-dev/0/lib/python3.8/site-packages/sisl-0.12.0.dev0-py3.8-linux-x86_64.egg/sisl/geometry.py\u001b[0m in \u001b[0;36ma2isc\u001b[0;34m(self, atoms)\u001b[0m\n\u001b[1;32m   3730\u001b[0m         \"\"\"\n\u001b[1;32m   3731\u001b[0m         \u001b[0matoms\u001b[0m \u001b[0;34m=\u001b[0m \u001b[0mself\u001b[0m\u001b[0;34m.\u001b[0m\u001b[0m_sanitize_atoms\u001b[0m\u001b[0;34m(\u001b[0m\u001b[0matoms\u001b[0m\u001b[0;34m)\u001b[0m \u001b[0;34m//\u001b[0m \u001b[0mself\u001b[0m\u001b[0;34m.\u001b[0m\u001b[0mna\u001b[0m\u001b[0;34m\u001b[0m\u001b[0;34m\u001b[0m\u001b[0m\n\u001b[0;32m-> 3732\u001b[0;31m         \u001b[0;32mreturn\u001b[0m \u001b[0mself\u001b[0m\u001b[0;34m.\u001b[0m\u001b[0msc\u001b[0m\u001b[0;34m.\u001b[0m\u001b[0msc_off\u001b[0m\u001b[0;34m[\u001b[0m\u001b[0matoms\u001b[0m\u001b[0;34m,\u001b[0m \u001b[0;34m:\u001b[0m\u001b[0;34m]\u001b[0m\u001b[0;34m\u001b[0m\u001b[0;34m\u001b[0m\u001b[0m\n\u001b[0m\u001b[1;32m   3733\u001b[0m \u001b[0;34m\u001b[0m\u001b[0m\n\u001b[1;32m   3734\u001b[0m     \u001b[0;31m# This function is a bit weird, it returns a real array,\u001b[0m\u001b[0;34m\u001b[0m\u001b[0;34m\u001b[0m\u001b[0;34m\u001b[0m\u001b[0m\n",
      "\u001b[0;31mIndexError\u001b[0m: arrays used as indices must be of integer (or boolean) type"
     ]
    }
   ],
   "source": [
    "plot.update_settings(axes=\"xy\", show_cell=False, show_atoms=False)"
   ]
  },
  {
   "cell_type": "markdown",
   "metadata": {},
   "source": [
    "## Picking which atoms to display\n",
    "\n",
    "The `atoms` setting of `GeometryPlot` allows you to pick which atoms to display. It accepts exactly the same possibilities as the `atoms` argument in `Geometry`'s methods.\n",
    "\n",
    "Therefore, you can ask for certain indices:"
   ]
  },
  {
   "cell_type": "code",
   "execution_count": 18,
   "metadata": {},
   "outputs": [
    {
     "data": {
      "application/vnd.jupyter.widget-view+json": {
       "model_id": "90d6494f21284d4a971f186eb745d543",
       "version_major": 2,
       "version_minor": 0
      },
      "text/plain": [
       "FigureWidget({\n",
       "    'data': [{'line': {'color': '#cccccc', 'width': 3},\n",
       "              'mode': 'lines',\n",
       "        …"
      ]
     },
     "metadata": {},
     "output_type": "display_data"
    }
   ],
   "source": [
    "plot.update_settings(atoms=[1,2,3,4,5], show_atoms=True, show_cell=\"axes\")\n",
    "#show_cell accepts \"box\", \"axes\" and False"
   ]
  },
  {
   "cell_type": "markdown",
   "metadata": {},
   "source": [
    "or use sisl categories to filter the atoms, for example. \n",
    "\n",
    "We can use it to display only those atoms that have 3 neighbours:"
   ]
  },
  {
   "cell_type": "code",
   "execution_count": 19,
   "metadata": {},
   "outputs": [
    {
     "data": {
      "application/vnd.jupyter.widget-view+json": {
       "model_id": "c357750835c2418f992ac84ba02795f7",
       "version_major": 2,
       "version_minor": 0
      },
      "text/plain": [
       "FigureWidget({\n",
       "    'data': [{'line': {'color': '#cccccc', 'width': 3},\n",
       "              'mode': 'lines',\n",
       "        …"
      ]
     },
     "metadata": {},
     "output_type": "display_data"
    }
   ],
   "source": [
    "plot.update_settings(atoms={\"neighbours\": 3}, show_cell=\"box\")"
   ]
  },
  {
   "cell_type": "markdown",
   "metadata": {},
   "source": [
    "Notice that when we picked particular atoms, only the bonds of those atoms are displayed. You can change this by using the `bind_bonds_to_ats` setting."
   ]
  },
  {
   "cell_type": "code",
   "execution_count": 20,
   "metadata": {},
   "outputs": [
    {
     "data": {
      "application/vnd.jupyter.widget-view+json": {
       "model_id": "27648a563c654b55947372fb3c00ca82",
       "version_major": 2,
       "version_minor": 0
      },
      "text/plain": [
       "FigureWidget({\n",
       "    'data': [{'line': {'color': '#cccccc', 'width': 3},\n",
       "              'mode': 'lines',\n",
       "        …"
      ]
     },
     "metadata": {},
     "output_type": "display_data"
    }
   ],
   "source": [
    "plot.update_settings(bind_bonds_to_ats=False)"
   ]
  },
  {
   "cell_type": "markdown",
   "metadata": {},
   "source": [
    "In fact, when we set `show_atoms` to `False`, all that the plot does is to act as if `atoms=[]` and `bind_bonds_to_ats=False`."
   ]
  },
  {
   "cell_type": "markdown",
   "metadata": {},
   "source": [
    "## Setting custom colors and size for atoms.\n",
    "\n",
    "It is quite common that you have an **atom-resolved property that you want to display**. With `GeometryPlot` this is extremely easy :)\n",
    "\n",
    "We can provide arrays for the `atoms_color` and `atoms_size` settings.\n",
    "\n",
    "In the case of `atoms_color` we can **provide the colors directly**:"
   ]
  },
  {
   "cell_type": "code",
   "execution_count": 21,
   "metadata": {},
   "outputs": [
    {
     "data": {
      "application/vnd.jupyter.widget-view+json": {
       "model_id": "18a58904b89a451aa06342845b9c4562",
       "version_major": 2,
       "version_minor": 0
      },
      "text/plain": [
       "FigureWidget({\n",
       "    'data': [{'line': {'color': '#cccccc', 'width': 3},\n",
       "              'mode': 'lines',\n",
       "        …"
      ]
     },
     "metadata": {},
     "output_type": "display_data"
    }
   ],
   "source": [
    "# Let's color the atoms with orange and blue depending on their y position\n",
    "colors = []\n",
    "for x, y, z in plot.geometry.xyz:\n",
    "    \n",
    "    if y > 13:\n",
    "        color = \"orange\"\n",
    "    else:\n",
    "        color = \"blue\"\n",
    "    \n",
    "    colors.append(color)\n",
    "\n",
    "\n",
    "plot.update_settings(atoms_color=colors, atoms=None) # we set atoms to None to display all the atoms again "
   ]
  },
  {
   "cell_type": "markdown",
   "metadata": {},
   "source": [
    "or **provide an array of values that is mapped to colors** using a color scale that you can, of course, change (`atoms_colorscale` setting)."
   ]
  },
  {
   "cell_type": "code",
   "execution_count": 22,
   "metadata": {},
   "outputs": [
    {
     "data": {
      "application/vnd.jupyter.widget-view+json": {
       "model_id": "3dd4e847021e484799096991fa93e22d",
       "version_major": 2,
       "version_minor": 0
      },
      "text/plain": [
       "FigureWidget({\n",
       "    'data': [{'line': {'color': '#cccccc', 'width': 3},\n",
       "              'mode': 'lines',\n",
       "        …"
      ]
     },
     "metadata": {},
     "output_type": "display_data"
    }
   ],
   "source": [
    "# Let's also color them using their y coordinate\n",
    "y = plot.geometry.xyz[:,1]\n",
    "plot.update_settings(atoms_color=y, atoms_colorscale=\"viridis\")"
   ]
  },
  {
   "cell_type": "markdown",
   "metadata": {},
   "source": [
    "Since \"orange\" size doesn't make sense, the `atoms_size` array only accepts values."
   ]
  },
  {
   "cell_type": "code",
   "execution_count": 23,
   "metadata": {
    "scrolled": false
   },
   "outputs": [
    {
     "data": {
      "application/vnd.jupyter.widget-view+json": {
       "model_id": "710c0bfa4eef48d28bc65bb1d2b9d28f",
       "version_major": 2,
       "version_minor": 0
      },
      "text/plain": [
       "FigureWidget({\n",
       "    'data': [{'line': {'color': '#cccccc', 'width': 3},\n",
       "              'mode': 'lines',\n",
       "        …"
      ]
     },
     "metadata": {},
     "output_type": "display_data"
    }
   ],
   "source": [
    "# We will determine their size using the x coordinate\n",
    "x = plot.geometry.xyz[:, 0] \n",
    "\n",
    "plot.update_settings(atoms_size=x*10) # we multiply it by 10 because otherwise the size is too small"
   ]
  },
  {
   "cell_type": "markdown",
   "metadata": {},
   "source": [
    "Note that everything that we've done up to this moment is perfectly valid for the 3d view, we are just using the 2d view for convenience."
   ]
  },
  {
   "cell_type": "code",
   "execution_count": 24,
   "metadata": {},
   "outputs": [
    {
     "data": {
      "application/vnd.jupyter.widget-view+json": {
       "model_id": "1ae4dfa268af48a58dc53c7dd1f3a846",
       "version_major": 2,
       "version_minor": 0
      },
      "text/plain": [
       "FigureWidget({\n",
       "    'data': [{'line': {'color': 'gray', 'coloraxis': 'coloraxis', 'width': 15},\n",
       "              '…"
      ]
     },
     "metadata": {},
     "output_type": "display_data"
    }
   ],
   "source": [
    "plot.update_settings(axes=\"xyz\")"
   ]
  },
  {
   "cell_type": "markdown",
   "metadata": {},
   "source": [
    "Guess why do we have a giant multicolor ball? :)\n",
    "\n",
    "That's right! Atom sizes are too big!"
   ]
  },
  {
   "cell_type": "code",
   "execution_count": 25,
   "metadata": {},
   "outputs": [
    {
     "data": {
      "application/vnd.jupyter.widget-view+json": {
       "model_id": "af5dd3a10d4a4103ad07979f10766658",
       "version_major": 2,
       "version_minor": 0
      },
      "text/plain": [
       "FigureWidget({\n",
       "    'data': [{'line': {'color': 'gray', 'coloraxis': 'coloraxis', 'width': 15},\n",
       "              '…"
      ]
     },
     "metadata": {},
     "output_type": "display_data"
    }
   ],
   "source": [
    "plot.update_settings(atoms_size=x/4)"
   ]
  },
  {
   "cell_type": "markdown",
   "metadata": {},
   "source": [
    "Much better!"
   ]
  },
  {
   "cell_type": "markdown",
   "metadata": {
    "tags": [
     "notebook-end"
    ]
   },
   "source": [
    "We hope you enjoyed what you learned!"
   ]
  },
  {
   "cell_type": "markdown",
   "metadata": {},
   "source": [
    "-----\n",
    "This next cell is just to create the thumbnail for the notebook in the docs "
   ]
  },
  {
   "cell_type": "code",
   "execution_count": 26,
   "metadata": {
    "tags": [
     "nbsphinx-thumbnail"
    ]
   },
   "outputs": [
    {
     "data": {
      "image/png": "[encoded data removed]"
     },
     "metadata": {},
     "output_type": "display_data"
    }
   ],
   "source": [
    "thumbnail_plot = plot\n",
    "\n",
    "if thumbnail_plot:\n",
    "    thumbnail_plot.show(\"png\")"
   ]
  },
  {
   "cell_type": "markdown",
   "metadata": {
    "tags": [
     "notebook-footer"
    ]
   },
   "source": [
    "-------------"
   ]
  }
 ],
 "metadata": {
  "kernelspec": {
   "display_name": "Python 3",
   "language": "python",
   "name": "python3"
  },
  "language_info": {
   "codemirror_mode": {
    "name": "ipython",
    "version": 3
   },
   "file_extension": ".py",
   "mimetype": "text/x-python",
   "name": "python",
   "nbconvert_exporter": "python",
   "pygments_lexer": "ipython3",
   "version": "3.8.5"
  },
  "widgets": {
   "application/vnd.jupyter.widget-state+json": {
    "state": {
     "0eace08dd9ff48aabde2ed9723ad997e": {
      "buffers": [
       {
        "data": "hmWKlqJ1JkCSMJ/D52ArQND9WXgWJjBAVmPkDrmbMkAAAAAAAAAkQAzLFC1F6yhAGJYpWorWLUCSMJ/D52AxQBiWKVqK1jNAAAAAAAAAJEAMyxQtResoQBiWKVqK1i1AkjCfw+dgMUAYlilaitYzQIZlipaidSZAkjCfw+dgK0DQ/Vl4FiYwQFZj5A65mzJA",
        "encoding": "base64",
        "path": [
         "_data",
         1,
         "x",
         "buffer"
        ]
       },
       {
        "data": "AAAAAAAAAAAAAAAAAAAAAAAAAAAAAAAAAAAAAAAAAAC4HoXrUbjmP7gehetRuOY/uB6F61G45j+4HoXrUbjmP7gehetRuOY/CtejcD0KAUAK16NwPQoBQArXo3A9CgFACtejcD0KAUAK16NwPQoBQLgehetRuAZAuB6F61G4BkC4HoXrUbgGQLgehetRuAZA",
        "encoding": "base64",
        "path": [
         "_data",
         1,
         "y",
         "buffer"
        ]
       },
       {
        "data": "AAAAAAAAAADP/Vl4FiZAQM/9WXgWJkBAAAAAAAAAAAAAAAAAAAAAAAAAAAAAAAAAz/1ZeBYmQEDP/Vl4FiZAQM/9WXgWJkBAz/1ZeBYmQEDP/Vl4FiZAQAAAAAAAAAAAAAAAAAAAAADP/Vl4FiZAQAAAAAAAAAAAAAAAAAAAAAA=",
        "encoding": "base64",
        "path": [
         "_data",
         2,
         "x",
         "buffer"
        ]
       },
       {
        "data": "AAAAAAAAAAAAAAAAAAAAAArXo3A9ChFACtejcD0KEUAAAAAAAAAAAAAAAAAAAAAAAAAAAAAAAAAAAAAAAAAAAAAAAAAAAAAACtejcD0KEUAK16NwPQoRQArXo3A9ChFACtejcD0KEUAK16NwPQoRQArXo3A9ChFAAAAAAAAAAAA=",
        "encoding": "base64",
        "path": [
         "_data",
         2,
         "y",
         "buffer"
        ]
       }
      ],
      "model_module": "plotlywidget",
      "model_module_version": "^4.14.3",
      "model_name": "FigureModel",
      "state": {
       "_config": {
        "plotlyServerURL": "https://plot.ly"
       },
       "_data": [
        {
         "line": {
          "color": "#cccccc",
          "width": 3
         },
         "mode": "lines",
         "name": "bonds",
         "type": "scatter",
         "uid": "9cb0e42b-07d5-4019-a0aa-8ff74ef72c20",
         "x": [
          11.229756073373903,
          10.0,
          null,
          11.229756073373903,
          12.459512146747805,
          null,
          11.229756073373903,
          11.229756073373903,
          null,
          13.689268220121708,
          12.459512146747805,
          null,
          13.689268220121708,
          14.91902429349561,
          null,
          13.689268220121708,
          13.689268220121708,
          null,
          16.148780366869516,
          14.91902429349561,
          null,
          16.148780366869516,
          17.378536440243415,
          null,
          16.148780366869516,
          16.148780366869516,
          null,
          18.60829251361732,
          17.378536440243415,
          null,
          18.60829251361732,
          19.83804858699122,
          null,
          18.60829251361732,
          18.60829251361732,
          null,
          10.0,
          10.0,
          null,
          12.459512146747805,
          12.459512146747805,
          null,
          14.91902429349561,
          14.91902429349561,
          null,
          17.378536440243415,
          17.378536440243415,
          null,
          19.83804858699122,
          19.83804858699122,
          null,
          10.0,
          11.229756073373903,
          null,
          12.459512146747805,
          11.229756073373903,
          null,
          12.459512146747805,
          13.689268220121708,
          null,
          14.91902429349561,
          13.689268220121708,
          null,
          14.91902429349561,
          16.148780366869516,
          null,
          17.378536440243415,
          16.148780366869516,
          null,
          17.378536440243415,
          18.60829251361732,
          null,
          19.83804858699122,
          18.60829251361732,
          null,
          11.229756073373903,
          11.229756073373903,
          null,
          13.689268220121708,
          13.689268220121708,
          null,
          16.148780366869516,
          16.148780366869516,
          null,
          18.60829251361732,
          18.60829251361732,
          null
         ],
         "y": [
          0.0,
          0.71,
          null,
          0.0,
          0.71,
          null,
          0.0,
          -1.42,
          null,
          0.0,
          0.71,
          null,
          0.0,
          0.71,
          null,
          0.0,
          -1.42,
          null,
          0.0,
          0.71,
          null,
          0.0,
          0.71,
          null,
          0.0,
          -1.42,
          null,
          0.0,
          0.71,
          null,
          0.0,
          0.71,
          null,
          0.0,
          -1.42,
          null,
          0.71,
          2.13,
          null,
          0.71,
          2.13,
          null,
          0.71,
          2.13,
          null,
          0.71,
          2.13,
          null,
          0.71,
          2.13,
          null,
          2.13,
          2.84,
          null,
          2.13,
          2.84,
          null,
          2.13,
          2.84,
          null,
          2.13,
          2.84,
          null,
          2.13,
          2.84,
          null,
          2.13,
          2.84,
          null,
          2.13,
          2.84,
          null,
          2.13,
          2.84,
          null,
          2.84,
          4.26,
          null,
          2.84,
          4.26,
          null,
          2.84,
          4.26,
          null,
          2.84,
          4.26,
          null
         ]
        },
        {
         "marker": {
          "color": [
           "grey",
           "grey",
           "grey",
           "grey",
           "grey",
           "grey",
           "grey",
           "grey",
           "grey",
           "grey",
           "grey",
           "grey",
           "grey",
           "grey",
           "grey",
           "grey",
           "grey",
           "grey"
          ],
          "size": [
           10.72,
           10.72,
           10.72,
           10.72,
           10.72,
           10.72,
           10.72,
           10.72,
           10.72,
           10.72,
           10.72,
           10.72,
           10.72,
           10.72,
           10.72,
           10.72,
           10.72,
           10.72
          ]
         },
         "mode": "markers",
         "name": "Atoms",
         "text": [
          "[ 0.         11.22975607  0.        ]<br>0 (C)",
          "[ 0.         13.68926822  0.        ]<br>1 (C)",
          "[ 0.         16.14878037  0.        ]<br>2 (C)",
          "[ 0.         18.60829251  0.        ]<br>3 (C)",
          "[ 0.71 10.    0.  ]<br>4 (C)",
          "[ 0.71       12.45951215  0.        ]<br>5 (C)",
          "[ 0.71       14.91902429  0.        ]<br>6 (C)",
          "[ 0.71       17.37853644  0.        ]<br>7 (C)",
          "[ 0.71       19.83804859  0.        ]<br>8 (C)",
          "[ 2.13 10.    0.  ]<br>9 (C)",
          "[ 2.13       12.45951215  0.        ]<br>10 (C)",
          "[ 2.13       14.91902429  0.        ]<br>11 (C)",
          "[ 2.13       17.37853644  0.        ]<br>12 (C)",
          "[ 2.13       19.83804859  0.        ]<br>13 (C)",
          "[ 2.84       11.22975607  0.        ]<br>14 (C)",
          "[ 2.84       13.68926822  0.        ]<br>15 (C)",
          "[ 2.84       16.14878037  0.        ]<br>16 (C)",
          "[ 2.84       18.60829251  0.        ]<br>17 (C)"
         ],
         "type": "scatter",
         "uid": "69c03874-fa47-47b7-94d4-e201ff7777db",
         "x": {
          "dtype": "float64",
          "shape": [
           18
          ]
         },
         "y": {
          "dtype": "float64",
          "shape": [
           18
          ]
         }
        },
        {
         "mode": "lines",
         "name": "Unit cell",
         "type": "scatter",
         "uid": "d24cc236-2f01-4303-ae7e-4ad50a93b064",
         "x": {
          "dtype": "float64",
          "shape": [
           16
          ]
         },
         "y": {
          "dtype": "float64",
          "shape": [
           16
          ]
         }
        }
       ],
       "_dom_classes": [],
       "_js2py_layoutDelta": {},
       "_js2py_pointsCallback": {},
       "_js2py_relayout": {},
       "_js2py_restyle": {},
       "_js2py_traceDeltas": {},
       "_js2py_update": {},
       "_last_layout_edit_id": 0,
       "_last_trace_edit_id": 0,
       "_layout": {
        "scene": {
         "aspectmode": "data"
        },
        "template": {
         "layout": {
          "hovermode": "closest",
          "paper_bgcolor": "white",
          "plot_bgcolor": "white",
          "scene": {
           "xaxis": {
            "color": "black",
            "gridcolor": "#ccc",
            "gridwidth": 1,
            "linewidth": 1,
            "mirror": true,
            "showgrid": false,
            "showline": true,
            "ticklen": 5,
            "ticks": "outside",
            "ticksuffix": " ",
            "visible": true,
            "zeroline": false,
            "zerolinecolor": "#ccc",
            "zerolinewidth": 1
           },
           "yaxis": {
            "color": "black",
            "gridcolor": "#ccc",
            "gridwidth": 1,
            "linewidth": 1,
            "mirror": true,
            "showgrid": false,
            "showline": true,
            "ticklen": 5,
            "ticks": "outside",
            "ticksuffix": " ",
            "visible": true,
            "zeroline": false,
            "zerolinecolor": "#ccc",
            "zerolinewidth": 1
           },
           "zaxis": {
            "color": "black",
            "gridcolor": "#ccc",
            "gridwidth": 1,
            "linewidth": 1,
            "mirror": true,
            "showgrid": false,
            "showline": true,
            "ticklen": 5,
            "ticks": "outside",
            "ticksuffix": " ",
            "visible": true,
            "zeroline": false,
            "zerolinecolor": "#ccc",
            "zerolinewidth": 1
           }
          },
          "xaxis": {
           "color": "black",
           "gridcolor": "#ccc",
           "gridwidth": 1,
           "linewidth": 1,
           "mirror": true,
           "showgrid": false,
           "showline": true,
           "ticklen": 5,
           "ticks": "outside",
           "ticksuffix": " ",
           "visible": true,
           "zeroline": false,
           "zerolinecolor": "#ccc",
           "zerolinewidth": 1
          },
          "yaxis": {
           "color": "black",
           "gridcolor": "#ccc",
           "gridwidth": 1,
           "linewidth": 1,
           "mirror": true,
           "showgrid": false,
           "showline": true,
           "ticklen": 5,
           "ticks": "outside",
           "ticksuffix": " ",
           "visible": true,
           "zeroline": false,
           "zerolinecolor": "#ccc",
           "zerolinewidth": 1
          }
         }
        },
        "xaxis": {
         "title": {
          "text": "Y axis [Ang]"
         }
        },
        "yaxis": {
         "scaleanchor": "x",
         "scaleratio": 1,
         "title": {
          "text": "X axis [Ang]"
         }
        }
       },
       "_model_module": "plotlywidget",
       "_model_module_version": "^4.14.3",
       "_model_name": "FigureModel",
       "_py2js_addTraces": {},
       "_py2js_animate": {},
       "_py2js_deleteTraces": {},
       "_py2js_moveTraces": {},
       "_py2js_relayout": {},
       "_py2js_removeLayoutProps": {},
       "_py2js_removeTraceProps": {},
       "_py2js_restyle": {},
       "_py2js_update": {},
       "_view_count": 0,
       "_view_module": "plotlywidget",
       "_view_module_version": "^4.14.3",
       "_view_name": "FigureView"
      }
     },
     "18a58904b89a451aa06342845b9c4562": {
      "buffers": [
       {
        "data": "AAAAAAAAAAAAAAAAAAAAAAAAAAAAAAAAAAAAAAAAAAC4HoXrUbjmP7gehetRuOY/uB6F61G45j+4HoXrUbjmP7gehetRuOY/CtejcD0KAUAK16NwPQoBQArXo3A9CgFACtejcD0KAUAK16NwPQoBQLgehetRuAZAuB6F61G4BkC4HoXrUbgGQLgehetRuAZA",
        "encoding": "base64",
        "path": [
         "_data",
         1,
         "x",
         "buffer"
        ]
       },
       {
        "data": "hmWKlqJ1JkCSMJ/D52ArQND9WXgWJjBAVmPkDrmbMkAAAAAAAAAkQAzLFC1F6yhAGJYpWorWLUCSMJ/D52AxQBiWKVqK1jNAAAAAAAAAJEAMyxQtResoQBiWKVqK1i1AkjCfw+dgMUAYlilaitYzQIZlipaidSZAkjCfw+dgK0DQ/Vl4FiYwQFZj5A65mzJA",
        "encoding": "base64",
        "path": [
         "_data",
         1,
         "y",
         "buffer"
        ]
       },
       {
        "data": "AAAAAAAAAAAAAAAAAAAAAArXo3A9ChFACtejcD0KEUAAAAAAAAAAAAAAAAAAAAAAAAAAAAAAAAAAAAAAAAAAAAAAAAAAAAAACtejcD0KEUAK16NwPQoRQArXo3A9ChFACtejcD0KEUAK16NwPQoRQArXo3A9ChFAAAAAAAAAAAA=",
        "encoding": "base64",
        "path": [
         "_data",
         2,
         "x",
         "buffer"
        ]
       },
       {
        "data": "AAAAAAAAAADP/Vl4FiZAQM/9WXgWJkBAAAAAAAAAAAAAAAAAAAAAAAAAAAAAAAAAz/1ZeBYmQEDP/Vl4FiZAQM/9WXgWJkBAz/1ZeBYmQEDP/Vl4FiZAQAAAAAAAAAAAAAAAAAAAAADP/Vl4FiZAQAAAAAAAAAAAAAAAAAAAAAA=",
        "encoding": "base64",
        "path": [
         "_data",
         2,
         "y",
         "buffer"
        ]
       }
      ],
      "model_module": "plotlywidget",
      "model_module_version": "^4.14.3",
      "model_name": "FigureModel",
      "state": {
       "_config": {
        "plotlyServerURL": "https://plot.ly"
       },
       "_data": [
        {
         "line": {
          "color": "#cccccc",
          "width": 3
         },
         "mode": "lines",
         "name": "bonds",
         "type": "scatter",
         "uid": "410c2f8c-db3d-40fd-bd76-dcdd87ea7103",
         "x": [
          0.0,
          0.71,
          null,
          0.0,
          0.71,
          null,
          0.0,
          -1.42,
          null,
          0.0,
          0.71,
          null,
          0.0,
          0.71,
          null,
          0.0,
          -1.42,
          null,
          0.0,
          0.71,
          null,
          0.0,
          0.71,
          null,
          0.0,
          -1.42,
          null,
          0.0,
          0.71,
          null,
          0.0,
          0.71,
          null,
          0.0,
          -1.42,
          null,
          0.71,
          2.13,
          null,
          0.71,
          2.13,
          null,
          0.71,
          2.13,
          null,
          0.71,
          2.13,
          null,
          0.71,
          2.13,
          null,
          2.13,
          2.84,
          null,
          2.13,
          2.84,
          null,
          2.13,
          2.84,
          null,
          2.13,
          2.84,
          null,
          2.13,
          2.84,
          null,
          2.13,
          2.84,
          null,
          2.13,
          2.84,
          null,
          2.13,
          2.84,
          null,
          2.84,
          4.26,
          null,
          2.84,
          4.26,
          null,
          2.84,
          4.26,
          null,
          2.84,
          4.26,
          null
         ],
         "y": [
          11.229756073373903,
          10.0,
          null,
          11.229756073373903,
          12.459512146747805,
          null,
          11.229756073373903,
          11.229756073373903,
          null,
          13.689268220121708,
          12.459512146747805,
          null,
          13.689268220121708,
          14.91902429349561,
          null,
          13.689268220121708,
          13.689268220121708,
          null,
          16.148780366869516,
          14.91902429349561,
          null,
          16.148780366869516,
          17.378536440243415,
          null,
          16.148780366869516,
          16.148780366869516,
          null,
          18.60829251361732,
          17.378536440243415,
          null,
          18.60829251361732,
          19.83804858699122,
          null,
          18.60829251361732,
          18.60829251361732,
          null,
          10.0,
          10.0,
          null,
          12.459512146747805,
          12.459512146747805,
          null,
          14.91902429349561,
          14.91902429349561,
          null,
          17.378536440243415,
          17.378536440243415,
          null,
          19.83804858699122,
          19.83804858699122,
          null,
          10.0,
          11.229756073373903,
          null,
          12.459512146747805,
          11.229756073373903,
          null,
          12.459512146747805,
          13.689268220121708,
          null,
          14.91902429349561,
          13.689268220121708,
          null,
          14.91902429349561,
          16.148780366869516,
          null,
          17.378536440243415,
          16.148780366869516,
          null,
          17.378536440243415,
          18.60829251361732,
          null,
          19.83804858699122,
          18.60829251361732,
          null,
          11.229756073373903,
          11.229756073373903,
          null,
          13.689268220121708,
          13.689268220121708,
          null,
          16.148780366869516,
          16.148780366869516,
          null,
          18.60829251361732,
          18.60829251361732,
          null
         ]
        },
        {
         "marker": {
          "color": [
           "blue",
           "orange",
           "orange",
           "orange",
           "blue",
           "blue",
           "orange",
           "orange",
           "orange",
           "blue",
           "blue",
           "orange",
           "orange",
           "orange",
           "blue",
           "orange",
           "orange",
           "orange"
          ],
          "colorscale": [
           [
            0.0,
            "#440154"
           ],
           [
            0.1111111111111111,
            "#482878"
           ],
           [
            0.2222222222222222,
            "#3e4989"
           ],
           [
            0.3333333333333333,
            "#31688e"
           ],
           [
            0.4444444444444444,
            "#26828e"
           ],
           [
            0.5555555555555556,
            "#1f9e89"
           ],
           [
            0.6666666666666666,
            "#35b779"
           ],
           [
            0.7777777777777778,
            "#6ece58"
           ],
           [
            0.8888888888888888,
            "#b5de2b"
           ],
           [
            1.0,
            "#fde725"
           ]
          ],
          "size": [
           10.72,
           10.72,
           10.72,
           10.72,
           10.72,
           10.72,
           10.72,
           10.72,
           10.72,
           10.72,
           10.72,
           10.72,
           10.72,
           10.72,
           10.72,
           10.72,
           10.72,
           10.72
          ]
         },
         "mode": "markers",
         "name": "Atoms",
         "text": [
          "Color: blue",
          "Color: orange",
          "Color: orange",
          "Color: orange",
          "Color: blue",
          "Color: blue",
          "Color: orange",
          "Color: orange",
          "Color: orange",
          "Color: blue",
          "Color: blue",
          "Color: orange",
          "Color: orange",
          "Color: orange",
          "Color: blue",
          "Color: orange",
          "Color: orange",
          "Color: orange"
         ],
         "type": "scatter",
         "uid": "3d53e37e-798f-4ac3-8e8d-d5baa8053b69",
         "x": {
          "dtype": "float64",
          "shape": [
           18
          ]
         },
         "y": {
          "dtype": "float64",
          "shape": [
           18
          ]
         }
        },
        {
         "mode": "lines",
         "name": "Unit cell",
         "type": "scatter",
         "uid": "e52a8208-3746-49da-9dda-6b9c173636cc",
         "x": {
          "dtype": "float64",
          "shape": [
           16
          ]
         },
         "y": {
          "dtype": "float64",
          "shape": [
           16
          ]
         }
        }
       ],
       "_dom_classes": [],
       "_js2py_layoutDelta": {},
       "_js2py_pointsCallback": {},
       "_js2py_relayout": {},
       "_js2py_restyle": {},
       "_js2py_traceDeltas": {},
       "_js2py_update": {},
       "_last_layout_edit_id": 0,
       "_last_trace_edit_id": 0,
       "_layout": {
        "scene": {
         "aspectmode": "data"
        },
        "template": {
         "layout": {
          "hovermode": "closest",
          "paper_bgcolor": "white",
          "plot_bgcolor": "white",
          "scene": {
           "xaxis": {
            "color": "black",
            "gridcolor": "#ccc",
            "gridwidth": 1,
            "linewidth": 1,
            "mirror": true,
            "showgrid": false,
            "showline": true,
            "ticklen": 5,
            "ticks": "outside",
            "ticksuffix": " ",
            "visible": true,
            "zeroline": false,
            "zerolinecolor": "#ccc",
            "zerolinewidth": 1
           },
           "yaxis": {
            "color": "black",
            "gridcolor": "#ccc",
            "gridwidth": 1,
            "linewidth": 1,
            "mirror": true,
            "showgrid": false,
            "showline": true,
            "ticklen": 5,
            "ticks": "outside",
            "ticksuffix": " ",
            "visible": true,
            "zeroline": false,
            "zerolinecolor": "#ccc",
            "zerolinewidth": 1
           },
           "zaxis": {
            "color": "black",
            "gridcolor": "#ccc",
            "gridwidth": 1,
            "linewidth": 1,
            "mirror": true,
            "showgrid": false,
            "showline": true,
            "ticklen": 5,
            "ticks": "outside",
            "ticksuffix": " ",
            "visible": true,
            "zeroline": false,
            "zerolinecolor": "#ccc",
            "zerolinewidth": 1
           }
          },
          "xaxis": {
           "color": "black",
           "gridcolor": "#ccc",
           "gridwidth": 1,
           "linewidth": 1,
           "mirror": true,
           "showgrid": false,
           "showline": true,
           "ticklen": 5,
           "ticks": "outside",
           "ticksuffix": " ",
           "visible": true,
           "zeroline": false,
           "zerolinecolor": "#ccc",
           "zerolinewidth": 1
          },
          "yaxis": {
           "color": "black",
           "gridcolor": "#ccc",
           "gridwidth": 1,
           "linewidth": 1,
           "mirror": true,
           "showgrid": false,
           "showline": true,
           "ticklen": 5,
           "ticks": "outside",
           "ticksuffix": " ",
           "visible": true,
           "zeroline": false,
           "zerolinecolor": "#ccc",
           "zerolinewidth": 1
          }
         }
        },
        "xaxis": {
         "title": {
          "text": "X axis [Ang]"
         }
        },
        "yaxis": {
         "scaleanchor": "x",
         "scaleratio": 1,
         "title": {
          "text": "Y axis [Ang]"
         }
        }
       },
       "_model_module": "plotlywidget",
       "_model_module_version": "^4.14.3",
       "_model_name": "FigureModel",
       "_py2js_addTraces": {},
       "_py2js_animate": {},
       "_py2js_deleteTraces": {},
       "_py2js_moveTraces": {},
       "_py2js_relayout": {},
       "_py2js_removeLayoutProps": {},
       "_py2js_removeTraceProps": {},
       "_py2js_restyle": {},
       "_py2js_update": {},
       "_view_count": 0,
       "_view_module": "plotlywidget",
       "_view_module_version": "^4.14.3",
       "_view_name": "FigureView"
      }
     },
     "1ae4dfa268af48a58dc53c7dd1f3a846": {
      "buffers": [
       {
        "data": "AAAAAAAAAAAAAAAAAAAAAAAAAAAAAAAAAAAAAAAAAAAAAAAAAAAAAAAAAAAAAAAAAAAAAAAAAAAAAAAAAAAAAAAAAAAAAAAAAAAAAAAAAAAAAAAAAAAAAAAAAAAAAAAAAAAAAAAAAAAAAAAAAAAAAAAAAAAAAAAAAAAAAAAAAAAAAAAAAAAAAAAAAAAAAAAAAAAAAAAAAAAAAAAAAAAAAAAAAAAAAAAAAAAAAAAAAAAAAAAAAAAAAAAAAAAAAAAAAAAAAAAAAAAAAAAAAAAAAAAAAAAAAAAAAAAAAAAAAAAAAAAAAAAAAAAAAAAAAAAAAAAAAAAAAAAAAAAAAAAAAAAAAAAAAAAAAAAAAAAAAAAAAAAAAAAAAAAAAAAAAAAAAAAAAAAAAAAAAAAAAAAAAAAAAAAAAAAAAAAAAAAAAAAAAAAAAAAAAAAAAAAAAAAAAAAAAAAAAAAAAAAAAAAAAAAAAAAAAAAAAAAAAAAAAAAAAAAAAAAAAAAAAAAAAAAAAAAAAAAAAAAAAAAAAAAAAAAAAAAAAAAAAAAAAAAAAAAAAAAAAAAAAAAAAAAAAAAAAAAAAAAAAAAAAAAAAAAAAAAAAAAAAAAAAAAAAAAAAAAAAAAAAAAAAAAAAAAAAAAAAAAAAAAAAAAAAAAAAAAAAAAAAAAAAAAAAAAAAAAAAAAAAAAAAAAAAAAAAAAAAAAAAAAAAAAAAAAAAAAAAAAAAAAAAAAAAAAAAAAAAAAAAAAAAAAAAAAAAAAAAAAAAAAAAAAAAAAAAAAAAAAAAAAAAAAAAAAAAAAAAAAAAAAAAAAAAAAAAAAAAAAAAAAAAAAAAAAAAAAAAAAAAAAAAAAAAAAAAAAAAAAAAAAAAAAAAAAAAAAAAAAAAAAAAAAAAAAAAAAAAAAAAAAAAAAAAAAAAAAAAAAAAAAAAAAAAAAAAAAAAAAAAAAAAAAAAAAAAAAAAAAAAAAAAAAAAAAAAAAAAAAAAAAAAAAAAAAAAAAAAAAAAAAAAAAAAAAAAAAAAAAAAAAAAAAAAAAAAAAAAAAAAAAAAAAAAAAAAAAAAAAAAAAAAAAAAAAAAAAAAAAAAAAAAAAAAAAAAAAAAAAAAAAAAAAAAAAAAAAAAAAAAAAAAAAAAAAAAAAAAAAAAAAAAAAAAAAAAAAAAAAAAAAAAAAAAAAAAAAAAAAAAAAAAAAAAAAAAAAAAAAAAAAAAAAAAAAAAAAAAAAAAAAAAAAAAAAAAAAAAAAAAAAAAAAAAAAAAAAAAAAAAAAAAAAAAAAAAAAAAAAAAAAAAAAAAAAAAAAAAAAAAAAAAAAAAAAAAAAAAAAAAAAAAAAAAAAAAAAAAAAAAAAAAAAAAAAAAAAAAAAAAAAAAAAAAAAAAAAAAAAAAAAAAAAAAAAAAAAAAAAAAAAAAAAAAAAAAAAAAAAAAAAAAAAAAAAAAAAAAAAAAAAAAAAAAAAAAAAAAAAAAAAAAAAAAAAAAAAAAAAAAAAAAAAAAAAAAAAAAAAAAAAAAAAAAAAAAAAAAAAAAAAAAAAAAAAAAAAAAAAAAAAAAAAAAAAAAAAAAAAAAAAAAAAAAAAAAAAAAAAAAAAAAAAAAAAAAAAAAAAAAAAAAAAAAAAAAAAAAAAAAAAAAAAAAAAAAAAAAAAAAAAAAAAAAAAAAAAAAAAAAAAAAAAAAAAAAAAAAAAAAAAAAAAAAAAAAAAAAAAAAAAAAAAAAAAAAAAAAAAAAAAAAAAAAAAAAAAAAAAAAAAAAAAAAAAAAAAAAAAAAAAAAAAAAAAAAAAAAAAAAAAAAAAAAAAAAAAAAAAAAAAAAAAAAAAAAAAAAAAAAAAAAAAAAAAAAAAAAAAAAAAAAAAAAAAAAAAAAAAAAAAAAAAAAAAAAAAAAAAAAAAAAAAAAAAAAAAAAAAAAAAAAAAAAAAAAAAAAAAAAAAAAAAAAAAAAAAAAAAAAAAAAAAAAAAAAAAAAAAAAAAAAAAAAAAAAAAAAAAAAAAAAAAAAAAAAAAAAAAAAAAAAAAAAAAAAAAAAAAAAAAAAAAAAAAAAAAAAAAAAAAAAAAAAAAAAAAAAAAAAAAAAAAAAAAAAAAAAAAAAAAAAAAAAAAAAAAAAAAAAAAAAAAAAAAAAAAAAAAAAAAAAAAAAAAAAAAAAAAAAAAAAAAAAAAAAAAAAAAAAAAAAAAAAAAAAAAAAAAAAAAAAAAAAAAAAAAAAAAAAAAAAAAAAAAAAAAAAAAAAAAAAAAAAAAAAAAAAAAAAAAAAAAAAAAAAAAAAAAAAAAAAAAAAAAAAAAAAAAAAAAAAAAAAAAAAAAAAAAAAAAAAAAAAAAAAAAAAAAAAAAAAAAAAAAAAAAAAAAAAAAAAAAAAAAAAAAAAAAAAAAAAAAAAAAAAAAAAAAAAAAAAAAAAAAAAAAA",
        "encoding": "base64",
        "path": [
         "_data",
         1,
         "x",
         "buffer"
        ]
       },
       {
        "data": "hmWKlqJ1JkCGZYqWonUmQIZlipaidSZAhmWKlqJ1JkCGZYqWonUmQIZlipaidSZAhmWKlqJ1JkCGZYqWonUmQIZlipaidSZAhmWKlqJ1JkCGZYqWonUmQIZlipaidSZAhmWKlqJ1JkCGZYqWonUmQIZlipaidSZAhmWKlqJ1JkCGZYqWonUmQIZlipaidSZAhmWKlqJ1JkCGZYqWonUmQIZlipaidSZAhmWKlqJ1JkCGZYqWonUmQIZlipaidSZAhmWKlqJ1JkCGZYqWonUmQIZlipaidSZAhmWKlqJ1JkCGZYqWonUmQIZlipaidSZAhmWKlqJ1JkCGZYqWonUmQIZlipaidSZAhmWKlqJ1JkCGZYqWonUmQIZlipaidSZAhmWKlqJ1JkCGZYqWonUmQIZlipaidSZAhmWKlqJ1JkCGZYqWonUmQIZlipaidSZAhmWKlqJ1JkCGZYqWonUmQIZlipaidSZAhmWKlqJ1JkCGZYqWonUmQIZlipaidSZAhmWKlqJ1JkCGZYqWonUmQIZlipaidSZAhmWKlqJ1JkCGZYqWonUmQIZlipaidSZAhmWKlqJ1JkCGZYqWonUmQIZlipaidSZAhmWKlqJ1JkCGZYqWonUmQIZlipaidSZAhmWKlqJ1JkCGZYqWonUmQIZlipaidSZAhmWKlqJ1JkCGZYqWonUmQIZlipaidSZAhmWKlqJ1JkCGZYqWonUmQIZlipaidSZAhmWKlqJ1JkCGZYqWonUmQIZlipaidSZAhmWKlqJ1JkCGZYqWonUmQIZlipaidSZAhmWKlqJ1JkCGZYqWonUmQIZlipaidSZAhmWKlqJ1JkCGZYqWonUmQIZlipaidSZAhmWKlqJ1JkCGZYqWonUmQIZlipaidSZAhmWKlqJ1JkCGZYqWonUmQIZlipaidSZAhmWKlqJ1JkCGZYqWonUmQIZlipaidSZAhmWKlqJ1JkCGZYqWonUmQIZlipaidSZAhmWKlqJ1JkCGZYqWonUmQIZlipaidSZAhmWKlqJ1JkCGZYqWonUmQIZlipaidSZAhmWKlqJ1JkCGZYqWonUmQIZlipaidSZAhmWKlqJ1JkCGZYqWonUmQIZlipaidSZAhmWKlqJ1JkCGZYqWonUmQIZlipaidSZAhmWKlqJ1JkCGZYqWonUmQIZlipaidSZAhmWKlqJ1JkCGZYqWonUmQIZlipaidSZAhmWKlqJ1JkCGZYqWonUmQIZlipaidSZAhmWKlqJ1JkCGZYqWonUmQIZlipaidSZAhmWKlqJ1JkCGZYqWonUmQIZlipaidSZAhmWKlqJ1JkCGZYqWonUmQIZlipaidSZAhmWKlqJ1JkCGZYqWonUmQIZlipaidSZAhmWKlqJ1JkCGZYqWonUmQIZlipaidSZAhmWKlqJ1JkCGZYqWonUmQIZlipaidSZAhmWKlqJ1JkCGZYqWonUmQIZlipaidSZAhmWKlqJ1JkCGZYqWonUmQIZlipaidSZAhmWKlqJ1JkCGZYqWonUmQIZlipaidSZAhmWKlqJ1JkCGZYqWonUmQIZlipaidSZAhmWKlqJ1JkCGZYqWonUmQIZlipaidSZAhmWKlqJ1JkCGZYqWonUmQIZlipaidSZAhmWKlqJ1JkCGZYqWonUmQIZlipaidSZAhmWKlqJ1JkCGZYqWonUmQIZlipaidSZAhmWKlqJ1JkCGZYqWonUmQIZlipaidSZAhmWKlqJ1JkCGZYqWonUmQIZlipaidSZAhmWKlqJ1JkCGZYqWonUmQIZlipaidSZAhmWKlqJ1JkCGZYqWonUmQIZlipaidSZAhmWKlqJ1JkCGZYqWonUmQIZlipaidSZAhmWKlqJ1JkCGZYqWonUmQIZlipaidSZAhmWKlqJ1JkCGZYqWonUmQIZlipaidSZAhmWKlqJ1JkCGZYqWonUmQIZlipaidSZAhmWKlqJ1JkCGZYqWonUmQIZlipaidSZAhmWKlqJ1JkCGZYqWonUmQIZlipaidSZAhmWKlqJ1JkCGZYqWonUmQIZlipaidSZAhmWKlqJ1JkCGZYqWonUmQIZlipaidSZAhmWKlqJ1JkCGZYqWonUmQIZlipaidSZAhmWKlqJ1JkCGZYqWonUmQIZlipaidSZAhmWKlqJ1JkCGZYqWonUmQIZlipaidSZAhmWKlqJ1JkCGZYqWonUmQIZlipaidSZAhmWKlqJ1JkCGZYqWonUmQIZlipaidSZAhmWKlqJ1JkCGZYqWonUmQIZlipaidSZAhmWKlqJ1JkCGZYqWonUmQIZlipaidSZAhmWKlqJ1JkCGZYqWonUmQIZlipaidSZAhmWKlqJ1JkCGZYqWonUmQIZlipaidSZAhmWKlqJ1JkCGZYqWonUmQIZlipaidSZA",
        "encoding": "base64",
        "path": [
         "_data",
         1,
         "y",
         "buffer"
        ]
       },
       {
        "data": "AAAAAAAAAAAAAAAAAAAAAAAAAAAAAAAAAAAAAAAAAAAAAAAAAAAAAAAAAAAAAAAAAAAAAAAAAAAAAAAAAAAAAAAAAAAAAAAAAAAAAAAAAAAAAAAAAAAAAAAAAAAAAAAAAAAAAAAAAAAAAAAAAAAAAAAAAAAAAAAAAAAAAAAAAAAAAAAAAAAAAAAAAAAAAAAAAAAAAAAAAAAAAAAAAAAAAAAAAAAAAAAAAAAAAAAAAAAAAAAAAAAAAAAAAAAAAAAAAAAAAAAAAAAAAAAAAAAAAAAAAAAAAAAAAAAAAAAAAAAAAAAAAAAAAAAAAAAAAAAAAAAAAAAAAAAAAAAAAAAAAAAAAAAAAAAAAAAAAAAAAAAAAAAAAAAAAAAAAAAAAAAAAAAAAAAAAAAAAAAAAAAAAAAAAAAAAAAAAAAAAAAAAAAAAAAAAAAAAAAAAAAAAAAAAAAAAAAAAAAAAAAAAAAAAAAAAAAAAAAAAAAAAAAAAAAAAAAAAAAAAAAAAAAAAAAAAAAAAAAAAAAAAAAAAAAAAAAAAAAAAAAAAAAAAAAAAAAAAAAAAAAAAAAAAAAAAAAAAAAAAAAAAAAAAAAAAAAAAAAAAAAAAAAAAAAAAAAAAAAAAAAAAAAAAAAAAAAAAAAAAAAAAAAAAAAAAAAAAAAAAAAAAAAAAAAAAAAAAAAAAAAAAAAAAAAAAAAAAAAAAAAAAAAAAAAAAAAAAAAAAAAAAAAAAAAAAAAAAAAAAAAAAAAAAAAAAAAAAAAAAAAAAAAAAAAAAAAAAAAAAAAAAAAAAAAAAAAAAAAAAAAAAAAAAAAAAAAAAAAAAAAAAAAAAAAAAAAAAAAAAAAAAAAAAAAAAAAAAAAAAAAAAAAAAAAAAAAAAAAAAAAAAAAAAAAAAAAAAAAAAAAAAAAAAAAAAAAAAAAAAAAAAAAAAAAAAAAAAAAAAAAAAAAAAAAAAAAAAAAAAAAAAAAAAAAAAAAAAAAAAAAAAAAAAAAAAAAAAAAAAAAAAAAAAAAAAAAAAAAAAAAAAAAAAAAAAAAAAAAAAAAAAAAAAAAAAAAAAAAAAAAAAAAAAAAAAAAAAAAAAAAAAAAAAAAAAAAAAAAAAAAAAAAAAAAAAAAAAAAAAAAAAAAAAAAAAAAAAAAAAAAAAAAAAAAAAAAAAAAAAAAAAAAAAAAAAAAAAAAAAAAAAAAAAAAAAAAAAAAAAAAAAAAAAAAAAAAAAAAAAAAAAAAAAAAAAAAAAAAAAAAAAAAAAAAAAAAAAAAAAAAAAAAAAAAAAAAAAAAAAAAAAAAAAAAAAAAAAAAAAAAAAAAAAAAAAAAAAAAAAAAAAAAAAAAAAAAAAAAAAAAAAAAAAAAAAAAAAAAAAAAAAAAAAAAAAAAAAAAAAAAAAAAAAAAAAAAAAAAAAAAAAAAAAAAAAAAAAAAAAAAAAAAAAAAAAAAAAAAAAAAAAAAAAAAAAAAAAAAAAAAAAAAAAAAAAAAAAAAAAAAAAAAAAAAAAAAAAAAAAAAAAAAAAAAAAAAAAAAAAAAAAAAAAAAAAAAAAAAAAAAAAAAAAAAAAAAAAAAAAAAAAAAAAAAAAAAAAAAAAAAAAAAAAAAAAAAAAAAAAAAAAAAAAAAAAAAAAAAAAAAAAAAAAAAAAAAAAAAAAAAAAAAAAAAAAAAAAAAAAAAAAAAAAAAAAAAAAAAAAAAAAAAAAAAAAAAAAAAAAAAAAAAAAAAAAAAAAAAAAAAAAAAAAAAAAAAAAAAAAAAAAAAAAAAAAAAAAAAAAAAAAAAAAAAAAAAAAAAAAAAAAAAAAAAAAAAAAAAAAAAAAAAAAAAAAAAAAAAAAAAAAAAAAAAAAAAAAAAAAAAAAAAAAAAAAAAAAAAAAAAAAAAAAAAAAAAAAAAAAAAAAAAAAAAAAAAAAAAAAAAAAAAAAAAAAAAAAAAAAAAAAAAAAAAAAAAAAAAAAAAAAAAAAAAAAAAAAAAAAAAAAAAAAAAAAAAAAAAAAAAAAAAAAAAAAAAAAAAAAAAAAAAAAAAAAAAAAAAAAAAAAAAAAAAAAAAAAAAAAAAAAAAAAAAAAAAAAAAAAAAAAAAAAAAAAAAAAAAAAAAAAAAAAAAAAAAAAAAAAAAAAAAAAAAAAAAAAAAAAAAAAAAAAAAAAAAAAAAAAAAAAAAAAAAAAAAAAAAAAAAAAAAAAAAAAAAAAAAAAAAAAAAAAAAAAAAAAAAAAAAAAAAAAAAAAAAAAAAAAAAAAAAAAAAAAAAAAAAAAAAAAAAAAAAAAAAAAAAAAAAAAAAAAAAAAAAAAAAAAAAAAAAAAAAAAAAAAAAAAAAAAAAAAAAAAAAAAAAAAAAAAAAAAAAAAAAAAAAAAAAAAAAAAAAAAAAAAAAAAAAAAAAAAAAAAAAAAAAAAAAAAAAAAAAAAAAAAAAA",
        "encoding": "base64",
        "path": [
         "_data",
         1,
         "z",
         "buffer"
        ]
       },
       {
        "data": "AAAAAAAAAAAAAAAAAAAAAAAAAAAAAAAAAAAAAAAAAAAAAAAAAAAAAAAAAAAAAAAAAAAAAAAAAAAAAAAAAAAAAAAAAAAAAAAAAAAAAAAAAAAAAAAAAAAAAAAAAAAAAAAAAAAAAAAAAAAAAAAAAAAAAAAAAAAAAAAAAAAAAAAAAAAAAAAAAAAAAAAAAAAAAAAAAAAAAAAAAAAAAAAAAAAAAAAAAAAAAAAAAAAAAAAAAAAAAAAAAAAAAAAAAAAAAAAAAAAAAAAAAAAAAAAAAAAAAAAAAAAAAAAAAAAAAAAAAAAAAAAAAAAAAAAAAAAAAAAAAAAAAAAAAAAAAAAAAAAAAAAAAAAAAAAAAAAAAAAAAAAAAAAAAAAAAAAAAAAAAAAAAAAAAAAAAAAAAAAAAAAAAAAAAAAAAAAAAAAAAAAAAAAAAAAAAAAAAAAAAAAAAAAAAAAAAAAAAAAAAAAAAAAAAAAAAAAAAAAAAAAAAAAAAAAAAAAAAAAAAAAAAAAAAAAAAAAAAAAAAAAAAAAAAAAAAAAAAAAAAAAAAAAAAAAAAAAAAAAAAAAAAAAAAAAAAAAAAAAAAAAAAAAAAAAAAAAAAAAAAAAAAAAAAAAAAAAAAAAAAAAAAAAAAAAAAAAAAAAAAAAAAAAAAAAAAAAAAAAAAAAAAAAAAAAAAAAAAAAAAAAAAAAAAAAAAAAAAAAAAAAAAAAAAAAAAAAAAAAAAAAAAAAAAAAAAAAAAAAAAAAAAAAAAAAAAAAAAAAAAAAAAAAAAAAAAAAAAAAAAAAAAAAAAAAAAAAAAAAAAAAAAAAAAAAAAAAAAAAAAAAAAAAAAAAAAAAAAAAAAAAAAAAAAAAAAAAAAAAAAAAAAAAAAAAAAAAAAAAAAAAAAAAAAAAAAAAAAAAAAAAAAAAAAAAAAAAAAAAAAAAAAAAAAAAAAAAAAAAAAAAAAAAAAAAAAAAAAAAAAAAAAAAAAAAAAAAAAAAAAAAAAAAAAAAAAAAAAAAAAAAAAAAAAAAAAAAAAAAAAAAAAAAAAAAAAAAAAAAAAAAAAAAAAAAAAAAAAAAAAAAAAAAAAAAAAAAAAAAAAAAAAAAAAAAAAAAAAAAAAAAAAAAAAAAAAAAAAAAAAAAAAAAAAAAAAAAAAAAAAAAAAAAAAAAAAAAAAAAAAAAAAAAAAAAAAAAAAAAAAAAAAAAAAAAAAAAAAAAAAAAAAAAAAAAAAAAAAAAAAAAAAAAAAAAAAAAAAAAAAAAAAAAAAAAAAAAAAAAAAAAAAAAAAAAAAAAAAAAAAAAAAAAAAAAAAAAAAAAAAAAAAAAAAAAAAAAAAAAAAAAAAAAAAAAAAAAAAAAAAAAAAAAAAAAAAAAAAAAAAAAAAAAAAAAAAAAAAAAAAAAAAAAAAAAAAAAAAAAAAAAAAAAAAAAAAAAAAAAAAAAAAAAAAAAAAAAAAAAAAAAAAAAAAAAAAAAAAAAAAAAAAAAAAAAAAAAAAAAAAAAAAAAAAAAAAAAAAAAAAAAAAAAAAAAAAAAAAAAAAAAAAAAAAAAAAAAAAAAAAAAAAAAAAAAAAAAAAAAAAAAAAAAAAAAAAAAAAAAAAAAAAAAAAAAAAAAAAAAAAAAAAAAAAAAAAAAAAAAAAAAAAAAAAAAAAAAAAAAAAAAAAAAAAAAAAAAAAAAAAAAAAAAAAAAAAAAAAAAAAAAAAAAAAAAAAAAAAAAAAAAAAAAAAAAAAAAAAAAAAAAAAAAAAAAAAAAAAAAAAAAAAAAAAAAAAAAAAAAAAAAAAAAAAAAAAAAAAAAAAAAAAAAAAAAAAAAAAAAAAAAAAAAAAAAAAAAAAAAAAAAAAAAAAAAAAAAAAAAAAAAAAAAAAAAAAAAAAAAAAAAAAAAAAAAAAAAAAAAAAAAAAAAAAAAAAAAAAAAAAAAAAAAAAAAAAAAAAAAAAAAAAAAAAAAAAAAAAAAAAAAAAAAAAAAAAAAAAAAAAAAAAAAAAAAAAAAAAAAAAAAAAAAAAAAAAAAAAAAAAAAAAAAAAAAAAAAAAAAAAAAAAAAAAAAAAAAAAAAAAAAAAAAAAAAAAAAAAAAAAAAAAAAAAAAAAAAAAAAAAAAAAAAAAAAAAAAAAAAAAAAAAAAAAAAAAAAAAAAAAAAAAAAAAAAAAAAAAAAAAAAAAAAAAAAAAAAAAAAAAAAAAAAAAAAAAAAAAAAAAAAAAAAAAAAAAAAAAAAAAAAAAAAAAAAAAAAAAAAAAAAAAAAAAAAAAAAAAAAAAAAAAAAAAAAAAAAAAAAAAAAAAAAAAAAAAAAAAAAAAAAAAAAAAAAAAAAAAAAAAAAAAAAAAAAAAAAAAAAAAAAAAAAAAAAAAAAAAAAAAAAAAAAAAAAAAAAAAAAAAAAAAAAAAAAAAAAAAAAAAAAAAAAAAAAAAAAAAAAA",
        "encoding": "base64",
        "path": [
         "_data",
         2,
         "x",
         "buffer"
        ]
       },
       {
        "data": "kjCfw+dgK0CSMJ/D52ArQJIwn8PnYCtAkjCfw+dgK0CSMJ/D52ArQJIwn8PnYCtAkjCfw+dgK0CSMJ/D52ArQJIwn8PnYCtAkjCfw+dgK0CSMJ/D52ArQJIwn8PnYCtAkjCfw+dgK0CSMJ/D52ArQJIwn8PnYCtAkjCfw+dgK0CSMJ/D52ArQJIwn8PnYCtAkjCfw+dgK0CSMJ/D52ArQJIwn8PnYCtAkjCfw+dgK0CSMJ/D52ArQJIwn8PnYCtAkjCfw+dgK0CSMJ/D52ArQJIwn8PnYCtAkjCfw+dgK0CSMJ/D52ArQJIwn8PnYCtAkjCfw+dgK0CSMJ/D52ArQJIwn8PnYCtAkjCfw+dgK0CSMJ/D52ArQJIwn8PnYCtAkjCfw+dgK0CSMJ/D52ArQJIwn8PnYCtAkjCfw+dgK0CSMJ/D52ArQJIwn8PnYCtAkjCfw+dgK0CSMJ/D52ArQJIwn8PnYCtAkjCfw+dgK0CSMJ/D52ArQJIwn8PnYCtAkjCfw+dgK0CSMJ/D52ArQJIwn8PnYCtAkjCfw+dgK0CSMJ/D52ArQJIwn8PnYCtAkjCfw+dgK0CSMJ/D52ArQJIwn8PnYCtAkjCfw+dgK0CSMJ/D52ArQJIwn8PnYCtAkjCfw+dgK0CSMJ/D52ArQJIwn8PnYCtAkjCfw+dgK0CSMJ/D52ArQJIwn8PnYCtAkjCfw+dgK0CSMJ/D52ArQJIwn8PnYCtAkjCfw+dgK0CSMJ/D52ArQJIwn8PnYCtAkjCfw+dgK0CSMJ/D52ArQJIwn8PnYCtAkjCfw+dgK0CSMJ/D52ArQJIwn8PnYCtAkjCfw+dgK0CSMJ/D52ArQJIwn8PnYCtAkjCfw+dgK0CSMJ/D52ArQJIwn8PnYCtAkjCfw+dgK0CSMJ/D52ArQJIwn8PnYCtAkjCfw+dgK0CSMJ/D52ArQJIwn8PnYCtAkjCfw+dgK0CSMJ/D52ArQJIwn8PnYCtAkjCfw+dgK0CSMJ/D52ArQJIwn8PnYCtAkjCfw+dgK0CSMJ/D52ArQJIwn8PnYCtAkjCfw+dgK0CSMJ/D52ArQJIwn8PnYCtAkjCfw+dgK0CSMJ/D52ArQJIwn8PnYCtAkjCfw+dgK0CSMJ/D52ArQJIwn8PnYCtAkjCfw+dgK0CSMJ/D52ArQJIwn8PnYCtAkjCfw+dgK0CSMJ/D52ArQJIwn8PnYCtAkjCfw+dgK0CSMJ/D52ArQJIwn8PnYCtAkjCfw+dgK0CSMJ/D52ArQJIwn8PnYCtAkjCfw+dgK0CSMJ/D52ArQJIwn8PnYCtAkjCfw+dgK0CSMJ/D52ArQJIwn8PnYCtAkjCfw+dgK0CSMJ/D52ArQJIwn8PnYCtAkjCfw+dgK0CSMJ/D52ArQJIwn8PnYCtAkjCfw+dgK0CSMJ/D52ArQJIwn8PnYCtAkjCfw+dgK0CSMJ/D52ArQJIwn8PnYCtAkjCfw+dgK0CSMJ/D52ArQJIwn8PnYCtAkjCfw+dgK0CSMJ/D52ArQJIwn8PnYCtAkjCfw+dgK0CSMJ/D52ArQJIwn8PnYCtAkjCfw+dgK0CSMJ/D52ArQJIwn8PnYCtAkjCfw+dgK0CSMJ/D52ArQJIwn8PnYCtAkjCfw+dgK0CSMJ/D52ArQJIwn8PnYCtAkjCfw+dgK0CSMJ/D52ArQJIwn8PnYCtAkjCfw+dgK0CSMJ/D52ArQJIwn8PnYCtAkjCfw+dgK0CSMJ/D52ArQJIwn8PnYCtAkjCfw+dgK0CSMJ/D52ArQJIwn8PnYCtAkjCfw+dgK0CSMJ/D52ArQJIwn8PnYCtAkjCfw+dgK0CSMJ/D52ArQJIwn8PnYCtAkjCfw+dgK0CSMJ/D52ArQJIwn8PnYCtAkjCfw+dgK0CSMJ/D52ArQJIwn8PnYCtAkjCfw+dgK0CSMJ/D52ArQJIwn8PnYCtAkjCfw+dgK0CSMJ/D52ArQJIwn8PnYCtAkjCfw+dgK0CSMJ/D52ArQJIwn8PnYCtAkjCfw+dgK0CSMJ/D52ArQJIwn8PnYCtAkjCfw+dgK0CSMJ/D52ArQJIwn8PnYCtAkjCfw+dgK0CSMJ/D52ArQJIwn8PnYCtAkjCfw+dgK0CSMJ/D52ArQJIwn8PnYCtAkjCfw+dgK0CSMJ/D52ArQJIwn8PnYCtAkjCfw+dgK0CSMJ/D52ArQJIwn8PnYCtAkjCfw+dgK0CSMJ/D52ArQJIwn8PnYCtAkjCfw+dgK0CSMJ/D52ArQJIwn8PnYCtAkjCfw+dgK0CSMJ/D52ArQJIwn8PnYCtAkjCfw+dgK0CSMJ/D52ArQJIwn8PnYCtAkjCfw+dgK0CSMJ/D52ArQJIwn8PnYCtAkjCfw+dgK0CSMJ/D52ArQJIwn8PnYCtA",
        "encoding": "base64",
        "path": [
         "_data",
         2,
         "y",
         "buffer"
        ]
       },
       {
        "data": "AAAAAAAAAAAAAAAAAAAAAAAAAAAAAAAAAAAAAAAAAAAAAAAAAAAAAAAAAAAAAAAAAAAAAAAAAAAAAAAAAAAAAAAAAAAAAAAAAAAAAAAAAAAAAAAAAAAAAAAAAAAAAAAAAAAAAAAAAAAAAAAAAAAAAAAAAAAAAAAAAAAAAAAAAAAAAAAAAAAAAAAAAAAAAAAAAAAAAAAAAAAAAAAAAAAAAAAAAAAAAAAAAAAAAAAAAAAAAAAAAAAAAAAAAAAAAAAAAAAAAAAAAAAAAAAAAAAAAAAAAAAAAAAAAAAAAAAAAAAAAAAAAAAAAAAAAAAAAAAAAAAAAAAAAAAAAAAAAAAAAAAAAAAAAAAAAAAAAAAAAAAAAAAAAAAAAAAAAAAAAAAAAAAAAAAAAAAAAAAAAAAAAAAAAAAAAAAAAAAAAAAAAAAAAAAAAAAAAAAAAAAAAAAAAAAAAAAAAAAAAAAAAAAAAAAAAAAAAAAAAAAAAAAAAAAAAAAAAAAAAAAAAAAAAAAAAAAAAAAAAAAAAAAAAAAAAAAAAAAAAAAAAAAAAAAAAAAAAAAAAAAAAAAAAAAAAAAAAAAAAAAAAAAAAAAAAAAAAAAAAAAAAAAAAAAAAAAAAAAAAAAAAAAAAAAAAAAAAAAAAAAAAAAAAAAAAAAAAAAAAAAAAAAAAAAAAAAAAAAAAAAAAAAAAAAAAAAAAAAAAAAAAAAAAAAAAAAAAAAAAAAAAAAAAAAAAAAAAAAAAAAAAAAAAAAAAAAAAAAAAAAAAAAAAAAAAAAAAAAAAAAAAAAAAAAAAAAAAAAAAAAAAAAAAAAAAAAAAAAAAAAAAAAAAAAAAAAAAAAAAAAAAAAAAAAAAAAAAAAAAAAAAAAAAAAAAAAAAAAAAAAAAAAAAAAAAAAAAAAAAAAAAAAAAAAAAAAAAAAAAAAAAAAAAAAAAAAAAAAAAAAAAAAAAAAAAAAAAAAAAAAAAAAAAAAAAAAAAAAAAAAAAAAAAAAAAAAAAAAAAAAAAAAAAAAAAAAAAAAAAAAAAAAAAAAAAAAAAAAAAAAAAAAAAAAAAAAAAAAAAAAAAAAAAAAAAAAAAAAAAAAAAAAAAAAAAAAAAAAAAAAAAAAAAAAAAAAAAAAAAAAAAAAAAAAAAAAAAAAAAAAAAAAAAAAAAAAAAAAAAAAAAAAAAAAAAAAAAAAAAAAAAAAAAAAAAAAAAAAAAAAAAAAAAAAAAAAAAAAAAAAAAAAAAAAAAAAAAAAAAAAAAAAAAAAAAAAAAAAAAAAAAAAAAAAAAAAAAAAAAAAAAAAAAAAAAAAAAAAAAAAAAAAAAAAAAAAAAAAAAAAAAAAAAAAAAAAAAAAAAAAAAAAAAAAAAAAAAAAAAAAAAAAAAAAAAAAAAAAAAAAAAAAAAAAAAAAAAAAAAAAAAAAAAAAAAAAAAAAAAAAAAAAAAAAAAAAAAAAAAAAAAAAAAAAAAAAAAAAAAAAAAAAAAAAAAAAAAAAAAAAAAAAAAAAAAAAAAAAAAAAAAAAAAAAAAAAAAAAAAAAAAAAAAAAAAAAAAAAAAAAAAAAAAAAAAAAAAAAAAAAAAAAAAAAAAAAAAAAAAAAAAAAAAAAAAAAAAAAAAAAAAAAAAAAAAAAAAAAAAAAAAAAAAAAAAAAAAAAAAAAAAAAAAAAAAAAAAAAAAAAAAAAAAAAAAAAAAAAAAAAAAAAAAAAAAAAAAAAAAAAAAAAAAAAAAAAAAAAAAAAAAAAAAAAAAAAAAAAAAAAAAAAAAAAAAAAAAAAAAAAAAAAAAAAAAAAAAAAAAAAAAAAAAAAAAAAAAAAAAAAAAAAAAAAAAAAAAAAAAAAAAAAAAAAAAAAAAAAAAAAAAAAAAAAAAAAAAAAAAAAAAAAAAAAAAAAAAAAAAAAAAAAAAAAAAAAAAAAAAAAAAAAAAAAAAAAAAAAAAAAAAAAAAAAAAAAAAAAAAAAAAAAAAAAAAAAAAAAAAAAAAAAAAAAAAAAAAAAAAAAAAAAAAAAAAAAAAAAAAAAAAAAAAAAAAAAAAAAAAAAAAAAAAAAAAAAAAAAAAAAAAAAAAAAAAAAAAAAAAAAAAAAAAAAAAAAAAAAAAAAAAAAAAAAAAAAAAAAAAAAAAAAAAAAAAAAAAAAAAAAAAAAAAAAAAAAAAAAAAAAAAAAAAAAAAAAAAAAAAAAAAAAAAAAAAAAAAAAAAAAAAAAAAAAAAAAAAAAAAAAAAAAAAAAAAAAAAAAAAAAAAAAAAAAAAAAAAAAAAAAAAAAAAAAAAAAAAAAAAAAAAAAAAAAAAAAAAAAAAAAAAAAAAAAAAAAAAAAAAAAAAAAAAAAAAAAAAAAAAAAAAAAAAAAAAAAAAAAAAAAAAAAAAAAAAAAAAAAAAAAAAAAAAAAAAAAAAAAAAAAAAAAAAAAAAAAAAAAA",
        "encoding": "base64",
        "path": [
         "_data",
         2,
         "z",
         "buffer"
        ]
       },
       {
        "data": "AAAAAAAAAAAAAAAAAAAAAAAAAAAAAAAAAAAAAAAAAAAAAAAAAAAAAAAAAAAAAAAAAAAAAAAAAAAAAAAAAAAAAAAAAAAAAAAAAAAAAAAAAAAAAAAAAAAAAAAAAAAAAAAAAAAAAAAAAAAAAAAAAAAAAAAAAAAAAAAAAAAAAAAAAAAAAAAAAAAAAAAAAAAAAAAAAAAAAAAAAAAAAAAAAAAAAAAAAAAAAAAAAAAAAAAAAAAAAAAAAAAAAAAAAAAAAAAAAAAAAAAAAAAAAAAAAAAAAAAAAAAAAAAAAAAAAAAAAAAAAAAAAAAAAAAAAAAAAAAAAAAAAAAAAAAAAAAAAAAAAAAAAAAAAAAAAAAAAAAAAAAAAAAAAAAAAAAAAAAAAAAAAAAAAAAAAAAAAAAAAAAAAAAAAAAAAAAAAAAAAAAAAAAAAAAAAAAAAAAAAAAAAAAAAAAAAAAAAAAAAAAAAAAAAAAAAAAAAAAAAAAAAAAAAAAAAAAAAAAAAAAAAAAAAAAAAAAAAAAAAAAAAAAAAAAAAAAAAAAAAAAAAAAAAAAAAAAAAAAAAAAAAAAAAAAAAAAAAAAAAAAAAAAAAAAAAAAAAAAAAAAAAAAAAAAAAAAAAAAAAAAAAAAAAAAAAAAAAAAAAAAAAAAAAAAAAAAAAAAAAAAAAAAAAAAAAAAAAAAAAAAAAAAAAAAAAAAAAAAAAAAAAAAAAAAAAAAAAAAAAAAAAAAAAAAAAAAAAAAAAAAAAAAAAAAAAAAAAAAAAAAAAAAAAAAAAAAAAAAAAAAAAAAAAAAAAAAAAAAAAAAAAAAAAAAAAAAAAAAAAAAAAAAAAAAAAAAAAAAAAAAAAAAAAAAAAAAAAAAAAAAAAAAAAAAAAAAAAAAAAAAAAAAAAAAAAAAAAAAAAAAAAAAAAAAAAAAAAAAAAAAAAAAAAAAAAAAAAAAAAAAAAAAAAAAAAAAAAAAAAAAAAAAAAAAAAAAAAAAAAAAAAAAAAAAAAAAAAAAAAAAAAAAAAAAAAAAAAAAAAAAAAAAAAAAAAAAAAAAAAAAAAAAAAAAAAAAAAAAAAAAAAAAAAAAAAAAAAAAAAAAAAAAAAAAAAAAAAAAAAAAAAAAAAAAAAAAAAAAAAAAAAAAAAAAAAAAAAAAAAAAAAAAAAAAAAAAAAAAAAAAAAAAAAAAAAAAAAAAAAAAAAAAAAAAAAAAAAAAAAAAAAAAAAAAAAAAAAAAAAAAAAAAAAAAAAAAAAAAAAAAAAAAAAAAAAAAAAAAAAAAAAAAAAAAAAAAAAAAAAAAAAAAAAAAAAAAAAAAAAAAAAAAAAAAAAAAAAAAAAAAAAAAAAAAAAAAAAAAAAAAAAAAAAAAAAAAAAAAAAAAAAAAAAAAAAAAAAAAAAAAAAAAAAAAAAAAAAAAAAAAAAAAAAAAAAAAAAAAAAAAAAAAAAAAAAAAAAAAAAAAAAAAAAAAAAAAAAAAAAAAAAAAAAAAAAAAAAAAAAAAAAAAAAAAAAAAAAAAAAAAAAAAAAAAAAAAAAAAAAAAAAAAAAAAAAAAAAAAAAAAAAAAAAAAAAAAAAAAAAAAAAAAAAAAAAAAAAAAAAAAAAAAAAAAAAAAAAAAAAAAAAAAAAAAAAAAAAAAAAAAAAAAAAAAAAAAAAAAAAAAAAAAAAAAAAAAAAAAAAAAAAAAAAAAAAAAAAAAAAAAAAAAAAAAAAAAAAAAAAAAAAAAAAAAAAAAAAAAAAAAAAAAAAAAAAAAAAAAAAAAAAAAAAAAAAAAAAAAAAAAAAAAAAAAAAAAAAAAAAAAAAAAAAAAAAAAAAAAAAAAAAAAAAAAAAAAAAAAAAAAAAAAAAAAAAAAAAAAAAAAAAAAAAAAAAAAAAAAAAAAAAAAAAAAAAAAAAAAAAAAAAAAAAAAAAAAAAAAAAAAAAAAAAAAAAAAAAAAAAAAAAAAAAAAAAAAAAAAAAAAAAAAAAAAAAAAAAAAAAAAAAAAAAAAAAAAAAAAAAAAAAAAAAAAAAAAAAAAAAAAAAAAAAAAAAAAAAAAAAAAAAAAAAAAAAAAAAAAAAAAAAAAAAAAAAAAAAAAAAAAAAAAAAAAAAAAAAAAAAAAAAAAAAAAAAAAAAAAAAAAAAAAAAAAAAAAAAAAAAAAAAAAAAAAAAAAAAAAAAAAAAAAAAAAAAAAAAAAAAAAAAAAAAAAAAAAAAAAAAAAAAAAAAAAAAAAAAAAAAAAAAAAAAAAAAAAAAAAAAAAAAAAAAAAAAAAAAAAAAAAAAAAAAAAAAAAAAAAAAAAAAAAAAAAAAAAAAAAAAAAAAAAAAAAAAAAAAAAAAAAAAAAAAAAAAAAAAAAAAAAAAAAAAAAAAAAAAAAAAAAAAAAAAAAAAAAAAAAAAAAAAAAAAAAAAAAAAAAAAAAAAAAAAAAAAAAAAAAA",
        "encoding": "base64",
        "path": [
         "_data",
         3,
         "x",
         "buffer"
        ]
       },
       {
        "data": "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",
        "encoding": "base64",
        "path": [
         "_data",
         3,
         "y",
         "buffer"
        ]
       },
       {
        "data": "AAAAAAAAAAAAAAAAAAAAAAAAAAAAAAAAAAAAAAAAAAAAAAAAAAAAAAAAAAAAAAAAAAAAAAAAAAAAAAAAAAAAAAAAAAAAAAAAAAAAAAAAAAAAAAAAAAAAAAAAAAAAAAAAAAAAAAAAAAAAAAAAAAAAAAAAAAAAAAAAAAAAAAAAAAAAAAAAAAAAAAAAAAAAAAAAAAAAAAAAAAAAAAAAAAAAAAAAAAAAAAAAAAAAAAAAAAAAAAAAAAAAAAAAAAAAAAAAAAAAAAAAAAAAAAAAAAAAAAAAAAAAAAAAAAAAAAAAAAAAAAAAAAAAAAAAAAAAAAAAAAAAAAAAAAAAAAAAAAAAAAAAAAAAAAAAAAAAAAAAAAAAAAAAAAAAAAAAAAAAAAAAAAAAAAAAAAAAAAAAAAAAAAAAAAAAAAAAAAAAAAAAAAAAAAAAAAAAAAAAAAAAAAAAAAAAAAAAAAAAAAAAAAAAAAAAAAAAAAAAAAAAAAAAAAAAAAAAAAAAAAAAAAAAAAAAAAAAAAAAAAAAAAAAAAAAAAAAAAAAAAAAAAAAAAAAAAAAAAAAAAAAAAAAAAAAAAAAAAAAAAAAAAAAAAAAAAAAAAAAAAAAAAAAAAAAAAAAAAAAAAAAAAAAAAAAAAAAAAAAAAAAAAAAAAAAAAAAAAAAAAAAAAAAAAAAAAAAAAAAAAAAAAAAAAAAAAAAAAAAAAAAAAAAAAAAAAAAAAAAAAAAAAAAAAAAAAAAAAAAAAAAAAAAAAAAAAAAAAAAAAAAAAAAAAAAAAAAAAAAAAAAAAAAAAAAAAAAAAAAAAAAAAAAAAAAAAAAAAAAAAAAAAAAAAAAAAAAAAAAAAAAAAAAAAAAAAAAAAAAAAAAAAAAAAAAAAAAAAAAAAAAAAAAAAAAAAAAAAAAAAAAAAAAAAAAAAAAAAAAAAAAAAAAAAAAAAAAAAAAAAAAAAAAAAAAAAAAAAAAAAAAAAAAAAAAAAAAAAAAAAAAAAAAAAAAAAAAAAAAAAAAAAAAAAAAAAAAAAAAAAAAAAAAAAAAAAAAAAAAAAAAAAAAAAAAAAAAAAAAAAAAAAAAAAAAAAAAAAAAAAAAAAAAAAAAAAAAAAAAAAAAAAAAAAAAAAAAAAAAAAAAAAAAAAAAAAAAAAAAAAAAAAAAAAAAAAAAAAAAAAAAAAAAAAAAAAAAAAAAAAAAAAAAAAAAAAAAAAAAAAAAAAAAAAAAAAAAAAAAAAAAAAAAAAAAAAAAAAAAAAAAAAAAAAAAAAAAAAAAAAAAAAAAAAAAAAAAAAAAAAAAAAAAAAAAAAAAAAAAAAAAAAAAAAAAAAAAAAAAAAAAAAAAAAAAAAAAAAAAAAAAAAAAAAAAAAAAAAAAAAAAAAAAAAAAAAAAAAAAAAAAAAAAAAAAAAAAAAAAAAAAAAAAAAAAAAAAAAAAAAAAAAAAAAAAAAAAAAAAAAAAAAAAAAAAAAAAAAAAAAAAAAAAAAAAAAAAAAAAAAAAAAAAAAAAAAAAAAAAAAAAAAAAAAAAAAAAAAAAAAAAAAAAAAAAAAAAAAAAAAAAAAAAAAAAAAAAAAAAAAAAAAAAAAAAAAAAAAAAAAAAAAAAAAAAAAAAAAAAAAAAAAAAAAAAAAAAAAAAAAAAAAAAAAAAAAAAAAAAAAAAAAAAAAAAAAAAAAAAAAAAAAAAAAAAAAAAAAAAAAAAAAAAAAAAAAAAAAAAAAAAAAAAAAAAAAAAAAAAAAAAAAAAAAAAAAAAAAAAAAAAAAAAAAAAAAAAAAAAAAAAAAAAAAAAAAAAAAAAAAAAAAAAAAAAAAAAAAAAAAAAAAAAAAAAAAAAAAAAAAAAAAAAAAAAAAAAAAAAAAAAAAAAAAAAAAAAAAAAAAAAAAAAAAAAAAAAAAAAAAAAAAAAAAAAAAAAAAAAAAAAAAAAAAAAAAAAAAAAAAAAAAAAAAAAAAAAAAAAAAAAAAAAAAAAAAAAAAAAAAAAAAAAAAAAAAAAAAAAAAAAAAAAAAAAAAAAAAAAAAAAAAAAAAAAAAAAAAAAAAAAAAAAAAAAAAAAAAAAAAAAAAAAAAAAAAAAAAAAAAAAAAAAAAAAAAAAAAAAAAAAAAAAAAAAAAAAAAAAAAAAAAAAAAAAAAAAAAAAAAAAAAAAAAAAAAAAAAAAAAAAAAAAAAAAAAAAAAAAAAAAAAAAAAAAAAAAAAAAAAAAAAAAAAAAAAAAAAAAAAAAAAAAAAAAAAAAAAAAAAAAAAAAAAAAAAAAAAAAAAAAAAAAAAAAAAAAAAAAAAAAAAAAAAAAAAAAAAAAAAAAAAAAAAAAAAAAAAAAAAAAAAAAAAAAAAAAAAAAAAAAAAAAAAAAAAAAAAAAAAAAAAAAAAAAAAAAAAAAAAAAAAAAAAAAAAAAAAAAAAAAAAAAAAAAAAAAAAAA",
        "encoding": "base64",
        "path": [
         "_data",
         3,
         "z",
         "buffer"
        ]
       },
       {
        "data": "AAAAAAAAAAAAAAAAAAAAAAAAAAAAAAAAAAAAAAAAAAAAAAAAAAAAAAAAAAAAAAAAAAAAAAAAAAAAAAAAAAAAAAAAAAAAAAAAAAAAAAAAAAAAAAAAAAAAAAAAAAAAAAAAAAAAAAAAAAAAAAAAAAAAAAAAAAAAAAAAAAAAAAAAAAAAAAAAAAAAAAAAAAAAAAAAAAAAAAAAAAAAAAAAAAAAAAAAAAAAAAAAAAAAAAAAAAAAAAAAAAAAAAAAAAAAAAAAAAAAAAAAAAAAAAAAAAAAAAAAAAAAAAAAAAAAAAAAAAAAAAAAAAAAAAAAAAAAAAAAAAAAAAAAAAAAAAAAAAAAAAAAAAAAAAAAAAAAAAAAAAAAAAAAAAAAAAAAAAAAAAAAAAAAAAAAAAAAAAAAAAAAAAAAAAAAAAAAAAAAAAAAAAAAAAAAAAAAAAAAAAAAAAAAAAAAAAAAAAAAAAAAAAAAAAAAAAAAAAAAAAAAAAAAAAAAAAAAAAAAAAAAAAAAAAAAAAAAAAAAAAAAAAAAAAAAAAAAAAAAAAAAAAAAAAAAAAAAAAAAAAAAAAAAAAAAAAAAAAAAAAAAAAAAAAAAAAAAAAAAAAAAAAAAAAAAAAAAAAAAAAAAAAAAAAAAAAAAAAAAAAAAAAAAAAAAAAAAAAAAAAAAAAAAAAAAAAAAAAAAAAAAAAAAAAAAAAAAAAAAAAAAAAAAAAAAAAAAAAAAAAAAAAAAAAAAAAAAAAAAAAAAAAAAAAAAAAAAAAAAAAAAAAAAAAAAAAAAAAAAAAAAAAAAAAAAAAAAAAAAAAAAAAAAAAAAAAAAAAAAAAAAAAAAAAAAAAAAAAAAAAAAAAAAAAAAAAAAAAAAAAAAAAAAAAAAAAAAAAAAAAAAAAAAAAAAAAAAAAAAAAAAAAAAAAAAAAAAAAAAAAAAAAAAAAAAAAAAAAAAAAAAAAAAAAAAAAAAAAAAAAAAAAAAAAAAAAAAAAAAAAAAAAAAAAAAAAAAAAAAAAAAAAAAAAAAAAAAAAAAAAAAAAAAAAAAAAAAAAAAAAAAAAAAAAAAAAAAAAAAAAAAAAAAAAAAAAAAAAAAAAAAAAAAAAAAAAAAAAAAAAAAAAAAAAAAAAAAAAAAAAAAAAAAAAAAAAAAAAAAAAAAAAAAAAAAAAAAAAAAAAAAAAAAAAAAAAAAAAAAAAAAAAAAAAAAAAAAAAAAAAAAAAAAAAAAAAAAAAAAAAAAAAAAAAAAAAAAAAAAAAAAAAAAAAAAAAAAAAAAAAAAAAAAAAAAAAAAAAAAAAAAAAAAAAAAAAAAAAAAAAAAAAAAAAAAAAAAAAAAAAAAAAAAAAAAAAAAAAAAAAAAAAAAAAAAAAAAAAAAAAAAAAAAAAAAAAAAAAAAAAAAAAAAAAAAAAAAAAAAAAAAAAAAAAAAAAAAAAAAAAAAAAAAAAAAAAAAAAAAAAAAAAAAAAAAAAAAAAAAAAAAAAAAAAAAAAAAAAAAAAAAAAAAAAAAAAAAAAAAAAAAAAAAAAAAAAAAAAAAAAAAAAAAAAAAAAAAAAAAAAAAAAAAAAAAAAAAAAAAAAAAAAAAAAAAAAAAAAAAAAAAAAAAAAAAAAAAAAAAAAAAAAAAAAAAAAAAAAAAAAAAAAAAAAAAAAAAAAAAAAAAAAAAAAAAAAAAAAAAAAAAAAAAAAAAAAAAAAAAAAAAAAAAAAAAAAAAAAAAAAAAAAAAAAAAAAAAAAAAAAAAAAAAAAAAAAAAAAAAAAAAAAAAAAAAAAAAAAAAAAAAAAAAAAAAAAAAAAAAAAAAAAAAAAAAAAAAAAAAAAAAAAAAAAAAAAAAAAAAAAAAAAAAAAAAAAAAAAAAAAAAAAAAAAAAAAAAAAAAAAAAAAAAAAAAAAAAAAAAAAAAAAAAAAAAAAAAAAAAAAAAAAAAAAAAAAAAAAAAAAAAAAAAAAAAAAAAAAAAAAAAAAAAAAAAAAAAAAAAAAAAAAAAAAAAAAAAAAAAAAAAAAAAAAAAAAAAAAAAAAAAAAAAAAAAAAAAAAAAAAAAAAAAAAAAAAAAAAAAAAAAAAAAAAAAAAAAAAAAAAAAAAAAAAAAAAAAAAAAAAAAAAAAAAAAAAAAAAAAAAAAAAAAAAAAAAAAAAAAAAAAAAAAAAAAAAAAAAAAAAAAAAAAAAAAAAAAAAAAAAAAAAAAAAAAAAAAAAAAAAAAAAAAAAAAAAAAAAAAAAAAAAAAAAAAAAAAAAAAAAAAAAAAAAAAAAAAAAAAAAAAAAAAAAAAAAAAAAAAAAAAAAAAAAAAAAAAAAAAAAAAAAAAAAAAAAAAAAAAAAAAAAAAAAAAAAAAAAAAAAAAAAAAAAAAAAAAAAAAAAAAAAAAAAAAAAAAAAAAAAAAAAAAAAAAAAAAAAAAAAAAAAAAAAAAAAAAAAAA",
        "encoding": "base64",
        "path": [
         "_data",
         4,
         "x",
         "buffer"
        ]
       },
       {
        "data": "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",
        "encoding": "base64",
        "path": [
         "_data",
         4,
         "y",
         "buffer"
        ]
       },
       {
        "data": "AAAAAAAAAAAAAAAAAAAAAAAAAAAAAAAAAAAAAAAAAAAAAAAAAAAAAAAAAAAAAAAAAAAAAAAAAAAAAAAAAAAAAAAAAAAAAAAAAAAAAAAAAAAAAAAAAAAAAAAAAAAAAAAAAAAAAAAAAAAAAAAAAAAAAAAAAAAAAAAAAAAAAAAAAAAAAAAAAAAAAAAAAAAAAAAAAAAAAAAAAAAAAAAAAAAAAAAAAAAAAAAAAAAAAAAAAAAAAAAAAAAAAAAAAAAAAAAAAAAAAAAAAAAAAAAAAAAAAAAAAAAAAAAAAAAAAAAAAAAAAAAAAAAAAAAAAAAAAAAAAAAAAAAAAAAAAAAAAAAAAAAAAAAAAAAAAAAAAAAAAAAAAAAAAAAAAAAAAAAAAAAAAAAAAAAAAAAAAAAAAAAAAAAAAAAAAAAAAAAAAAAAAAAAAAAAAAAAAAAAAAAAAAAAAAAAAAAAAAAAAAAAAAAAAAAAAAAAAAAAAAAAAAAAAAAAAAAAAAAAAAAAAAAAAAAAAAAAAAAAAAAAAAAAAAAAAAAAAAAAAAAAAAAAAAAAAAAAAAAAAAAAAAAAAAAAAAAAAAAAAAAAAAAAAAAAAAAAAAAAAAAAAAAAAAAAAAAAAAAAAAAAAAAAAAAAAAAAAAAAAAAAAAAAAAAAAAAAAAAAAAAAAAAAAAAAAAAAAAAAAAAAAAAAAAAAAAAAAAAAAAAAAAAAAAAAAAAAAAAAAAAAAAAAAAAAAAAAAAAAAAAAAAAAAAAAAAAAAAAAAAAAAAAAAAAAAAAAAAAAAAAAAAAAAAAAAAAAAAAAAAAAAAAAAAAAAAAAAAAAAAAAAAAAAAAAAAAAAAAAAAAAAAAAAAAAAAAAAAAAAAAAAAAAAAAAAAAAAAAAAAAAAAAAAAAAAAAAAAAAAAAAAAAAAAAAAAAAAAAAAAAAAAAAAAAAAAAAAAAAAAAAAAAAAAAAAAAAAAAAAAAAAAAAAAAAAAAAAAAAAAAAAAAAAAAAAAAAAAAAAAAAAAAAAAAAAAAAAAAAAAAAAAAAAAAAAAAAAAAAAAAAAAAAAAAAAAAAAAAAAAAAAAAAAAAAAAAAAAAAAAAAAAAAAAAAAAAAAAAAAAAAAAAAAAAAAAAAAAAAAAAAAAAAAAAAAAAAAAAAAAAAAAAAAAAAAAAAAAAAAAAAAAAAAAAAAAAAAAAAAAAAAAAAAAAAAAAAAAAAAAAAAAAAAAAAAAAAAAAAAAAAAAAAAAAAAAAAAAAAAAAAAAAAAAAAAAAAAAAAAAAAAAAAAAAAAAAAAAAAAAAAAAAAAAAAAAAAAAAAAAAAAAAAAAAAAAAAAAAAAAAAAAAAAAAAAAAAAAAAAAAAAAAAAAAAAAAAAAAAAAAAAAAAAAAAAAAAAAAAAAAAAAAAAAAAAAAAAAAAAAAAAAAAAAAAAAAAAAAAAAAAAAAAAAAAAAAAAAAAAAAAAAAAAAAAAAAAAAAAAAAAAAAAAAAAAAAAAAAAAAAAAAAAAAAAAAAAAAAAAAAAAAAAAAAAAAAAAAAAAAAAAAAAAAAAAAAAAAAAAAAAAAAAAAAAAAAAAAAAAAAAAAAAAAAAAAAAAAAAAAAAAAAAAAAAAAAAAAAAAAAAAAAAAAAAAAAAAAAAAAAAAAAAAAAAAAAAAAAAAAAAAAAAAAAAAAAAAAAAAAAAAAAAAAAAAAAAAAAAAAAAAAAAAAAAAAAAAAAAAAAAAAAAAAAAAAAAAAAAAAAAAAAAAAAAAAAAAAAAAAAAAAAAAAAAAAAAAAAAAAAAAAAAAAAAAAAAAAAAAAAAAAAAAAAAAAAAAAAAAAAAAAAAAAAAAAAAAAAAAAAAAAAAAAAAAAAAAAAAAAAAAAAAAAAAAAAAAAAAAAAAAAAAAAAAAAAAAAAAAAAAAAAAAAAAAAAAAAAAAAAAAAAAAAAAAAAAAAAAAAAAAAAAAAAAAAAAAAAAAAAAAAAAAAAAAAAAAAAAAAAAAAAAAAAAAAAAAAAAAAAAAAAAAAAAAAAAAAAAAAAAAAAAAAAAAAAAAAAAAAAAAAAAAAAAAAAAAAAAAAAAAAAAAAAAAAAAAAAAAAAAAAAAAAAAAAAAAAAAAAAAAAAAAAAAAAAAAAAAAAAAAAAAAAAAAAAAAAAAAAAAAAAAAAAAAAAAAAAAAAAAAAAAAAAAAAAAAAAAAAAAAAAAAAAAAAAAAAAAAAAAAAAAAAAAAAAAAAAAAAAAAAAAAAAAAAAAAAAAAAAAAAAAAAAAAAAAAAAAAAAAAAAAAAAAAAAAAAAAAAAAAAAAAAAAAAAAAAAAAAAAAAAAAAAAAAAAAAAAAAAAAAAAAAAAAAAAAAAAAAAAAAAAAAAAAAAAAAAAAAAAAAAAAAAAAAAAAAAAAAAAAAAAAAAAAAAAAAAAAAAAAAAAAAAAAAAAAAAA",
        "encoding": "base64",
        "path": [
         "_data",
         4,
         "z",
         "buffer"
        ]
       },
       {
        "data": "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",
        "encoding": "base64",
        "path": [
         "_data",
         5,
         "x",
         "buffer"
        ]
       },
       {
        "data": "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",
        "encoding": "base64",
        "path": [
         "_data",
         5,
         "y",
         "buffer"
        ]
       },
       {
        "data": "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",
        "encoding": "base64",
        "path": [
         "_data",
         5,
         "z",
         "buffer"
        ]
       },
       {
        "data": "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",
        "encoding": "base64",
        "path": [
         "_data",
         6,
         "x",
         "buffer"
        ]
       },
       {
        "data": "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",
        "encoding": "base64",
        "path": [
         "_data",
         6,
         "y",
         "buffer"
        ]
       },
       {
        "data": "ZmZmZmZmHEBmZmZmZmYcQGZmZmZmZhxAZmZmZmZmHEBmZmZmZmYcQGZmZmZmZhxAZmZmZmZmHEBmZmZmZmYcQGZmZmZmZhxAZmZmZmZmHEBmZmZmZmYcQGZmZmZmZhxAZmZmZmZmHEBmZmZmZmYcQGZmZmZmZhxAJk8lqx2wG0AmTyWrHbAbQCZPJasdsBtAJk8lqx2wG0AmTyWrHbAbQCZPJasdsBtAJk8lqx2wG0AmTyWrHbAbQCZPJasdsBtAJk8lqx2wG0AmTyWrHbAbQCZPJasdsBtAJk8lqx2wG0AmTyWrHbAbQCZPJasdsBtACuJKcGeWGUAK4kpwZ5YZQAriSnBnlhlACuJKcGeWGUAK4kpwZ5YZQAriSnBnlhlACuJKcGeWGUAK4kpwZ5YZQAriSnBnlhlACuJKcGeWGUAK4kpwZ5YZQAriSnBnlhlACuJKcGeWGUAK4kpwZ5YZQAriSnBnlhlAfGioRDo0FkB8aKhEOjQWQHxoqEQ6NBZAfGioRDo0FkB8aKhEOjQWQHxoqEQ6NBZAfGioRDo0FkB8aKhEOjQWQHxoqEQ6NBZAfGioRDo0FkB8aKhEOjQWQHxoqEQ6NBZAfGioRDo0FkB8aKhEOjQWQHxoqEQ6NBZAd8l1LwW1EUB3yXUvBbURQHfJdS8FtRFAd8l1LwW1EUB3yXUvBbURQHfJdS8FtRFAd8l1LwW1EUB3yXUvBbURQHfJdS8FtRFAd8l1LwW1EUB3yXUvBbURQHfJdS8FtRFAd8l1LwW1EUB3yXUvBbURQHfJdS8FtRFAb0i7RASlCEBvSLtEBKUIQG9Iu0QEpQhAb0i7RASlCEBvSLtEBKUIQG9Iu0QEpQhAb0i7RASlCEBvSLtEBKUIQG9Iu0QEpQhAb0i7RASlCEBvSLtEBKUIQG9Iu0QEpQhAb0i7RASlCEBvSLtEBKUIQG9Iu0QEpQhAfmp4yUNH+T9+anjJQ0f5P35qeMlDR/k/fmp4yUNH+T9+anjJQ0f5P35qeMlDR/k/fmp4yUNH+T9+anjJQ0f5P35qeMlDR/k/fmp4yUNH+T9+anjJQ0f5P35qeMlDR/k/fmp4yUNH+T9+anjJQ0f5P35qeMlDR/k/JvAQAbdTvzwm8BABt1O/PCbwEAG3U788JvAQAbdTvzwm8BABt1O/PCbwEAG3U788JvAQAbdTvzwm8BABt1O/PCbwEAG3U788JvAQAbdTvzwm8BABt1O/PCbwEAG3U788JvAQAbdTvzwm8BABt1O/PCbwEAG3U788e2p4yUNH+b97anjJQ0f5v3tqeMlDR/m/e2p4yUNH+b97anjJQ0f5v3tqeMlDR/m/e2p4yUNH+b97anjJQ0f5v3tqeMlDR/m/e2p4yUNH+b97anjJQ0f5v3tqeMlDR/m/e2p4yUNH+b97anjJQ0f5v3tqeMlDR/m/bUi7RASlCMBtSLtEBKUIwG1Iu0QEpQjAbUi7RASlCMBtSLtEBKUIwG1Iu0QEpQjAbUi7RASlCMBtSLtEBKUIwG1Iu0QEpQjAbUi7RASlCMBtSLtEBKUIwG1Iu0QEpQjAbUi7RASlCMBtSLtEBKUIwG1Iu0QEpQjAdsl1LwW1EcB2yXUvBbURwHbJdS8FtRHAdsl1LwW1EcB2yXUvBbURwHbJdS8FtRHAdsl1LwW1EcB2yXUvBbURwHbJdS8FtRHAdsl1LwW1EcB2yXUvBbURwHbJdS8FtRHAdsl1LwW1EcB2yXUvBbURwHbJdS8FtRHAfGioRDo0FsB8aKhEOjQWwHxoqEQ6NBbAfGioRDo0FsB8aKhEOjQWwHxoqEQ6NBbAfGioRDo0FsB8aKhEOjQWwHxoqEQ6NBbAfGioRDo0FsB8aKhEOjQWwHxoqEQ6NBbAfGioRDo0FsB8aKhEOjQWwHxoqEQ6NBbACeJKcGeWGcAJ4kpwZ5YZwAniSnBnlhnACeJKcGeWGcAJ4kpwZ5YZwAniSnBnlhnACeJKcGeWGcAJ4kpwZ5YZwAniSnBnlhnACeJKcGeWGcAJ4kpwZ5YZwAniSnBnlhnACeJKcGeWGcAJ4kpwZ5YZwAniSnBnlhnAJk8lqx2wG8AmTyWrHbAbwCZPJasdsBvAJk8lqx2wG8AmTyWrHbAbwCZPJasdsBvAJk8lqx2wG8AmTyWrHbAbwCZPJasdsBvAJk8lqx2wG8AmTyWrHbAbwCZPJasdsBvAJk8lqx2wG8AmTyWrHbAbwCZPJasdsBvAZmZmZmZmHMBmZmZmZmYcwGZmZmZmZhzAZmZmZmZmHMBmZmZmZmYcwGZmZmZmZhzAZmZmZmZmHMBmZmZmZmYcwGZmZmZmZhzAZmZmZmZmHMBmZmZmZmYcwGZmZmZmZhzAZmZmZmZmHMBmZmZmZmYcwGZmZmZmZhzA",
        "encoding": "base64",
        "path": [
         "_data",
         6,
         "z",
         "buffer"
        ]
       },
       {
        "data": "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",
        "encoding": "base64",
        "path": [
         "_data",
         7,
         "x",
         "buffer"
        ]
       },
       {
        "data": "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",
        "encoding": "base64",
        "path": [
         "_data",
         7,
         "y",
         "buffer"
        ]
       },
       {
        "data": "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",
        "encoding": "base64",
        "path": [
         "_data",
         7,
         "z",
         "buffer"
        ]
       },
       {
        "data": "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",
        "encoding": "base64",
        "path": [
         "_data",
         8,
         "x",
         "buffer"
        ]
       },
       {
        "data": "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",
        "encoding": "base64",
        "path": [
         "_data",
         8,
         "y",
         "buffer"
        ]
       },
       {
        "data": "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",
        "encoding": "base64",
        "path": [
         "_data",
         8,
         "z",
         "buffer"
        ]
       },
       {
        "data": "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",
        "encoding": "base64",
        "path": [
         "_data",
         9,
         "x",
         "buffer"
        ]
       },
       {
        "data": "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",
        "encoding": "base64",
        "path": [
         "_data",
         9,
         "y",
         "buffer"
        ]
       },
       {
        "data": "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",
        "encoding": "base64",
        "path": [
         "_data",
         9,
         "z",
         "buffer"
        ]
       },
       {
        "data": "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",
        "encoding": "base64",
        "path": [
         "_data",
         10,
         "x",
         "buffer"
        ]
       },
       {
        "data": "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",
        "encoding": "base64",
        "path": [
         "_data",
         10,
         "y",
         "buffer"
        ]
       },
       {
        "data": "zMzMzMxMNUDMzMzMzEw1QMzMzMzMTDVAzMzMzMxMNUDMzMzMzEw1QMzMzMzMTDVAzMzMzMxMNUDMzMzMzEw1QMzMzMzMTDVAzMzMzMxMNUDMzMzMzEw1QMzMzMzMTDVAzMzMzMxMNUDMzMzMzEw1QMzMzMzMTDVAXPtbQBbENEBc+1tAFsQ0QFz7W0AWxDRAXPtbQBbENEBc+1tAFsQ0QFz7W0AWxDRAXPtbQBbENEBc+1tAFsQ0QFz7W0AWxDRAXPtbQBbENEBc+1tAFsQ0QFz7W0AWxDRAXPtbQBbENEBc+1tAFsQ0QFz7W0AWxDRAhyk4lM0wM0CHKTiUzTAzQIcpOJTNMDNAhyk4lM0wM0CHKTiUzTAzQIcpOJTNMDNAhyk4lM0wM0CHKTiUzTAzQIcpOJTNMDNAhyk4lM0wM0CHKTiUzTAzQIcpOJTNMDNAhyk4lM0wM0CHKTiUzTAzQIcpOJTNMDNAXE5+syunMEBcTn6zK6cwQFxOfrMrpzBAXE5+syunMEBcTn6zK6cwQFxOfrMrpzBAXE5+syunMEBcTn6zK6cwQFxOfrMrpzBAXE5+syunMEBcTn6zK6cwQFxOfrMrpzBAXE5+syunMEBcTn6zK6cwQFxOfrMrpzBAMq4wx4ePKkAyrjDHh48qQDKuMMeHjypAMq4wx4ePKkAyrjDHh48qQDKuMMeHjypAMq4wx4ePKkAyrjDHh48qQDKuMMeHjypAMq4wx4ePKkAyrjDHh48qQDKuMMeHjypAMq4wx4ePKkAyrjDHh48qQDKuMMeHjypAU3aMM8N7IkBTdowzw3siQFN2jDPDeyJAU3aMM8N7IkBTdowzw3siQFN2jDPDeyJAU3aMM8N7IkBTdowzw3siQFN2jDPDeyJAU3aMM8N7IkBTdowzw3siQFN2jDPDeyJAU3aMM8N7IkBTdowzw3siQFN2jDPDeyJA3k8a13L1EkDeTxrXcvUSQN5PGtdy9RJA3k8a13L1EkDeTxrXcvUSQN5PGtdy9RJA3k8a13L1EkDeTxrXcvUSQN5PGtdy9RJA3k8a13L1EkDeTxrXcvUSQN5PGtdy9RJA3k8a13L1EkDeTxrXcvUSQN5PGtdy9RJAHLTMQMl+1zwctMxAyX7XPBy0zEDJftc8HLTMQMl+1zwctMxAyX7XPBy0zEDJftc8HLTMQMl+1zwctMxAyX7XPBy0zEDJftc8HLTMQMl+1zwctMxAyX7XPBy0zEDJftc8HLTMQMl+1zwctMxAyX7XPBy0zEDJftc83E8a13L1EsDcTxrXcvUSwNxPGtdy9RLA3E8a13L1EsDcTxrXcvUSwNxPGtdy9RLA3E8a13L1EsDcTxrXcvUSwNxPGtdy9RLA3E8a13L1EsDcTxrXcvUSwNxPGtdy9RLA3E8a13L1EsDcTxrXcvUSwNxPGtdy9RLAUnaMM8N7IsBSdowzw3siwFJ2jDPDeyLAUnaMM8N7IsBSdowzw3siwFJ2jDPDeyLAUnaMM8N7IsBSdowzw3siwFJ2jDPDeyLAUnaMM8N7IsBSdowzw3siwFJ2jDPDeyLAUnaMM8N7IsBSdowzw3siwFJ2jDPDeyLAMK4wx4ePKsAwrjDHh48qwDCuMMeHjyrAMK4wx4ePKsAwrjDHh48qwDCuMMeHjyrAMK4wx4ePKsAwrjDHh48qwDCuMMeHjyrAMK4wx4ePKsAwrjDHh48qwDCuMMeHjyrAMK4wx4ePKsAwrjDHh48qwDCuMMeHjyrAXE5+syunMMBcTn6zK6cwwFxOfrMrpzDAXE5+syunMMBcTn6zK6cwwFxOfrMrpzDAXE5+syunMMBcTn6zK6cwwFxOfrMrpzDAXE5+syunMMBcTn6zK6cwwFxOfrMrpzDAXE5+syunMMBcTn6zK6cwwFxOfrMrpzDAhyk4lM0wM8CHKTiUzTAzwIcpOJTNMDPAhyk4lM0wM8CHKTiUzTAzwIcpOJTNMDPAhyk4lM0wM8CHKTiUzTAzwIcpOJTNMDPAhyk4lM0wM8CHKTiUzTAzwIcpOJTNMDPAhyk4lM0wM8CHKTiUzTAzwIcpOJTNMDPAXPtbQBbENMBc+1tAFsQ0wFz7W0AWxDTAXPtbQBbENMBc+1tAFsQ0wFz7W0AWxDTAXPtbQBbENMBc+1tAFsQ0wFz7W0AWxDTAXPtbQBbENMBc+1tAFsQ0wFz7W0AWxDTAXPtbQBbENMBc+1tAFsQ0wFz7W0AWxDTAzMzMzMxMNcDMzMzMzEw1wMzMzMzMTDXAzMzMzMxMNcDMzMzMzEw1wMzMzMzMTDXAzMzMzMxMNcDMzMzMzEw1wMzMzMzMTDXAzMzMzMxMNcDMzMzMzEw1wMzMzMzMTDXAzMzMzMxMNcDMzMzMzEw1wMzMzMzMTDXA",
        "encoding": "base64",
        "path": [
         "_data",
         10,
         "z",
         "buffer"
        ]
       },
       {
        "data": "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",
        "encoding": "base64",
        "path": [
         "_data",
         11,
         "x",
         "buffer"
        ]
       },
       {
        "data": "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",
        "encoding": "base64",
        "path": [
         "_data",
         11,
         "y",
         "buffer"
        ]
       },
       {
        "data": "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",
        "encoding": "base64",
        "path": [
         "_data",
         11,
         "z",
         "buffer"
        ]
       },
       {
        "data": "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",
        "encoding": "base64",
        "path": [
         "_data",
         12,
         "x",
         "buffer"
        ]
       },
       {
        "data": "GJYpWorWLUAYlilaitYtQBiWKVqK1i1AGJYpWorWLUAYlilaitYtQBiWKVqK1i1AGJYpWorWLUAYlilaitYtQBiWKVqK1i1AGJYpWorWLUAYlilaitYtQBiWKVqK1i1AGJYpWorWLUAYlilaitYtQBiWKVqK1i1AGJYpWorWLUCMoYNzuvkwQKbU8DnqnzJAoOj3+TWKM0Cg6Pf5NYozQKbU8DnqnzJAjKGDc7r5MEAYlilaitYtQBnpS82fuSlA5YJxQEBtJkDvWmPAqJgkQO9aY8ComCRA5IJxQEBtJkAY6UvNn7kpQBeWKVqK1i1AGJYpWorWLUDmBa+hye0yQNSVTZz9JDZAlEDEedXtN0CUQMR51e03QNSVTZz9JDZA5gWvocntMkAZlilaitYtQGUg9XCB0SVAEgFw9zLGHkAQVpWB06IXQBBWlYHTohdADwFw9zLGHkBkIPVwgdElQBeWKVqK1i1AGJYpWorWLUAlq1+AX640QLrIQk1QTTlAzg+308vdO0DOD7fTy907QLrIQk1QTTlAJqtfgF+uNEAZlilaitYtQObVk7NVUCJAejWbM+gkEkCYZChn6Iv/P5hkKGfoi/8/eDWbM+gkEkDk1ZOzVVAiQBaWKVqK1i1AGJYpWorWLUDUlU2c/SQ2QG17Xu5Z8DtAWwv96I0nP0BbC/3ojSc/QG57Xu5Z8DtA1JVNnP0kNkAZlilaitYtQBMBcPcyxh5AuKqxvAZj/j8wVDftOBD1vzBUN+04EPW/qKqxvAZj/j8NAXD3MsYeQBaWKVqK1i1AGJYpWorWLUA68tMG2z43QE7mJRpB7D1A9PeAE3PQQED094ATc9BAQE/mJRpB7D1AO/LTBts+N0AZlilaitYtQHqPVk29XhpAADZQ/L+2tb+AzsJm3lIOwIDOwmbeUg7AADdQ/L+2tb9yj1ZNvV4aQBWWKVqK1i1AGJYpWorWLUCUQMR51e03QFwL/eiNJz9AGqPLLgmVQUAao8suCZVBQFwL/eiNJz9AlEDEedXtN0AZlilaitYtQBRWlYHTohdAMFQ37TgQ9b90wLYNIE4VwHTAtg0gThXAQFQ37TgQ9b8MVpWB06IXQBWWKVqK1i1AGJYpWorWLUA1BtvGJik4QGgZk+Bwkj9ANGO4tq3XQUA0Y7i2rddBQGkZk+Bwkj9ANgbbxiYpOEAZlilaitYtQI4/Ok2OtRZAADWYZmi++79AwRxNRGMXwEDBHE1EYxfAEDWYZmi++7+GPzpNjrUWQBWWKVqK1i1AGJYpWorWLUCUQMR51e03QFwL/eiNJz9AGqPLLgmVQUAao8suCZVBQFwL/eiNJz9AlEDEedXtN0AZlilaitYtQBRWlYHTohdAMFQ37TgQ9b90wLYNIE4VwHTAtg0gThXAQFQ37TgQ9b8MVpWB06IXQBWWKVqK1i1AGJYpWorWLUA68tMG2z43QE7mJRpB7D1A9PeAE3PQQED094ATc9BAQE/mJRpB7D1AO/LTBts+N0AZlilaitYtQHqPVk29XhpAADZQ/L+2tb+AzsJm3lIOwIDOwmbeUg7AADdQ/L+2tb9yj1ZNvV4aQBWWKVqK1i1AGJYpWorWLUDUlU2c/SQ2QG57Xu5Z8DtAXAv96I0nP0BcC/3ojSc/QG57Xu5Z8DtA1ZVNnP0kNkAZlilaitYtQBIBcPcyxh5AqKqxvAZj/j9AVDftOBD1v0BUN+04EPW/mKqxvAZj/j8LAXD3MsYeQBaWKVqK1i1AGJYpWorWLUAmq1+AX640QLrIQk1QTTlA0A+308vdO0DQD7fTy907QLvIQk1QTTlAJqtfgF+uNEAZlilaitYtQOXVk7NVUCJAeDWbM+gkEkCIZChn6Iv/P4hkKGfoi/8/dDWbM+gkEkDj1ZOzVVAiQBaWKVqK1i1AGJYpWorWLUDmBa+hye0yQNWVTZz9JDZAlUDEedXtN0CVQMR51e03QNWVTZz9JDZA5gWvocntMkAZlilaitYtQGQg9XCB0SVADwFw9zLGHkAMVpWB06IXQAxWlYHTohdADAFw9zLGHkBiIPVwgdElQBeWKVqK1i1AGJYpWorWLUCMoYNzuvkwQKbU8DnqnzJAoej3+TWKM0Ch6Pf5NYozQKbU8DnqnzJAjKGDc7r5MEAYlilaitYtQBjpS82fuSlA5IJxQEBtJkDuWmPAqJgkQO5aY8ComCRA44JxQEBtJkAX6UvNn7kpQBeWKVqK1i1AGJYpWorWLUAZlilaitYtQBmWKVqK1i1AGZYpWorWLUAZlilaitYtQBmWKVqK1i1AGZYpWorWLUAYlilaitYtQBeWKVqK1i1AF5YpWorWLUAXlilaitYtQBeWKVqK1i1AF5YpWorWLUAXlilaitYtQBiWKVqK1i1A",
        "encoding": "base64",
        "path": [
         "_data",
         12,
         "y",
         "buffer"
        ]
       },
       {
        "data": "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",
        "encoding": "base64",
        "path": [
         "_data",
         12,
         "z",
         "buffer"
        ]
       },
       {
        "data": "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",
        "encoding": "base64",
        "path": [
         "_data",
         13,
         "x",
         "buffer"
        ]
       },
       {
        "data": "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",
        "encoding": "base64",
        "path": [
         "_data",
         13,
         "y",
         "buffer"
        ]
       },
       {
        "data": "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",
        "encoding": "base64",
        "path": [
         "_data",
         13,
         "z",
         "buffer"
        ]
       },
       {
        "data": "CtejcD0KAUAK16NwPQoBQArXo3A9CgFACtejcD0KAUAK16NwPQoBQArXo3A9CgFACtejcD0KAUAK16NwPQoBQArXo3A9CgFACtejcD0KAUAK16NwPQoBQArXo3A9CgFACtejcD0KAUAK16NwPQoBQArXo3A9CgFAYjtsj5F6G0DHcfUT7ZkZQGKQkRkyVxRAHmT2Ujp6CUDvk6IcgTTxP8DKbUelZ+q/ejWjRl8fAcCwyJA9qOAEwHo1o0ZfHwHAyMptR6Vn6r/qk6IcgTTxPxxk9lI6eglAYpCRGTJXFEDHcfUT7ZkZQGI7bI+RehtAFGy1j1K+JkAeRKcPu+kkQOxrfQWIkR9AhUUN0vO+EECgYaSlZ9KyP8IpsymVDg3AM7GqrjjJGMAfAceuZ3IcwDOxqq44yRjAximzKZUODcAAYaSlZ9KyP4JFDdLzvhBA6Wt9BYiRH0AeRKcPu+kkQBRstY9SviZA8qNZIxfSLkBAsyemuTAsQJguL3P/0SRAYpCRGTJXFEC4ym1HpWfqvyOGunXBmRjAusfV7ZqrI8BuuAdr+EwmwLzH1e2aqyPAJYa6dcGZGMDUym1HpWfqv1+QkRkyVxRAli4vc//RJEBAsyemuTAsQPKjWSMX0i5APcmSYXPIMkAkliWbQyIxQB7xhJylBilA7BHC67JXF0CA63js1TX5v5gFM+SGgSDAwkD5fWi/KcD2ptMKyAstwMJA+X1ovynAmgUz5IaBIMCU63js1TX5v+gRwuuyVxdAHPGEnKUGKUAjliWbQyIxQD3JkmFzyDJAaKRMQhVSNUDTDEcGkGszQEKzJ6a5MCxAyHH1E+2ZGUB4NaNGXx8BwLzH1e2aqyPAIi48VAFSLsCmriPmhQ8xwCIuPFQBUi7AvsfV7ZqrI8CCNaNGXx8BwMNx9RPtmRlAQLMnprkwLEDTDEcGkGszQGikTEIVUjVAPXZw7l3lNkC9nwGo6NY0QEh/bamcJy5A2GHe6+EAG0CWFXX2SO0DwMKTG/F9oiXA+6nYS1mUMMB7gEeSzqIywPup2EtZlDDAxJMb8X2iJcCiFXX2SO0DwNNh3uvhABtARn9tqZwnLkC9nwGo6NY0QD12cO5d5TZArUfhehRuN0BopExCFVI1QPSjWSMX0i5AYztsj5F6G0CuyJA9qOAEwG64B2v4TCbApq4j5oUPMcDrUbgehSszwKauI+aFDzHAcLgHa/hMJsC6yJA9qOAEwF47bI+RehtA8qNZIxfSLkBopExCFVI1QK1H4XoUbjdAPXZw7l3lNkC9nwGo6NY0QEh/bamcJy5A2GHe6+EAG0CWFXX2SO0DwMKTG/F9oiXA+6nYS1mUMMB7gEeSzqIywPup2EtZlDDAxJMb8X2iJcCiFXX2SO0DwNNh3uvhABtARn9tqZwnLkC9nwGo6NY0QD12cO5d5TZAaKRMQhVSNUDTDEcGkGszQEKzJ6a5MCxAyHH1E+2ZGUB4NaNGXx8BwLzH1e2aqyPAIi48VAFSLsCmriPmhQ8xwCIuPFQBUi7AvsfV7ZqrI8CCNaNGXx8BwMNx9RPtmRlAQLMnprkwLEDTDEcGkGszQGikTEIVUjVAPsmSYXPIMkAkliWbQyIxQCDxhJylBilA7RHC67JXF0CE63js1TX5v5oFM+SGgSDAwkD5fWi/KcD4ptMKyAstwMRA+X1ovynAnAUz5IaBIMCW63js1TX5v+kRwuuyVxdAHvGEnKUGKUAkliWbQyIxQD7JkmFzyDJA9KNZIxfSLkBCsyemuTAsQJguL3P/0SRAZJCRGTJXFEDAym1HpWfqvyWGunXBmRjAvMfV7ZqrI8BwuAdr+EwmwL7H1e2aqyPAKYa6dcGZGMDcym1HpWfqv2CQkRkyVxRAli4vc//RJEBCsyemuTAsQPSjWSMX0i5AFmy1j1K+JkAgRKcPu+kkQO5rfQWIkR9AhkUN0vO+EEBgYaSlZ9KyP8YpsymVDg3AN7GqrjjJGMAjAceuZ3IcwDexqq44yRjAyimzKZUODcDAYKSlZ9KyP4RFDdLzvhBA7Gt9BYiRH0AgRKcPu+kkQBZstY9SviZAZTtsj5F6G0DKcfUT7ZkZQGSQkRkyVxRAH2T2Ujp6CUDsk6IcgTTxP9DKbUelZ+q/fjWjRl8fAcC2yJA9qOAEwIA1o0ZfHwHA2MptR6Vn6r/nk6IcgTTxPxxk9lI6eglAY5CRGTJXFEDJcfUT7ZkZQGU7bI+RehtAENejcD0KAUAP16NwPQoBQA7Xo3A9CgFAC9ejcD0KAUAJ16NwPQoBQAbXo3A9CgFABdejcD0KAUAE16NwPQoBQAXXo3A9CgFABtejcD0KAUAJ16NwPQoBQAvXo3A9CgFADtejcD0KAUAP16NwPQoBQBDXo3A9CgFA",
        "encoding": "base64",
        "path": [
         "_data",
         14,
         "x",
         "buffer"
        ]
       },
       {
        "data": "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",
        "encoding": "base64",
        "path": [
         "_data",
         14,
         "y",
         "buffer"
        ]
       },
       {
        "data": "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",
        "encoding": "base64",
        "path": [
         "_data",
         14,
         "z",
         "buffer"
        ]
       },
       {
        "data": "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",
        "encoding": "base64",
        "path": [
         "_data",
         15,
         "x",
         "buffer"
        ]
       },
       {
        "data": "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",
        "encoding": "base64",
        "path": [
         "_data",
         15,
         "y",
         "buffer"
        ]
       },
       {
        "data": "ZmZmZmZmPEBmZmZmZmY8QGZmZmZmZjxAZmZmZmZmPEBmZmZmZmY8QGZmZmZmZjxAZmZmZmZmPEBmZmZmZmY8QGZmZmZmZjxAZmZmZmZmPEBmZmZmZmY8QGZmZmZmZjxAZmZmZmZmPEBmZmZmZmY8QGZmZmZmZjxAJk8lqx2wO0AmTyWrHbA7QCZPJasdsDtAJk8lqx2wO0AmTyWrHbA7QCZPJasdsDtAJk8lqx2wO0AmTyWrHbA7QCZPJasdsDtAJk8lqx2wO0AmTyWrHbA7QCZPJasdsDtAJk8lqx2wO0AmTyWrHbA7QCZPJasdsDtACuJKcGeWOUAK4kpwZ5Y5QAriSnBnljlACuJKcGeWOUAK4kpwZ5Y5QAriSnBnljlACuJKcGeWOUAK4kpwZ5Y5QAriSnBnljlACuJKcGeWOUAK4kpwZ5Y5QAriSnBnljlACuJKcGeWOUAK4kpwZ5Y5QAriSnBnljlAfGioRDo0NkB8aKhEOjQ2QHxoqEQ6NDZAfGioRDo0NkB8aKhEOjQ2QHxoqEQ6NDZAfGioRDo0NkB8aKhEOjQ2QHxoqEQ6NDZAfGioRDo0NkB8aKhEOjQ2QHxoqEQ6NDZAfGioRDo0NkB8aKhEOjQ2QHxoqEQ6NDZAd8l1LwW1MUB3yXUvBbUxQHfJdS8FtTFAd8l1LwW1MUB3yXUvBbUxQHfJdS8FtTFAd8l1LwW1MUB3yXUvBbUxQHfJdS8FtTFAd8l1LwW1MUB3yXUvBbUxQHfJdS8FtTFAd8l1LwW1MUB3yXUvBbUxQHfJdS8FtTFAb0i7RASlKEBvSLtEBKUoQG9Iu0QEpShAb0i7RASlKEBvSLtEBKUoQG9Iu0QEpShAb0i7RASlKEBvSLtEBKUoQG9Iu0QEpShAb0i7RASlKEBvSLtEBKUoQG9Iu0QEpShAb0i7RASlKEBvSLtEBKUoQG9Iu0QEpShAfmp4yUNHGUB+anjJQ0cZQH5qeMlDRxlAfmp4yUNHGUB+anjJQ0cZQH5qeMlDRxlAfmp4yUNHGUB+anjJQ0cZQH5qeMlDRxlAfmp4yUNHGUB+anjJQ0cZQH5qeMlDRxlAfmp4yUNHGUB+anjJQ0cZQH5qeMlDRxlAJvAQAbdT3zwm8BABt1PfPCbwEAG3U988JvAQAbdT3zwm8BABt1PfPCbwEAG3U988JvAQAbdT3zwm8BABt1PfPCbwEAG3U988JvAQAbdT3zwm8BABt1PfPCbwEAG3U988JvAQAbdT3zwm8BABt1PfPCbwEAG3U988e2p4yUNHGcB7anjJQ0cZwHtqeMlDRxnAe2p4yUNHGcB7anjJQ0cZwHtqeMlDRxnAe2p4yUNHGcB7anjJQ0cZwHtqeMlDRxnAe2p4yUNHGcB7anjJQ0cZwHtqeMlDRxnAe2p4yUNHGcB7anjJQ0cZwHtqeMlDRxnAbUi7RASlKMBtSLtEBKUowG1Iu0QEpSjAbUi7RASlKMBtSLtEBKUowG1Iu0QEpSjAbUi7RASlKMBtSLtEBKUowG1Iu0QEpSjAbUi7RASlKMBtSLtEBKUowG1Iu0QEpSjAbUi7RASlKMBtSLtEBKUowG1Iu0QEpSjAdsl1LwW1McB2yXUvBbUxwHbJdS8FtTHAdsl1LwW1McB2yXUvBbUxwHbJdS8FtTHAdsl1LwW1McB2yXUvBbUxwHbJdS8FtTHAdsl1LwW1McB2yXUvBbUxwHbJdS8FtTHAdsl1LwW1McB2yXUvBbUxwHbJdS8FtTHAfGioRDo0NsB8aKhEOjQ2wHxoqEQ6NDbAfGioRDo0NsB8aKhEOjQ2wHxoqEQ6NDbAfGioRDo0NsB8aKhEOjQ2wHxoqEQ6NDbAfGioRDo0NsB8aKhEOjQ2wHxoqEQ6NDbAfGioRDo0NsB8aKhEOjQ2wHxoqEQ6NDbACeJKcGeWOcAJ4kpwZ5Y5wAniSnBnljnACeJKcGeWOcAJ4kpwZ5Y5wAniSnBnljnACeJKcGeWOcAJ4kpwZ5Y5wAniSnBnljnACeJKcGeWOcAJ4kpwZ5Y5wAniSnBnljnACeJKcGeWOcAJ4kpwZ5Y5wAniSnBnljnAJk8lqx2wO8AmTyWrHbA7wCZPJasdsDvAJk8lqx2wO8AmTyWrHbA7wCZPJasdsDvAJk8lqx2wO8AmTyWrHbA7wCZPJasdsDvAJk8lqx2wO8AmTyWrHbA7wCZPJasdsDvAJk8lqx2wO8AmTyWrHbA7wCZPJasdsDvAZmZmZmZmPMBmZmZmZmY8wGZmZmZmZjzAZmZmZmZmPMBmZmZmZmY8wGZmZmZmZjzAZmZmZmZmPMBmZmZmZmY8wGZmZmZmZjzAZmZmZmZmPMBmZmZmZmY8wGZmZmZmZjzAZmZmZmZmPMBmZmZmZmY8wGZmZmZmZjzA",
        "encoding": "base64",
        "path": [
         "_data",
         15,
         "z",
         "buffer"
        ]
       },
       {
        "data": "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",
        "encoding": "base64",
        "path": [
         "_data",
         16,
         "x",
         "buffer"
        ]
       },
       {
        "data": "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",
        "encoding": "base64",
        "path": [
         "_data",
         16,
         "y",
         "buffer"
        ]
       },
       {
        "data": "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",
        "encoding": "base64",
        "path": [
         "_data",
         16,
         "z",
         "buffer"
        ]
       },
       {
        "data": "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",
        "encoding": "base64",
        "path": [
         "_data",
         17,
         "x",
         "buffer"
        ]
       },
       {
        "data": "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",
        "encoding": "base64",
        "path": [
         "_data",
         17,
         "y",
         "buffer"
        ]
       },
       {
        "data": "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",
        "encoding": "base64",
        "path": [
         "_data",
         17,
         "z",
         "buffer"
        ]
       },
       {
        "data": "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",
        "encoding": "base64",
        "path": [
         "_data",
         18,
         "x",
         "buffer"
        ]
       },
       {
        "data": "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",
        "encoding": "base64",
        "path": [
         "_data",
         18,
         "y",
         "buffer"
        ]
       },
       {
        "data": "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",
        "encoding": "base64",
        "path": [
         "_data",
         18,
         "z",
         "buffer"
        ]
       },
       {
        "data": "AAAAAAAAAAAAAAAAAAAAAArXo3A9ChFACtejcD0KEUAAAAAAAAAAAAAAAAAAAAAAAAAAAAAAAAAAAAAAAAAAAAAAAAAAAAAACtejcD0KEUAK16NwPQoRQArXo3A9ChFACtejcD0KEUAK16NwPQoRQArXo3A9ChFAAAAAAAAAAAA=",
        "encoding": "base64",
        "path": [
         "_data",
         19,
         "x",
         "buffer"
        ]
       },
       {
        "data": "AAAAAAAAAADP/Vl4FiZAQM/9WXgWJkBAAAAAAAAAAAAAAAAAAAAAAAAAAAAAAAAAz/1ZeBYmQEDP/Vl4FiZAQM/9WXgWJkBAz/1ZeBYmQEDP/Vl4FiZAQAAAAAAAAAAAAAAAAAAAAADP/Vl4FiZAQAAAAAAAAAAAAAAAAAAAAAA=",
        "encoding": "base64",
        "path": [
         "_data",
         19,
         "y",
         "buffer"
        ]
       },
       {
        "data": "AAAAAAAAAAAAAAAAAAAAAAAAAAAAAAAAAAAAAAAAAAAAAAAAAAAAAGZmZmZmZixAZmZmZmZmLEAAAAAAAAAAAGZmZmZmZixAZmZmZmZmLEAAAAAAAAAAAAAAAAAAAAAAZmZmZmZmLEBmZmZmZmYsQGZmZmZmZixAZmZmZmZmLEA=",
        "encoding": "base64",
        "path": [
         "_data",
         19,
         "z",
         "buffer"
        ]
       }
      ],
      "model_module": "plotlywidget",
      "model_module_version": "^4.14.3",
      "model_name": "FigureModel",
      "state": {
       "_config": {
        "plotlyServerURL": "https://plot.ly"
       },
       "_data": [
        {
         "line": {
          "color": "gray",
          "coloraxis": "coloraxis",
          "width": 15
         },
         "marker": {
          "color": "blue"
         },
         "mode": "lines",
         "name": "Bonds",
         "type": "scatter3d",
         "uid": "487d4578-93a3-48f7-8537-7cb53b424652",
         "x": [
          0.0,
          0.71,
          null,
          0.0,
          0.71,
          null,
          0.0,
          -1.42,
          null,
          0.0,
          0.71,
          null,
          0.0,
          0.71,
          null,
          0.0,
          -1.42,
          null,
          0.0,
          0.71,
          null,
          0.0,
          0.71,
          null,
          0.0,
          -1.42,
          null,
          0.0,
          0.71,
          null,
          0.0,
          0.71,
          null,
          0.0,
          -1.42,
          null,
          0.71,
          2.13,
          null,
          0.71,
          2.13,
          null,
          0.71,
          2.13,
          null,
          0.71,
          2.13,
          null,
          0.71,
          2.13,
          null,
          2.13,
          2.84,
          null,
          2.13,
          2.84,
          null,
          2.13,
          2.84,
          null,
          2.13,
          2.84,
          null,
          2.13,
          2.84,
          null,
          2.13,
          2.84,
          null,
          2.13,
          2.84,
          null,
          2.13,
          2.84,
          null,
          2.84,
          4.26,
          null,
          2.84,
          4.26,
          null,
          2.84,
          4.26,
          null,
          2.84,
          4.26,
          null
         ],
         "y": [
          11.229756073373903,
          10.0,
          null,
          11.229756073373903,
          12.459512146747805,
          null,
          11.229756073373903,
          11.229756073373903,
          null,
          13.689268220121708,
          12.459512146747805,
          null,
          13.689268220121708,
          14.91902429349561,
          null,
          13.689268220121708,
          13.689268220121708,
          null,
          16.148780366869516,
          14.91902429349561,
          null,
          16.148780366869516,
          17.378536440243415,
          null,
          16.148780366869516,
          16.148780366869516,
          null,
          18.60829251361732,
          17.378536440243415,
          null,
          18.60829251361732,
          19.83804858699122,
          null,
          18.60829251361732,
          18.60829251361732,
          null,
          10.0,
          10.0,
          null,
          12.459512146747805,
          12.459512146747805,
          null,
          14.91902429349561,
          14.91902429349561,
          null,
          17.378536440243415,
          17.378536440243415,
          null,
          19.83804858699122,
          19.83804858699122,
          null,
          10.0,
          11.229756073373903,
          null,
          12.459512146747805,
          11.229756073373903,
          null,
          12.459512146747805,
          13.689268220121708,
          null,
          14.91902429349561,
          13.689268220121708,
          null,
          14.91902429349561,
          16.148780366869516,
          null,
          17.378536440243415,
          16.148780366869516,
          null,
          17.378536440243415,
          18.60829251361732,
          null,
          19.83804858699122,
          18.60829251361732,
          null,
          11.229756073373903,
          11.229756073373903,
          null,
          13.689268220121708,
          13.689268220121708,
          null,
          16.148780366869516,
          16.148780366869516,
          null,
          18.60829251361732,
          18.60829251361732,
          null
         ],
         "z": [
          0.0,
          0.0,
          null,
          0.0,
          0.0,
          null,
          0.0,
          0.0,
          null,
          0.0,
          0.0,
          null,
          0.0,
          0.0,
          null,
          0.0,
          0.0,
          null,
          0.0,
          0.0,
          null,
          0.0,
          0.0,
          null,
          0.0,
          0.0,
          null,
          0.0,
          0.0,
          null,
          0.0,
          0.0,
          null,
          0.0,
          0.0,
          null,
          0.0,
          0.0,
          null,
          0.0,
          0.0,
          null,
          0.0,
          0.0,
          null,
          0.0,
          0.0,
          null,
          0.0,
          0.0,
          null,
          0.0,
          0.0,
          null,
          0.0,
          0.0,
          null,
          0.0,
          0.0,
          null,
          0.0,
          0.0,
          null,
          0.0,
          0.0,
          null,
          0.0,
          0.0,
          null,
          0.0,
          0.0,
          null,
          0.0,
          0.0,
          null,
          0.0,
          0.0,
          null,
          0.0,
          0.0,
          null,
          0.0,
          0.0,
          null,
          0.0,
          0.0,
          null
         ]
        },
        {
         "alphahull": 0,
         "color": "rgb(71, 45, 123)",
         "hovertemplate": "%{meta[0]}",
         "legendgroup": "Atoms",
         "meta": [
          "(0.00, 11.23, 0.00)"
         ],
         "name": "0 (C)",
         "opacity": 1,
         "showlegend": true,
         "showscale": false,
         "type": "mesh3d",
         "uid": "ac0fc090-6f27-46f2-bb55-6e6dd7bb2658",
         "x": {
          "dtype": "float64",
          "shape": [
           225
          ]
         },
         "y": {
          "dtype": "float64",
          "shape": [
           225
          ]
         },
         "z": {
          "dtype": "float64",
          "shape": [
           225
          ]
         }
        },
        {
         "alphahull": 0,
         "color": "rgb(44, 114, 142)",
         "hovertemplate": "%{meta[0]}",
         "legendgroup": "Atoms",
         "meta": [
          "(0.00, 13.69, 0.00)"
         ],
         "name": "1 (C)",
         "opacity": 1,
         "showlegend": false,
         "showscale": false,
         "type": "mesh3d",
         "uid": "a554d9bc-e938-4431-a49e-5da01a720aa4",
         "x": {
          "dtype": "float64",
          "shape": [
           225
          ]
         },
         "y": {
          "dtype": "float64",
          "shape": [
           225
          ]
         },
         "z": {
          "dtype": "float64",
          "shape": [
           225
          ]
         }
        },
        {
         "alphahull": 0,
         "color": "rgb(41, 175, 127)",
         "hovertemplate": "%{meta[0]}",
         "legendgroup": "Atoms",
         "meta": [
          "(0.00, 16.15, 0.00)"
         ],
         "name": "2 (C)",
         "opacity": 1,
         "showlegend": false,
         "showscale": false,
         "type": "mesh3d",
         "uid": "36416fed-d37a-4bc2-803c-294e1c35ed16",
         "x": {
          "dtype": "float64",
          "shape": [
           225
          ]
         },
         "y": {
          "dtype": "float64",
          "shape": [
           225
          ]
         },
         "z": {
          "dtype": "float64",
          "shape": [
           225
          ]
         }
        },
        {
         "alphahull": 0,
         "color": "rgb(175, 220, 47)",
         "hovertemplate": "%{meta[0]}",
         "legendgroup": "Atoms",
         "meta": [
          "(0.00, 18.61, 0.00)"
         ],
         "name": "3 (C)",
         "opacity": 1,
         "showlegend": false,
         "showscale": false,
         "type": "mesh3d",
         "uid": "1bc2ec27-5f9c-409f-889a-d55baa1f8fcc",
         "x": {
          "dtype": "float64",
          "shape": [
           225
          ]
         },
         "y": {
          "dtype": "float64",
          "shape": [
           225
          ]
         },
         "z": {
          "dtype": "float64",
          "shape": [
           225
          ]
         }
        },
        {
         "alphahull": 0,
         "color": "rgb(68, 1, 84)",
         "hovertemplate": "%{meta[0]}",
         "legendgroup": "Atoms",
         "meta": [
          "(0.71, 10.00, 0.00)"
         ],
         "name": "4 (C)",
         "opacity": 1,
         "showlegend": false,
         "showscale": false,
         "type": "mesh3d",
         "uid": "69785c41-88e3-421b-a006-20a42480138d",
         "x": {
          "dtype": "float64",
          "shape": [
           225
          ]
         },
         "y": {
          "dtype": "float64",
          "shape": [
           225
          ]
         },
         "z": {
          "dtype": "float64",
          "shape": [
           225
          ]
         }
        },
        {
         "alphahull": 0,
         "color": "rgb(59, 82, 139)",
         "hovertemplate": "%{meta[0]}",
         "legendgroup": "Atoms",
         "meta": [
          "(0.71, 12.46, 0.00)"
         ],
         "name": "5 (C)",
         "opacity": 1,
         "showlegend": false,
         "showscale": false,
         "type": "mesh3d",
         "uid": "ebee003a-a2c3-4a29-9fc2-f27c4979a844",
         "x": {
          "dtype": "float64",
          "shape": [
           225
          ]
         },
         "y": {
          "dtype": "float64",
          "shape": [
           225
          ]
         },
         "z": {
          "dtype": "float64",
          "shape": [
           225
          ]
         }
        },
        {
         "alphahull": 0,
         "color": "rgb(33, 145, 140)",
         "hovertemplate": "%{meta[0]}",
         "legendgroup": "Atoms",
         "meta": [
          "(0.71, 14.92, 0.00)"
         ],
         "name": "6 (C)",
         "opacity": 1,
         "showlegend": false,
         "showscale": false,
         "type": "mesh3d",
         "uid": "2ea1e7a3-e0cb-43ac-8c67-40637b8e5dd1",
         "x": {
          "dtype": "float64",
          "shape": [
           225
          ]
         },
         "y": {
          "dtype": "float64",
          "shape": [
           225
          ]
         },
         "z": {
          "dtype": "float64",
          "shape": [
           225
          ]
         }
        },
        {
         "alphahull": 0,
         "color": "rgb(96, 202, 97)",
         "hovertemplate": "%{meta[0]}",
         "legendgroup": "Atoms",
         "meta": [
          "(0.71, 17.38, 0.00)"
         ],
         "name": "7 (C)",
         "opacity": 1,
         "showlegend": false,
         "showscale": false,
         "type": "mesh3d",
         "uid": "ddf8d0e2-f694-4815-91c9-45cbd5d72f78",
         "x": {
          "dtype": "float64",
          "shape": [
           225
          ]
         },
         "y": {
          "dtype": "float64",
          "shape": [
           225
          ]
         },
         "z": {
          "dtype": "float64",
          "shape": [
           225
          ]
         }
        },
        {
         "alphahull": 0,
         "color": "rgb(253, 231, 37)",
         "hovertemplate": "%{meta[0]}",
         "legendgroup": "Atoms",
         "meta": [
          "(0.71, 19.84, 0.00)"
         ],
         "name": "8 (C)",
         "opacity": 1,
         "showlegend": false,
         "showscale": false,
         "type": "mesh3d",
         "uid": "aeccfe98-bd86-40e6-a9ba-17ec02dfdc4a",
         "x": {
          "dtype": "float64",
          "shape": [
           225
          ]
         },
         "y": {
          "dtype": "float64",
          "shape": [
           225
          ]
         },
         "z": {
          "dtype": "float64",
          "shape": [
           225
          ]
         }
        },
        {
         "alphahull": 0,
         "color": "rgb(68, 1, 84)",
         "hovertemplate": "%{meta[0]}",
         "legendgroup": "Atoms",
         "meta": [
          "(2.13, 10.00, 0.00)"
         ],
         "name": "9 (C)",
         "opacity": 1,
         "showlegend": false,
         "showscale": false,
         "type": "mesh3d",
         "uid": "a94823f6-4a04-48c1-be1d-d713e136bc38",
         "x": {
          "dtype": "float64",
          "shape": [
           225
          ]
         },
         "y": {
          "dtype": "float64",
          "shape": [
           225
          ]
         },
         "z": {
          "dtype": "float64",
          "shape": [
           225
          ]
         }
        },
        {
         "alphahull": 0,
         "color": "rgb(59, 82, 139)",
         "hovertemplate": "%{meta[0]}",
         "legendgroup": "Atoms",
         "meta": [
          "(2.13, 12.46, 0.00)"
         ],
         "name": "10 (C)",
         "opacity": 1,
         "showlegend": false,
         "showscale": false,
         "type": "mesh3d",
         "uid": "5db99906-98eb-46f1-ab76-63f5dc04ba0c",
         "x": {
          "dtype": "float64",
          "shape": [
           225
          ]
         },
         "y": {
          "dtype": "float64",
          "shape": [
           225
          ]
         },
         "z": {
          "dtype": "float64",
          "shape": [
           225
          ]
         }
        },
        {
         "alphahull": 0,
         "color": "rgb(33, 145, 140)",
         "hovertemplate": "%{meta[0]}",
         "legendgroup": "Atoms",
         "meta": [
          "(2.13, 14.92, 0.00)"
         ],
         "name": "11 (C)",
         "opacity": 1,
         "showlegend": false,
         "showscale": false,
         "type": "mesh3d",
         "uid": "118cb377-fcaf-4ec5-9ee7-a1df1089e589",
         "x": {
          "dtype": "float64",
          "shape": [
           225
          ]
         },
         "y": {
          "dtype": "float64",
          "shape": [
           225
          ]
         },
         "z": {
          "dtype": "float64",
          "shape": [
           225
          ]
         }
        },
        {
         "alphahull": 0,
         "color": "rgb(96, 202, 97)",
         "hovertemplate": "%{meta[0]}",
         "legendgroup": "Atoms",
         "meta": [
          "(2.13, 17.38, 0.00)"
         ],
         "name": "12 (C)",
         "opacity": 1,
         "showlegend": false,
         "showscale": false,
         "type": "mesh3d",
         "uid": "d4dd9ce9-c633-4351-9890-ad9e34c35862",
         "x": {
          "dtype": "float64",
          "shape": [
           225
          ]
         },
         "y": {
          "dtype": "float64",
          "shape": [
           225
          ]
         },
         "z": {
          "dtype": "float64",
          "shape": [
           225
          ]
         }
        },
        {
         "alphahull": 0,
         "color": "rgb(253, 231, 37)",
         "hovertemplate": "%{meta[0]}",
         "legendgroup": "Atoms",
         "meta": [
          "(2.13, 19.84, 0.00)"
         ],
         "name": "13 (C)",
         "opacity": 1,
         "showlegend": false,
         "showscale": false,
         "type": "mesh3d",
         "uid": "8759d9da-ab30-44cb-9a50-0c95fea98e04",
         "x": {
          "dtype": "float64",
          "shape": [
           225
          ]
         },
         "y": {
          "dtype": "float64",
          "shape": [
           225
          ]
         },
         "z": {
          "dtype": "float64",
          "shape": [
           225
          ]
         }
        },
        {
         "alphahull": 0,
         "color": "rgb(71, 45, 123)",
         "hovertemplate": "%{meta[0]}",
         "legendgroup": "Atoms",
         "meta": [
          "(2.84, 11.23, 0.00)"
         ],
         "name": "14 (C)",
         "opacity": 1,
         "showlegend": false,
         "showscale": false,
         "type": "mesh3d",
         "uid": "efcf926c-ab21-4a9e-aaf8-09f9750ba05e",
         "x": {
          "dtype": "float64",
          "shape": [
           225
          ]
         },
         "y": {
          "dtype": "float64",
          "shape": [
           225
          ]
         },
         "z": {
          "dtype": "float64",
          "shape": [
           225
          ]
         }
        },
        {
         "alphahull": 0,
         "color": "rgb(44, 114, 142)",
         "hovertemplate": "%{meta[0]}",
         "legendgroup": "Atoms",
         "meta": [
          "(2.84, 13.69, 0.00)"
         ],
         "name": "15 (C)",
         "opacity": 1,
         "showlegend": false,
         "showscale": false,
         "type": "mesh3d",
         "uid": "12464c59-3417-4f7a-aaf0-d4a02ca405fc",
         "x": {
          "dtype": "float64",
          "shape": [
           225
          ]
         },
         "y": {
          "dtype": "float64",
          "shape": [
           225
          ]
         },
         "z": {
          "dtype": "float64",
          "shape": [
           225
          ]
         }
        },
        {
         "alphahull": 0,
         "color": "rgb(41, 175, 127)",
         "hovertemplate": "%{meta[0]}",
         "legendgroup": "Atoms",
         "meta": [
          "(2.84, 16.15, 0.00)"
         ],
         "name": "16 (C)",
         "opacity": 1,
         "showlegend": false,
         "showscale": false,
         "type": "mesh3d",
         "uid": "3840b8c9-9d69-42a3-a7e9-7bcee602e348",
         "x": {
          "dtype": "float64",
          "shape": [
           225
          ]
         },
         "y": {
          "dtype": "float64",
          "shape": [
           225
          ]
         },
         "z": {
          "dtype": "float64",
          "shape": [
           225
          ]
         }
        },
        {
         "alphahull": 0,
         "color": "rgb(175, 220, 47)",
         "hovertemplate": "%{meta[0]}",
         "legendgroup": "Atoms",
         "meta": [
          "(2.84, 18.61, 0.00)"
         ],
         "name": "17 (C)",
         "opacity": 1,
         "showlegend": false,
         "showscale": false,
         "type": "mesh3d",
         "uid": "583d0dc1-8d53-4d61-8b1f-8486d75fba80",
         "x": {
          "dtype": "float64",
          "shape": [
           225
          ]
         },
         "y": {
          "dtype": "float64",
          "shape": [
           225
          ]
         },
         "z": {
          "dtype": "float64",
          "shape": [
           225
          ]
         }
        },
        {
         "line": {
          "width": 2
         },
         "mode": "lines",
         "name": "Unit cell",
         "type": "scatter3d",
         "uid": "d5b819c0-7b10-4651-bd76-96cd4f90b516",
         "x": {
          "dtype": "float64",
          "shape": [
           16
          ]
         },
         "y": {
          "dtype": "float64",
          "shape": [
           16
          ]
         },
         "z": {
          "dtype": "float64",
          "shape": [
           16
          ]
         }
        }
       ],
       "_dom_classes": [],
       "_js2py_layoutDelta": {},
       "_js2py_pointsCallback": {},
       "_js2py_relayout": {},
       "_js2py_restyle": {},
       "_js2py_traceDeltas": {},
       "_js2py_update": {},
       "_last_layout_edit_id": 0,
       "_last_trace_edit_id": 0,
       "_layout": {
        "scene": {
         "aspectmode": "data"
        },
        "template": {
         "layout": {
          "hovermode": "closest",
          "paper_bgcolor": "white",
          "plot_bgcolor": "white",
          "scene": {
           "xaxis": {
            "color": "black",
            "gridcolor": "#ccc",
            "gridwidth": 1,
            "linewidth": 1,
            "mirror": true,
            "showgrid": false,
            "showline": true,
            "ticklen": 5,
            "ticks": "outside",
            "ticksuffix": " ",
            "visible": true,
            "zeroline": false,
            "zerolinecolor": "#ccc",
            "zerolinewidth": 1
           },
           "yaxis": {
            "color": "black",
            "gridcolor": "#ccc",
            "gridwidth": 1,
            "linewidth": 1,
            "mirror": true,
            "showgrid": false,
            "showline": true,
            "ticklen": 5,
            "ticks": "outside",
            "ticksuffix": " ",
            "visible": true,
            "zeroline": false,
            "zerolinecolor": "#ccc",
            "zerolinewidth": 1
           },
           "zaxis": {
            "color": "black",
            "gridcolor": "#ccc",
            "gridwidth": 1,
            "linewidth": 1,
            "mirror": true,
            "showgrid": false,
            "showline": true,
            "ticklen": 5,
            "ticks": "outside",
            "ticksuffix": " ",
            "visible": true,
            "zeroline": false,
            "zerolinecolor": "#ccc",
            "zerolinewidth": 1
           }
          },
          "xaxis": {
           "color": "black",
           "gridcolor": "#ccc",
           "gridwidth": 1,
           "linewidth": 1,
           "mirror": true,
           "showgrid": false,
           "showline": true,
           "ticklen": 5,
           "ticks": "outside",
           "ticksuffix": " ",
           "visible": true,
           "zeroline": false,
           "zerolinecolor": "#ccc",
           "zerolinewidth": 1
          },
          "yaxis": {
           "color": "black",
           "gridcolor": "#ccc",
           "gridwidth": 1,
           "linewidth": 1,
           "mirror": true,
           "showgrid": false,
           "showline": true,
           "ticklen": 5,
           "ticks": "outside",
           "ticksuffix": " ",
           "visible": true,
           "zeroline": false,
           "zerolinecolor": "#ccc",
           "zerolinewidth": 1
          }
         }
        },
        "xaxis": {
         "title": {
          "text": "X axis [Ang]"
         }
        },
        "yaxis": {
         "scaleanchor": "x",
         "scaleratio": 1,
         "title": {
          "text": "Y axis [Ang]"
         }
        }
       },
       "_model_module": "plotlywidget",
       "_model_module_version": "^4.14.3",
       "_model_name": "FigureModel",
       "_py2js_addTraces": {},
       "_py2js_animate": {},
       "_py2js_deleteTraces": {},
       "_py2js_moveTraces": {},
       "_py2js_relayout": {},
       "_py2js_removeLayoutProps": {},
       "_py2js_removeTraceProps": {},
       "_py2js_restyle": {},
       "_py2js_update": {},
       "_view_count": 0,
       "_view_module": "plotlywidget",
       "_view_module_version": "^4.14.3",
       "_view_name": "FigureView"
      }
     },
     "20cf44c86d2248eca1b699714d06aac1": {
      "buffers": [
       {
        "data": "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",
        "encoding": "base64",
        "path": [
         "_data",
         1,
         "x",
         "buffer"
        ]
       },
       {
        "data": "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",
        "encoding": "base64",
        "path": [
         "_data",
         1,
         "y",
         "buffer"
        ]
       },
       {
        "data": "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",
        "encoding": "base64",
        "path": [
         "_data",
         1,
         "z",
         "buffer"
        ]
       },
       {
        "data": "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",
        "encoding": "base64",
        "path": [
         "_data",
         2,
         "x",
         "buffer"
        ]
       },
       {
        "data": "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",
        "encoding": "base64",
        "path": [
         "_data",
         2,
         "y",
         "buffer"
        ]
       },
       {
        "data": "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",
        "encoding": "base64",
        "path": [
         "_data",
         2,
         "z",
         "buffer"
        ]
       },
       {
        "data": "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",
        "encoding": "base64",
        "path": [
         "_data",
         3,
         "x",
         "buffer"
        ]
       },
       {
        "data": "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",
        "encoding": "base64",
        "path": [
         "_data",
         3,
         "y",
         "buffer"
        ]
       },
       {
        "data": "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",
        "encoding": "base64",
        "path": [
         "_data",
         3,
         "z",
         "buffer"
        ]
       },
       {
        "data": "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",
        "encoding": "base64",
        "path": [
         "_data",
         4,
         "x",
         "buffer"
        ]
       },
       {
        "data": "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",
        "encoding": "base64",
        "path": [
         "_data",
         4,
         "y",
         "buffer"
        ]
       },
       {
        "data": "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",
        "encoding": "base64",
        "path": [
         "_data",
         4,
         "z",
         "buffer"
        ]
       },
       {
        "data": "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",
        "encoding": "base64",
        "path": [
         "_data",
         5,
         "x",
         "buffer"
        ]
       },
       {
        "data": "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",
        "encoding": "base64",
        "path": [
         "_data",
         5,
         "y",
         "buffer"
        ]
       },
       {
        "data": "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",
        "encoding": "base64",
        "path": [
         "_data",
         5,
         "z",
         "buffer"
        ]
       },
       {
        "data": "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",
        "encoding": "base64",
        "path": [
         "_data",
         6,
         "x",
         "buffer"
        ]
       },
       {
        "data": "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",
        "encoding": "base64",
        "path": [
         "_data",
         6,
         "y",
         "buffer"
        ]
       },
       {
        "data": "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",
        "encoding": "base64",
        "path": [
         "_data",
         6,
         "z",
         "buffer"
        ]
       },
       {
        "data": "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",
        "encoding": "base64",
        "path": [
         "_data",
         7,
         "x",
         "buffer"
        ]
       },
       {
        "data": "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",
        "encoding": "base64",
        "path": [
         "_data",
         7,
         "y",
         "buffer"
        ]
       },
       {
        "data": "7nw/NV662T/ufD81XrrZP+58PzVeutk/7nw/NV662T/ufD81XrrZP+58PzVeutk/7nw/NV662T/ufD81XrrZP+58PzVeutk/7nw/NV662T/ufD81XrrZP+58PzVeutk/7nw/NV662T/ufD81XrrZP+58PzVeutk/tJKg5zsV2T+0kqDnOxXZP7SSoOc7Fdk/tJKg5zsV2T+0kqDnOxXZP7SSoOc7Fdk/tJKg5zsV2T+0kqDnOxXZP7SSoOc7Fdk/tJKg5zsV2T+0kqDnOxXZP7SSoOc7Fdk/tJKg5zsV2T+0kqDnOxXZP7SSoOc7Fdk/4owlzhwu1z/ijCXOHC7XP+KMJc4cLtc/4owlzhwu1z/ijCXOHC7XP+KMJc4cLtc/4owlzhwu1z/ijCXOHC7XP+KMJc4cLtc/4owlzhwu1z/ijCXOHC7XP+KMJc4cLtc/4owlzhwu1z/ijCXOHC7XP+KMJc4cLtc/T3YkC24d1D9PdiQLbh3UP092JAtuHdQ/T3YkC24d1D9PdiQLbh3UP092JAtuHdQ/T3YkC24d1D9PdiQLbh3UP092JAtuHdQ/T3YkC24d1D9PdiQLbh3UP092JAtuHdQ/T3YkC24d1D9PdiQLbh3UP092JAtuHdQ/ntD9hIgK0D+e0P2EiArQP57Q/YSICtA/ntD9hIgK0D+e0P2EiArQP57Q/YSICtA/ntD9hIgK0D+e0P2EiArQP57Q/YSICtA/ntD9hIgK0D+e0P2EiArQP57Q/YSICtA/ntD9hIgK0D+e0P2EiArQP57Q/YSICtA/qMxsmm9Txj+ozGyab1PGP6jMbJpvU8Y/qMxsmm9Txj+ozGyab1PGP6jMbJpvU8Y/qMxsmm9Txj+ozGyab1PGP6jMbJpvU8Y/qMxsmm9Txj+ozGyab1PGP6jMbJpvU8Y/qMxsmm9Txj+ozGyab1PGP6jMbJpvU8Y/ygjgRWvmtj/KCOBFa+a2P8oI4EVr5rY/ygjgRWvmtj/KCOBFa+a2P8oI4EVr5rY/ygjgRWvmtj/KCOBFa+a2P8oI4EVr5rY/ygjgRWvmtj/KCOBFa+a2P8oI4EVr5rY/ygjgRWvmtj/KCOBFa+a2P8oI4EVr5rY/Hm++Fi9hfDweb74WL2F8PB5vvhYvYXw8Hm++Fi9hfDweb74WL2F8PB5vvhYvYXw8Hm++Fi9hfDweb74WL2F8PB5vvhYvYXw8Hm++Fi9hfDweb74WL2F8PB5vvhYvYXw8Hm++Fi9hfDweb74WL2F8PB5vvhYvYXw8xwjgRWvmtr/HCOBFa+a2v8cI4EVr5ra/xwjgRWvmtr/HCOBFa+a2v8cI4EVr5ra/xwjgRWvmtr/HCOBFa+a2v8cI4EVr5ra/xwjgRWvmtr/HCOBFa+a2v8cI4EVr5ra/xwjgRWvmtr/HCOBFa+a2v8cI4EVr5ra/psxsmm9Txr+mzGyab1PGv6bMbJpvU8a/psxsmm9Txr+mzGyab1PGv6bMbJpvU8a/psxsmm9Txr+mzGyab1PGv6bMbJpvU8a/psxsmm9Txr+mzGyab1PGv6bMbJpvU8a/psxsmm9Txr+mzGyab1PGv6bMbJpvU8a/ndD9hIgK0L+d0P2EiArQv53Q/YSICtC/ndD9hIgK0L+d0P2EiArQv53Q/YSICtC/ndD9hIgK0L+d0P2EiArQv53Q/YSICtC/ndD9hIgK0L+d0P2EiArQv53Q/YSICtC/ndD9hIgK0L+d0P2EiArQv53Q/YSICtC/T3YkC24d1L9PdiQLbh3Uv092JAtuHdS/T3YkC24d1L9PdiQLbh3Uv092JAtuHdS/T3YkC24d1L9PdiQLbh3Uv092JAtuHdS/T3YkC24d1L9PdiQLbh3Uv092JAtuHdS/T3YkC24d1L9PdiQLbh3Uv092JAtuHdS/4owlzhwu17/ijCXOHC7Xv+KMJc4cLte/4owlzhwu17/ijCXOHC7Xv+KMJc4cLte/4owlzhwu17/ijCXOHC7Xv+KMJc4cLte/4owlzhwu17/ijCXOHC7Xv+KMJc4cLte/4owlzhwu17/ijCXOHC7Xv+KMJc4cLte/tJKg5zsV2b+0kqDnOxXZv7SSoOc7Fdm/tJKg5zsV2b+0kqDnOxXZv7SSoOc7Fdm/tJKg5zsV2b+0kqDnOxXZv7SSoOc7Fdm/tJKg5zsV2b+0kqDnOxXZv7SSoOc7Fdm/tJKg5zsV2b+0kqDnOxXZv7SSoOc7Fdm/7nw/NV662b/ufD81XrrZv+58PzVeutm/7nw/NV662b/ufD81XrrZv+58PzVeutm/7nw/NV662b/ufD81XrrZv+58PzVeutm/7nw/NV662b/ufD81XrrZv+58PzVeutm/7nw/NV662b/ufD81XrrZv+58PzVeutm/",
        "encoding": "base64",
        "path": [
         "_data",
         7,
         "z",
         "buffer"
        ]
       },
       {
        "data": "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",
        "encoding": "base64",
        "path": [
         "_data",
         8,
         "x",
         "buffer"
        ]
       },
       {
        "data": "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",
        "encoding": "base64",
        "path": [
         "_data",
         8,
         "y",
         "buffer"
        ]
       },
       {
        "data": "7nw/NV662T/ufD81XrrZP+58PzVeutk/7nw/NV662T/ufD81XrrZP+58PzVeutk/7nw/NV662T/ufD81XrrZP+58PzVeutk/7nw/NV662T/ufD81XrrZP+58PzVeutk/7nw/NV662T/ufD81XrrZP+58PzVeutk/tJKg5zsV2T+0kqDnOxXZP7SSoOc7Fdk/tJKg5zsV2T+0kqDnOxXZP7SSoOc7Fdk/tJKg5zsV2T+0kqDnOxXZP7SSoOc7Fdk/tJKg5zsV2T+0kqDnOxXZP7SSoOc7Fdk/tJKg5zsV2T+0kqDnOxXZP7SSoOc7Fdk/4owlzhwu1z/ijCXOHC7XP+KMJc4cLtc/4owlzhwu1z/ijCXOHC7XP+KMJc4cLtc/4owlzhwu1z/ijCXOHC7XP+KMJc4cLtc/4owlzhwu1z/ijCXOHC7XP+KMJc4cLtc/4owlzhwu1z/ijCXOHC7XP+KMJc4cLtc/T3YkC24d1D9PdiQLbh3UP092JAtuHdQ/T3YkC24d1D9PdiQLbh3UP092JAtuHdQ/T3YkC24d1D9PdiQLbh3UP092JAtuHdQ/T3YkC24d1D9PdiQLbh3UP092JAtuHdQ/T3YkC24d1D9PdiQLbh3UP092JAtuHdQ/ntD9hIgK0D+e0P2EiArQP57Q/YSICtA/ntD9hIgK0D+e0P2EiArQP57Q/YSICtA/ntD9hIgK0D+e0P2EiArQP57Q/YSICtA/ntD9hIgK0D+e0P2EiArQP57Q/YSICtA/ntD9hIgK0D+e0P2EiArQP57Q/YSICtA/qMxsmm9Txj+ozGyab1PGP6jMbJpvU8Y/qMxsmm9Txj+ozGyab1PGP6jMbJpvU8Y/qMxsmm9Txj+ozGyab1PGP6jMbJpvU8Y/qMxsmm9Txj+ozGyab1PGP6jMbJpvU8Y/qMxsmm9Txj+ozGyab1PGP6jMbJpvU8Y/ygjgRWvmtj/KCOBFa+a2P8oI4EVr5rY/ygjgRWvmtj/KCOBFa+a2P8oI4EVr5rY/ygjgRWvmtj/KCOBFa+a2P8oI4EVr5rY/ygjgRWvmtj/KCOBFa+a2P8oI4EVr5rY/ygjgRWvmtj/KCOBFa+a2P8oI4EVr5rY/Hm++Fi9hfDweb74WL2F8PB5vvhYvYXw8Hm++Fi9hfDweb74WL2F8PB5vvhYvYXw8Hm++Fi9hfDweb74WL2F8PB5vvhYvYXw8Hm++Fi9hfDweb74WL2F8PB5vvhYvYXw8Hm++Fi9hfDweb74WL2F8PB5vvhYvYXw8xwjgRWvmtr/HCOBFa+a2v8cI4EVr5ra/xwjgRWvmtr/HCOBFa+a2v8cI4EVr5ra/xwjgRWvmtr/HCOBFa+a2v8cI4EVr5ra/xwjgRWvmtr/HCOBFa+a2v8cI4EVr5ra/xwjgRWvmtr/HCOBFa+a2v8cI4EVr5ra/psxsmm9Txr+mzGyab1PGv6bMbJpvU8a/psxsmm9Txr+mzGyab1PGv6bMbJpvU8a/psxsmm9Txr+mzGyab1PGv6bMbJpvU8a/psxsmm9Txr+mzGyab1PGv6bMbJpvU8a/psxsmm9Txr+mzGyab1PGv6bMbJpvU8a/ndD9hIgK0L+d0P2EiArQv53Q/YSICtC/ndD9hIgK0L+d0P2EiArQv53Q/YSICtC/ndD9hIgK0L+d0P2EiArQv53Q/YSICtC/ndD9hIgK0L+d0P2EiArQv53Q/YSICtC/ndD9hIgK0L+d0P2EiArQv53Q/YSICtC/T3YkC24d1L9PdiQLbh3Uv092JAtuHdS/T3YkC24d1L9PdiQLbh3Uv092JAtuHdS/T3YkC24d1L9PdiQLbh3Uv092JAtuHdS/T3YkC24d1L9PdiQLbh3Uv092JAtuHdS/T3YkC24d1L9PdiQLbh3Uv092JAtuHdS/4owlzhwu17/ijCXOHC7Xv+KMJc4cLte/4owlzhwu17/ijCXOHC7Xv+KMJc4cLte/4owlzhwu17/ijCXOHC7Xv+KMJc4cLte/4owlzhwu17/ijCXOHC7Xv+KMJc4cLte/4owlzhwu17/ijCXOHC7Xv+KMJc4cLte/tJKg5zsV2b+0kqDnOxXZv7SSoOc7Fdm/tJKg5zsV2b+0kqDnOxXZv7SSoOc7Fdm/tJKg5zsV2b+0kqDnOxXZv7SSoOc7Fdm/tJKg5zsV2b+0kqDnOxXZv7SSoOc7Fdm/tJKg5zsV2b+0kqDnOxXZv7SSoOc7Fdm/7nw/NV662b/ufD81XrrZv+58PzVeutm/7nw/NV662b/ufD81XrrZv+58PzVeutm/7nw/NV662b/ufD81XrrZv+58PzVeutm/7nw/NV662b/ufD81XrrZv+58PzVeutm/7nw/NV662b/ufD81XrrZv+58PzVeutm/",
        "encoding": "base64",
        "path": [
         "_data",
         8,
         "z",
         "buffer"
        ]
       },
       {
        "data": "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",
        "encoding": "base64",
        "path": [
         "_data",
         9,
         "x",
         "buffer"
        ]
       },
       {
        "data": "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",
        "encoding": "base64",
        "path": [
         "_data",
         9,
         "y",
         "buffer"
        ]
       },
       {
        "data": "7nw/NV662T/ufD81XrrZP+58PzVeutk/7nw/NV662T/ufD81XrrZP+58PzVeutk/7nw/NV662T/ufD81XrrZP+58PzVeutk/7nw/NV662T/ufD81XrrZP+58PzVeutk/7nw/NV662T/ufD81XrrZP+58PzVeutk/tJKg5zsV2T+0kqDnOxXZP7SSoOc7Fdk/tJKg5zsV2T+0kqDnOxXZP7SSoOc7Fdk/tJKg5zsV2T+0kqDnOxXZP7SSoOc7Fdk/tJKg5zsV2T+0kqDnOxXZP7SSoOc7Fdk/tJKg5zsV2T+0kqDnOxXZP7SSoOc7Fdk/4owlzhwu1z/ijCXOHC7XP+KMJc4cLtc/4owlzhwu1z/ijCXOHC7XP+KMJc4cLtc/4owlzhwu1z/ijCXOHC7XP+KMJc4cLtc/4owlzhwu1z/ijCXOHC7XP+KMJc4cLtc/4owlzhwu1z/ijCXOHC7XP+KMJc4cLtc/T3YkC24d1D9PdiQLbh3UP092JAtuHdQ/T3YkC24d1D9PdiQLbh3UP092JAtuHdQ/T3YkC24d1D9PdiQLbh3UP092JAtuHdQ/T3YkC24d1D9PdiQLbh3UP092JAtuHdQ/T3YkC24d1D9PdiQLbh3UP092JAtuHdQ/ntD9hIgK0D+e0P2EiArQP57Q/YSICtA/ntD9hIgK0D+e0P2EiArQP57Q/YSICtA/ntD9hIgK0D+e0P2EiArQP57Q/YSICtA/ntD9hIgK0D+e0P2EiArQP57Q/YSICtA/ntD9hIgK0D+e0P2EiArQP57Q/YSICtA/qMxsmm9Txj+ozGyab1PGP6jMbJpvU8Y/qMxsmm9Txj+ozGyab1PGP6jMbJpvU8Y/qMxsmm9Txj+ozGyab1PGP6jMbJpvU8Y/qMxsmm9Txj+ozGyab1PGP6jMbJpvU8Y/qMxsmm9Txj+ozGyab1PGP6jMbJpvU8Y/ygjgRWvmtj/KCOBFa+a2P8oI4EVr5rY/ygjgRWvmtj/KCOBFa+a2P8oI4EVr5rY/ygjgRWvmtj/KCOBFa+a2P8oI4EVr5rY/ygjgRWvmtj/KCOBFa+a2P8oI4EVr5rY/ygjgRWvmtj/KCOBFa+a2P8oI4EVr5rY/Hm++Fi9hfDweb74WL2F8PB5vvhYvYXw8Hm++Fi9hfDweb74WL2F8PB5vvhYvYXw8Hm++Fi9hfDweb74WL2F8PB5vvhYvYXw8Hm++Fi9hfDweb74WL2F8PB5vvhYvYXw8Hm++Fi9hfDweb74WL2F8PB5vvhYvYXw8xwjgRWvmtr/HCOBFa+a2v8cI4EVr5ra/xwjgRWvmtr/HCOBFa+a2v8cI4EVr5ra/xwjgRWvmtr/HCOBFa+a2v8cI4EVr5ra/xwjgRWvmtr/HCOBFa+a2v8cI4EVr5ra/xwjgRWvmtr/HCOBFa+a2v8cI4EVr5ra/psxsmm9Txr+mzGyab1PGv6bMbJpvU8a/psxsmm9Txr+mzGyab1PGv6bMbJpvU8a/psxsmm9Txr+mzGyab1PGv6bMbJpvU8a/psxsmm9Txr+mzGyab1PGv6bMbJpvU8a/psxsmm9Txr+mzGyab1PGv6bMbJpvU8a/ndD9hIgK0L+d0P2EiArQv53Q/YSICtC/ndD9hIgK0L+d0P2EiArQv53Q/YSICtC/ndD9hIgK0L+d0P2EiArQv53Q/YSICtC/ndD9hIgK0L+d0P2EiArQv53Q/YSICtC/ndD9hIgK0L+d0P2EiArQv53Q/YSICtC/T3YkC24d1L9PdiQLbh3Uv092JAtuHdS/T3YkC24d1L9PdiQLbh3Uv092JAtuHdS/T3YkC24d1L9PdiQLbh3Uv092JAtuHdS/T3YkC24d1L9PdiQLbh3Uv092JAtuHdS/T3YkC24d1L9PdiQLbh3Uv092JAtuHdS/4owlzhwu17/ijCXOHC7Xv+KMJc4cLte/4owlzhwu17/ijCXOHC7Xv+KMJc4cLte/4owlzhwu17/ijCXOHC7Xv+KMJc4cLte/4owlzhwu17/ijCXOHC7Xv+KMJc4cLte/4owlzhwu17/ijCXOHC7Xv+KMJc4cLte/tJKg5zsV2b+0kqDnOxXZv7SSoOc7Fdm/tJKg5zsV2b+0kqDnOxXZv7SSoOc7Fdm/tJKg5zsV2b+0kqDnOxXZv7SSoOc7Fdm/tJKg5zsV2b+0kqDnOxXZv7SSoOc7Fdm/tJKg5zsV2b+0kqDnOxXZv7SSoOc7Fdm/7nw/NV662b/ufD81XrrZv+58PzVeutm/7nw/NV662b/ufD81XrrZv+58PzVeutm/7nw/NV662b/ufD81XrrZv+58PzVeutm/7nw/NV662b/ufD81XrrZv+58PzVeutm/7nw/NV662b/ufD81XrrZv+58PzVeutm/",
        "encoding": "base64",
        "path": [
         "_data",
         9,
         "z",
         "buffer"
        ]
       },
       {
        "data": "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",
        "encoding": "base64",
        "path": [
         "_data",
         10,
         "x",
         "buffer"
        ]
       },
       {
        "data": "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",
        "encoding": "base64",
        "path": [
         "_data",
         10,
         "y",
         "buffer"
        ]
       },
       {
        "data": "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",
        "encoding": "base64",
        "path": [
         "_data",
         10,
         "z",
         "buffer"
        ]
       },
       {
        "data": "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",
        "encoding": "base64",
        "path": [
         "_data",
         11,
         "x",
         "buffer"
        ]
       },
       {
        "data": "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",
        "encoding": "base64",
        "path": [
         "_data",
         11,
         "y",
         "buffer"
        ]
       },
       {
        "data": "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",
        "encoding": "base64",
        "path": [
         "_data",
         11,
         "z",
         "buffer"
        ]
       },
       {
        "data": "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",
        "encoding": "base64",
        "path": [
         "_data",
         12,
         "x",
         "buffer"
        ]
       },
       {
        "data": "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",
        "encoding": "base64",
        "path": [
         "_data",
         12,
         "y",
         "buffer"
        ]
       },
       {
        "data": "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",
        "encoding": "base64",
        "path": [
         "_data",
         12,
         "z",
         "buffer"
        ]
       },
       {
        "data": "CtejcD0KAUAK16NwPQoBQArXo3A9CgFACtejcD0KAUAK16NwPQoBQArXo3A9CgFACtejcD0KAUAK16NwPQoBQArXo3A9CgFACtejcD0KAUAK16NwPQoBQArXo3A9CgFACtejcD0KAUAK16NwPQoBQArXo3A9CgFAUNfSynDBAUDxM9xLTK8BQM5SNrV2fAFAC3YVhwEzAUAJODJaeeEAQEZbESwEmABAI3prlS5lAEDE1nQWClMAQCN6a5UuZQBARlsRLASYAEAJODJaeeEAQAt2FYcBMwFAzlI2tXZ8AUDxM9xLTK8BQFDX0spwwQFA1KNKanRvAkBvHlZRFEwCQNB5SrL16AFA0JhrTrpZAUBEFdySwLoAQEQ0/S6FKwBASh/jH82Q/z9/FPrtDEr/P0of4x/NkP8/RDT9LoUrAEBEFdySwLoAQNCYa066WQFA0HlKsvXoAUBvHlZRFEwCQNSjSmp0bwJAHpFDgY4LA0D7r53quNgCQLZO4KZJSgJAzlI2tXZ8AUBGWxEsBJgAQL2+znRilP8/MvxT7YN3/j/tOQjA2BH+PzL8U+2Dd/4/vL7OdGKU/z9GWxEsBJgAQM5SNrV2fAFAtk7gpklKAkD7r53quNgCQB6RQ4GOCwNA1GUIMuuNA0CaRvGrLE4DQDXgHS+RmwJACriC1HiZAUAK9sQMAnsAQL6bU2TT8f4/886sapyM/T+AkH5eHw39P/POrGqcjP0/vZtTZNPx/j8K9sQMAnsAQAq4gtR4mQFANeAdL5GbAkCaRvGrLE4DQNRlCDLrjQNApohoCgHwA0Djq0fci6YDQPuvneq42AJA8TPcS0yvAUAjemuVLmUAQDL8U+2Dd/4/YwQACt7b/D/cSr6t80j8P2IEAAre2/w/MfxT7YN3/j8jemuVLmUAQPEz3EtMrwFA+6+d6rjYAkDjq0fci6YDQKaIaAoB8ANAYOmX7eQsBECaJ9APaN0DQNSEKc6v/gJAbz137di8AUClcNDzoVcAQIBSPCaWK/4/9AzvoiVu/D9niV/nK8/7P/QM76Ilbvw/f1I8JpYr/j+lcNDzoVcAQG89d+3YvAFA1IQpzq/+AkCaJ9APaN0DQGDpl+3kLARAqMZLN4lBBECmiGgKAfADQB6RQ4GOCwNAUNfSynDBAUDE1nQWClMAQO05CMDYEf4/3Eq+rfNI/D/YzvdT46X7P9xKvq3zSPw/7DkIwNgR/j/E1nQWClMAQFDX0spwwQFAHpFDgY4LA0CmiGgKAfADQKjGSzeJQQRAYOmX7eQsBECaJ9APaN0DQNSEKc6v/gJAbz137di8AUClcNDzoVcAQIBSPCaWK/4/9AzvoiVu/D9niV/nK8/7P/QM76Ilbvw/f1I8JpYr/j+lcNDzoVcAQG89d+3YvAFA1IQpzq/+AkCaJ9APaN0DQGDpl+3kLARApohoCgHwA0Djq0fci6YDQPuvneq42AJA8TPcS0yvAUAjemuVLmUAQDL8U+2Dd/4/YwQACt7b/D/cSr6t80j8P2IEAAre2/w/MfxT7YN3/j8jemuVLmUAQPEz3EtMrwFA+6+d6rjYAkDjq0fci6YDQKaIaAoB8ANA1GUIMuuNA0CbRvGrLE4DQDXgHS+RmwJACriC1HiZAUAK9sQMAnsAQL2bU2TT8f4/886sapyM/T+AkH5eHw39P/POrGqcjP0/vZtTZNPx/j8K9sQMAnsAQAq4gtR4mQFANeAdL5GbAkCaRvGrLE4DQNRlCDLrjQNAHpFDgY4LA0D7r53quNgCQLZO4KZJSgJAzlI2tXZ8AUBGWxEsBJgAQLy+znRilP8/MfxT7YN3/j/sOQjA2BH+PzH8U+2Dd/4/vL7OdGKU/z9GWxEsBJgAQM5SNrV2fAFAtk7gpklKAkD7r53quNgCQB6RQ4GOCwNA1KNKanRvAkBvHlZRFEwCQNB5SrL16AFA0JhrTrpZAUBEFdySwLoAQEQ0/S6FKwBASh/jH82Q/z9/FPrtDEr/P0of4x/NkP8/RDT9LoUrAEBEFdySwLoAQNCYa066WQFA0HlKsvXoAUBvHlZRFEwCQNSjSmp0bwJAUNfSynDBAUDxM9xLTK8BQM5SNrV2fAFAC3YVhwEzAUAJODJaeeEAQEZbESwEmABAI3prlS5lAEDE1nQWClMAQCN6a5UuZQBARlsRLASYAEAJODJaeeEAQAt2FYcBMwFAzlI2tXZ8AUDxM9xLTK8BQFDX0spwwQFACtejcD0KAUAK16NwPQoBQArXo3A9CgFACtejcD0KAUAK16NwPQoBQArXo3A9CgFACtejcD0KAUAK16NwPQoBQArXo3A9CgFACtejcD0KAUAK16NwPQoBQArXo3A9CgFACtejcD0KAUAK16NwPQoBQArXo3A9CgFA",
        "encoding": "base64",
        "path": [
         "_data",
         13,
         "x",
         "buffer"
        ]
       },
       {
        "data": "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",
        "encoding": "base64",
        "path": [
         "_data",
         13,
         "y",
         "buffer"
        ]
       },
       {
        "data": "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",
        "encoding": "base64",
        "path": [
         "_data",
         13,
         "z",
         "buffer"
        ]
       },
       {
        "data": "CtejcD0KAUAK16NwPQoBQArXo3A9CgFACtejcD0KAUAK16NwPQoBQArXo3A9CgFACtejcD0KAUAK16NwPQoBQArXo3A9CgFACtejcD0KAUAK16NwPQoBQArXo3A9CgFACtejcD0KAUAK16NwPQoBQArXo3A9CgFAUNfSynDBAUDxM9xLTK8BQM5SNrV2fAFAC3YVhwEzAUAJODJaeeEAQEZbESwEmABAI3prlS5lAEDE1nQWClMAQCN6a5UuZQBARlsRLASYAEAJODJaeeEAQAt2FYcBMwFAzlI2tXZ8AUDxM9xLTK8BQFDX0spwwQFA1KNKanRvAkBvHlZRFEwCQNB5SrL16AFA0JhrTrpZAUBEFdySwLoAQEQ0/S6FKwBASh/jH82Q/z9/FPrtDEr/P0of4x/NkP8/RDT9LoUrAEBEFdySwLoAQNCYa066WQFA0HlKsvXoAUBvHlZRFEwCQNSjSmp0bwJAHpFDgY4LA0D7r53quNgCQLZO4KZJSgJAzlI2tXZ8AUBGWxEsBJgAQL2+znRilP8/MvxT7YN3/j/tOQjA2BH+PzL8U+2Dd/4/vL7OdGKU/z9GWxEsBJgAQM5SNrV2fAFAtk7gpklKAkD7r53quNgCQB6RQ4GOCwNA1GUIMuuNA0CaRvGrLE4DQDXgHS+RmwJACriC1HiZAUAK9sQMAnsAQL6bU2TT8f4/886sapyM/T+AkH5eHw39P/POrGqcjP0/vZtTZNPx/j8K9sQMAnsAQAq4gtR4mQFANeAdL5GbAkCaRvGrLE4DQNRlCDLrjQNApohoCgHwA0Djq0fci6YDQPuvneq42AJA8TPcS0yvAUAjemuVLmUAQDL8U+2Dd/4/YwQACt7b/D/cSr6t80j8P2IEAAre2/w/MfxT7YN3/j8jemuVLmUAQPEz3EtMrwFA+6+d6rjYAkDjq0fci6YDQKaIaAoB8ANAYOmX7eQsBECaJ9APaN0DQNSEKc6v/gJAbz137di8AUClcNDzoVcAQIBSPCaWK/4/9AzvoiVu/D9niV/nK8/7P/QM76Ilbvw/f1I8JpYr/j+lcNDzoVcAQG89d+3YvAFA1IQpzq/+AkCaJ9APaN0DQGDpl+3kLARAqMZLN4lBBECmiGgKAfADQB6RQ4GOCwNAUNfSynDBAUDE1nQWClMAQO05CMDYEf4/3Eq+rfNI/D/YzvdT46X7P9xKvq3zSPw/7DkIwNgR/j/E1nQWClMAQFDX0spwwQFAHpFDgY4LA0CmiGgKAfADQKjGSzeJQQRAYOmX7eQsBECaJ9APaN0DQNSEKc6v/gJAbz137di8AUClcNDzoVcAQIBSPCaWK/4/9AzvoiVu/D9niV/nK8/7P/QM76Ilbvw/f1I8JpYr/j+lcNDzoVcAQG89d+3YvAFA1IQpzq/+AkCaJ9APaN0DQGDpl+3kLARApohoCgHwA0Djq0fci6YDQPuvneq42AJA8TPcS0yvAUAjemuVLmUAQDL8U+2Dd/4/YwQACt7b/D/cSr6t80j8P2IEAAre2/w/MfxT7YN3/j8jemuVLmUAQPEz3EtMrwFA+6+d6rjYAkDjq0fci6YDQKaIaAoB8ANA1GUIMuuNA0CbRvGrLE4DQDXgHS+RmwJACriC1HiZAUAK9sQMAnsAQL2bU2TT8f4/886sapyM/T+AkH5eHw39P/POrGqcjP0/vZtTZNPx/j8K9sQMAnsAQAq4gtR4mQFANeAdL5GbAkCaRvGrLE4DQNRlCDLrjQNAHpFDgY4LA0D7r53quNgCQLZO4KZJSgJAzlI2tXZ8AUBGWxEsBJgAQLy+znRilP8/MfxT7YN3/j/sOQjA2BH+PzH8U+2Dd/4/vL7OdGKU/z9GWxEsBJgAQM5SNrV2fAFAtk7gpklKAkD7r53quNgCQB6RQ4GOCwNA1KNKanRvAkBvHlZRFEwCQNB5SrL16AFA0JhrTrpZAUBEFdySwLoAQEQ0/S6FKwBASh/jH82Q/z9/FPrtDEr/P0of4x/NkP8/RDT9LoUrAEBEFdySwLoAQNCYa066WQFA0HlKsvXoAUBvHlZRFEwCQNSjSmp0bwJAUNfSynDBAUDxM9xLTK8BQM5SNrV2fAFAC3YVhwEzAUAJODJaeeEAQEZbESwEmABAI3prlS5lAEDE1nQWClMAQCN6a5UuZQBARlsRLASYAEAJODJaeeEAQAt2FYcBMwFAzlI2tXZ8AUDxM9xLTK8BQFDX0spwwQFACtejcD0KAUAK16NwPQoBQArXo3A9CgFACtejcD0KAUAK16NwPQoBQArXo3A9CgFACtejcD0KAUAK16NwPQoBQArXo3A9CgFACtejcD0KAUAK16NwPQoBQArXo3A9CgFACtejcD0KAUAK16NwPQoBQArXo3A9CgFA",
        "encoding": "base64",
        "path": [
         "_data",
         14,
         "x",
         "buffer"
        ]
       },
       {
        "data": "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",
        "encoding": "base64",
        "path": [
         "_data",
         14,
         "y",
         "buffer"
        ]
       },
       {
        "data": "7nw/NV662T/ufD81XrrZP+58PzVeutk/7nw/NV662T/ufD81XrrZP+58PzVeutk/7nw/NV662T/ufD81XrrZP+58PzVeutk/7nw/NV662T/ufD81XrrZP+58PzVeutk/7nw/NV662T/ufD81XrrZP+58PzVeutk/tJKg5zsV2T+0kqDnOxXZP7SSoOc7Fdk/tJKg5zsV2T+0kqDnOxXZP7SSoOc7Fdk/tJKg5zsV2T+0kqDnOxXZP7SSoOc7Fdk/tJKg5zsV2T+0kqDnOxXZP7SSoOc7Fdk/tJKg5zsV2T+0kqDnOxXZP7SSoOc7Fdk/4owlzhwu1z/ijCXOHC7XP+KMJc4cLtc/4owlzhwu1z/ijCXOHC7XP+KMJc4cLtc/4owlzhwu1z/ijCXOHC7XP+KMJc4cLtc/4owlzhwu1z/ijCXOHC7XP+KMJc4cLtc/4owlzhwu1z/ijCXOHC7XP+KMJc4cLtc/T3YkC24d1D9PdiQLbh3UP092JAtuHdQ/T3YkC24d1D9PdiQLbh3UP092JAtuHdQ/T3YkC24d1D9PdiQLbh3UP092JAtuHdQ/T3YkC24d1D9PdiQLbh3UP092JAtuHdQ/T3YkC24d1D9PdiQLbh3UP092JAtuHdQ/ntD9hIgK0D+e0P2EiArQP57Q/YSICtA/ntD9hIgK0D+e0P2EiArQP57Q/YSICtA/ntD9hIgK0D+e0P2EiArQP57Q/YSICtA/ntD9hIgK0D+e0P2EiArQP57Q/YSICtA/ntD9hIgK0D+e0P2EiArQP57Q/YSICtA/qMxsmm9Txj+ozGyab1PGP6jMbJpvU8Y/qMxsmm9Txj+ozGyab1PGP6jMbJpvU8Y/qMxsmm9Txj+ozGyab1PGP6jMbJpvU8Y/qMxsmm9Txj+ozGyab1PGP6jMbJpvU8Y/qMxsmm9Txj+ozGyab1PGP6jMbJpvU8Y/ygjgRWvmtj/KCOBFa+a2P8oI4EVr5rY/ygjgRWvmtj/KCOBFa+a2P8oI4EVr5rY/ygjgRWvmtj/KCOBFa+a2P8oI4EVr5rY/ygjgRWvmtj/KCOBFa+a2P8oI4EVr5rY/ygjgRWvmtj/KCOBFa+a2P8oI4EVr5rY/Hm++Fi9hfDweb74WL2F8PB5vvhYvYXw8Hm++Fi9hfDweb74WL2F8PB5vvhYvYXw8Hm++Fi9hfDweb74WL2F8PB5vvhYvYXw8Hm++Fi9hfDweb74WL2F8PB5vvhYvYXw8Hm++Fi9hfDweb74WL2F8PB5vvhYvYXw8xwjgRWvmtr/HCOBFa+a2v8cI4EVr5ra/xwjgRWvmtr/HCOBFa+a2v8cI4EVr5ra/xwjgRWvmtr/HCOBFa+a2v8cI4EVr5ra/xwjgRWvmtr/HCOBFa+a2v8cI4EVr5ra/xwjgRWvmtr/HCOBFa+a2v8cI4EVr5ra/psxsmm9Txr+mzGyab1PGv6bMbJpvU8a/psxsmm9Txr+mzGyab1PGv6bMbJpvU8a/psxsmm9Txr+mzGyab1PGv6bMbJpvU8a/psxsmm9Txr+mzGyab1PGv6bMbJpvU8a/psxsmm9Txr+mzGyab1PGv6bMbJpvU8a/ndD9hIgK0L+d0P2EiArQv53Q/YSICtC/ndD9hIgK0L+d0P2EiArQv53Q/YSICtC/ndD9hIgK0L+d0P2EiArQv53Q/YSICtC/ndD9hIgK0L+d0P2EiArQv53Q/YSICtC/ndD9hIgK0L+d0P2EiArQv53Q/YSICtC/T3YkC24d1L9PdiQLbh3Uv092JAtuHdS/T3YkC24d1L9PdiQLbh3Uv092JAtuHdS/T3YkC24d1L9PdiQLbh3Uv092JAtuHdS/T3YkC24d1L9PdiQLbh3Uv092JAtuHdS/T3YkC24d1L9PdiQLbh3Uv092JAtuHdS/4owlzhwu17/ijCXOHC7Xv+KMJc4cLte/4owlzhwu17/ijCXOHC7Xv+KMJc4cLte/4owlzhwu17/ijCXOHC7Xv+KMJc4cLte/4owlzhwu17/ijCXOHC7Xv+KMJc4cLte/4owlzhwu17/ijCXOHC7Xv+KMJc4cLte/tJKg5zsV2b+0kqDnOxXZv7SSoOc7Fdm/tJKg5zsV2b+0kqDnOxXZv7SSoOc7Fdm/tJKg5zsV2b+0kqDnOxXZv7SSoOc7Fdm/tJKg5zsV2b+0kqDnOxXZv7SSoOc7Fdm/tJKg5zsV2b+0kqDnOxXZv7SSoOc7Fdm/7nw/NV662b/ufD81XrrZv+58PzVeutm/7nw/NV662b/ufD81XrrZv+58PzVeutm/7nw/NV662b/ufD81XrrZv+58PzVeutm/7nw/NV662b/ufD81XrrZv+58PzVeutm/7nw/NV662b/ufD81XrrZv+58PzVeutm/",
        "encoding": "base64",
        "path": [
         "_data",
         14,
         "z",
         "buffer"
        ]
       },
       {
        "data": "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",
        "encoding": "base64",
        "path": [
         "_data",
         15,
         "x",
         "buffer"
        ]
       },
       {
        "data": "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",
        "encoding": "base64",
        "path": [
         "_data",
         15,
         "y",
         "buffer"
        ]
       },
       {
        "data": "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",
        "encoding": "base64",
        "path": [
         "_data",
         15,
         "z",
         "buffer"
        ]
       },
       {
        "data": "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",
        "encoding": "base64",
        "path": [
         "_data",
         16,
         "x",
         "buffer"
        ]
       },
       {
        "data": "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",
        "encoding": "base64",
        "path": [
         "_data",
         16,
         "y",
         "buffer"
        ]
       },
       {
        "data": "7nw/NV662T/ufD81XrrZP+58PzVeutk/7nw/NV662T/ufD81XrrZP+58PzVeutk/7nw/NV662T/ufD81XrrZP+58PzVeutk/7nw/NV662T/ufD81XrrZP+58PzVeutk/7nw/NV662T/ufD81XrrZP+58PzVeutk/tJKg5zsV2T+0kqDnOxXZP7SSoOc7Fdk/tJKg5zsV2T+0kqDnOxXZP7SSoOc7Fdk/tJKg5zsV2T+0kqDnOxXZP7SSoOc7Fdk/tJKg5zsV2T+0kqDnOxXZP7SSoOc7Fdk/tJKg5zsV2T+0kqDnOxXZP7SSoOc7Fdk/4owlzhwu1z/ijCXOHC7XP+KMJc4cLtc/4owlzhwu1z/ijCXOHC7XP+KMJc4cLtc/4owlzhwu1z/ijCXOHC7XP+KMJc4cLtc/4owlzhwu1z/ijCXOHC7XP+KMJc4cLtc/4owlzhwu1z/ijCXOHC7XP+KMJc4cLtc/T3YkC24d1D9PdiQLbh3UP092JAtuHdQ/T3YkC24d1D9PdiQLbh3UP092JAtuHdQ/T3YkC24d1D9PdiQLbh3UP092JAtuHdQ/T3YkC24d1D9PdiQLbh3UP092JAtuHdQ/T3YkC24d1D9PdiQLbh3UP092JAtuHdQ/ntD9hIgK0D+e0P2EiArQP57Q/YSICtA/ntD9hIgK0D+e0P2EiArQP57Q/YSICtA/ntD9hIgK0D+e0P2EiArQP57Q/YSICtA/ntD9hIgK0D+e0P2EiArQP57Q/YSICtA/ntD9hIgK0D+e0P2EiArQP57Q/YSICtA/qMxsmm9Txj+ozGyab1PGP6jMbJpvU8Y/qMxsmm9Txj+ozGyab1PGP6jMbJpvU8Y/qMxsmm9Txj+ozGyab1PGP6jMbJpvU8Y/qMxsmm9Txj+ozGyab1PGP6jMbJpvU8Y/qMxsmm9Txj+ozGyab1PGP6jMbJpvU8Y/ygjgRWvmtj/KCOBFa+a2P8oI4EVr5rY/ygjgRWvmtj/KCOBFa+a2P8oI4EVr5rY/ygjgRWvmtj/KCOBFa+a2P8oI4EVr5rY/ygjgRWvmtj/KCOBFa+a2P8oI4EVr5rY/ygjgRWvmtj/KCOBFa+a2P8oI4EVr5rY/Hm++Fi9hfDweb74WL2F8PB5vvhYvYXw8Hm++Fi9hfDweb74WL2F8PB5vvhYvYXw8Hm++Fi9hfDweb74WL2F8PB5vvhYvYXw8Hm++Fi9hfDweb74WL2F8PB5vvhYvYXw8Hm++Fi9hfDweb74WL2F8PB5vvhYvYXw8xwjgRWvmtr/HCOBFa+a2v8cI4EVr5ra/xwjgRWvmtr/HCOBFa+a2v8cI4EVr5ra/xwjgRWvmtr/HCOBFa+a2v8cI4EVr5ra/xwjgRWvmtr/HCOBFa+a2v8cI4EVr5ra/xwjgRWvmtr/HCOBFa+a2v8cI4EVr5ra/psxsmm9Txr+mzGyab1PGv6bMbJpvU8a/psxsmm9Txr+mzGyab1PGv6bMbJpvU8a/psxsmm9Txr+mzGyab1PGv6bMbJpvU8a/psxsmm9Txr+mzGyab1PGv6bMbJpvU8a/psxsmm9Txr+mzGyab1PGv6bMbJpvU8a/ndD9hIgK0L+d0P2EiArQv53Q/YSICtC/ndD9hIgK0L+d0P2EiArQv53Q/YSICtC/ndD9hIgK0L+d0P2EiArQv53Q/YSICtC/ndD9hIgK0L+d0P2EiArQv53Q/YSICtC/ndD9hIgK0L+d0P2EiArQv53Q/YSICtC/T3YkC24d1L9PdiQLbh3Uv092JAtuHdS/T3YkC24d1L9PdiQLbh3Uv092JAtuHdS/T3YkC24d1L9PdiQLbh3Uv092JAtuHdS/T3YkC24d1L9PdiQLbh3Uv092JAtuHdS/T3YkC24d1L9PdiQLbh3Uv092JAtuHdS/4owlzhwu17/ijCXOHC7Xv+KMJc4cLte/4owlzhwu17/ijCXOHC7Xv+KMJc4cLte/4owlzhwu17/ijCXOHC7Xv+KMJc4cLte/4owlzhwu17/ijCXOHC7Xv+KMJc4cLte/4owlzhwu17/ijCXOHC7Xv+KMJc4cLte/tJKg5zsV2b+0kqDnOxXZv7SSoOc7Fdm/tJKg5zsV2b+0kqDnOxXZv7SSoOc7Fdm/tJKg5zsV2b+0kqDnOxXZv7SSoOc7Fdm/tJKg5zsV2b+0kqDnOxXZv7SSoOc7Fdm/tJKg5zsV2b+0kqDnOxXZv7SSoOc7Fdm/7nw/NV662b/ufD81XrrZv+58PzVeutm/7nw/NV662b/ufD81XrrZv+58PzVeutm/7nw/NV662b/ufD81XrrZv+58PzVeutm/7nw/NV662b/ufD81XrrZv+58PzVeutm/7nw/NV662b/ufD81XrrZv+58PzVeutm/",
        "encoding": "base64",
        "path": [
         "_data",
         16,
         "z",
         "buffer"
        ]
       },
       {
        "data": "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",
        "encoding": "base64",
        "path": [
         "_data",
         17,
         "x",
         "buffer"
        ]
       },
       {
        "data": "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",
        "encoding": "base64",
        "path": [
         "_data",
         17,
         "y",
         "buffer"
        ]
       },
       {
        "data": "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",
        "encoding": "base64",
        "path": [
         "_data",
         17,
         "z",
         "buffer"
        ]
       },
       {
        "data": "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",
        "encoding": "base64",
        "path": [
         "_data",
         18,
         "x",
         "buffer"
        ]
       },
       {
        "data": "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",
        "encoding": "base64",
        "path": [
         "_data",
         18,
         "y",
         "buffer"
        ]
       },
       {
        "data": "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",
        "encoding": "base64",
        "path": [
         "_data",
         18,
         "z",
         "buffer"
        ]
       },
       {
        "data": "AAAAAAAAAAAAAAAAAAAAAArXo3A9ChFACtejcD0KEUAAAAAAAAAAAAAAAAAAAAAAAAAAAAAAAAAAAAAAAAAAAAAAAAAAAAAACtejcD0KEUAK16NwPQoRQArXo3A9ChFACtejcD0KEUAK16NwPQoRQArXo3A9ChFAAAAAAAAAAAA=",
        "encoding": "base64",
        "path": [
         "_data",
         19,
         "x",
         "buffer"
        ]
       },
       {
        "data": "AAAAAAAAAADP/Vl4FiZAQM/9WXgWJkBAAAAAAAAAAAAAAAAAAAAAAAAAAAAAAAAAz/1ZeBYmQEDP/Vl4FiZAQM/9WXgWJkBAz/1ZeBYmQEDP/Vl4FiZAQAAAAAAAAAAAAAAAAAAAAADP/Vl4FiZAQAAAAAAAAAAAAAAAAAAAAAA=",
        "encoding": "base64",
        "path": [
         "_data",
         19,
         "y",
         "buffer"
        ]
       },
       {
        "data": "AAAAAAAAAAAAAAAAAAAAAAAAAAAAAAAAAAAAAAAAAAAAAAAAAAAAAGZmZmZmZixAZmZmZmZmLEAAAAAAAAAAAGZmZmZmZixAZmZmZmZmLEAAAAAAAAAAAAAAAAAAAAAAZmZmZmZmLEBmZmZmZmYsQGZmZmZmZixAZmZmZmZmLEA=",
        "encoding": "base64",
        "path": [
         "_data",
         19,
         "z",
         "buffer"
        ]
       }
      ],
      "model_module": "plotlywidget",
      "model_module_version": "^4.14.3",
      "model_name": "FigureModel",
      "state": {
       "_config": {
        "plotlyServerURL": "https://plot.ly"
       },
       "_data": [
        {
         "line": {
          "color": "gray",
          "coloraxis": "coloraxis",
          "width": 15
         },
         "marker": {
          "color": "blue"
         },
         "mode": "lines",
         "name": "Bonds",
         "type": "scatter3d",
         "uid": "c517843b-81b5-4c3b-978e-5b01845bcb5f",
         "x": [
          0.0,
          0.71,
          null,
          0.0,
          0.71,
          null,
          0.0,
          -1.42,
          null,
          0.0,
          0.71,
          null,
          0.0,
          0.71,
          null,
          0.0,
          -1.42,
          null,
          0.0,
          0.71,
          null,
          0.0,
          0.71,
          null,
          0.0,
          -1.42,
          null,
          0.0,
          0.71,
          null,
          0.0,
          0.71,
          null,
          0.0,
          -1.42,
          null,
          0.71,
          2.13,
          null,
          0.71,
          2.13,
          null,
          0.71,
          2.13,
          null,
          0.71,
          2.13,
          null,
          0.71,
          2.13,
          null,
          2.13,
          2.84,
          null,
          2.13,
          2.84,
          null,
          2.13,
          2.84,
          null,
          2.13,
          2.84,
          null,
          2.13,
          2.84,
          null,
          2.13,
          2.84,
          null,
          2.13,
          2.84,
          null,
          2.13,
          2.84,
          null,
          2.84,
          4.26,
          null,
          2.84,
          4.26,
          null,
          2.84,
          4.26,
          null,
          2.84,
          4.26,
          null
         ],
         "y": [
          11.229756073373903,
          10.0,
          null,
          11.229756073373903,
          12.459512146747805,
          null,
          11.229756073373903,
          11.229756073373903,
          null,
          13.689268220121708,
          12.459512146747805,
          null,
          13.689268220121708,
          14.91902429349561,
          null,
          13.689268220121708,
          13.689268220121708,
          null,
          16.148780366869516,
          14.91902429349561,
          null,
          16.148780366869516,
          17.378536440243415,
          null,
          16.148780366869516,
          16.148780366869516,
          null,
          18.60829251361732,
          17.378536440243415,
          null,
          18.60829251361732,
          19.83804858699122,
          null,
          18.60829251361732,
          18.60829251361732,
          null,
          10.0,
          10.0,
          null,
          12.459512146747805,
          12.459512146747805,
          null,
          14.91902429349561,
          14.91902429349561,
          null,
          17.378536440243415,
          17.378536440243415,
          null,
          19.83804858699122,
          19.83804858699122,
          null,
          10.0,
          11.229756073373903,
          null,
          12.459512146747805,
          11.229756073373903,
          null,
          12.459512146747805,
          13.689268220121708,
          null,
          14.91902429349561,
          13.689268220121708,
          null,
          14.91902429349561,
          16.148780366869516,
          null,
          17.378536440243415,
          16.148780366869516,
          null,
          17.378536440243415,
          18.60829251361732,
          null,
          19.83804858699122,
          18.60829251361732,
          null,
          11.229756073373903,
          11.229756073373903,
          null,
          13.689268220121708,
          13.689268220121708,
          null,
          16.148780366869516,
          16.148780366869516,
          null,
          18.60829251361732,
          18.60829251361732,
          null
         ],
         "z": [
          0.0,
          0.0,
          null,
          0.0,
          0.0,
          null,
          0.0,
          0.0,
          null,
          0.0,
          0.0,
          null,
          0.0,
          0.0,
          null,
          0.0,
          0.0,
          null,
          0.0,
          0.0,
          null,
          0.0,
          0.0,
          null,
          0.0,
          0.0,
          null,
          0.0,
          0.0,
          null,
          0.0,
          0.0,
          null,
          0.0,
          0.0,
          null,
          0.0,
          0.0,
          null,
          0.0,
          0.0,
          null,
          0.0,
          0.0,
          null,
          0.0,
          0.0,
          null,
          0.0,
          0.0,
          null,
          0.0,
          0.0,
          null,
          0.0,
          0.0,
          null,
          0.0,
          0.0,
          null,
          0.0,
          0.0,
          null,
          0.0,
          0.0,
          null,
          0.0,
          0.0,
          null,
          0.0,
          0.0,
          null,
          0.0,
          0.0,
          null,
          0.0,
          0.0,
          null,
          0.0,
          0.0,
          null,
          0.0,
          0.0,
          null,
          0.0,
          0.0,
          null
         ]
        },
        {
         "alphahull": 0,
         "color": "grey",
         "hovertemplate": "%{meta[0]}",
         "legendgroup": "Atoms",
         "meta": [
          "(0.00, 11.23, 0.00)"
         ],
         "name": "0 (C)",
         "opacity": 1,
         "showlegend": true,
         "showscale": false,
         "type": "mesh3d",
         "uid": "f239f1e7-d825-4886-8bcc-e4d3aa6ec512",
         "x": {
          "dtype": "float64",
          "shape": [
           225
          ]
         },
         "y": {
          "dtype": "float64",
          "shape": [
           225
          ]
         },
         "z": {
          "dtype": "float64",
          "shape": [
           225
          ]
         }
        },
        {
         "alphahull": 0,
         "color": "grey",
         "hovertemplate": "%{meta[0]}",
         "legendgroup": "Atoms",
         "meta": [
          "(0.00, 13.69, 0.00)"
         ],
         "name": "1 (C)",
         "opacity": 1,
         "showlegend": false,
         "showscale": false,
         "type": "mesh3d",
         "uid": "ab6fee0f-cb78-40d2-b83c-e0ad7dffda45",
         "x": {
          "dtype": "float64",
          "shape": [
           225
          ]
         },
         "y": {
          "dtype": "float64",
          "shape": [
           225
          ]
         },
         "z": {
          "dtype": "float64",
          "shape": [
           225
          ]
         }
        },
        {
         "alphahull": 0,
         "color": "grey",
         "hovertemplate": "%{meta[0]}",
         "legendgroup": "Atoms",
         "meta": [
          "(0.00, 16.15, 0.00)"
         ],
         "name": "2 (C)",
         "opacity": 1,
         "showlegend": false,
         "showscale": false,
         "type": "mesh3d",
         "uid": "ec724bae-084a-45e4-97b7-33040f3093c0",
         "x": {
          "dtype": "float64",
          "shape": [
           225
          ]
         },
         "y": {
          "dtype": "float64",
          "shape": [
           225
          ]
         },
         "z": {
          "dtype": "float64",
          "shape": [
           225
          ]
         }
        },
        {
         "alphahull": 0,
         "color": "grey",
         "hovertemplate": "%{meta[0]}",
         "legendgroup": "Atoms",
         "meta": [
          "(0.00, 18.61, 0.00)"
         ],
         "name": "3 (C)",
         "opacity": 1,
         "showlegend": false,
         "showscale": false,
         "type": "mesh3d",
         "uid": "5a86a9f7-2ba5-4806-8abf-7cd612d8ec5a",
         "x": {
          "dtype": "float64",
          "shape": [
           225
          ]
         },
         "y": {
          "dtype": "float64",
          "shape": [
           225
          ]
         },
         "z": {
          "dtype": "float64",
          "shape": [
           225
          ]
         }
        },
        {
         "alphahull": 0,
         "color": "grey",
         "hovertemplate": "%{meta[0]}",
         "legendgroup": "Atoms",
         "meta": [
          "(0.71, 10.00, 0.00)"
         ],
         "name": "4 (C)",
         "opacity": 1,
         "showlegend": false,
         "showscale": false,
         "type": "mesh3d",
         "uid": "b00fa9b0-2ed2-4e65-8cab-2258b5a6ab65",
         "x": {
          "dtype": "float64",
          "shape": [
           225
          ]
         },
         "y": {
          "dtype": "float64",
          "shape": [
           225
          ]
         },
         "z": {
          "dtype": "float64",
          "shape": [
           225
          ]
         }
        },
        {
         "alphahull": 0,
         "color": "grey",
         "hovertemplate": "%{meta[0]}",
         "legendgroup": "Atoms",
         "meta": [
          "(0.71, 12.46, 0.00)"
         ],
         "name": "5 (C)",
         "opacity": 1,
         "showlegend": false,
         "showscale": false,
         "type": "mesh3d",
         "uid": "82ab6d63-ece4-437b-a558-949db0639586",
         "x": {
          "dtype": "float64",
          "shape": [
           225
          ]
         },
         "y": {
          "dtype": "float64",
          "shape": [
           225
          ]
         },
         "z": {
          "dtype": "float64",
          "shape": [
           225
          ]
         }
        },
        {
         "alphahull": 0,
         "color": "grey",
         "hovertemplate": "%{meta[0]}",
         "legendgroup": "Atoms",
         "meta": [
          "(0.71, 14.92, 0.00)"
         ],
         "name": "6 (C)",
         "opacity": 1,
         "showlegend": false,
         "showscale": false,
         "type": "mesh3d",
         "uid": "df05bd10-c70d-4581-aeb1-8491a346de02",
         "x": {
          "dtype": "float64",
          "shape": [
           225
          ]
         },
         "y": {
          "dtype": "float64",
          "shape": [
           225
          ]
         },
         "z": {
          "dtype": "float64",
          "shape": [
           225
          ]
         }
        },
        {
         "alphahull": 0,
         "color": "grey",
         "hovertemplate": "%{meta[0]}",
         "legendgroup": "Atoms",
         "meta": [
          "(0.71, 17.38, 0.00)"
         ],
         "name": "7 (C)",
         "opacity": 1,
         "showlegend": false,
         "showscale": false,
         "type": "mesh3d",
         "uid": "5efa0bcc-73a6-4c7f-b0a3-81eb11abce9f",
         "x": {
          "dtype": "float64",
          "shape": [
           225
          ]
         },
         "y": {
          "dtype": "float64",
          "shape": [
           225
          ]
         },
         "z": {
          "dtype": "float64",
          "shape": [
           225
          ]
         }
        },
        {
         "alphahull": 0,
         "color": "grey",
         "hovertemplate": "%{meta[0]}",
         "legendgroup": "Atoms",
         "meta": [
          "(0.71, 19.84, 0.00)"
         ],
         "name": "8 (C)",
         "opacity": 1,
         "showlegend": false,
         "showscale": false,
         "type": "mesh3d",
         "uid": "d51bb681-d905-4ce2-a9d4-0faab3a3885f",
         "x": {
          "dtype": "float64",
          "shape": [
           225
          ]
         },
         "y": {
          "dtype": "float64",
          "shape": [
           225
          ]
         },
         "z": {
          "dtype": "float64",
          "shape": [
           225
          ]
         }
        },
        {
         "alphahull": 0,
         "color": "grey",
         "hovertemplate": "%{meta[0]}",
         "legendgroup": "Atoms",
         "meta": [
          "(2.13, 10.00, 0.00)"
         ],
         "name": "9 (C)",
         "opacity": 1,
         "showlegend": false,
         "showscale": false,
         "type": "mesh3d",
         "uid": "0af67d0a-02b0-4048-bf2e-859819048876",
         "x": {
          "dtype": "float64",
          "shape": [
           225
          ]
         },
         "y": {
          "dtype": "float64",
          "shape": [
           225
          ]
         },
         "z": {
          "dtype": "float64",
          "shape": [
           225
          ]
         }
        },
        {
         "alphahull": 0,
         "color": "grey",
         "hovertemplate": "%{meta[0]}",
         "legendgroup": "Atoms",
         "meta": [
          "(2.13, 12.46, 0.00)"
         ],
         "name": "10 (C)",
         "opacity": 1,
         "showlegend": false,
         "showscale": false,
         "type": "mesh3d",
         "uid": "2947cb70-f434-41a8-8cf2-404c4b4a7850",
         "x": {
          "dtype": "float64",
          "shape": [
           225
          ]
         },
         "y": {
          "dtype": "float64",
          "shape": [
           225
          ]
         },
         "z": {
          "dtype": "float64",
          "shape": [
           225
          ]
         }
        },
        {
         "alphahull": 0,
         "color": "grey",
         "hovertemplate": "%{meta[0]}",
         "legendgroup": "Atoms",
         "meta": [
          "(2.13, 14.92, 0.00)"
         ],
         "name": "11 (C)",
         "opacity": 1,
         "showlegend": false,
         "showscale": false,
         "type": "mesh3d",
         "uid": "068403ed-243d-4c53-b029-e06f1b264187",
         "x": {
          "dtype": "float64",
          "shape": [
           225
          ]
         },
         "y": {
          "dtype": "float64",
          "shape": [
           225
          ]
         },
         "z": {
          "dtype": "float64",
          "shape": [
           225
          ]
         }
        },
        {
         "alphahull": 0,
         "color": "grey",
         "hovertemplate": "%{meta[0]}",
         "legendgroup": "Atoms",
         "meta": [
          "(2.13, 17.38, 0.00)"
         ],
         "name": "12 (C)",
         "opacity": 1,
         "showlegend": false,
         "showscale": false,
         "type": "mesh3d",
         "uid": "80721c60-208f-487d-9795-094ba0dc9b98",
         "x": {
          "dtype": "float64",
          "shape": [
           225
          ]
         },
         "y": {
          "dtype": "float64",
          "shape": [
           225
          ]
         },
         "z": {
          "dtype": "float64",
          "shape": [
           225
          ]
         }
        },
        {
         "alphahull": 0,
         "color": "grey",
         "hovertemplate": "%{meta[0]}",
         "legendgroup": "Atoms",
         "meta": [
          "(2.13, 19.84, 0.00)"
         ],
         "name": "13 (C)",
         "opacity": 1,
         "showlegend": false,
         "showscale": false,
         "type": "mesh3d",
         "uid": "b4fe2626-b477-4262-98e9-4ddd4727581d",
         "x": {
          "dtype": "float64",
          "shape": [
           225
          ]
         },
         "y": {
          "dtype": "float64",
          "shape": [
           225
          ]
         },
         "z": {
          "dtype": "float64",
          "shape": [
           225
          ]
         }
        },
        {
         "alphahull": 0,
         "color": "grey",
         "hovertemplate": "%{meta[0]}",
         "legendgroup": "Atoms",
         "meta": [
          "(2.84, 11.23, 0.00)"
         ],
         "name": "14 (C)",
         "opacity": 1,
         "showlegend": false,
         "showscale": false,
         "type": "mesh3d",
         "uid": "78907b90-2b9c-4402-9473-692eef613c65",
         "x": {
          "dtype": "float64",
          "shape": [
           225
          ]
         },
         "y": {
          "dtype": "float64",
          "shape": [
           225
          ]
         },
         "z": {
          "dtype": "float64",
          "shape": [
           225
          ]
         }
        },
        {
         "alphahull": 0,
         "color": "grey",
         "hovertemplate": "%{meta[0]}",
         "legendgroup": "Atoms",
         "meta": [
          "(2.84, 13.69, 0.00)"
         ],
         "name": "15 (C)",
         "opacity": 1,
         "showlegend": false,
         "showscale": false,
         "type": "mesh3d",
         "uid": "9c752381-be88-4e90-99c0-bc49f997a05c",
         "x": {
          "dtype": "float64",
          "shape": [
           225
          ]
         },
         "y": {
          "dtype": "float64",
          "shape": [
           225
          ]
         },
         "z": {
          "dtype": "float64",
          "shape": [
           225
          ]
         }
        },
        {
         "alphahull": 0,
         "color": "grey",
         "hovertemplate": "%{meta[0]}",
         "legendgroup": "Atoms",
         "meta": [
          "(2.84, 16.15, 0.00)"
         ],
         "name": "16 (C)",
         "opacity": 1,
         "showlegend": false,
         "showscale": false,
         "type": "mesh3d",
         "uid": "7de9df6b-4a60-431b-8d2a-dd0191e34ced",
         "x": {
          "dtype": "float64",
          "shape": [
           225
          ]
         },
         "y": {
          "dtype": "float64",
          "shape": [
           225
          ]
         },
         "z": {
          "dtype": "float64",
          "shape": [
           225
          ]
         }
        },
        {
         "alphahull": 0,
         "color": "grey",
         "hovertemplate": "%{meta[0]}",
         "legendgroup": "Atoms",
         "meta": [
          "(2.84, 18.61, 0.00)"
         ],
         "name": "17 (C)",
         "opacity": 1,
         "showlegend": false,
         "showscale": false,
         "type": "mesh3d",
         "uid": "3c32f7c0-a2a2-47c9-8b0e-092167bb16d8",
         "x": {
          "dtype": "float64",
          "shape": [
           225
          ]
         },
         "y": {
          "dtype": "float64",
          "shape": [
           225
          ]
         },
         "z": {
          "dtype": "float64",
          "shape": [
           225
          ]
         }
        },
        {
         "line": {
          "width": 2
         },
         "mode": "lines",
         "name": "Unit cell",
         "type": "scatter3d",
         "uid": "e5c71f67-e274-47ee-9d1e-c8fd14e72751",
         "x": {
          "dtype": "float64",
          "shape": [
           16
          ]
         },
         "y": {
          "dtype": "float64",
          "shape": [
           16
          ]
         },
         "z": {
          "dtype": "float64",
          "shape": [
           16
          ]
         }
        }
       ],
       "_dom_classes": [],
       "_js2py_layoutDelta": {},
       "_js2py_pointsCallback": {},
       "_js2py_relayout": {},
       "_js2py_restyle": {},
       "_js2py_traceDeltas": {},
       "_js2py_update": {},
       "_last_layout_edit_id": 0,
       "_last_trace_edit_id": 0,
       "_layout": {
        "scene": {
         "aspectmode": "data"
        },
        "template": {
         "layout": {
          "hovermode": "closest",
          "paper_bgcolor": "white",
          "plot_bgcolor": "white",
          "scene": {
           "xaxis": {
            "color": "black",
            "gridcolor": "#ccc",
            "gridwidth": 1,
            "linewidth": 1,
            "mirror": true,
            "showgrid": false,
            "showline": true,
            "ticklen": 5,
            "ticks": "outside",
            "ticksuffix": " ",
            "visible": true,
            "zeroline": false,
            "zerolinecolor": "#ccc",
            "zerolinewidth": 1
           },
           "yaxis": {
            "color": "black",
            "gridcolor": "#ccc",
            "gridwidth": 1,
            "linewidth": 1,
            "mirror": true,
            "showgrid": false,
            "showline": true,
            "ticklen": 5,
            "ticks": "outside",
            "ticksuffix": " ",
            "visible": true,
            "zeroline": false,
            "zerolinecolor": "#ccc",
            "zerolinewidth": 1
           },
           "zaxis": {
            "color": "black",
            "gridcolor": "#ccc",
            "gridwidth": 1,
            "linewidth": 1,
            "mirror": true,
            "showgrid": false,
            "showline": true,
            "ticklen": 5,
            "ticks": "outside",
            "ticksuffix": " ",
            "visible": true,
            "zeroline": false,
            "zerolinecolor": "#ccc",
            "zerolinewidth": 1
           }
          },
          "xaxis": {
           "color": "black",
           "gridcolor": "#ccc",
           "gridwidth": 1,
           "linewidth": 1,
           "mirror": true,
           "showgrid": false,
           "showline": true,
           "ticklen": 5,
           "ticks": "outside",
           "ticksuffix": " ",
           "visible": true,
           "zeroline": false,
           "zerolinecolor": "#ccc",
           "zerolinewidth": 1
          },
          "yaxis": {
           "color": "black",
           "gridcolor": "#ccc",
           "gridwidth": 1,
           "linewidth": 1,
           "mirror": true,
           "showgrid": false,
           "showline": true,
           "ticklen": 5,
           "ticks": "outside",
           "ticksuffix": " ",
           "visible": true,
           "zeroline": false,
           "zerolinecolor": "#ccc",
           "zerolinewidth": 1
          }
         }
        },
        "xaxis": {
         "title": {
          "text": "X axis [Ang]"
         }
        },
        "yaxis": {
         "scaleanchor": "x",
         "scaleratio": 1,
         "title": {
          "text": "sin"
         }
        }
       },
       "_model_module": "plotlywidget",
       "_model_module_version": "^4.14.3",
       "_model_name": "FigureModel",
       "_py2js_addTraces": {},
       "_py2js_animate": {},
       "_py2js_deleteTraces": {},
       "_py2js_moveTraces": {},
       "_py2js_relayout": {},
       "_py2js_removeLayoutProps": {},
       "_py2js_removeTraceProps": {},
       "_py2js_restyle": {},
       "_py2js_update": {},
       "_view_count": 0,
       "_view_module": "plotlywidget",
       "_view_module_version": "^4.14.3",
       "_view_name": "FigureView"
      }
     },
     "26e2b5ca2a514010984a24cfa40e8d22": {
      "buffers": [
       {
        "data": "hmWKlqJ1FkCSMJ/D52AbQND9WXgWJiBAVmPkDrmbIkDsUbgehWsVQPgczUvKVhpABOjheA9CH0CIWftSqhYiQA6/helMjCRAwvUoXI9CGEDOwD2J1C0dQO1FKduMDCFAc6uzcS+CI0D5ED4I0vclQDStaxG3IxxAIDxAH36HIECnocq1IP0iQC0HVUzDciVA",
        "encoding": "base64",
        "path": [
         "_data",
         1,
         "x",
         "buffer"
        ]
       },
       {
        "data": "hmWKlqJ1FsCSMJ/D52AbwND9WXgWJiDAVmPkDrmbIsAUrkfhepQSwCB5XA7AfxfALERxOwVrHMCcB0M0JasgwCJtzcrHICPAexSuR+F6D8BK1evQtagUwFagAP76kxnAYmsVK0B/HsA3GxWsQrUhwNgdqRuOxxDA5Oi9SNOyFcDys9J1GJ4awP5+56JdiR/A",
        "encoding": "base64",
        "path": [
         "_data",
         1,
         "y",
         "buffer"
        ]
       },
       {
        "data": "AAAAAAAAAADP/Vl4FiYwQLB4biZeRzJACtejcD0KAUAAAAAAAAAAAAAAAAAAAAAAz/1ZeBYmMEDP/Vl4FiYwQM/9WXgWJjBAsHhuJl5HMkCweG4mXkcyQArXo3A9CgFACtejcD0KAUCweG4mXkcyQArXo3A9CgFAAAAAAAAAAAA=",
        "encoding": "base64",
        "path": [
         "_data",
         2,
         "x",
         "buffer"
        ]
       },
       {
        "data": "AAAAAAAAAADP/Vl4FiYwwNwFi5SdCSzACtejcD0KAUAAAAAAAAAAAAAAAAAAAAAAz/1ZeBYmMMDP/Vl4FiYwwM/9WXgWJjDA3AWLlJ0JLMDcBYuUnQkswArXo3A9CgFACtejcD0KAUDcBYuUnQkswArXo3A9CgFAAAAAAAAAAAA=",
        "encoding": "base64",
        "path": [
         "_data",
         2,
         "y",
         "buffer"
        ]
       }
      ],
      "model_module": "plotlywidget",
      "model_module_version": "^4.14.3",
      "model_name": "FigureModel",
      "state": {
       "_config": {
        "plotlyServerURL": "https://plot.ly"
       },
       "_data": [
        {
         "line": {
          "color": "#cccccc",
          "width": 3
         },
         "mode": "lines",
         "name": "bonds",
         "type": "scatter",
         "uid": "8a707c9e-5bc3-4bd3-bb84-be72077d691f",
         "x": [
          5.614878036686951,
          5.355,
          null,
          5.614878036686951,
          6.584756073373903,
          null,
          5.614878036686951,
          4.904878036686951,
          null,
          6.844634110060854,
          6.584756073373903,
          null,
          6.844634110060854,
          7.814512146747806,
          null,
          6.844634110060854,
          6.134634110060854,
          null,
          8.074390183434758,
          7.814512146747806,
          null,
          8.074390183434758,
          9.044268220121708,
          null,
          8.074390183434758,
          7.364390183434758,
          null,
          9.30414625680866,
          9.044268220121708,
          null,
          9.30414625680866,
          10.27402429349561,
          null,
          9.30414625680866,
          8.59414625680866,
          null,
          5.355,
          6.0649999999999995,
          null,
          6.584756073373903,
          7.294756073373902,
          null,
          7.814512146747806,
          8.524512146747805,
          null,
          9.044268220121708,
          9.754268220121707,
          null,
          10.27402429349561,
          10.98402429349561,
          null,
          6.0649999999999995,
          7.034878036686951,
          null,
          7.294756073373902,
          7.034878036686951,
          null,
          7.294756073373902,
          8.264634110060854,
          null,
          8.524512146747805,
          8.264634110060854,
          null,
          8.524512146747805,
          9.494390183434758,
          null,
          9.754268220121707,
          9.494390183434758,
          null,
          9.754268220121707,
          10.72414625680866,
          null,
          10.98402429349561,
          10.72414625680866,
          null,
          7.034878036686951,
          7.744878036686951,
          null,
          8.264634110060854,
          8.974634110060855,
          null,
          9.494390183434758,
          10.204390183434757,
          null,
          10.72414625680866,
          11.43414625680866,
          null
         ],
         "y": [
          -5.614878036686951,
          -4.645,
          null,
          -5.614878036686951,
          -5.874756073373902,
          null,
          -5.614878036686951,
          -6.324878036686951,
          null,
          -6.844634110060854,
          -5.874756073373902,
          null,
          -6.844634110060854,
          -7.104512146747805,
          null,
          -6.844634110060854,
          -7.554634110060854,
          null,
          -8.074390183434758,
          -7.104512146747805,
          null,
          -8.074390183434758,
          -8.334268220121707,
          null,
          -8.074390183434758,
          -8.784390183434759,
          null,
          -9.30414625680866,
          -8.334268220121707,
          null,
          -9.30414625680866,
          -9.56402429349561,
          null,
          -9.30414625680866,
          -10.014146256808662,
          null,
          -4.645,
          -3.935,
          null,
          -5.874756073373902,
          -5.164756073373903,
          null,
          -7.104512146747805,
          -6.394512146747806,
          null,
          -8.334268220121707,
          -7.624268220121708,
          null,
          -9.56402429349561,
          -8.85402429349561,
          null,
          -3.935,
          -4.194878036686951,
          null,
          -5.164756073373903,
          -4.194878036686951,
          null,
          -5.164756073373903,
          -5.424634110060854,
          null,
          -6.394512146747806,
          -5.424634110060854,
          null,
          -6.394512146747806,
          -6.654390183434758,
          null,
          -7.624268220121708,
          -6.654390183434758,
          null,
          -7.624268220121708,
          -7.884146256808661,
          null,
          -8.85402429349561,
          -7.884146256808661,
          null,
          -4.194878036686951,
          -3.4848780366869514,
          null,
          -5.424634110060854,
          -4.714634110060854,
          null,
          -6.654390183434758,
          -5.944390183434758,
          null,
          -7.884146256808661,
          -7.174146256808661,
          null
         ]
        },
        {
         "marker": {
          "color": [
           "grey",
           "grey",
           "grey",
           "grey",
           "grey",
           "grey",
           "grey",
           "grey",
           "grey",
           "grey",
           "grey",
           "grey",
           "grey",
           "grey",
           "grey",
           "grey",
           "grey",
           "grey"
          ],
          "size": [
           10.72,
           10.72,
           10.72,
           10.72,
           10.72,
           10.72,
           10.72,
           10.72,
           10.72,
           10.72,
           10.72,
           10.72,
           10.72,
           10.72,
           10.72,
           10.72,
           10.72,
           10.72
          ]
         },
         "mode": "markers",
         "name": "Atoms",
         "text": [
          "[ 0.         11.22975607  0.        ]<br>0 (C)",
          "[ 0.         13.68926822  0.        ]<br>1 (C)",
          "[ 0.         16.14878037  0.        ]<br>2 (C)",
          "[ 0.         18.60829251  0.        ]<br>3 (C)",
          "[ 0.71 10.    0.  ]<br>4 (C)",
          "[ 0.71       12.45951215  0.        ]<br>5 (C)",
          "[ 0.71       14.91902429  0.        ]<br>6 (C)",
          "[ 0.71       17.37853644  0.        ]<br>7 (C)",
          "[ 0.71       19.83804859  0.        ]<br>8 (C)",
          "[ 2.13 10.    0.  ]<br>9 (C)",
          "[ 2.13       12.45951215  0.        ]<br>10 (C)",
          "[ 2.13       14.91902429  0.        ]<br>11 (C)",
          "[ 2.13       17.37853644  0.        ]<br>12 (C)",
          "[ 2.13       19.83804859  0.        ]<br>13 (C)",
          "[ 2.84       11.22975607  0.        ]<br>14 (C)",
          "[ 2.84       13.68926822  0.        ]<br>15 (C)",
          "[ 2.84       16.14878037  0.        ]<br>16 (C)",
          "[ 2.84       18.60829251  0.        ]<br>17 (C)"
         ],
         "type": "scatter",
         "uid": "d936a0b3-82d0-46f6-9893-41e7bc597098",
         "x": {
          "dtype": "float64",
          "shape": [
           18
          ]
         },
         "y": {
          "dtype": "float64",
          "shape": [
           18
          ]
         }
        },
        {
         "mode": "lines",
         "name": "Unit cell",
         "type": "scatter",
         "uid": "20d4db3b-4715-42e1-9017-f6157462042a",
         "x": {
          "dtype": "float64",
          "shape": [
           16
          ]
         },
         "y": {
          "dtype": "float64",
          "shape": [
           16
          ]
         }
        }
       ],
       "_dom_classes": [],
       "_js2py_layoutDelta": {},
       "_js2py_pointsCallback": {},
       "_js2py_relayout": {},
       "_js2py_restyle": {},
       "_js2py_traceDeltas": {},
       "_js2py_update": {},
       "_last_layout_edit_id": 0,
       "_last_trace_edit_id": 0,
       "_layout": {
        "scene": {
         "aspectmode": "data"
        },
        "template": {
         "layout": {
          "hovermode": "closest",
          "paper_bgcolor": "white",
          "plot_bgcolor": "white",
          "scene": {
           "xaxis": {
            "color": "black",
            "gridcolor": "#ccc",
            "gridwidth": 1,
            "linewidth": 1,
            "mirror": true,
            "showgrid": false,
            "showline": true,
            "ticklen": 5,
            "ticks": "outside",
            "ticksuffix": " ",
            "visible": true,
            "zeroline": false,
            "zerolinecolor": "#ccc",
            "zerolinewidth": 1
           },
           "yaxis": {
            "color": "black",
            "gridcolor": "#ccc",
            "gridwidth": 1,
            "linewidth": 1,
            "mirror": true,
            "showgrid": false,
            "showline": true,
            "ticklen": 5,
            "ticks": "outside",
            "ticksuffix": " ",
            "visible": true,
            "zeroline": false,
            "zerolinecolor": "#ccc",
            "zerolinewidth": 1
           },
           "zaxis": {
            "color": "black",
            "gridcolor": "#ccc",
            "gridwidth": 1,
            "linewidth": 1,
            "mirror": true,
            "showgrid": false,
            "showline": true,
            "ticklen": 5,
            "ticks": "outside",
            "ticksuffix": " ",
            "visible": true,
            "zeroline": false,
            "zerolinecolor": "#ccc",
            "zerolinewidth": 1
           }
          },
          "xaxis": {
           "color": "black",
           "gridcolor": "#ccc",
           "gridwidth": 1,
           "linewidth": 1,
           "mirror": true,
           "showgrid": false,
           "showline": true,
           "ticklen": 5,
           "ticks": "outside",
           "ticksuffix": " ",
           "visible": true,
           "zeroline": false,
           "zerolinecolor": "#ccc",
           "zerolinewidth": 1
          },
          "yaxis": {
           "color": "black",
           "gridcolor": "#ccc",
           "gridwidth": 1,
           "linewidth": 1,
           "mirror": true,
           "showgrid": false,
           "showline": true,
           "ticklen": 5,
           "ticks": "outside",
           "ticksuffix": " ",
           "visible": true,
           "zeroline": false,
           "zerolinecolor": "#ccc",
           "zerolinewidth": 1
          }
         }
        },
        "xaxis": {
         "title": {
          "text": "[1 1 0]"
         }
        },
        "yaxis": {
         "scaleanchor": "x",
         "scaleratio": 1,
         "title": {
          "text": "[ 1 -1  0]"
         }
        }
       },
       "_model_module": "plotlywidget",
       "_model_module_version": "^4.14.3",
       "_model_name": "FigureModel",
       "_py2js_addTraces": {},
       "_py2js_animate": {},
       "_py2js_deleteTraces": {},
       "_py2js_moveTraces": {},
       "_py2js_relayout": {},
       "_py2js_removeLayoutProps": {},
       "_py2js_removeTraceProps": {},
       "_py2js_restyle": {},
       "_py2js_update": {},
       "_view_count": 0,
       "_view_module": "plotlywidget",
       "_view_module_version": "^4.14.3",
       "_view_name": "FigureView"
      }
     },
     "27648a563c654b55947372fb3c00ca82": {
      "buffers": [
       {
        "data": "AAAAAAAAAAAAAAAAAAAAAAAAAAAAAAAAAAAAAAAAAAC4HoXrUbjmP7gehetRuOY/uB6F61G45j8K16NwPQoBQArXo3A9CgFACtejcD0KAUC4HoXrUbgGQLgehetRuAZAuB6F61G4BkC4HoXrUbgGQA==",
        "encoding": "base64",
        "path": [
         "_data",
         1,
         "x",
         "buffer"
        ]
       },
       {
        "data": "hmWKlqJ1JkCSMJ/D52ArQND9WXgWJjBAVmPkDrmbMkAMyxQtResoQBiWKVqK1i1AkjCfw+dgMUAMyxQtResoQBiWKVqK1i1AkjCfw+dgMUCGZYqWonUmQJIwn8PnYCtA0P1ZeBYmMEBWY+QOuZsyQA==",
        "encoding": "base64",
        "path": [
         "_data",
         1,
         "y",
         "buffer"
        ]
       },
       {
        "data": "AAAAAAAAAAAAAAAAAAAAAArXo3A9ChFACtejcD0KEUAAAAAAAAAAAAAAAAAAAAAAAAAAAAAAAAAAAAAAAAAAAAAAAAAAAAAACtejcD0KEUAK16NwPQoRQArXo3A9ChFACtejcD0KEUAK16NwPQoRQArXo3A9ChFAAAAAAAAAAAA=",
        "encoding": "base64",
        "path": [
         "_data",
         2,
         "x",
         "buffer"
        ]
       },
       {
        "data": "AAAAAAAAAADP/Vl4FiZAQM/9WXgWJkBAAAAAAAAAAAAAAAAAAAAAAAAAAAAAAAAAz/1ZeBYmQEDP/Vl4FiZAQM/9WXgWJkBAz/1ZeBYmQEDP/Vl4FiZAQAAAAAAAAAAAAAAAAAAAAADP/Vl4FiZAQAAAAAAAAAAAAAAAAAAAAAA=",
        "encoding": "base64",
        "path": [
         "_data",
         2,
         "y",
         "buffer"
        ]
       }
      ],
      "model_module": "plotlywidget",
      "model_module_version": "^4.14.3",
      "model_name": "FigureModel",
      "state": {
       "_config": {
        "plotlyServerURL": "https://plot.ly"
       },
       "_data": [
        {
         "line": {
          "color": "#cccccc",
          "width": 3
         },
         "mode": "lines",
         "name": "bonds",
         "type": "scatter",
         "uid": "09c893c5-92b1-40d8-b1be-85df2b561c1b",
         "x": [
          0.0,
          0.71,
          null,
          0.0,
          0.71,
          null,
          0.0,
          -1.42,
          null,
          0.0,
          0.71,
          null,
          0.0,
          0.71,
          null,
          0.0,
          -1.42,
          null,
          0.0,
          0.71,
          null,
          0.0,
          0.71,
          null,
          0.0,
          -1.42,
          null,
          0.0,
          0.71,
          null,
          0.0,
          0.71,
          null,
          0.0,
          -1.42,
          null,
          0.71,
          2.13,
          null,
          0.71,
          2.13,
          null,
          0.71,
          2.13,
          null,
          0.71,
          2.13,
          null,
          0.71,
          2.13,
          null,
          2.13,
          2.84,
          null,
          2.13,
          2.84,
          null,
          2.13,
          2.84,
          null,
          2.13,
          2.84,
          null,
          2.13,
          2.84,
          null,
          2.13,
          2.84,
          null,
          2.13,
          2.84,
          null,
          2.13,
          2.84,
          null,
          2.84,
          4.26,
          null,
          2.84,
          4.26,
          null,
          2.84,
          4.26,
          null,
          2.84,
          4.26,
          null
         ],
         "y": [
          11.229756073373903,
          10.0,
          null,
          11.229756073373903,
          12.459512146747805,
          null,
          11.229756073373903,
          11.229756073373903,
          null,
          13.689268220121708,
          12.459512146747805,
          null,
          13.689268220121708,
          14.91902429349561,
          null,
          13.689268220121708,
          13.689268220121708,
          null,
          16.148780366869516,
          14.91902429349561,
          null,
          16.148780366869516,
          17.378536440243415,
          null,
          16.148780366869516,
          16.148780366869516,
          null,
          18.60829251361732,
          17.378536440243415,
          null,
          18.60829251361732,
          19.83804858699122,
          null,
          18.60829251361732,
          18.60829251361732,
          null,
          10.0,
          10.0,
          null,
          12.459512146747805,
          12.459512146747805,
          null,
          14.91902429349561,
          14.91902429349561,
          null,
          17.378536440243415,
          17.378536440243415,
          null,
          19.83804858699122,
          19.83804858699122,
          null,
          10.0,
          11.229756073373903,
          null,
          12.459512146747805,
          11.229756073373903,
          null,
          12.459512146747805,
          13.689268220121708,
          null,
          14.91902429349561,
          13.689268220121708,
          null,
          14.91902429349561,
          16.148780366869516,
          null,
          17.378536440243415,
          16.148780366869516,
          null,
          17.378536440243415,
          18.60829251361732,
          null,
          19.83804858699122,
          18.60829251361732,
          null,
          11.229756073373903,
          11.229756073373903,
          null,
          13.689268220121708,
          13.689268220121708,
          null,
          16.148780366869516,
          16.148780366869516,
          null,
          18.60829251361732,
          18.60829251361732,
          null
         ]
        },
        {
         "marker": {
          "color": [
           "grey",
           "grey",
           "grey",
           "grey",
           "grey",
           "grey",
           "grey",
           "grey",
           "grey",
           "grey",
           "grey",
           "grey",
           "grey",
           "grey"
          ],
          "size": [
           10.72,
           10.72,
           10.72,
           10.72,
           10.72,
           10.72,
           10.72,
           10.72,
           10.72,
           10.72,
           10.72,
           10.72,
           10.72,
           10.72
          ]
         },
         "mode": "markers",
         "name": "Atoms",
         "text": [
          "[ 0.         11.22975607  0.        ]<br>0 (C)",
          "[ 0.         13.68926822  0.        ]<br>1 (C)",
          "[ 0.         16.14878037  0.        ]<br>2 (C)",
          "[ 0.         18.60829251  0.        ]<br>3 (C)",
          "[ 0.71       12.45951215  0.        ]<br>5 (C)",
          "[ 0.71       14.91902429  0.        ]<br>6 (C)",
          "[ 0.71       17.37853644  0.        ]<br>7 (C)",
          "[ 2.13       12.45951215  0.        ]<br>10 (C)",
          "[ 2.13       14.91902429  0.        ]<br>11 (C)",
          "[ 2.13       17.37853644  0.        ]<br>12 (C)",
          "[ 2.84       11.22975607  0.        ]<br>14 (C)",
          "[ 2.84       13.68926822  0.        ]<br>15 (C)",
          "[ 2.84       16.14878037  0.        ]<br>16 (C)",
          "[ 2.84       18.60829251  0.        ]<br>17 (C)"
         ],
         "type": "scatter",
         "uid": "96c48e98-0159-4f6a-a349-556005b5fdb6",
         "x": {
          "dtype": "float64",
          "shape": [
           14
          ]
         },
         "y": {
          "dtype": "float64",
          "shape": [
           14
          ]
         }
        },
        {
         "mode": "lines",
         "name": "Unit cell",
         "type": "scatter",
         "uid": "8d12263b-9947-4d7f-bac9-005bb6e8a500",
         "x": {
          "dtype": "float64",
          "shape": [
           16
          ]
         },
         "y": {
          "dtype": "float64",
          "shape": [
           16
          ]
         }
        }
       ],
       "_dom_classes": [],
       "_js2py_layoutDelta": {},
       "_js2py_pointsCallback": {},
       "_js2py_relayout": {},
       "_js2py_restyle": {},
       "_js2py_traceDeltas": {},
       "_js2py_update": {},
       "_last_layout_edit_id": 0,
       "_last_trace_edit_id": 0,
       "_layout": {
        "scene": {
         "aspectmode": "data"
        },
        "template": {
         "layout": {
          "hovermode": "closest",
          "paper_bgcolor": "white",
          "plot_bgcolor": "white",
          "scene": {
           "xaxis": {
            "color": "black",
            "gridcolor": "#ccc",
            "gridwidth": 1,
            "linewidth": 1,
            "mirror": true,
            "showgrid": false,
            "showline": true,
            "ticklen": 5,
            "ticks": "outside",
            "ticksuffix": " ",
            "visible": true,
            "zeroline": false,
            "zerolinecolor": "#ccc",
            "zerolinewidth": 1
           },
           "yaxis": {
            "color": "black",
            "gridcolor": "#ccc",
            "gridwidth": 1,
            "linewidth": 1,
            "mirror": true,
            "showgrid": false,
            "showline": true,
            "ticklen": 5,
            "ticks": "outside",
            "ticksuffix": " ",
            "visible": true,
            "zeroline": false,
            "zerolinecolor": "#ccc",
            "zerolinewidth": 1
           },
           "zaxis": {
            "color": "black",
            "gridcolor": "#ccc",
            "gridwidth": 1,
            "linewidth": 1,
            "mirror": true,
            "showgrid": false,
            "showline": true,
            "ticklen": 5,
            "ticks": "outside",
            "ticksuffix": " ",
            "visible": true,
            "zeroline": false,
            "zerolinecolor": "#ccc",
            "zerolinewidth": 1
           }
          },
          "xaxis": {
           "color": "black",
           "gridcolor": "#ccc",
           "gridwidth": 1,
           "linewidth": 1,
           "mirror": true,
           "showgrid": false,
           "showline": true,
           "ticklen": 5,
           "ticks": "outside",
           "ticksuffix": " ",
           "visible": true,
           "zeroline": false,
           "zerolinecolor": "#ccc",
           "zerolinewidth": 1
          },
          "yaxis": {
           "color": "black",
           "gridcolor": "#ccc",
           "gridwidth": 1,
           "linewidth": 1,
           "mirror": true,
           "showgrid": false,
           "showline": true,
           "ticklen": 5,
           "ticks": "outside",
           "ticksuffix": " ",
           "visible": true,
           "zeroline": false,
           "zerolinecolor": "#ccc",
           "zerolinewidth": 1
          }
         }
        },
        "xaxis": {
         "title": {
          "text": "X axis [Ang]"
         }
        },
        "yaxis": {
         "scaleanchor": "x",
         "scaleratio": 1,
         "title": {
          "text": "Y axis [Ang]"
         }
        }
       },
       "_model_module": "plotlywidget",
       "_model_module_version": "^4.14.3",
       "_model_name": "FigureModel",
       "_py2js_addTraces": {},
       "_py2js_animate": {},
       "_py2js_deleteTraces": {},
       "_py2js_moveTraces": {},
       "_py2js_relayout": {},
       "_py2js_removeLayoutProps": {},
       "_py2js_removeTraceProps": {},
       "_py2js_restyle": {},
       "_py2js_update": {},
       "_view_count": 0,
       "_view_module": "plotlywidget",
       "_view_module_version": "^4.14.3",
       "_view_name": "FigureView"
      }
     },
     "3dd4e847021e484799096991fa93e22d": {
      "buffers": [
       {
        "data": "hmWKlqJ1JkCSMJ/D52ArQND9WXgWJjBAVmPkDrmbMkAAAAAAAAAkQAzLFC1F6yhAGJYpWorWLUCSMJ/D52AxQBiWKVqK1jNAAAAAAAAAJEAMyxQtResoQBiWKVqK1i1AkjCfw+dgMUAYlilaitYzQIZlipaidSZAkjCfw+dgK0DQ/Vl4FiYwQFZj5A65mzJA",
        "encoding": "base64",
        "path": [
         "_data",
         1,
         "marker",
         "color",
         "buffer"
        ]
       },
       {
        "data": "AAAAAAAAAAAAAAAAAAAAAAAAAAAAAAAAAAAAAAAAAAC4HoXrUbjmP7gehetRuOY/uB6F61G45j+4HoXrUbjmP7gehetRuOY/CtejcD0KAUAK16NwPQoBQArXo3A9CgFACtejcD0KAUAK16NwPQoBQLgehetRuAZAuB6F61G4BkC4HoXrUbgGQLgehetRuAZA",
        "encoding": "base64",
        "path": [
         "_data",
         1,
         "x",
         "buffer"
        ]
       },
       {
        "data": "hmWKlqJ1JkCSMJ/D52ArQND9WXgWJjBAVmPkDrmbMkAAAAAAAAAkQAzLFC1F6yhAGJYpWorWLUCSMJ/D52AxQBiWKVqK1jNAAAAAAAAAJEAMyxQtResoQBiWKVqK1i1AkjCfw+dgMUAYlilaitYzQIZlipaidSZAkjCfw+dgK0DQ/Vl4FiYwQFZj5A65mzJA",
        "encoding": "base64",
        "path": [
         "_data",
         1,
         "y",
         "buffer"
        ]
       },
       {
        "data": "AAAAAAAAAAAAAAAAAAAAAArXo3A9ChFACtejcD0KEUAAAAAAAAAAAAAAAAAAAAAAAAAAAAAAAAAAAAAAAAAAAAAAAAAAAAAACtejcD0KEUAK16NwPQoRQArXo3A9ChFACtejcD0KEUAK16NwPQoRQArXo3A9ChFAAAAAAAAAAAA=",
        "encoding": "base64",
        "path": [
         "_data",
         2,
         "x",
         "buffer"
        ]
       },
       {
        "data": "AAAAAAAAAADP/Vl4FiZAQM/9WXgWJkBAAAAAAAAAAAAAAAAAAAAAAAAAAAAAAAAAz/1ZeBYmQEDP/Vl4FiZAQM/9WXgWJkBAz/1ZeBYmQEDP/Vl4FiZAQAAAAAAAAAAAAAAAAAAAAADP/Vl4FiZAQAAAAAAAAAAAAAAAAAAAAAA=",
        "encoding": "base64",
        "path": [
         "_data",
         2,
         "y",
         "buffer"
        ]
       }
      ],
      "model_module": "plotlywidget",
      "model_module_version": "^4.14.3",
      "model_name": "FigureModel",
      "state": {
       "_config": {
        "plotlyServerURL": "https://plot.ly"
       },
       "_data": [
        {
         "line": {
          "color": "#cccccc",
          "width": 3
         },
         "mode": "lines",
         "name": "bonds",
         "type": "scatter",
         "uid": "39c6b4a3-13e3-4f18-bd2c-7d3b7dd59e24",
         "x": [
          0.0,
          0.71,
          null,
          0.0,
          0.71,
          null,
          0.0,
          -1.42,
          null,
          0.0,
          0.71,
          null,
          0.0,
          0.71,
          null,
          0.0,
          -1.42,
          null,
          0.0,
          0.71,
          null,
          0.0,
          0.71,
          null,
          0.0,
          -1.42,
          null,
          0.0,
          0.71,
          null,
          0.0,
          0.71,
          null,
          0.0,
          -1.42,
          null,
          0.71,
          2.13,
          null,
          0.71,
          2.13,
          null,
          0.71,
          2.13,
          null,
          0.71,
          2.13,
          null,
          0.71,
          2.13,
          null,
          2.13,
          2.84,
          null,
          2.13,
          2.84,
          null,
          2.13,
          2.84,
          null,
          2.13,
          2.84,
          null,
          2.13,
          2.84,
          null,
          2.13,
          2.84,
          null,
          2.13,
          2.84,
          null,
          2.13,
          2.84,
          null,
          2.84,
          4.26,
          null,
          2.84,
          4.26,
          null,
          2.84,
          4.26,
          null,
          2.84,
          4.26,
          null
         ],
         "y": [
          11.229756073373903,
          10.0,
          null,
          11.229756073373903,
          12.459512146747805,
          null,
          11.229756073373903,
          11.229756073373903,
          null,
          13.689268220121708,
          12.459512146747805,
          null,
          13.689268220121708,
          14.91902429349561,
          null,
          13.689268220121708,
          13.689268220121708,
          null,
          16.148780366869516,
          14.91902429349561,
          null,
          16.148780366869516,
          17.378536440243415,
          null,
          16.148780366869516,
          16.148780366869516,
          null,
          18.60829251361732,
          17.378536440243415,
          null,
          18.60829251361732,
          19.83804858699122,
          null,
          18.60829251361732,
          18.60829251361732,
          null,
          10.0,
          10.0,
          null,
          12.459512146747805,
          12.459512146747805,
          null,
          14.91902429349561,
          14.91902429349561,
          null,
          17.378536440243415,
          17.378536440243415,
          null,
          19.83804858699122,
          19.83804858699122,
          null,
          10.0,
          11.229756073373903,
          null,
          12.459512146747805,
          11.229756073373903,
          null,
          12.459512146747805,
          13.689268220121708,
          null,
          14.91902429349561,
          13.689268220121708,
          null,
          14.91902429349561,
          16.148780366869516,
          null,
          17.378536440243415,
          16.148780366869516,
          null,
          17.378536440243415,
          18.60829251361732,
          null,
          19.83804858699122,
          18.60829251361732,
          null,
          11.229756073373903,
          11.229756073373903,
          null,
          13.689268220121708,
          13.689268220121708,
          null,
          16.148780366869516,
          16.148780366869516,
          null,
          18.60829251361732,
          18.60829251361732,
          null
         ]
        },
        {
         "marker": {
          "color": {
           "dtype": "float64",
           "shape": [
            18
           ]
          },
          "colorscale": [
           [
            0.0,
            "#440154"
           ],
           [
            0.1111111111111111,
            "#482878"
           ],
           [
            0.2222222222222222,
            "#3e4989"
           ],
           [
            0.3333333333333333,
            "#31688e"
           ],
           [
            0.4444444444444444,
            "#26828e"
           ],
           [
            0.5555555555555556,
            "#1f9e89"
           ],
           [
            0.6666666666666666,
            "#35b779"
           ],
           [
            0.7777777777777778,
            "#6ece58"
           ],
           [
            0.8888888888888888,
            "#b5de2b"
           ],
           [
            1.0,
            "#fde725"
           ]
          ],
          "size": [
           10.72,
           10.72,
           10.72,
           10.72,
           10.72,
           10.72,
           10.72,
           10.72,
           10.72,
           10.72,
           10.72,
           10.72,
           10.72,
           10.72,
           10.72,
           10.72,
           10.72,
           10.72
          ]
         },
         "mode": "markers",
         "name": "Atoms",
         "text": [
          "Color: 11.229756073373903",
          "Color: 13.689268220121708",
          "Color: 16.148780366869516",
          "Color: 18.60829251361732",
          "Color: 10.0",
          "Color: 12.459512146747805",
          "Color: 14.91902429349561",
          "Color: 17.378536440243415",
          "Color: 19.83804858699122",
          "Color: 10.0",
          "Color: 12.459512146747805",
          "Color: 14.91902429349561",
          "Color: 17.378536440243415",
          "Color: 19.83804858699122",
          "Color: 11.229756073373903",
          "Color: 13.689268220121708",
          "Color: 16.148780366869516",
          "Color: 18.60829251361732"
         ],
         "type": "scatter",
         "uid": "1af77f55-8408-4b80-8c0a-0a34a11fda79",
         "x": {
          "dtype": "float64",
          "shape": [
           18
          ]
         },
         "y": {
          "dtype": "float64",
          "shape": [
           18
          ]
         }
        },
        {
         "mode": "lines",
         "name": "Unit cell",
         "type": "scatter",
         "uid": "24389c4e-07f1-4912-82be-a85571dfb17d",
         "x": {
          "dtype": "float64",
          "shape": [
           16
          ]
         },
         "y": {
          "dtype": "float64",
          "shape": [
           16
          ]
         }
        }
       ],
       "_dom_classes": [],
       "_js2py_layoutDelta": {},
       "_js2py_pointsCallback": {},
       "_js2py_relayout": {},
       "_js2py_restyle": {},
       "_js2py_traceDeltas": {},
       "_js2py_update": {},
       "_last_layout_edit_id": 0,
       "_last_trace_edit_id": 0,
       "_layout": {
        "scene": {
         "aspectmode": "data"
        },
        "template": {
         "layout": {
          "hovermode": "closest",
          "paper_bgcolor": "white",
          "plot_bgcolor": "white",
          "scene": {
           "xaxis": {
            "color": "black",
            "gridcolor": "#ccc",
            "gridwidth": 1,
            "linewidth": 1,
            "mirror": true,
            "showgrid": false,
            "showline": true,
            "ticklen": 5,
            "ticks": "outside",
            "ticksuffix": " ",
            "visible": true,
            "zeroline": false,
            "zerolinecolor": "#ccc",
            "zerolinewidth": 1
           },
           "yaxis": {
            "color": "black",
            "gridcolor": "#ccc",
            "gridwidth": 1,
            "linewidth": 1,
            "mirror": true,
            "showgrid": false,
            "showline": true,
            "ticklen": 5,
            "ticks": "outside",
            "ticksuffix": " ",
            "visible": true,
            "zeroline": false,
            "zerolinecolor": "#ccc",
            "zerolinewidth": 1
           },
           "zaxis": {
            "color": "black",
            "gridcolor": "#ccc",
            "gridwidth": 1,
            "linewidth": 1,
            "mirror": true,
            "showgrid": false,
            "showline": true,
            "ticklen": 5,
            "ticks": "outside",
            "ticksuffix": " ",
            "visible": true,
            "zeroline": false,
            "zerolinecolor": "#ccc",
            "zerolinewidth": 1
           }
          },
          "xaxis": {
           "color": "black",
           "gridcolor": "#ccc",
           "gridwidth": 1,
           "linewidth": 1,
           "mirror": true,
           "showgrid": false,
           "showline": true,
           "ticklen": 5,
           "ticks": "outside",
           "ticksuffix": " ",
           "visible": true,
           "zeroline": false,
           "zerolinecolor": "#ccc",
           "zerolinewidth": 1
          },
          "yaxis": {
           "color": "black",
           "gridcolor": "#ccc",
           "gridwidth": 1,
           "linewidth": 1,
           "mirror": true,
           "showgrid": false,
           "showline": true,
           "ticklen": 5,
           "ticks": "outside",
           "ticksuffix": " ",
           "visible": true,
           "zeroline": false,
           "zerolinecolor": "#ccc",
           "zerolinewidth": 1
          }
         }
        },
        "xaxis": {
         "title": {
          "text": "X axis [Ang]"
         }
        },
        "yaxis": {
         "scaleanchor": "x",
         "scaleratio": 1,
         "title": {
          "text": "Y axis [Ang]"
         }
        }
       },
       "_model_module": "plotlywidget",
       "_model_module_version": "^4.14.3",
       "_model_name": "FigureModel",
       "_py2js_addTraces": {},
       "_py2js_animate": {},
       "_py2js_deleteTraces": {},
       "_py2js_moveTraces": {},
       "_py2js_relayout": {},
       "_py2js_removeLayoutProps": {},
       "_py2js_removeTraceProps": {},
       "_py2js_restyle": {},
       "_py2js_update": {},
       "_view_count": 0,
       "_view_module": "plotlywidget",
       "_view_module_version": "^4.14.3",
       "_view_name": "FigureView"
      }
     },
     "4a2ceb95232f4d7187881d779618afa2": {
      "buffers": [
       {
        "data": "hmWKlqJ1FkCSMJ/D52AbQND9WXgWJiBAVmPkDrmbIkDsUbgehWsVQPgczUvKVhpABOjheA9CH0CIWftSqhYiQA6/helMjCRAwvUoXI9CGEDOwD2J1C0dQO1FKduMDCFAc6uzcS+CI0D5ED4I0vclQDStaxG3IxxAIDxAH36HIECnocq1IP0iQC0HVUzDciVA",
        "encoding": "base64",
        "path": [
         "_data",
         1,
         "x",
         "buffer"
        ]
       },
       {
        "data": "hmWKlqJ1BsCSMJ/D52ALwND9WXgWJhDAVmPkDrmbEsAUrkfhepQCwCB5XA7AfwfALERxOwVrDMCcB0M0JasQwCJtzcrHIBPAexSuR+F6/79K1evQtagEwFagAP76kwnAYmsVK0B/DsA3GxWsQrURwNgdqRuOxwDA5Oi9SNOyBcDys9J1GJ4KwP5+56JdiQ/A",
        "encoding": "base64",
        "path": [
         "_data",
         1,
         "y",
         "buffer"
        ]
       },
       {
        "data": "AAAAAAAAAADP/Vl4FiYwQLB4biZeRzJACtejcD0KAUAAAAAAAAAAAAAAAAAAAAAAz/1ZeBYmMEDP/Vl4FiYwQM/9WXgWJjBAsHhuJl5HMkCweG4mXkcyQArXo3A9CgFACtejcD0KAUCweG4mXkcyQArXo3A9CgFAAAAAAAAAAAA=",
        "encoding": "base64",
        "path": [
         "_data",
         2,
         "x",
         "buffer"
        ]
       },
       {
        "data": "AAAAAAAAAADP/Vl4FiYgwNwFi5SdCRzACtejcD0K8T8AAAAAAAAAAAAAAAAAAAAAz/1ZeBYmIMDP/Vl4FiYgwM/9WXgWJiDA3AWLlJ0JHMDcBYuUnQkcwArXo3A9CvE/CtejcD0K8T/cBYuUnQkcwArXo3A9CvE/AAAAAAAAAAA=",
        "encoding": "base64",
        "path": [
         "_data",
         2,
         "y",
         "buffer"
        ]
       }
      ],
      "model_module": "plotlywidget",
      "model_module_version": "^4.14.3",
      "model_name": "FigureModel",
      "state": {
       "_config": {
        "plotlyServerURL": "https://plot.ly"
       },
       "_data": [
        {
         "line": {
          "color": "#cccccc",
          "width": 3
         },
         "mode": "lines",
         "name": "bonds",
         "type": "scatter",
         "uid": "82c66402-22f4-487a-9030-920c0f8c696c",
         "x": [
          5.614878036686951,
          5.355,
          null,
          5.614878036686951,
          6.584756073373903,
          null,
          5.614878036686951,
          4.904878036686951,
          null,
          6.844634110060854,
          6.584756073373903,
          null,
          6.844634110060854,
          7.814512146747806,
          null,
          6.844634110060854,
          6.134634110060854,
          null,
          8.074390183434758,
          7.814512146747806,
          null,
          8.074390183434758,
          9.044268220121708,
          null,
          8.074390183434758,
          7.364390183434758,
          null,
          9.30414625680866,
          9.044268220121708,
          null,
          9.30414625680866,
          10.27402429349561,
          null,
          9.30414625680866,
          8.59414625680866,
          null,
          5.355,
          6.0649999999999995,
          null,
          6.584756073373903,
          7.294756073373902,
          null,
          7.814512146747806,
          8.524512146747805,
          null,
          9.044268220121708,
          9.754268220121707,
          null,
          10.27402429349561,
          10.98402429349561,
          null,
          6.0649999999999995,
          7.034878036686951,
          null,
          7.294756073373902,
          7.034878036686951,
          null,
          7.294756073373902,
          8.264634110060854,
          null,
          8.524512146747805,
          8.264634110060854,
          null,
          8.524512146747805,
          9.494390183434758,
          null,
          9.754268220121707,
          9.494390183434758,
          null,
          9.754268220121707,
          10.72414625680866,
          null,
          10.98402429349561,
          10.72414625680866,
          null,
          7.034878036686951,
          7.744878036686951,
          null,
          8.264634110060854,
          8.974634110060855,
          null,
          9.494390183434758,
          10.204390183434757,
          null,
          10.72414625680866,
          11.43414625680866,
          null
         ],
         "y": [
          -2.8074390183434756,
          -2.3225,
          null,
          -2.8074390183434756,
          -2.937378036686951,
          null,
          -2.8074390183434756,
          -3.1624390183434756,
          null,
          -3.422317055030427,
          -2.937378036686951,
          null,
          -3.422317055030427,
          -3.5522560733739024,
          null,
          -3.422317055030427,
          -3.777317055030427,
          null,
          -4.037195091717379,
          -3.5522560733739024,
          null,
          -4.037195091717379,
          -4.167134110060854,
          null,
          -4.037195091717379,
          -4.3921950917173795,
          null,
          -4.65207312840433,
          -4.167134110060854,
          null,
          -4.65207312840433,
          -4.782012146747805,
          null,
          -4.65207312840433,
          -5.007073128404331,
          null,
          -2.3225,
          -1.9675,
          null,
          -2.937378036686951,
          -2.5823780366869515,
          null,
          -3.5522560733739024,
          -3.197256073373903,
          null,
          -4.167134110060854,
          -3.812134110060854,
          null,
          -4.782012146747805,
          -4.427012146747805,
          null,
          -1.9675,
          -2.0974390183434757,
          null,
          -2.5823780366869515,
          -2.0974390183434757,
          null,
          -2.5823780366869515,
          -2.712317055030427,
          null,
          -3.197256073373903,
          -2.712317055030427,
          null,
          -3.197256073373903,
          -3.327195091717379,
          null,
          -3.812134110060854,
          -3.327195091717379,
          null,
          -3.812134110060854,
          -3.9420731284043304,
          null,
          -4.427012146747805,
          -3.9420731284043304,
          null,
          -2.0974390183434757,
          -1.7424390183434757,
          null,
          -2.712317055030427,
          -2.357317055030427,
          null,
          -3.327195091717379,
          -2.972195091717379,
          null,
          -3.9420731284043304,
          -3.5870731284043305,
          null
         ]
        },
        {
         "marker": {
          "color": [
           "grey",
           "grey",
           "grey",
           "grey",
           "grey",
           "grey",
           "grey",
           "grey",
           "grey",
           "grey",
           "grey",
           "grey",
           "grey",
           "grey",
           "grey",
           "grey",
           "grey",
           "grey"
          ],
          "size": [
           10.72,
           10.72,
           10.72,
           10.72,
           10.72,
           10.72,
           10.72,
           10.72,
           10.72,
           10.72,
           10.72,
           10.72,
           10.72,
           10.72,
           10.72,
           10.72,
           10.72,
           10.72
          ]
         },
         "mode": "markers",
         "name": "Atoms",
         "text": [
          "[ 0.         11.22975607  0.        ]<br>0 (C)",
          "[ 0.         13.68926822  0.        ]<br>1 (C)",
          "[ 0.         16.14878037  0.        ]<br>2 (C)",
          "[ 0.         18.60829251  0.        ]<br>3 (C)",
          "[ 0.71 10.    0.  ]<br>4 (C)",
          "[ 0.71       12.45951215  0.        ]<br>5 (C)",
          "[ 0.71       14.91902429  0.        ]<br>6 (C)",
          "[ 0.71       17.37853644  0.        ]<br>7 (C)",
          "[ 0.71       19.83804859  0.        ]<br>8 (C)",
          "[ 2.13 10.    0.  ]<br>9 (C)",
          "[ 2.13       12.45951215  0.        ]<br>10 (C)",
          "[ 2.13       14.91902429  0.        ]<br>11 (C)",
          "[ 2.13       17.37853644  0.        ]<br>12 (C)",
          "[ 2.13       19.83804859  0.        ]<br>13 (C)",
          "[ 2.84       11.22975607  0.        ]<br>14 (C)",
          "[ 2.84       13.68926822  0.        ]<br>15 (C)",
          "[ 2.84       16.14878037  0.        ]<br>16 (C)",
          "[ 2.84       18.60829251  0.        ]<br>17 (C)"
         ],
         "type": "scatter",
         "uid": "218efa97-521c-4d74-b663-35a03bc3da0a",
         "x": {
          "dtype": "float64",
          "shape": [
           18
          ]
         },
         "y": {
          "dtype": "float64",
          "shape": [
           18
          ]
         }
        },
        {
         "mode": "lines",
         "name": "Unit cell",
         "type": "scatter",
         "uid": "51350161-56a4-4508-b552-f23388e1e380",
         "x": {
          "dtype": "float64",
          "shape": [
           16
          ]
         },
         "y": {
          "dtype": "float64",
          "shape": [
           16
          ]
         }
        }
       ],
       "_dom_classes": [],
       "_js2py_layoutDelta": {},
       "_js2py_pointsCallback": {},
       "_js2py_relayout": {},
       "_js2py_restyle": {},
       "_js2py_traceDeltas": {},
       "_js2py_update": {},
       "_last_layout_edit_id": 0,
       "_last_trace_edit_id": 0,
       "_layout": {
        "scene": {
         "aspectmode": "data"
        },
        "template": {
         "layout": {
          "hovermode": "closest",
          "paper_bgcolor": "white",
          "plot_bgcolor": "white",
          "scene": {
           "xaxis": {
            "color": "black",
            "gridcolor": "#ccc",
            "gridwidth": 1,
            "linewidth": 1,
            "mirror": true,
            "showgrid": false,
            "showline": true,
            "ticklen": 5,
            "ticks": "outside",
            "ticksuffix": " ",
            "visible": true,
            "zeroline": false,
            "zerolinecolor": "#ccc",
            "zerolinewidth": 1
           },
           "yaxis": {
            "color": "black",
            "gridcolor": "#ccc",
            "gridwidth": 1,
            "linewidth": 1,
            "mirror": true,
            "showgrid": false,
            "showline": true,
            "ticklen": 5,
            "ticks": "outside",
            "ticksuffix": " ",
            "visible": true,
            "zeroline": false,
            "zerolinecolor": "#ccc",
            "zerolinewidth": 1
           },
           "zaxis": {
            "color": "black",
            "gridcolor": "#ccc",
            "gridwidth": 1,
            "linewidth": 1,
            "mirror": true,
            "showgrid": false,
            "showline": true,
            "ticklen": 5,
            "ticks": "outside",
            "ticksuffix": " ",
            "visible": true,
            "zeroline": false,
            "zerolinecolor": "#ccc",
            "zerolinewidth": 1
           }
          },
          "xaxis": {
           "color": "black",
           "gridcolor": "#ccc",
           "gridwidth": 1,
           "linewidth": 1,
           "mirror": true,
           "showgrid": false,
           "showline": true,
           "ticklen": 5,
           "ticks": "outside",
           "ticksuffix": " ",
           "visible": true,
           "zeroline": false,
           "zerolinecolor": "#ccc",
           "zerolinewidth": 1
          },
          "yaxis": {
           "color": "black",
           "gridcolor": "#ccc",
           "gridwidth": 1,
           "linewidth": 1,
           "mirror": true,
           "showgrid": false,
           "showline": true,
           "ticklen": 5,
           "ticks": "outside",
           "ticksuffix": " ",
           "visible": true,
           "zeroline": false,
           "zerolinecolor": "#ccc",
           "zerolinewidth": 1
          }
         }
        },
        "xaxis": {
         "title": {
          "text": "[1 1 0]"
         }
        },
        "yaxis": {
         "scaleanchor": "x",
         "scaleratio": 1,
         "title": {
          "text": "[ 2 -2  0]"
         }
        }
       },
       "_model_module": "plotlywidget",
       "_model_module_version": "^4.14.3",
       "_model_name": "FigureModel",
       "_py2js_addTraces": {},
       "_py2js_animate": {},
       "_py2js_deleteTraces": {},
       "_py2js_moveTraces": {},
       "_py2js_relayout": {},
       "_py2js_removeLayoutProps": {},
       "_py2js_removeTraceProps": {},
       "_py2js_restyle": {},
       "_py2js_update": {},
       "_view_count": 0,
       "_view_module": "plotlywidget",
       "_view_module_version": "^4.14.3",
       "_view_name": "FigureView"
      }
     },
     "53ec3418d27746b1ae445c32fbdc59f1": {
      "buffers": [
       {
        "data": "AAAAAAAAAAAAAAAAAAAAAAAAAAAAAAAAAAAAAAAAAABWVVVVVVXFP1ZVVVVVVcU/VlVVVVVVxT9WVVVVVVXFP1ZVVVVVVcU/AAAAAAAA4D8AAAAAAADgPwAAAAAAAOA/AAAAAAAA4D8AAAAAAADgP1ZVVVVVVeU/VlVVVVVV5T9WVVVVVVXlP1ZVVVVVVeU/",
        "encoding": "base64",
        "path": [
         "_data",
         1,
         "x",
         "buffer"
        ]
       },
       {
        "data": "cJIPw6lA1j85yYfhVCDbPwIAAAAAAOA/Zhs8j9Vv4j8Md9Mz1NDTP9WtS1J/sNg/neTDcCqQ3T+zDZ7H6jfhPxcp2lbAp+M/DHfTM9TQ0z/VrUtSf7DYP53kw3AqkN0/sw2ex+o34T8XKdpWwKfjP3CSD8OpQNY/OcmH4VQg2z8CAAAAAADgP2YbPI/Vb+I/",
        "encoding": "base64",
        "path": [
         "_data",
         1,
         "y",
         "buffer"
        ]
       },
       {
        "data": "AAAAAAAAAAAAAAAAAAAAAAAAAAAAAPA/AAAAAAAA8D8AAAAAAAAAAAAAAAAAAAAAAAAAAAAAAAAAAAAAAAAAAAAAAAAAAAAAAAAAAAAA8D8AAAAAAADwPwAAAAAAAPA/AAAAAAAA8D8AAAAAAADwPwAAAAAAAPA/AAAAAAAAAAA=",
        "encoding": "base64",
        "path": [
         "_data",
         2,
         "x",
         "buffer"
        ]
       },
       {
        "data": "AAAAAAAAAAABAAAAAADwPwEAAAAAAPA/AAAAAAAAAAAAAAAAAAAAAAAAAAAAAAAAAQAAAAAA8D8BAAAAAADwPwEAAAAAAPA/AQAAAAAA8D8BAAAAAADwPwAAAAAAAAAAAAAAAAAAAAABAAAAAADwPwAAAAAAAAAAAAAAAAAAAAA=",
        "encoding": "base64",
        "path": [
         "_data",
         2,
         "y",
         "buffer"
        ]
       }
      ],
      "model_module": "plotlywidget",
      "model_module_version": "^4.14.3",
      "model_name": "FigureModel",
      "state": {
       "_config": {
        "plotlyServerURL": "https://plot.ly"
       },
       "_data": [
        {
         "line": {
          "color": "#cccccc",
          "width": 3
         },
         "mode": "lines",
         "name": "bonds",
         "type": "scatter",
         "uid": "b80d9ca9-9ad7-4f78-88d4-b6b4cf45a2b0",
         "x": [
          0.0,
          0.16666666666666669,
          null,
          0.0,
          0.16666666666666669,
          null,
          0.0,
          -0.33333333333333337,
          null,
          0.0,
          0.16666666666666669,
          null,
          0.0,
          0.16666666666666669,
          null,
          0.0,
          -0.33333333333333337,
          null,
          0.0,
          0.16666666666666669,
          null,
          0.0,
          0.16666666666666669,
          null,
          0.0,
          -0.33333333333333337,
          null,
          0.0,
          0.16666666666666669,
          null,
          0.0,
          0.16666666666666669,
          null,
          0.0,
          -0.33333333333333337,
          null,
          0.16666666666666669,
          0.5,
          null,
          0.16666666666666669,
          0.5,
          null,
          0.16666666666666669,
          0.5,
          null,
          0.16666666666666669,
          0.5,
          null,
          0.16666666666666669,
          0.5,
          null,
          0.5,
          0.6666666666666667,
          null,
          0.5,
          0.6666666666666667,
          null,
          0.5,
          0.6666666666666667,
          null,
          0.5,
          0.6666666666666667,
          null,
          0.5,
          0.6666666666666667,
          null,
          0.5,
          0.6666666666666667,
          null,
          0.5,
          0.6666666666666667,
          null,
          0.5,
          0.6666666666666667,
          null,
          0.6666666666666667,
          1.0,
          null,
          0.6666666666666667,
          1.0,
          null,
          0.6666666666666667,
          1.0,
          null,
          0.6666666666666667,
          1.0,
          null
         ],
         "y": [
          0.3476967244044209,
          0.3096209055055261,
          null,
          0.3476967244044209,
          0.38577254330331573,
          null,
          0.3476967244044209,
          0.3476967244044209,
          null,
          0.4238483622022105,
          0.38577254330331573,
          null,
          0.4238483622022105,
          0.4619241811011053,
          null,
          0.4238483622022105,
          0.4238483622022105,
          null,
          0.5000000000000002,
          0.4619241811011053,
          null,
          0.5000000000000002,
          0.5380758188988949,
          null,
          0.5000000000000002,
          0.5000000000000002,
          null,
          0.5761516377977898,
          0.5380758188988949,
          null,
          0.5761516377977898,
          0.6142274566966844,
          null,
          0.5761516377977898,
          0.5761516377977898,
          null,
          0.3096209055055261,
          0.3096209055055261,
          null,
          0.38577254330331573,
          0.38577254330331573,
          null,
          0.4619241811011053,
          0.4619241811011053,
          null,
          0.5380758188988949,
          0.5380758188988949,
          null,
          0.6142274566966844,
          0.6142274566966844,
          null,
          0.3096209055055261,
          0.3476967244044209,
          null,
          0.38577254330331573,
          0.3476967244044209,
          null,
          0.38577254330331573,
          0.4238483622022105,
          null,
          0.4619241811011053,
          0.4238483622022105,
          null,
          0.4619241811011053,
          0.5000000000000002,
          null,
          0.5380758188988949,
          0.5000000000000002,
          null,
          0.5380758188988949,
          0.5761516377977898,
          null,
          0.6142274566966844,
          0.5761516377977898,
          null,
          0.3476967244044209,
          0.3476967244044209,
          null,
          0.4238483622022105,
          0.4238483622022105,
          null,
          0.5000000000000002,
          0.5000000000000002,
          null,
          0.5761516377977898,
          0.5761516377977898,
          null
         ]
        },
        {
         "marker": {
          "color": [
           "grey",
           "grey",
           "grey",
           "grey",
           "grey",
           "grey",
           "grey",
           "grey",
           "grey",
           "grey",
           "grey",
           "grey",
           "grey",
           "grey",
           "grey",
           "grey",
           "grey",
           "grey"
          ],
          "size": [
           10.72,
           10.72,
           10.72,
           10.72,
           10.72,
           10.72,
           10.72,
           10.72,
           10.72,
           10.72,
           10.72,
           10.72,
           10.72,
           10.72,
           10.72,
           10.72,
           10.72,
           10.72
          ]
         },
         "mode": "markers",
         "name": "Atoms",
         "text": [
          "[ 0.         11.22975607  0.        ]<br>0 (C)",
          "[ 0.         13.68926822  0.        ]<br>1 (C)",
          "[ 0.         16.14878037  0.        ]<br>2 (C)",
          "[ 0.         18.60829251  0.        ]<br>3 (C)",
          "[ 0.71 10.    0.  ]<br>4 (C)",
          "[ 0.71       12.45951215  0.        ]<br>5 (C)",
          "[ 0.71       14.91902429  0.        ]<br>6 (C)",
          "[ 0.71       17.37853644  0.        ]<br>7 (C)",
          "[ 0.71       19.83804859  0.        ]<br>8 (C)",
          "[ 2.13 10.    0.  ]<br>9 (C)",
          "[ 2.13       12.45951215  0.        ]<br>10 (C)",
          "[ 2.13       14.91902429  0.        ]<br>11 (C)",
          "[ 2.13       17.37853644  0.        ]<br>12 (C)",
          "[ 2.13       19.83804859  0.        ]<br>13 (C)",
          "[ 2.84       11.22975607  0.        ]<br>14 (C)",
          "[ 2.84       13.68926822  0.        ]<br>15 (C)",
          "[ 2.84       16.14878037  0.        ]<br>16 (C)",
          "[ 2.84       18.60829251  0.        ]<br>17 (C)"
         ],
         "type": "scatter",
         "uid": "237b5c51-defa-4a11-97aa-4c01943828be",
         "x": {
          "dtype": "float64",
          "shape": [
           18
          ]
         },
         "y": {
          "dtype": "float64",
          "shape": [
           18
          ]
         }
        },
        {
         "mode": "lines",
         "name": "Unit cell",
         "type": "scatter",
         "uid": "6a570254-0fca-4f17-be2a-237181e58014",
         "x": {
          "dtype": "float64",
          "shape": [
           16
          ]
         },
         "y": {
          "dtype": "float64",
          "shape": [
           16
          ]
         }
        }
       ],
       "_dom_classes": [],
       "_js2py_layoutDelta": {},
       "_js2py_pointsCallback": {},
       "_js2py_relayout": {},
       "_js2py_restyle": {},
       "_js2py_traceDeltas": {},
       "_js2py_update": {},
       "_last_layout_edit_id": 0,
       "_last_trace_edit_id": 0,
       "_layout": {
        "scene": {
         "aspectmode": "data"
        },
        "template": {
         "layout": {
          "hovermode": "closest",
          "paper_bgcolor": "white",
          "plot_bgcolor": "white",
          "scene": {
           "xaxis": {
            "color": "black",
            "gridcolor": "#ccc",
            "gridwidth": 1,
            "linewidth": 1,
            "mirror": true,
            "showgrid": false,
            "showline": true,
            "ticklen": 5,
            "ticks": "outside",
            "ticksuffix": " ",
            "visible": true,
            "zeroline": false,
            "zerolinecolor": "#ccc",
            "zerolinewidth": 1
           },
           "yaxis": {
            "color": "black",
            "gridcolor": "#ccc",
            "gridwidth": 1,
            "linewidth": 1,
            "mirror": true,
            "showgrid": false,
            "showline": true,
            "ticklen": 5,
            "ticks": "outside",
            "ticksuffix": " ",
            "visible": true,
            "zeroline": false,
            "zerolinecolor": "#ccc",
            "zerolinewidth": 1
           },
           "zaxis": {
            "color": "black",
            "gridcolor": "#ccc",
            "gridwidth": 1,
            "linewidth": 1,
            "mirror": true,
            "showgrid": false,
            "showline": true,
            "ticklen": 5,
            "ticks": "outside",
            "ticksuffix": " ",
            "visible": true,
            "zeroline": false,
            "zerolinecolor": "#ccc",
            "zerolinewidth": 1
           }
          },
          "xaxis": {
           "color": "black",
           "gridcolor": "#ccc",
           "gridwidth": 1,
           "linewidth": 1,
           "mirror": true,
           "showgrid": false,
           "showline": true,
           "ticklen": 5,
           "ticks": "outside",
           "ticksuffix": " ",
           "visible": true,
           "zeroline": false,
           "zerolinecolor": "#ccc",
           "zerolinewidth": 1
          },
          "yaxis": {
           "color": "black",
           "gridcolor": "#ccc",
           "gridwidth": 1,
           "linewidth": 1,
           "mirror": true,
           "showgrid": false,
           "showline": true,
           "ticklen": 5,
           "ticks": "outside",
           "ticksuffix": " ",
           "visible": true,
           "zeroline": false,
           "zerolinecolor": "#ccc",
           "zerolinewidth": 1
          }
         }
        },
        "xaxis": {
         "title": {
          "text": "A lattice vector"
         }
        },
        "yaxis": {
         "scaleanchor": "x",
         "scaleratio": 1,
         "title": {
          "text": "B lattice vector"
         }
        }
       },
       "_model_module": "plotlywidget",
       "_model_module_version": "^4.14.3",
       "_model_name": "FigureModel",
       "_py2js_addTraces": {},
       "_py2js_animate": {},
       "_py2js_deleteTraces": {},
       "_py2js_moveTraces": {},
       "_py2js_relayout": {},
       "_py2js_removeLayoutProps": {},
       "_py2js_removeTraceProps": {},
       "_py2js_restyle": {},
       "_py2js_update": {},
       "_view_count": 0,
       "_view_module": "plotlywidget",
       "_view_module_version": "^4.14.3",
       "_view_name": "FigureView"
      }
     },
     "710c0bfa4eef48d28bc65bb1d2b9d28f": {
      "buffers": [
       {
        "data": "hmWKlqJ1JkCSMJ/D52ArQND9WXgWJjBAVmPkDrmbMkAAAAAAAAAkQAzLFC1F6yhAGJYpWorWLUCSMJ/D52AxQBiWKVqK1jNAAAAAAAAAJEAMyxQtResoQBiWKVqK1i1AkjCfw+dgMUAYlilaitYzQIZlipaidSZAkjCfw+dgK0DQ/Vl4FiYwQFZj5A65mzJA",
        "encoding": "base64",
        "path": [
         "_data",
         1,
         "marker",
         "color",
         "buffer"
        ]
       },
       {
        "data": "AAAAAAAAAAAAAAAAAAAAAAAAAAAAAAAAAAAAAAAAAABmZmZmZmYcQGZmZmZmZhxAZmZmZmZmHEBmZmZmZmYcQGZmZmZmZhxAzMzMzMxMNUDMzMzMzEw1QMzMzMzMTDVAzMzMzMxMNUDMzMzMzEw1QGZmZmZmZjxAZmZmZmZmPEBmZmZmZmY8QGZmZmZmZjxA",
        "encoding": "base64",
        "path": [
         "_data",
         1,
         "marker",
         "size",
         "buffer"
        ]
       },
       {
        "data": "AAAAAAAAAAAAAAAAAAAAAAAAAAAAAAAAAAAAAAAAAAC4HoXrUbjmP7gehetRuOY/uB6F61G45j+4HoXrUbjmP7gehetRuOY/CtejcD0KAUAK16NwPQoBQArXo3A9CgFACtejcD0KAUAK16NwPQoBQLgehetRuAZAuB6F61G4BkC4HoXrUbgGQLgehetRuAZA",
        "encoding": "base64",
        "path": [
         "_data",
         1,
         "x",
         "buffer"
        ]
       },
       {
        "data": "hmWKlqJ1JkCSMJ/D52ArQND9WXgWJjBAVmPkDrmbMkAAAAAAAAAkQAzLFC1F6yhAGJYpWorWLUCSMJ/D52AxQBiWKVqK1jNAAAAAAAAAJEAMyxQtResoQBiWKVqK1i1AkjCfw+dgMUAYlilaitYzQIZlipaidSZAkjCfw+dgK0DQ/Vl4FiYwQFZj5A65mzJA",
        "encoding": "base64",
        "path": [
         "_data",
         1,
         "y",
         "buffer"
        ]
       },
       {
        "data": "AAAAAAAAAAAAAAAAAAAAAArXo3A9ChFACtejcD0KEUAAAAAAAAAAAAAAAAAAAAAAAAAAAAAAAAAAAAAAAAAAAAAAAAAAAAAACtejcD0KEUAK16NwPQoRQArXo3A9ChFACtejcD0KEUAK16NwPQoRQArXo3A9ChFAAAAAAAAAAAA=",
        "encoding": "base64",
        "path": [
         "_data",
         2,
         "x",
         "buffer"
        ]
       },
       {
        "data": "AAAAAAAAAADP/Vl4FiZAQM/9WXgWJkBAAAAAAAAAAAAAAAAAAAAAAAAAAAAAAAAAz/1ZeBYmQEDP/Vl4FiZAQM/9WXgWJkBAz/1ZeBYmQEDP/Vl4FiZAQAAAAAAAAAAAAAAAAAAAAADP/Vl4FiZAQAAAAAAAAAAAAAAAAAAAAAA=",
        "encoding": "base64",
        "path": [
         "_data",
         2,
         "y",
         "buffer"
        ]
       }
      ],
      "model_module": "plotlywidget",
      "model_module_version": "^4.14.3",
      "model_name": "FigureModel",
      "state": {
       "_config": {
        "plotlyServerURL": "https://plot.ly"
       },
       "_data": [
        {
         "line": {
          "color": "#cccccc",
          "width": 3
         },
         "mode": "lines",
         "name": "bonds",
         "type": "scatter",
         "uid": "d9c2191f-327f-43b6-997f-61b61b48a633",
         "x": [
          0.0,
          0.71,
          null,
          0.0,
          0.71,
          null,
          0.0,
          -1.42,
          null,
          0.0,
          0.71,
          null,
          0.0,
          0.71,
          null,
          0.0,
          -1.42,
          null,
          0.0,
          0.71,
          null,
          0.0,
          0.71,
          null,
          0.0,
          -1.42,
          null,
          0.0,
          0.71,
          null,
          0.0,
          0.71,
          null,
          0.0,
          -1.42,
          null,
          0.71,
          2.13,
          null,
          0.71,
          2.13,
          null,
          0.71,
          2.13,
          null,
          0.71,
          2.13,
          null,
          0.71,
          2.13,
          null,
          2.13,
          2.84,
          null,
          2.13,
          2.84,
          null,
          2.13,
          2.84,
          null,
          2.13,
          2.84,
          null,
          2.13,
          2.84,
          null,
          2.13,
          2.84,
          null,
          2.13,
          2.84,
          null,
          2.13,
          2.84,
          null,
          2.84,
          4.26,
          null,
          2.84,
          4.26,
          null,
          2.84,
          4.26,
          null,
          2.84,
          4.26,
          null
         ],
         "y": [
          11.229756073373903,
          10.0,
          null,
          11.229756073373903,
          12.459512146747805,
          null,
          11.229756073373903,
          11.229756073373903,
          null,
          13.689268220121708,
          12.459512146747805,
          null,
          13.689268220121708,
          14.91902429349561,
          null,
          13.689268220121708,
          13.689268220121708,
          null,
          16.148780366869516,
          14.91902429349561,
          null,
          16.148780366869516,
          17.378536440243415,
          null,
          16.148780366869516,
          16.148780366869516,
          null,
          18.60829251361732,
          17.378536440243415,
          null,
          18.60829251361732,
          19.83804858699122,
          null,
          18.60829251361732,
          18.60829251361732,
          null,
          10.0,
          10.0,
          null,
          12.459512146747805,
          12.459512146747805,
          null,
          14.91902429349561,
          14.91902429349561,
          null,
          17.378536440243415,
          17.378536440243415,
          null,
          19.83804858699122,
          19.83804858699122,
          null,
          10.0,
          11.229756073373903,
          null,
          12.459512146747805,
          11.229756073373903,
          null,
          12.459512146747805,
          13.689268220121708,
          null,
          14.91902429349561,
          13.689268220121708,
          null,
          14.91902429349561,
          16.148780366869516,
          null,
          17.378536440243415,
          16.148780366869516,
          null,
          17.378536440243415,
          18.60829251361732,
          null,
          19.83804858699122,
          18.60829251361732,
          null,
          11.229756073373903,
          11.229756073373903,
          null,
          13.689268220121708,
          13.689268220121708,
          null,
          16.148780366869516,
          16.148780366869516,
          null,
          18.60829251361732,
          18.60829251361732,
          null
         ]
        },
        {
         "marker": {
          "color": {
           "dtype": "float64",
           "shape": [
            18
           ]
          },
          "colorscale": [
           [
            0.0,
            "#440154"
           ],
           [
            0.1111111111111111,
            "#482878"
           ],
           [
            0.2222222222222222,
            "#3e4989"
           ],
           [
            0.3333333333333333,
            "#31688e"
           ],
           [
            0.4444444444444444,
            "#26828e"
           ],
           [
            0.5555555555555556,
            "#1f9e89"
           ],
           [
            0.6666666666666666,
            "#35b779"
           ],
           [
            0.7777777777777778,
            "#6ece58"
           ],
           [
            0.8888888888888888,
            "#b5de2b"
           ],
           [
            1.0,
            "#fde725"
           ]
          ],
          "size": {
           "dtype": "float64",
           "shape": [
            18
           ]
          }
         },
         "mode": "markers",
         "name": "Atoms",
         "text": [
          "Color: 11.229756073373903",
          "Color: 13.689268220121708",
          "Color: 16.148780366869516",
          "Color: 18.60829251361732",
          "Color: 10.0",
          "Color: 12.459512146747805",
          "Color: 14.91902429349561",
          "Color: 17.378536440243415",
          "Color: 19.83804858699122",
          "Color: 10.0",
          "Color: 12.459512146747805",
          "Color: 14.91902429349561",
          "Color: 17.378536440243415",
          "Color: 19.83804858699122",
          "Color: 11.229756073373903",
          "Color: 13.689268220121708",
          "Color: 16.148780366869516",
          "Color: 18.60829251361732"
         ],
         "type": "scatter",
         "uid": "e266a11a-1e6b-4f80-a9de-1cf4ff0df42e",
         "x": {
          "dtype": "float64",
          "shape": [
           18
          ]
         },
         "y": {
          "dtype": "float64",
          "shape": [
           18
          ]
         }
        },
        {
         "mode": "lines",
         "name": "Unit cell",
         "type": "scatter",
         "uid": "a9006e64-7903-4e16-ab13-8fc880e805ec",
         "x": {
          "dtype": "float64",
          "shape": [
           16
          ]
         },
         "y": {
          "dtype": "float64",
          "shape": [
           16
          ]
         }
        }
       ],
       "_dom_classes": [],
       "_js2py_layoutDelta": {},
       "_js2py_pointsCallback": {},
       "_js2py_relayout": {},
       "_js2py_restyle": {},
       "_js2py_traceDeltas": {},
       "_js2py_update": {},
       "_last_layout_edit_id": 0,
       "_last_trace_edit_id": 0,
       "_layout": {
        "scene": {
         "aspectmode": "data"
        },
        "template": {
         "layout": {
          "hovermode": "closest",
          "paper_bgcolor": "white",
          "plot_bgcolor": "white",
          "scene": {
           "xaxis": {
            "color": "black",
            "gridcolor": "#ccc",
            "gridwidth": 1,
            "linewidth": 1,
            "mirror": true,
            "showgrid": false,
            "showline": true,
            "ticklen": 5,
            "ticks": "outside",
            "ticksuffix": " ",
            "visible": true,
            "zeroline": false,
            "zerolinecolor": "#ccc",
            "zerolinewidth": 1
           },
           "yaxis": {
            "color": "black",
            "gridcolor": "#ccc",
            "gridwidth": 1,
            "linewidth": 1,
            "mirror": true,
            "showgrid": false,
            "showline": true,
            "ticklen": 5,
            "ticks": "outside",
            "ticksuffix": " ",
            "visible": true,
            "zeroline": false,
            "zerolinecolor": "#ccc",
            "zerolinewidth": 1
           },
           "zaxis": {
            "color": "black",
            "gridcolor": "#ccc",
            "gridwidth": 1,
            "linewidth": 1,
            "mirror": true,
            "showgrid": false,
            "showline": true,
            "ticklen": 5,
            "ticks": "outside",
            "ticksuffix": " ",
            "visible": true,
            "zeroline": false,
            "zerolinecolor": "#ccc",
            "zerolinewidth": 1
           }
          },
          "xaxis": {
           "color": "black",
           "gridcolor": "#ccc",
           "gridwidth": 1,
           "linewidth": 1,
           "mirror": true,
           "showgrid": false,
           "showline": true,
           "ticklen": 5,
           "ticks": "outside",
           "ticksuffix": " ",
           "visible": true,
           "zeroline": false,
           "zerolinecolor": "#ccc",
           "zerolinewidth": 1
          },
          "yaxis": {
           "color": "black",
           "gridcolor": "#ccc",
           "gridwidth": 1,
           "linewidth": 1,
           "mirror": true,
           "showgrid": false,
           "showline": true,
           "ticklen": 5,
           "ticks": "outside",
           "ticksuffix": " ",
           "visible": true,
           "zeroline": false,
           "zerolinecolor": "#ccc",
           "zerolinewidth": 1
          }
         }
        },
        "xaxis": {
         "title": {
          "text": "X axis [Ang]"
         }
        },
        "yaxis": {
         "scaleanchor": "x",
         "scaleratio": 1,
         "title": {
          "text": "Y axis [Ang]"
         }
        }
       },
       "_model_module": "plotlywidget",
       "_model_module_version": "^4.14.3",
       "_model_name": "FigureModel",
       "_py2js_addTraces": {},
       "_py2js_animate": {},
       "_py2js_deleteTraces": {},
       "_py2js_moveTraces": {},
       "_py2js_relayout": {},
       "_py2js_removeLayoutProps": {},
       "_py2js_removeTraceProps": {},
       "_py2js_restyle": {},
       "_py2js_update": {},
       "_view_count": 0,
       "_view_module": "plotlywidget",
       "_view_module_version": "^4.14.3",
       "_view_name": "FigureView"
      }
     },
     "77eae67711434a75bf6e156d3ad297ae": {
      "buffers": [
       {
        "data": "AAAAAAAAAAAAAAAAAAAAAAAAAAAAAAAAAAAAAAAAAAC4HoXrUbjmP7gehetRuOY/uB6F61G45j+4HoXrUbjmP7gehetRuOY/CtejcD0KAUAK16NwPQoBQArXo3A9CgFACtejcD0KAUAK16NwPQoBQLgehetRuAZAuB6F61G4BkC4HoXrUbgGQLgehetRuAZA",
        "encoding": "base64",
        "path": [
         "_data",
         0,
         "x",
         "buffer"
        ]
       },
       {
        "data": "AAAAAAAAAAAAAAAAAAAAAAAAAAAAAAAAAAAAAAAAAABD6B5/0tvkP0PoHn/S2+Q/Q+gef9Lb5D9D6B5/0tvkP0PoHn/S2+Q/+FwdRy0g6z/4XB1HLSDrP/hcHUctIOs/+FwdRy0g6z/4XB1HLSDrPxwKW7q5AtM/HApburkC0z8cClu6uQLTPxwKW7q5AtM/",
        "encoding": "base64",
        "path": [
         "_data",
         0,
         "y",
         "buffer"
        ]
       }
      ],
      "model_module": "plotlywidget",
      "model_module_version": "^4.14.3",
      "model_name": "FigureModel",
      "state": {
       "_config": {
        "plotlyServerURL": "https://plot.ly"
       },
       "_data": [
        {
         "marker": {
          "color": [
           "grey",
           "grey",
           "grey",
           "grey",
           "grey",
           "grey",
           "grey",
           "grey",
           "grey",
           "grey",
           "grey",
           "grey",
           "grey",
           "grey",
           "grey",
           "grey",
           "grey",
           "grey"
          ],
          "size": [
           10.72,
           10.72,
           10.72,
           10.72,
           10.72,
           10.72,
           10.72,
           10.72,
           10.72,
           10.72,
           10.72,
           10.72,
           10.72,
           10.72,
           10.72,
           10.72,
           10.72,
           10.72
          ]
         },
         "mode": "markers",
         "name": "Atoms",
         "text": [
          "[ 0.         11.22975607  0.        ]<br>0 (C)",
          "[ 0.         13.68926822  0.        ]<br>1 (C)",
          "[ 0.         16.14878037  0.        ]<br>2 (C)",
          "[ 0.         18.60829251  0.        ]<br>3 (C)",
          "[ 0.71 10.    0.  ]<br>4 (C)",
          "[ 0.71       12.45951215  0.        ]<br>5 (C)",
          "[ 0.71       14.91902429  0.        ]<br>6 (C)",
          "[ 0.71       17.37853644  0.        ]<br>7 (C)",
          "[ 0.71       19.83804859  0.        ]<br>8 (C)",
          "[ 2.13 10.    0.  ]<br>9 (C)",
          "[ 2.13       12.45951215  0.        ]<br>10 (C)",
          "[ 2.13       14.91902429  0.        ]<br>11 (C)",
          "[ 2.13       17.37853644  0.        ]<br>12 (C)",
          "[ 2.13       19.83804859  0.        ]<br>13 (C)",
          "[ 2.84       11.22975607  0.        ]<br>14 (C)",
          "[ 2.84       13.68926822  0.        ]<br>15 (C)",
          "[ 2.84       16.14878037  0.        ]<br>16 (C)",
          "[ 2.84       18.60829251  0.        ]<br>17 (C)"
         ],
         "type": "scatter",
         "uid": "2dcbbaed-9e60-46e3-9232-f2e938f52ae7",
         "x": {
          "dtype": "float64",
          "shape": [
           18
          ]
         },
         "y": {
          "dtype": "float64",
          "shape": [
           18
          ]
         }
        }
       ],
       "_dom_classes": [],
       "_js2py_layoutDelta": {},
       "_js2py_pointsCallback": {},
       "_js2py_relayout": {},
       "_js2py_restyle": {},
       "_js2py_traceDeltas": {},
       "_js2py_update": {},
       "_last_layout_edit_id": 0,
       "_last_trace_edit_id": 0,
       "_layout": {
        "scene": {
         "aspectmode": "data"
        },
        "template": {
         "layout": {
          "hovermode": "closest",
          "paper_bgcolor": "white",
          "plot_bgcolor": "white",
          "scene": {
           "xaxis": {
            "color": "black",
            "gridcolor": "#ccc",
            "gridwidth": 1,
            "linewidth": 1,
            "mirror": true,
            "showgrid": false,
            "showline": true,
            "ticklen": 5,
            "ticks": "outside",
            "ticksuffix": " ",
            "visible": true,
            "zeroline": false,
            "zerolinecolor": "#ccc",
            "zerolinewidth": 1
           },
           "yaxis": {
            "color": "black",
            "gridcolor": "#ccc",
            "gridwidth": 1,
            "linewidth": 1,
            "mirror": true,
            "showgrid": false,
            "showline": true,
            "ticklen": 5,
            "ticks": "outside",
            "ticksuffix": " ",
            "visible": true,
            "zeroline": false,
            "zerolinecolor": "#ccc",
            "zerolinewidth": 1
           },
           "zaxis": {
            "color": "black",
            "gridcolor": "#ccc",
            "gridwidth": 1,
            "linewidth": 1,
            "mirror": true,
            "showgrid": false,
            "showline": true,
            "ticklen": 5,
            "ticks": "outside",
            "ticksuffix": " ",
            "visible": true,
            "zeroline": false,
            "zerolinecolor": "#ccc",
            "zerolinewidth": 1
           }
          },
          "xaxis": {
           "color": "black",
           "gridcolor": "#ccc",
           "gridwidth": 1,
           "linewidth": 1,
           "mirror": true,
           "showgrid": false,
           "showline": true,
           "ticklen": 5,
           "ticks": "outside",
           "ticksuffix": " ",
           "visible": true,
           "zeroline": false,
           "zerolinecolor": "#ccc",
           "zerolinewidth": 1
          },
          "yaxis": {
           "color": "black",
           "gridcolor": "#ccc",
           "gridwidth": 1,
           "linewidth": 1,
           "mirror": true,
           "showgrid": false,
           "showline": true,
           "ticklen": 5,
           "ticks": "outside",
           "ticksuffix": " ",
           "visible": true,
           "zeroline": false,
           "zerolinecolor": "#ccc",
           "zerolinewidth": 1
          }
         }
        },
        "xaxis": {
         "title": {
          "text": "X axis [Ang]"
         }
        },
        "yaxis": {
         "scaleanchor": "x",
         "scaleratio": 1,
         "title": {
          "text": "sin"
         }
        }
       },
       "_model_module": "plotlywidget",
       "_model_module_version": "^4.14.3",
       "_model_name": "FigureModel",
       "_py2js_addTraces": {},
       "_py2js_animate": {},
       "_py2js_deleteTraces": {},
       "_py2js_moveTraces": {},
       "_py2js_relayout": {},
       "_py2js_removeLayoutProps": {},
       "_py2js_removeTraceProps": {},
       "_py2js_restyle": {},
       "_py2js_update": {},
       "_view_count": 0,
       "_view_module": "plotlywidget",
       "_view_module_version": "^4.14.3",
       "_view_name": "FigureView"
      }
     },
     "90d6494f21284d4a971f186eb745d543": {
      "buffers": [
       {
        "data": "AAAAAAAAAAAAAAAAAAAAAAAAAAAAAAAAuB6F61G45j+4HoXrUbjmPw==",
        "encoding": "base64",
        "path": [
         "_data",
         1,
         "x",
         "buffer"
        ]
       },
       {
        "data": "kjCfw+dgK0DQ/Vl4FiYwQFZj5A65mzJAAAAAAAAAJEAMyxQtResoQA==",
        "encoding": "base64",
        "path": [
         "_data",
         1,
         "y",
         "buffer"
        ]
       },
       {
        "data": "AAAAAAAAAAAK16NwPQoRQA==",
        "encoding": "base64",
        "path": [
         "_data",
         2,
         "x",
         "buffer"
        ]
       },
       {
        "data": "AAAAAAAAAAAAAAAAAAAAAA==",
        "encoding": "base64",
        "path": [
         "_data",
         2,
         "y",
         "buffer"
        ]
       },
       {
        "data": "AAAAAAAAAAAAAAAAAAAAAA==",
        "encoding": "base64",
        "path": [
         "_data",
         3,
         "x",
         "buffer"
        ]
       },
       {
        "data": "AAAAAAAAAADP/Vl4FiZAQA==",
        "encoding": "base64",
        "path": [
         "_data",
         3,
         "y",
         "buffer"
        ]
       },
       {
        "data": "AAAAAAAAAAAAAAAAAAAAAA==",
        "encoding": "base64",
        "path": [
         "_data",
         4,
         "x",
         "buffer"
        ]
       },
       {
        "data": "AAAAAAAAAAAAAAAAAAAAAA==",
        "encoding": "base64",
        "path": [
         "_data",
         4,
         "y",
         "buffer"
        ]
       }
      ],
      "model_module": "plotlywidget",
      "model_module_version": "^4.14.3",
      "model_name": "FigureModel",
      "state": {
       "_config": {
        "plotlyServerURL": "https://plot.ly"
       },
       "_data": [
        {
         "line": {
          "color": "#cccccc",
          "width": 3
         },
         "mode": "lines",
         "name": "bonds",
         "type": "scatter",
         "uid": "73032a55-5ba3-4a5e-b93f-6812e8c2bed4",
         "x": [
          0.0,
          0.71,
          null,
          0.0,
          0.71,
          null,
          0.0,
          0.71,
          null,
          0.0,
          0.71,
          null,
          0.0,
          -1.42,
          null,
          0.0,
          0.71,
          null,
          0.0,
          0.71,
          null,
          0.0,
          -1.42,
          null,
          0.0,
          0.71,
          null,
          0.0,
          0.71,
          null,
          0.0,
          -1.42,
          null,
          0.71,
          2.13,
          null,
          0.71,
          2.13,
          null
         ],
         "y": [
          11.229756073373903,
          10.0,
          null,
          11.229756073373903,
          12.459512146747805,
          null,
          13.689268220121708,
          12.459512146747805,
          null,
          13.689268220121708,
          14.91902429349561,
          null,
          13.689268220121708,
          13.689268220121708,
          null,
          16.148780366869516,
          14.91902429349561,
          null,
          16.148780366869516,
          17.378536440243415,
          null,
          16.148780366869516,
          16.148780366869516,
          null,
          18.60829251361732,
          17.378536440243415,
          null,
          18.60829251361732,
          19.83804858699122,
          null,
          18.60829251361732,
          18.60829251361732,
          null,
          10.0,
          10.0,
          null,
          12.459512146747805,
          12.459512146747805,
          null
         ]
        },
        {
         "marker": {
          "color": [
           "grey",
           "grey",
           "grey",
           "grey",
           "grey"
          ],
          "size": [
           10.72,
           10.72,
           10.72,
           10.72,
           10.72
          ]
         },
         "mode": "markers",
         "name": "Atoms",
         "text": [
          "[ 0.         13.68926822  0.        ]<br>1 (C)",
          "[ 0.         16.14878037  0.        ]<br>2 (C)",
          "[ 0.         18.60829251  0.        ]<br>3 (C)",
          "[ 0.71 10.    0.  ]<br>4 (C)",
          "[ 0.71       12.45951215  0.        ]<br>5 (C)"
         ],
         "type": "scatter",
         "uid": "74c7abd1-879e-4a39-844d-ff2e56e070dc",
         "x": {
          "dtype": "float64",
          "shape": [
           5
          ]
         },
         "y": {
          "dtype": "float64",
          "shape": [
           5
          ]
         }
        },
        {
         "mode": "lines",
         "name": "Axis 0",
         "type": "scatter",
         "uid": "40877ee9-4104-45fc-bc49-52bb22fcd408",
         "x": {
          "dtype": "float64",
          "shape": [
           2
          ]
         },
         "y": {
          "dtype": "float64",
          "shape": [
           2
          ]
         }
        },
        {
         "mode": "lines",
         "name": "Axis 1",
         "type": "scatter",
         "uid": "a9517162-da32-47e1-958a-b34d36645147",
         "x": {
          "dtype": "float64",
          "shape": [
           2
          ]
         },
         "y": {
          "dtype": "float64",
          "shape": [
           2
          ]
         }
        },
        {
         "mode": "lines",
         "name": "Axis 2",
         "type": "scatter",
         "uid": "11643f14-a693-4700-a7c2-faa518db87b2",
         "x": {
          "dtype": "float64",
          "shape": [
           2
          ]
         },
         "y": {
          "dtype": "float64",
          "shape": [
           2
          ]
         }
        }
       ],
       "_dom_classes": [],
       "_js2py_layoutDelta": {},
       "_js2py_pointsCallback": {},
       "_js2py_relayout": {},
       "_js2py_restyle": {},
       "_js2py_traceDeltas": {},
       "_js2py_update": {},
       "_last_layout_edit_id": 0,
       "_last_trace_edit_id": 0,
       "_layout": {
        "scene": {
         "aspectmode": "data"
        },
        "template": {
         "layout": {
          "hovermode": "closest",
          "paper_bgcolor": "white",
          "plot_bgcolor": "white",
          "scene": {
           "xaxis": {
            "color": "black",
            "gridcolor": "#ccc",
            "gridwidth": 1,
            "linewidth": 1,
            "mirror": true,
            "showgrid": false,
            "showline": true,
            "ticklen": 5,
            "ticks": "outside",
            "ticksuffix": " ",
            "visible": true,
            "zeroline": false,
            "zerolinecolor": "#ccc",
            "zerolinewidth": 1
           },
           "yaxis": {
            "color": "black",
            "gridcolor": "#ccc",
            "gridwidth": 1,
            "linewidth": 1,
            "mirror": true,
            "showgrid": false,
            "showline": true,
            "ticklen": 5,
            "ticks": "outside",
            "ticksuffix": " ",
            "visible": true,
            "zeroline": false,
            "zerolinecolor": "#ccc",
            "zerolinewidth": 1
           },
           "zaxis": {
            "color": "black",
            "gridcolor": "#ccc",
            "gridwidth": 1,
            "linewidth": 1,
            "mirror": true,
            "showgrid": false,
            "showline": true,
            "ticklen": 5,
            "ticks": "outside",
            "ticksuffix": " ",
            "visible": true,
            "zeroline": false,
            "zerolinecolor": "#ccc",
            "zerolinewidth": 1
           }
          },
          "xaxis": {
           "color": "black",
           "gridcolor": "#ccc",
           "gridwidth": 1,
           "linewidth": 1,
           "mirror": true,
           "showgrid": false,
           "showline": true,
           "ticklen": 5,
           "ticks": "outside",
           "ticksuffix": " ",
           "visible": true,
           "zeroline": false,
           "zerolinecolor": "#ccc",
           "zerolinewidth": 1
          },
          "yaxis": {
           "color": "black",
           "gridcolor": "#ccc",
           "gridwidth": 1,
           "linewidth": 1,
           "mirror": true,
           "showgrid": false,
           "showline": true,
           "ticklen": 5,
           "ticks": "outside",
           "ticksuffix": " ",
           "visible": true,
           "zeroline": false,
           "zerolinecolor": "#ccc",
           "zerolinewidth": 1
          }
         }
        },
        "xaxis": {
         "title": {
          "text": "X axis [Ang]"
         }
        },
        "yaxis": {
         "scaleanchor": "x",
         "scaleratio": 1,
         "title": {
          "text": "Y axis [Ang]"
         }
        }
       },
       "_model_module": "plotlywidget",
       "_model_module_version": "^4.14.3",
       "_model_name": "FigureModel",
       "_py2js_addTraces": {},
       "_py2js_animate": {},
       "_py2js_deleteTraces": {},
       "_py2js_moveTraces": {},
       "_py2js_relayout": {},
       "_py2js_removeLayoutProps": {},
       "_py2js_removeTraceProps": {},
       "_py2js_restyle": {},
       "_py2js_update": {},
       "_view_count": 0,
       "_view_module": "plotlywidget",
       "_view_module_version": "^4.14.3",
       "_view_name": "FigureView"
      }
     },
     "9df62e30a1b749a5a326f6a9be8e919f": {
      "buffers": [
       {
        "data": "AAAAAAAAAAAAAAAAAAAAAAAAAAAAAAAAAAAAAAAAAAC4HoXrUbjmP7gehetRuOY/uB6F61G45j+4HoXrUbjmP7gehetRuOY/CtejcD0KAUAK16NwPQoBQArXo3A9CgFACtejcD0KAUAK16NwPQoBQLgehetRuAZAuB6F61G4BkC4HoXrUbgGQLgehetRuAZA",
        "encoding": "base64",
        "path": [
         "_data",
         1,
         "x",
         "buffer"
        ]
       },
       {
        "data": "hmWKlqJ1JkCSMJ/D52ArQND9WXgWJjBAVmPkDrmbMkAAAAAAAAAkQAzLFC1F6yhAGJYpWorWLUCSMJ/D52AxQBiWKVqK1jNAAAAAAAAAJEAMyxQtResoQBiWKVqK1i1AkjCfw+dgMUAYlilaitYzQIZlipaidSZAkjCfw+dgK0DQ/Vl4FiYwQFZj5A65mzJA",
        "encoding": "base64",
        "path": [
         "_data",
         1,
         "y",
         "buffer"
        ]
       },
       {
        "data": "AAAAAAAAAAAAAAAAAAAAAArXo3A9ChFACtejcD0KEUAAAAAAAAAAAAAAAAAAAAAAAAAAAAAAAAAAAAAAAAAAAAAAAAAAAAAACtejcD0KEUAK16NwPQoRQArXo3A9ChFACtejcD0KEUAK16NwPQoRQArXo3A9ChFAAAAAAAAAAAA=",
        "encoding": "base64",
        "path": [
         "_data",
         2,
         "x",
         "buffer"
        ]
       },
       {
        "data": "AAAAAAAAAADP/Vl4FiZAQM/9WXgWJkBAAAAAAAAAAAAAAAAAAAAAAAAAAAAAAAAAz/1ZeBYmQEDP/Vl4FiZAQM/9WXgWJkBAz/1ZeBYmQEDP/Vl4FiZAQAAAAAAAAAAAAAAAAAAAAADP/Vl4FiZAQAAAAAAAAAAAAAAAAAAAAAA=",
        "encoding": "base64",
        "path": [
         "_data",
         2,
         "y",
         "buffer"
        ]
       }
      ],
      "model_module": "plotlywidget",
      "model_module_version": "^4.14.3",
      "model_name": "FigureModel",
      "state": {
       "_config": {
        "plotlyServerURL": "https://plot.ly"
       },
       "_data": [
        {
         "line": {
          "color": "#cccccc",
          "width": 3
         },
         "mode": "lines",
         "name": "bonds",
         "type": "scatter",
         "uid": "e9fe1693-d914-45c5-8b02-f1673dd927c4",
         "x": [
          0.0,
          0.71,
          null,
          0.0,
          0.71,
          null,
          0.0,
          -1.42,
          null,
          0.0,
          0.71,
          null,
          0.0,
          0.71,
          null,
          0.0,
          -1.42,
          null,
          0.0,
          0.71,
          null,
          0.0,
          0.71,
          null,
          0.0,
          -1.42,
          null,
          0.0,
          0.71,
          null,
          0.0,
          0.71,
          null,
          0.0,
          -1.42,
          null,
          0.71,
          2.13,
          null,
          0.71,
          2.13,
          null,
          0.71,
          2.13,
          null,
          0.71,
          2.13,
          null,
          0.71,
          2.13,
          null,
          2.13,
          2.84,
          null,
          2.13,
          2.84,
          null,
          2.13,
          2.84,
          null,
          2.13,
          2.84,
          null,
          2.13,
          2.84,
          null,
          2.13,
          2.84,
          null,
          2.13,
          2.84,
          null,
          2.13,
          2.84,
          null,
          2.84,
          4.26,
          null,
          2.84,
          4.26,
          null,
          2.84,
          4.26,
          null,
          2.84,
          4.26,
          null
         ],
         "y": [
          11.229756073373903,
          10.0,
          null,
          11.229756073373903,
          12.459512146747805,
          null,
          11.229756073373903,
          11.229756073373903,
          null,
          13.689268220121708,
          12.459512146747805,
          null,
          13.689268220121708,
          14.91902429349561,
          null,
          13.689268220121708,
          13.689268220121708,
          null,
          16.148780366869516,
          14.91902429349561,
          null,
          16.148780366869516,
          17.378536440243415,
          null,
          16.148780366869516,
          16.148780366869516,
          null,
          18.60829251361732,
          17.378536440243415,
          null,
          18.60829251361732,
          19.83804858699122,
          null,
          18.60829251361732,
          18.60829251361732,
          null,
          10.0,
          10.0,
          null,
          12.459512146747805,
          12.459512146747805,
          null,
          14.91902429349561,
          14.91902429349561,
          null,
          17.378536440243415,
          17.378536440243415,
          null,
          19.83804858699122,
          19.83804858699122,
          null,
          10.0,
          11.229756073373903,
          null,
          12.459512146747805,
          11.229756073373903,
          null,
          12.459512146747805,
          13.689268220121708,
          null,
          14.91902429349561,
          13.689268220121708,
          null,
          14.91902429349561,
          16.148780366869516,
          null,
          17.378536440243415,
          16.148780366869516,
          null,
          17.378536440243415,
          18.60829251361732,
          null,
          19.83804858699122,
          18.60829251361732,
          null,
          11.229756073373903,
          11.229756073373903,
          null,
          13.689268220121708,
          13.689268220121708,
          null,
          16.148780366869516,
          16.148780366869516,
          null,
          18.60829251361732,
          18.60829251361732,
          null
         ]
        },
        {
         "marker": {
          "color": [
           "grey",
           "grey",
           "grey",
           "grey",
           "grey",
           "grey",
           "grey",
           "grey",
           "grey",
           "grey",
           "grey",
           "grey",
           "grey",
           "grey",
           "grey",
           "grey",
           "grey",
           "grey"
          ],
          "size": [
           10.72,
           10.72,
           10.72,
           10.72,
           10.72,
           10.72,
           10.72,
           10.72,
           10.72,
           10.72,
           10.72,
           10.72,
           10.72,
           10.72,
           10.72,
           10.72,
           10.72,
           10.72
          ]
         },
         "mode": "markers",
         "name": "Atoms",
         "text": [
          "[ 0.         11.22975607  0.        ]<br>0 (C)",
          "[ 0.         13.68926822  0.        ]<br>1 (C)",
          "[ 0.         16.14878037  0.        ]<br>2 (C)",
          "[ 0.         18.60829251  0.        ]<br>3 (C)",
          "[ 0.71 10.    0.  ]<br>4 (C)",
          "[ 0.71       12.45951215  0.        ]<br>5 (C)",
          "[ 0.71       14.91902429  0.        ]<br>6 (C)",
          "[ 0.71       17.37853644  0.        ]<br>7 (C)",
          "[ 0.71       19.83804859  0.        ]<br>8 (C)",
          "[ 2.13 10.    0.  ]<br>9 (C)",
          "[ 2.13       12.45951215  0.        ]<br>10 (C)",
          "[ 2.13       14.91902429  0.        ]<br>11 (C)",
          "[ 2.13       17.37853644  0.        ]<br>12 (C)",
          "[ 2.13       19.83804859  0.        ]<br>13 (C)",
          "[ 2.84       11.22975607  0.        ]<br>14 (C)",
          "[ 2.84       13.68926822  0.        ]<br>15 (C)",
          "[ 2.84       16.14878037  0.        ]<br>16 (C)",
          "[ 2.84       18.60829251  0.        ]<br>17 (C)"
         ],
         "type": "scatter",
         "uid": "4805e7e4-c491-4f21-be83-00be2e25feb3",
         "x": {
          "dtype": "float64",
          "shape": [
           18
          ]
         },
         "y": {
          "dtype": "float64",
          "shape": [
           18
          ]
         }
        },
        {
         "mode": "lines",
         "name": "Unit cell",
         "type": "scatter",
         "uid": "be6afeaf-721b-4902-a87e-21b78b0b40bc",
         "x": {
          "dtype": "float64",
          "shape": [
           16
          ]
         },
         "y": {
          "dtype": "float64",
          "shape": [
           16
          ]
         }
        }
       ],
       "_dom_classes": [],
       "_js2py_layoutDelta": {},
       "_js2py_pointsCallback": {},
       "_js2py_relayout": {},
       "_js2py_restyle": {},
       "_js2py_traceDeltas": {},
       "_js2py_update": {},
       "_last_layout_edit_id": 0,
       "_last_trace_edit_id": 0,
       "_layout": {
        "scene": {
         "aspectmode": "data"
        },
        "template": {
         "layout": {
          "hovermode": "closest",
          "paper_bgcolor": "white",
          "plot_bgcolor": "white",
          "scene": {
           "xaxis": {
            "color": "black",
            "gridcolor": "#ccc",
            "gridwidth": 1,
            "linewidth": 1,
            "mirror": true,
            "showgrid": false,
            "showline": true,
            "ticklen": 5,
            "ticks": "outside",
            "ticksuffix": " ",
            "visible": true,
            "zeroline": false,
            "zerolinecolor": "#ccc",
            "zerolinewidth": 1
           },
           "yaxis": {
            "color": "black",
            "gridcolor": "#ccc",
            "gridwidth": 1,
            "linewidth": 1,
            "mirror": true,
            "showgrid": false,
            "showline": true,
            "ticklen": 5,
            "ticks": "outside",
            "ticksuffix": " ",
            "visible": true,
            "zeroline": false,
            "zerolinecolor": "#ccc",
            "zerolinewidth": 1
           },
           "zaxis": {
            "color": "black",
            "gridcolor": "#ccc",
            "gridwidth": 1,
            "linewidth": 1,
            "mirror": true,
            "showgrid": false,
            "showline": true,
            "ticklen": 5,
            "ticks": "outside",
            "ticksuffix": " ",
            "visible": true,
            "zeroline": false,
            "zerolinecolor": "#ccc",
            "zerolinewidth": 1
           }
          },
          "xaxis": {
           "color": "black",
           "gridcolor": "#ccc",
           "gridwidth": 1,
           "linewidth": 1,
           "mirror": true,
           "showgrid": false,
           "showline": true,
           "ticklen": 5,
           "ticks": "outside",
           "ticksuffix": " ",
           "visible": true,
           "zeroline": false,
           "zerolinecolor": "#ccc",
           "zerolinewidth": 1
          },
          "yaxis": {
           "color": "black",
           "gridcolor": "#ccc",
           "gridwidth": 1,
           "linewidth": 1,
           "mirror": true,
           "showgrid": false,
           "showline": true,
           "ticklen": 5,
           "ticks": "outside",
           "ticksuffix": " ",
           "visible": true,
           "zeroline": false,
           "zerolinecolor": "#ccc",
           "zerolinewidth": 1
          }
         }
        },
        "xaxis": {
         "title": {
          "text": "X axis [Ang]"
         }
        },
        "yaxis": {
         "scaleanchor": "x",
         "scaleratio": 1,
         "title": {
          "text": "Y axis [Ang]"
         }
        }
       },
       "_model_module": "plotlywidget",
       "_model_module_version": "^4.14.3",
       "_model_name": "FigureModel",
       "_py2js_addTraces": {},
       "_py2js_animate": {},
       "_py2js_deleteTraces": {},
       "_py2js_moveTraces": {},
       "_py2js_relayout": {},
       "_py2js_removeLayoutProps": {},
       "_py2js_removeTraceProps": {},
       "_py2js_restyle": {},
       "_py2js_update": {},
       "_view_count": 0,
       "_view_module": "plotlywidget",
       "_view_module_version": "^4.14.3",
       "_view_name": "FigureView"
      }
     },
     "acc9e5b611ef4174b8fa2049895d49cf": {
      "buffers": [
       {
        "data": "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",
        "encoding": "base64",
        "path": [
         "_data",
         1,
         "x",
         "buffer"
        ]
       },
       {
        "data": "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",
        "encoding": "base64",
        "path": [
         "_data",
         1,
         "y",
         "buffer"
        ]
       },
       {
        "data": "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",
        "encoding": "base64",
        "path": [
         "_data",
         1,
         "z",
         "buffer"
        ]
       },
       {
        "data": "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",
        "encoding": "base64",
        "path": [
         "_data",
         2,
         "x",
         "buffer"
        ]
       },
       {
        "data": "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",
        "encoding": "base64",
        "path": [
         "_data",
         2,
         "y",
         "buffer"
        ]
       },
       {
        "data": "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",
        "encoding": "base64",
        "path": [
         "_data",
         2,
         "z",
         "buffer"
        ]
       },
       {
        "data": "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",
        "encoding": "base64",
        "path": [
         "_data",
         3,
         "x",
         "buffer"
        ]
       },
       {
        "data": "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",
        "encoding": "base64",
        "path": [
         "_data",
         3,
         "y",
         "buffer"
        ]
       },
       {
        "data": "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",
        "encoding": "base64",
        "path": [
         "_data",
         3,
         "z",
         "buffer"
        ]
       },
       {
        "data": "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",
        "encoding": "base64",
        "path": [
         "_data",
         4,
         "x",
         "buffer"
        ]
       },
       {
        "data": "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",
        "encoding": "base64",
        "path": [
         "_data",
         4,
         "y",
         "buffer"
        ]
       },
       {
        "data": "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",
        "encoding": "base64",
        "path": [
         "_data",
         4,
         "z",
         "buffer"
        ]
       },
       {
        "data": "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",
        "encoding": "base64",
        "path": [
         "_data",
         5,
         "x",
         "buffer"
        ]
       },
       {
        "data": "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",
        "encoding": "base64",
        "path": [
         "_data",
         5,
         "y",
         "buffer"
        ]
       },
       {
        "data": "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",
        "encoding": "base64",
        "path": [
         "_data",
         5,
         "z",
         "buffer"
        ]
       },
       {
        "data": "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",
        "encoding": "base64",
        "path": [
         "_data",
         6,
         "x",
         "buffer"
        ]
       },
       {
        "data": "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",
        "encoding": "base64",
        "path": [
         "_data",
         6,
         "y",
         "buffer"
        ]
       },
       {
        "data": "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",
        "encoding": "base64",
        "path": [
         "_data",
         6,
         "z",
         "buffer"
        ]
       },
       {
        "data": "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",
        "encoding": "base64",
        "path": [
         "_data",
         7,
         "x",
         "buffer"
        ]
       },
       {
        "data": "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",
        "encoding": "base64",
        "path": [
         "_data",
         7,
         "y",
         "buffer"
        ]
       },
       {
        "data": "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",
        "encoding": "base64",
        "path": [
         "_data",
         7,
         "z",
         "buffer"
        ]
       },
       {
        "data": "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",
        "encoding": "base64",
        "path": [
         "_data",
         8,
         "x",
         "buffer"
        ]
       },
       {
        "data": "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",
        "encoding": "base64",
        "path": [
         "_data",
         8,
         "y",
         "buffer"
        ]
       },
       {
        "data": "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",
        "encoding": "base64",
        "path": [
         "_data",
         8,
         "z",
         "buffer"
        ]
       },
       {
        "data": "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",
        "encoding": "base64",
        "path": [
         "_data",
         9,
         "x",
         "buffer"
        ]
       },
       {
        "data": "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",
        "encoding": "base64",
        "path": [
         "_data",
         9,
         "y",
         "buffer"
        ]
       },
       {
        "data": "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",
        "encoding": "base64",
        "path": [
         "_data",
         9,
         "z",
         "buffer"
        ]
       },
       {
        "data": "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",
        "encoding": "base64",
        "path": [
         "_data",
         10,
         "x",
         "buffer"
        ]
       },
       {
        "data": "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",
        "encoding": "base64",
        "path": [
         "_data",
         10,
         "y",
         "buffer"
        ]
       },
       {
        "data": "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",
        "encoding": "base64",
        "path": [
         "_data",
         10,
         "z",
         "buffer"
        ]
       },
       {
        "data": "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",
        "encoding": "base64",
        "path": [
         "_data",
         11,
         "x",
         "buffer"
        ]
       },
       {
        "data": "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",
        "encoding": "base64",
        "path": [
         "_data",
         11,
         "y",
         "buffer"
        ]
       },
       {
        "data": "7nw/NV662T/ufD81XrrZP+58PzVeutk/7nw/NV662T/ufD81XrrZP+58PzVeutk/7nw/NV662T/ufD81XrrZP+58PzVeutk/7nw/NV662T/ufD81XrrZP+58PzVeutk/7nw/NV662T/ufD81XrrZP+58PzVeutk/tJKg5zsV2T+0kqDnOxXZP7SSoOc7Fdk/tJKg5zsV2T+0kqDnOxXZP7SSoOc7Fdk/tJKg5zsV2T+0kqDnOxXZP7SSoOc7Fdk/tJKg5zsV2T+0kqDnOxXZP7SSoOc7Fdk/tJKg5zsV2T+0kqDnOxXZP7SSoOc7Fdk/4owlzhwu1z/ijCXOHC7XP+KMJc4cLtc/4owlzhwu1z/ijCXOHC7XP+KMJc4cLtc/4owlzhwu1z/ijCXOHC7XP+KMJc4cLtc/4owlzhwu1z/ijCXOHC7XP+KMJc4cLtc/4owlzhwu1z/ijCXOHC7XP+KMJc4cLtc/T3YkC24d1D9PdiQLbh3UP092JAtuHdQ/T3YkC24d1D9PdiQLbh3UP092JAtuHdQ/T3YkC24d1D9PdiQLbh3UP092JAtuHdQ/T3YkC24d1D9PdiQLbh3UP092JAtuHdQ/T3YkC24d1D9PdiQLbh3UP092JAtuHdQ/ntD9hIgK0D+e0P2EiArQP57Q/YSICtA/ntD9hIgK0D+e0P2EiArQP57Q/YSICtA/ntD9hIgK0D+e0P2EiArQP57Q/YSICtA/ntD9hIgK0D+e0P2EiArQP57Q/YSICtA/ntD9hIgK0D+e0P2EiArQP57Q/YSICtA/qMxsmm9Txj+ozGyab1PGP6jMbJpvU8Y/qMxsmm9Txj+ozGyab1PGP6jMbJpvU8Y/qMxsmm9Txj+ozGyab1PGP6jMbJpvU8Y/qMxsmm9Txj+ozGyab1PGP6jMbJpvU8Y/qMxsmm9Txj+ozGyab1PGP6jMbJpvU8Y/ygjgRWvmtj/KCOBFa+a2P8oI4EVr5rY/ygjgRWvmtj/KCOBFa+a2P8oI4EVr5rY/ygjgRWvmtj/KCOBFa+a2P8oI4EVr5rY/ygjgRWvmtj/KCOBFa+a2P8oI4EVr5rY/ygjgRWvmtj/KCOBFa+a2P8oI4EVr5rY/Hm++Fi9hfDweb74WL2F8PB5vvhYvYXw8Hm++Fi9hfDweb74WL2F8PB5vvhYvYXw8Hm++Fi9hfDweb74WL2F8PB5vvhYvYXw8Hm++Fi9hfDweb74WL2F8PB5vvhYvYXw8Hm++Fi9hfDweb74WL2F8PB5vvhYvYXw8xwjgRWvmtr/HCOBFa+a2v8cI4EVr5ra/xwjgRWvmtr/HCOBFa+a2v8cI4EVr5ra/xwjgRWvmtr/HCOBFa+a2v8cI4EVr5ra/xwjgRWvmtr/HCOBFa+a2v8cI4EVr5ra/xwjgRWvmtr/HCOBFa+a2v8cI4EVr5ra/psxsmm9Txr+mzGyab1PGv6bMbJpvU8a/psxsmm9Txr+mzGyab1PGv6bMbJpvU8a/psxsmm9Txr+mzGyab1PGv6bMbJpvU8a/psxsmm9Txr+mzGyab1PGv6bMbJpvU8a/psxsmm9Txr+mzGyab1PGv6bMbJpvU8a/ndD9hIgK0L+d0P2EiArQv53Q/YSICtC/ndD9hIgK0L+d0P2EiArQv53Q/YSICtC/ndD9hIgK0L+d0P2EiArQv53Q/YSICtC/ndD9hIgK0L+d0P2EiArQv53Q/YSICtC/ndD9hIgK0L+d0P2EiArQv53Q/YSICtC/T3YkC24d1L9PdiQLbh3Uv092JAtuHdS/T3YkC24d1L9PdiQLbh3Uv092JAtuHdS/T3YkC24d1L9PdiQLbh3Uv092JAtuHdS/T3YkC24d1L9PdiQLbh3Uv092JAtuHdS/T3YkC24d1L9PdiQLbh3Uv092JAtuHdS/4owlzhwu17/ijCXOHC7Xv+KMJc4cLte/4owlzhwu17/ijCXOHC7Xv+KMJc4cLte/4owlzhwu17/ijCXOHC7Xv+KMJc4cLte/4owlzhwu17/ijCXOHC7Xv+KMJc4cLte/4owlzhwu17/ijCXOHC7Xv+KMJc4cLte/tJKg5zsV2b+0kqDnOxXZv7SSoOc7Fdm/tJKg5zsV2b+0kqDnOxXZv7SSoOc7Fdm/tJKg5zsV2b+0kqDnOxXZv7SSoOc7Fdm/tJKg5zsV2b+0kqDnOxXZv7SSoOc7Fdm/tJKg5zsV2b+0kqDnOxXZv7SSoOc7Fdm/7nw/NV662b/ufD81XrrZv+58PzVeutm/7nw/NV662b/ufD81XrrZv+58PzVeutm/7nw/NV662b/ufD81XrrZv+58PzVeutm/7nw/NV662b/ufD81XrrZv+58PzVeutm/7nw/NV662b/ufD81XrrZv+58PzVeutm/",
        "encoding": "base64",
        "path": [
         "_data",
         11,
         "z",
         "buffer"
        ]
       },
       {
        "data": "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",
        "encoding": "base64",
        "path": [
         "_data",
         12,
         "x",
         "buffer"
        ]
       },
       {
        "data": "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",
        "encoding": "base64",
        "path": [
         "_data",
         12,
         "y",
         "buffer"
        ]
       },
       {
        "data": "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",
        "encoding": "base64",
        "path": [
         "_data",
         12,
         "z",
         "buffer"
        ]
       },
       {
        "data": "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",
        "encoding": "base64",
        "path": [
         "_data",
         13,
         "x",
         "buffer"
        ]
       },
       {
        "data": "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",
        "encoding": "base64",
        "path": [
         "_data",
         13,
         "y",
         "buffer"
        ]
       },
       {
        "data": "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",
        "encoding": "base64",
        "path": [
         "_data",
         13,
         "z",
         "buffer"
        ]
       },
       {
        "data": "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",
        "encoding": "base64",
        "path": [
         "_data",
         14,
         "x",
         "buffer"
        ]
       },
       {
        "data": "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",
        "encoding": "base64",
        "path": [
         "_data",
         14,
         "y",
         "buffer"
        ]
       },
       {
        "data": "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",
        "encoding": "base64",
        "path": [
         "_data",
         14,
         "z",
         "buffer"
        ]
       },
       {
        "data": "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",
        "encoding": "base64",
        "path": [
         "_data",
         15,
         "x",
         "buffer"
        ]
       },
       {
        "data": "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",
        "encoding": "base64",
        "path": [
         "_data",
         15,
         "y",
         "buffer"
        ]
       },
       {
        "data": "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",
        "encoding": "base64",
        "path": [
         "_data",
         15,
         "z",
         "buffer"
        ]
       },
       {
        "data": "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",
        "encoding": "base64",
        "path": [
         "_data",
         16,
         "x",
         "buffer"
        ]
       },
       {
        "data": "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",
        "encoding": "base64",
        "path": [
         "_data",
         16,
         "y",
         "buffer"
        ]
       },
       {
        "data": "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",
        "encoding": "base64",
        "path": [
         "_data",
         16,
         "z",
         "buffer"
        ]
       },
       {
        "data": "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",
        "encoding": "base64",
        "path": [
         "_data",
         17,
         "x",
         "buffer"
        ]
       },
       {
        "data": "0P1ZeBYmMEDQ/Vl4FiYwQND9WXgWJjBA0P1ZeBYmMEDQ/Vl4FiYwQND9WXgWJjBA0P1ZeBYmMEDQ/Vl4FiYwQND9WXgWJjBA0P1ZeBYmMEDQ/Vl4FiYwQND9WXgWJjBA0P1ZeBYmMEDQ/Vl4FiYwQND9WXgWJjBA0P1ZeBYmMEAJ9hIUBjAwQPDZ1eT9NzBAnWr052k8MECdavTnaTwwQPDZ1eT9NzBACfYSFAYwMEDQ/Vl4FiYwQJcFodwmHDBAsCHeCy8UMEADkb8Iww8wQAORvwjDDzBAsCHeCy8UMECXBaHcJhwwQND9WXgWJjBA0P1ZeBYmMEApgbojdjkwQOVYU3z/SDBAdukGv55RMEB26Qa/nlEwQOVYU3z/SDBAKYG6I3Y5MEDQ/Vl4FiYwQHd6+cy2EjBAu6JgdC0DMEBVJFpjHPUvQFUkWmMc9S9Au6JgdC0DMEB3evnMthIwQND9WXgWJjBA0P1ZeBYmMEAp0o6A7UEwQPU+KfBAWDBAibMKxKRkMECJswrEpGQwQPU+KfBAWDBAKdKOgO1BMEDQ/Vl4FiYwQHcpJXA/CjBAVXkVAdjnL0AtkFJZEM8vQC2QUlkQzy9AVXkVAdjnL0B3KSVwPwowQND9WXgWJjBA0P1ZeBYmMEDlWFN8/0gwQM5sZ2r+ZDBAi0QAw4d0MECLRADDh3QwQM5sZ2r+ZDBA5VhTfP9IMEDQ/Vl4FiYwQLuiYHQtAzBApB2ZDF3OL0AqbmdbSq8vQCpuZ1tKry9Aox2ZDF3OL0C7omB0LQMwQND9WXgWJjBA0P1ZeBYmMEC9RnBUUU4wQMKrw1+UbjBA4oc/zHuAMEDihz/Me4AwQMKrw1+UbjBAvUZwVFFOMEDQ/Vl4FiYwQMdphzi3+y9AvJ/gITG7L0B85+hIYpcvQHzn6Ehily9AvJ/gITG7L0DHaYc4t/svQND9WXgWJjBA0P1ZeBYmMEB26Qa/nlEwQItEAMOHdDBA5MdgbueHMEDkx2Bu54cwQItEAMOHdDBAdukGv55RMEDQ/Vl4FiYwQFUkWmMc9S9AKm5nW0qvL0B5Z6YEi4gvQHlnpgSLiC9AKm5nW0qvL0BVJFpjHPUvQND9WXgWJjBA0P1ZeBYmMEBp145XvVIwQKmPhjCMdjBAG4D4Z2uKMEAbgPhna4owQKmPhjCMdjBAadeOV71SMEDQ/Vl4FiYwQG1ISjLf8i9A7tdagEGrL0AK93YRg4MvQAr3dhGDgy9A7tdagEGrL0BtSEoy3/IvQND9WXgWJjBA0P1ZeBYmMEB26Qa/nlEwQItEAMOHdDBA5MdgbueHMEDkx2Bu54cwQItEAMOHdDBAdukGv55RMEDQ/Vl4FiYwQFUkWmMc9S9AKm5nW0qvL0B5Z6YEi4gvQHlnpgSLiC9AKm5nW0qvL0BVJFpjHPUvQND9WXgWJjBA0P1ZeBYmMEC9RnBUUU4wQMKrw1+UbjBA4oc/zHuAMEDihz/Me4AwQMKrw1+UbjBAvUZwVFFOMEDQ/Vl4FiYwQMdphzi3+y9AvJ/gITG7L0B85+hIYpcvQHzn6Ehily9AvJ/gITG7L0DHaYc4t/svQND9WXgWJjBA0P1ZeBYmMEDlWFN8/0gwQM5sZ2r+ZDBAi0QAw4d0MECLRADDh3QwQM5sZ2r+ZDBA5VhTfP9IMEDQ/Vl4FiYwQLuiYHQtAzBApB2ZDF3OL0AqbmdbSq8vQCpuZ1tKry9Aox2ZDF3OL0C7omB0LQMwQND9WXgWJjBA0P1ZeBYmMEAp0o6A7UEwQPU+KfBAWDBAibMKxKRkMECJswrEpGQwQPU+KfBAWDBAKdKOgO1BMEDQ/Vl4FiYwQHcpJXA/CjBAVXkVAdjnL0AtkFJZEM8vQC2QUlkQzy9AVXkVAdjnL0B3KSVwPwowQND9WXgWJjBA0P1ZeBYmMEApgbojdjkwQOVYU3z/SDBAdukGv55RMEB26Qa/nlEwQOVYU3z/SDBAKYG6I3Y5MEDQ/Vl4FiYwQHd6+cy2EjBAu6JgdC0DMEBVJFpjHPUvQFUkWmMc9S9Au6JgdC0DMEB3evnMthIwQND9WXgWJjBA0P1ZeBYmMEAJ9hIUBjAwQPDZ1eT9NzBAnWr052k8MECdavTnaTwwQPDZ1eT9NzBACfYSFAYwMEDQ/Vl4FiYwQJcFodwmHDBAsCHeCy8UMEADkb8Iww8wQAORvwjDDzBAsCHeCy8UMECXBaHcJhwwQND9WXgWJjBA0P1ZeBYmMEDQ/Vl4FiYwQND9WXgWJjBA0P1ZeBYmMEDQ/Vl4FiYwQND9WXgWJjBA0P1ZeBYmMEDQ/Vl4FiYwQND9WXgWJjBA0P1ZeBYmMEDQ/Vl4FiYwQND9WXgWJjBA0P1ZeBYmMEDQ/Vl4FiYwQND9WXgWJjBA",
        "encoding": "base64",
        "path": [
         "_data",
         17,
         "y",
         "buffer"
        ]
       },
       {
        "data": "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",
        "encoding": "base64",
        "path": [
         "_data",
         17,
         "z",
         "buffer"
        ]
       },
       {
        "data": "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",
        "encoding": "base64",
        "path": [
         "_data",
         18,
         "x",
         "buffer"
        ]
       },
       {
        "data": "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",
        "encoding": "base64",
        "path": [
         "_data",
         18,
         "y",
         "buffer"
        ]
       },
       {
        "data": "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",
        "encoding": "base64",
        "path": [
         "_data",
         18,
         "z",
         "buffer"
        ]
       },
       {
        "data": "AAAAAAAAAAAAAAAAAAAAAArXo3A9ChFACtejcD0KEUAAAAAAAAAAAAAAAAAAAAAAAAAAAAAAAAAAAAAAAAAAAAAAAAAAAAAACtejcD0KEUAK16NwPQoRQArXo3A9ChFACtejcD0KEUAK16NwPQoRQArXo3A9ChFAAAAAAAAAAAA=",
        "encoding": "base64",
        "path": [
         "_data",
         19,
         "x",
         "buffer"
        ]
       },
       {
        "data": "AAAAAAAAAADP/Vl4FiZAQM/9WXgWJkBAAAAAAAAAAAAAAAAAAAAAAAAAAAAAAAAAz/1ZeBYmQEDP/Vl4FiZAQM/9WXgWJkBAz/1ZeBYmQEDP/Vl4FiZAQAAAAAAAAAAAAAAAAAAAAADP/Vl4FiZAQAAAAAAAAAAAAAAAAAAAAAA=",
        "encoding": "base64",
        "path": [
         "_data",
         19,
         "y",
         "buffer"
        ]
       },
       {
        "data": "AAAAAAAAAAAAAAAAAAAAAAAAAAAAAAAAAAAAAAAAAAAAAAAAAAAAAGZmZmZmZixAZmZmZmZmLEAAAAAAAAAAAGZmZmZmZixAZmZmZmZmLEAAAAAAAAAAAAAAAAAAAAAAZmZmZmZmLEBmZmZmZmYsQGZmZmZmZixAZmZmZmZmLEA=",
        "encoding": "base64",
        "path": [
         "_data",
         19,
         "z",
         "buffer"
        ]
       }
      ],
      "model_module": "plotlywidget",
      "model_module_version": "^4.14.3",
      "model_name": "FigureModel",
      "state": {
       "_config": {
        "plotlyServerURL": "https://plot.ly"
       },
       "_data": [
        {
         "line": {
          "color": "gray",
          "coloraxis": "coloraxis",
          "width": 15
         },
         "marker": {
          "color": "blue"
         },
         "mode": "lines",
         "name": "Bonds",
         "type": "scatter3d",
         "uid": "e73bb29b-5547-4ae6-9b7a-de34feeb1dbe",
         "x": [
          0.0,
          0.71,
          null,
          0.0,
          0.71,
          null,
          0.0,
          -1.42,
          null,
          0.0,
          0.71,
          null,
          0.0,
          0.71,
          null,
          0.0,
          -1.42,
          null,
          0.0,
          0.71,
          null,
          0.0,
          0.71,
          null,
          0.0,
          -1.42,
          null,
          0.0,
          0.71,
          null,
          0.0,
          0.71,
          null,
          0.0,
          -1.42,
          null,
          0.71,
          2.13,
          null,
          0.71,
          2.13,
          null,
          0.71,
          2.13,
          null,
          0.71,
          2.13,
          null,
          0.71,
          2.13,
          null,
          2.13,
          2.84,
          null,
          2.13,
          2.84,
          null,
          2.13,
          2.84,
          null,
          2.13,
          2.84,
          null,
          2.13,
          2.84,
          null,
          2.13,
          2.84,
          null,
          2.13,
          2.84,
          null,
          2.13,
          2.84,
          null,
          2.84,
          4.26,
          null,
          2.84,
          4.26,
          null,
          2.84,
          4.26,
          null,
          2.84,
          4.26,
          null
         ],
         "y": [
          11.229756073373903,
          10.0,
          null,
          11.229756073373903,
          12.459512146747805,
          null,
          11.229756073373903,
          11.229756073373903,
          null,
          13.689268220121708,
          12.459512146747805,
          null,
          13.689268220121708,
          14.91902429349561,
          null,
          13.689268220121708,
          13.689268220121708,
          null,
          16.148780366869516,
          14.91902429349561,
          null,
          16.148780366869516,
          17.378536440243415,
          null,
          16.148780366869516,
          16.148780366869516,
          null,
          18.60829251361732,
          17.378536440243415,
          null,
          18.60829251361732,
          19.83804858699122,
          null,
          18.60829251361732,
          18.60829251361732,
          null,
          10.0,
          10.0,
          null,
          12.459512146747805,
          12.459512146747805,
          null,
          14.91902429349561,
          14.91902429349561,
          null,
          17.378536440243415,
          17.378536440243415,
          null,
          19.83804858699122,
          19.83804858699122,
          null,
          10.0,
          11.229756073373903,
          null,
          12.459512146747805,
          11.229756073373903,
          null,
          12.459512146747805,
          13.689268220121708,
          null,
          14.91902429349561,
          13.689268220121708,
          null,
          14.91902429349561,
          16.148780366869516,
          null,
          17.378536440243415,
          16.148780366869516,
          null,
          17.378536440243415,
          18.60829251361732,
          null,
          19.83804858699122,
          18.60829251361732,
          null,
          11.229756073373903,
          11.229756073373903,
          null,
          13.689268220121708,
          13.689268220121708,
          null,
          16.148780366869516,
          16.148780366869516,
          null,
          18.60829251361732,
          18.60829251361732,
          null
         ],
         "z": [
          0.0,
          0.0,
          null,
          0.0,
          0.0,
          null,
          0.0,
          0.0,
          null,
          0.0,
          0.0,
          null,
          0.0,
          0.0,
          null,
          0.0,
          0.0,
          null,
          0.0,
          0.0,
          null,
          0.0,
          0.0,
          null,
          0.0,
          0.0,
          null,
          0.0,
          0.0,
          null,
          0.0,
          0.0,
          null,
          0.0,
          0.0,
          null,
          0.0,
          0.0,
          null,
          0.0,
          0.0,
          null,
          0.0,
          0.0,
          null,
          0.0,
          0.0,
          null,
          0.0,
          0.0,
          null,
          0.0,
          0.0,
          null,
          0.0,
          0.0,
          null,
          0.0,
          0.0,
          null,
          0.0,
          0.0,
          null,
          0.0,
          0.0,
          null,
          0.0,
          0.0,
          null,
          0.0,
          0.0,
          null,
          0.0,
          0.0,
          null,
          0.0,
          0.0,
          null,
          0.0,
          0.0,
          null,
          0.0,
          0.0,
          null,
          0.0,
          0.0,
          null
         ]
        },
        {
         "alphahull": 0,
         "color": "grey",
         "hovertemplate": "%{meta[0]}",
         "legendgroup": "Atoms",
         "meta": [
          "(0.00, 11.23, 0.00)"
         ],
         "name": "0 (C)",
         "opacity": 1,
         "showlegend": true,
         "showscale": false,
         "type": "mesh3d",
         "uid": "3da4cef3-8695-4d1b-80ec-0767e91886e2",
         "x": {
          "dtype": "float64",
          "shape": [
           225
          ]
         },
         "y": {
          "dtype": "float64",
          "shape": [
           225
          ]
         },
         "z": {
          "dtype": "float64",
          "shape": [
           225
          ]
         }
        },
        {
         "alphahull": 0,
         "color": "grey",
         "hovertemplate": "%{meta[0]}",
         "legendgroup": "Atoms",
         "meta": [
          "(0.00, 13.69, 0.00)"
         ],
         "name": "1 (C)",
         "opacity": 1,
         "showlegend": false,
         "showscale": false,
         "type": "mesh3d",
         "uid": "4a3c13c8-6241-4ac3-a783-463a62479c61",
         "x": {
          "dtype": "float64",
          "shape": [
           225
          ]
         },
         "y": {
          "dtype": "float64",
          "shape": [
           225
          ]
         },
         "z": {
          "dtype": "float64",
          "shape": [
           225
          ]
         }
        },
        {
         "alphahull": 0,
         "color": "grey",
         "hovertemplate": "%{meta[0]}",
         "legendgroup": "Atoms",
         "meta": [
          "(0.00, 16.15, 0.00)"
         ],
         "name": "2 (C)",
         "opacity": 1,
         "showlegend": false,
         "showscale": false,
         "type": "mesh3d",
         "uid": "dded14a0-e41d-4cdc-9655-ab82b8885f65",
         "x": {
          "dtype": "float64",
          "shape": [
           225
          ]
         },
         "y": {
          "dtype": "float64",
          "shape": [
           225
          ]
         },
         "z": {
          "dtype": "float64",
          "shape": [
           225
          ]
         }
        },
        {
         "alphahull": 0,
         "color": "grey",
         "hovertemplate": "%{meta[0]}",
         "legendgroup": "Atoms",
         "meta": [
          "(0.00, 18.61, 0.00)"
         ],
         "name": "3 (C)",
         "opacity": 1,
         "showlegend": false,
         "showscale": false,
         "type": "mesh3d",
         "uid": "28c3d4df-99b7-46b2-ad4f-f15a72fc0b5e",
         "x": {
          "dtype": "float64",
          "shape": [
           225
          ]
         },
         "y": {
          "dtype": "float64",
          "shape": [
           225
          ]
         },
         "z": {
          "dtype": "float64",
          "shape": [
           225
          ]
         }
        },
        {
         "alphahull": 0,
         "color": "grey",
         "hovertemplate": "%{meta[0]}",
         "legendgroup": "Atoms",
         "meta": [
          "(0.71, 10.00, 0.00)"
         ],
         "name": "4 (C)",
         "opacity": 1,
         "showlegend": false,
         "showscale": false,
         "type": "mesh3d",
         "uid": "783c0d85-0033-46c1-9f32-dafffe3e0cb2",
         "x": {
          "dtype": "float64",
          "shape": [
           225
          ]
         },
         "y": {
          "dtype": "float64",
          "shape": [
           225
          ]
         },
         "z": {
          "dtype": "float64",
          "shape": [
           225
          ]
         }
        },
        {
         "alphahull": 0,
         "color": "grey",
         "hovertemplate": "%{meta[0]}",
         "legendgroup": "Atoms",
         "meta": [
          "(0.71, 12.46, 0.00)"
         ],
         "name": "5 (C)",
         "opacity": 1,
         "showlegend": false,
         "showscale": false,
         "type": "mesh3d",
         "uid": "6d3202d8-9ee5-477e-9121-8287bc7e2653",
         "x": {
          "dtype": "float64",
          "shape": [
           225
          ]
         },
         "y": {
          "dtype": "float64",
          "shape": [
           225
          ]
         },
         "z": {
          "dtype": "float64",
          "shape": [
           225
          ]
         }
        },
        {
         "alphahull": 0,
         "color": "grey",
         "hovertemplate": "%{meta[0]}",
         "legendgroup": "Atoms",
         "meta": [
          "(0.71, 14.92, 0.00)"
         ],
         "name": "6 (C)",
         "opacity": 1,
         "showlegend": false,
         "showscale": false,
         "type": "mesh3d",
         "uid": "80bdbeb1-c737-4552-acc1-3c3c53510951",
         "x": {
          "dtype": "float64",
          "shape": [
           225
          ]
         },
         "y": {
          "dtype": "float64",
          "shape": [
           225
          ]
         },
         "z": {
          "dtype": "float64",
          "shape": [
           225
          ]
         }
        },
        {
         "alphahull": 0,
         "color": "grey",
         "hovertemplate": "%{meta[0]}",
         "legendgroup": "Atoms",
         "meta": [
          "(0.71, 17.38, 0.00)"
         ],
         "name": "7 (C)",
         "opacity": 1,
         "showlegend": false,
         "showscale": false,
         "type": "mesh3d",
         "uid": "d48e2e38-fb71-4e25-81a0-f27f76baddd7",
         "x": {
          "dtype": "float64",
          "shape": [
           225
          ]
         },
         "y": {
          "dtype": "float64",
          "shape": [
           225
          ]
         },
         "z": {
          "dtype": "float64",
          "shape": [
           225
          ]
         }
        },
        {
         "alphahull": 0,
         "color": "grey",
         "hovertemplate": "%{meta[0]}",
         "legendgroup": "Atoms",
         "meta": [
          "(0.71, 19.84, 0.00)"
         ],
         "name": "8 (C)",
         "opacity": 1,
         "showlegend": false,
         "showscale": false,
         "type": "mesh3d",
         "uid": "9e6a72e5-e75d-4c5f-b96b-e3a29deb3532",
         "x": {
          "dtype": "float64",
          "shape": [
           225
          ]
         },
         "y": {
          "dtype": "float64",
          "shape": [
           225
          ]
         },
         "z": {
          "dtype": "float64",
          "shape": [
           225
          ]
         }
        },
        {
         "alphahull": 0,
         "color": "grey",
         "hovertemplate": "%{meta[0]}",
         "legendgroup": "Atoms",
         "meta": [
          "(2.13, 10.00, 0.00)"
         ],
         "name": "9 (C)",
         "opacity": 1,
         "showlegend": false,
         "showscale": false,
         "type": "mesh3d",
         "uid": "d2cb10d9-2335-43f4-9b96-525daff04515",
         "x": {
          "dtype": "float64",
          "shape": [
           225
          ]
         },
         "y": {
          "dtype": "float64",
          "shape": [
           225
          ]
         },
         "z": {
          "dtype": "float64",
          "shape": [
           225
          ]
         }
        },
        {
         "alphahull": 0,
         "color": "grey",
         "hovertemplate": "%{meta[0]}",
         "legendgroup": "Atoms",
         "meta": [
          "(2.13, 12.46, 0.00)"
         ],
         "name": "10 (C)",
         "opacity": 1,
         "showlegend": false,
         "showscale": false,
         "type": "mesh3d",
         "uid": "ec3e6df4-ab47-4b55-af56-5c9677acf629",
         "x": {
          "dtype": "float64",
          "shape": [
           225
          ]
         },
         "y": {
          "dtype": "float64",
          "shape": [
           225
          ]
         },
         "z": {
          "dtype": "float64",
          "shape": [
           225
          ]
         }
        },
        {
         "alphahull": 0,
         "color": "grey",
         "hovertemplate": "%{meta[0]}",
         "legendgroup": "Atoms",
         "meta": [
          "(2.13, 14.92, 0.00)"
         ],
         "name": "11 (C)",
         "opacity": 1,
         "showlegend": false,
         "showscale": false,
         "type": "mesh3d",
         "uid": "4cabc1b5-b065-4597-bf95-7ac8e2aece14",
         "x": {
          "dtype": "float64",
          "shape": [
           225
          ]
         },
         "y": {
          "dtype": "float64",
          "shape": [
           225
          ]
         },
         "z": {
          "dtype": "float64",
          "shape": [
           225
          ]
         }
        },
        {
         "alphahull": 0,
         "color": "grey",
         "hovertemplate": "%{meta[0]}",
         "legendgroup": "Atoms",
         "meta": [
          "(2.13, 17.38, 0.00)"
         ],
         "name": "12 (C)",
         "opacity": 1,
         "showlegend": false,
         "showscale": false,
         "type": "mesh3d",
         "uid": "b48fb551-e3ec-4b9a-b1a2-0530e537364e",
         "x": {
          "dtype": "float64",
          "shape": [
           225
          ]
         },
         "y": {
          "dtype": "float64",
          "shape": [
           225
          ]
         },
         "z": {
          "dtype": "float64",
          "shape": [
           225
          ]
         }
        },
        {
         "alphahull": 0,
         "color": "grey",
         "hovertemplate": "%{meta[0]}",
         "legendgroup": "Atoms",
         "meta": [
          "(2.13, 19.84, 0.00)"
         ],
         "name": "13 (C)",
         "opacity": 1,
         "showlegend": false,
         "showscale": false,
         "type": "mesh3d",
         "uid": "ffcc5174-a5e3-43e2-b84c-0817f32ef1e3",
         "x": {
          "dtype": "float64",
          "shape": [
           225
          ]
         },
         "y": {
          "dtype": "float64",
          "shape": [
           225
          ]
         },
         "z": {
          "dtype": "float64",
          "shape": [
           225
          ]
         }
        },
        {
         "alphahull": 0,
         "color": "grey",
         "hovertemplate": "%{meta[0]}",
         "legendgroup": "Atoms",
         "meta": [
          "(2.84, 11.23, 0.00)"
         ],
         "name": "14 (C)",
         "opacity": 1,
         "showlegend": false,
         "showscale": false,
         "type": "mesh3d",
         "uid": "930c41c8-41fc-4246-b19f-4712b027b083",
         "x": {
          "dtype": "float64",
          "shape": [
           225
          ]
         },
         "y": {
          "dtype": "float64",
          "shape": [
           225
          ]
         },
         "z": {
          "dtype": "float64",
          "shape": [
           225
          ]
         }
        },
        {
         "alphahull": 0,
         "color": "grey",
         "hovertemplate": "%{meta[0]}",
         "legendgroup": "Atoms",
         "meta": [
          "(2.84, 13.69, 0.00)"
         ],
         "name": "15 (C)",
         "opacity": 1,
         "showlegend": false,
         "showscale": false,
         "type": "mesh3d",
         "uid": "b8e54799-71ca-461d-8e1d-85864e0dde27",
         "x": {
          "dtype": "float64",
          "shape": [
           225
          ]
         },
         "y": {
          "dtype": "float64",
          "shape": [
           225
          ]
         },
         "z": {
          "dtype": "float64",
          "shape": [
           225
          ]
         }
        },
        {
         "alphahull": 0,
         "color": "grey",
         "hovertemplate": "%{meta[0]}",
         "legendgroup": "Atoms",
         "meta": [
          "(2.84, 16.15, 0.00)"
         ],
         "name": "16 (C)",
         "opacity": 1,
         "showlegend": false,
         "showscale": false,
         "type": "mesh3d",
         "uid": "6c0f6ac3-23b6-4288-a747-907699ef9a2f",
         "x": {
          "dtype": "float64",
          "shape": [
           225
          ]
         },
         "y": {
          "dtype": "float64",
          "shape": [
           225
          ]
         },
         "z": {
          "dtype": "float64",
          "shape": [
           225
          ]
         }
        },
        {
         "alphahull": 0,
         "color": "grey",
         "hovertemplate": "%{meta[0]}",
         "legendgroup": "Atoms",
         "meta": [
          "(2.84, 18.61, 0.00)"
         ],
         "name": "17 (C)",
         "opacity": 1,
         "showlegend": false,
         "showscale": false,
         "type": "mesh3d",
         "uid": "864498ae-4803-485d-aa59-2c4ef8667af5",
         "x": {
          "dtype": "float64",
          "shape": [
           225
          ]
         },
         "y": {
          "dtype": "float64",
          "shape": [
           225
          ]
         },
         "z": {
          "dtype": "float64",
          "shape": [
           225
          ]
         }
        },
        {
         "line": {
          "width": 2
         },
         "mode": "lines",
         "name": "Unit cell",
         "type": "scatter3d",
         "uid": "dfee9745-1b26-49af-b3a5-2efc856a133d",
         "x": {
          "dtype": "float64",
          "shape": [
           16
          ]
         },
         "y": {
          "dtype": "float64",
          "shape": [
           16
          ]
         },
         "z": {
          "dtype": "float64",
          "shape": [
           16
          ]
         }
        }
       ],
       "_dom_classes": [],
       "_js2py_layoutDelta": {},
       "_js2py_pointsCallback": {},
       "_js2py_relayout": {},
       "_js2py_restyle": {},
       "_js2py_traceDeltas": {},
       "_js2py_update": {},
       "_last_layout_edit_id": 0,
       "_last_trace_edit_id": 0,
       "_layout": {
        "scene": {
         "aspectmode": "data"
        },
        "template": {
         "layout": {
          "hovermode": "closest",
          "paper_bgcolor": "white",
          "plot_bgcolor": "white",
          "scene": {
           "xaxis": {
            "color": "black",
            "gridcolor": "#ccc",
            "gridwidth": 1,
            "linewidth": 1,
            "mirror": true,
            "showgrid": false,
            "showline": true,
            "ticklen": 5,
            "ticks": "outside",
            "ticksuffix": " ",
            "visible": true,
            "zeroline": false,
            "zerolinecolor": "#ccc",
            "zerolinewidth": 1
           },
           "yaxis": {
            "color": "black",
            "gridcolor": "#ccc",
            "gridwidth": 1,
            "linewidth": 1,
            "mirror": true,
            "showgrid": false,
            "showline": true,
            "ticklen": 5,
            "ticks": "outside",
            "ticksuffix": " ",
            "visible": true,
            "zeroline": false,
            "zerolinecolor": "#ccc",
            "zerolinewidth": 1
           },
           "zaxis": {
            "color": "black",
            "gridcolor": "#ccc",
            "gridwidth": 1,
            "linewidth": 1,
            "mirror": true,
            "showgrid": false,
            "showline": true,
            "ticklen": 5,
            "ticks": "outside",
            "ticksuffix": " ",
            "visible": true,
            "zeroline": false,
            "zerolinecolor": "#ccc",
            "zerolinewidth": 1
           }
          },
          "xaxis": {
           "color": "black",
           "gridcolor": "#ccc",
           "gridwidth": 1,
           "linewidth": 1,
           "mirror": true,
           "showgrid": false,
           "showline": true,
           "ticklen": 5,
           "ticks": "outside",
           "ticksuffix": " ",
           "visible": true,
           "zeroline": false,
           "zerolinecolor": "#ccc",
           "zerolinewidth": 1
          },
          "yaxis": {
           "color": "black",
           "gridcolor": "#ccc",
           "gridwidth": 1,
           "linewidth": 1,
           "mirror": true,
           "showgrid": false,
           "showline": true,
           "ticklen": 5,
           "ticks": "outside",
           "ticksuffix": " ",
           "visible": true,
           "zeroline": false,
           "zerolinecolor": "#ccc",
           "zerolinewidth": 1
          }
         }
        }
       },
       "_model_module": "plotlywidget",
       "_model_module_version": "^4.14.3",
       "_model_name": "FigureModel",
       "_py2js_addTraces": {},
       "_py2js_animate": {},
       "_py2js_deleteTraces": {},
       "_py2js_moveTraces": {},
       "_py2js_relayout": {},
       "_py2js_removeLayoutProps": {},
       "_py2js_removeTraceProps": {},
       "_py2js_restyle": {},
       "_py2js_update": {},
       "_view_count": 0,
       "_view_module": "plotlywidget",
       "_view_module_version": "^4.14.3",
       "_view_name": "FigureView"
      }
     },
     "af5dd3a10d4a4103ad07979f10766658": {
      "buffers": [
       {
        "data": "AAAAAAAAAAAAAAAAAAAAAAAAAAAAAAAAAAAAAAAAAAAAAAAAAAAAAAAAAAAAAAAAAAAAAAAAAAAAAAAAAAAAAAAAAAAAAAAAAAAAAAAAAAAAAAAAAAAAAAAAAAAAAAAAAAAAAAAAAAAAAAAAAAAAAAAAAAAAAAAAAAAAAAAAAAAAAAAAAAAAAAAAAAAAAAAAAAAAAAAAAAAAAAAAAAAAAAAAAAAAAAAAAAAAAAAAAAAAAAAAAAAAAAAAAAAAAAAAAAAAAAAAAAAAAAAAAAAAAAAAAAAAAAAAAAAAAAAAAAAAAAAAAAAAAAAAAAAAAAAAAAAAAAAAAAAAAAAAAAAAAAAAAAAAAAAAAAAAAAAAAAAAAAAAAAAAAAAAAAAAAAAAAAAAAAAAAAAAAAAAAAAAAAAAAAAAAAAAAAAAAAAAAAAAAAAAAAAAAAAAAAAAAAAAAAAAAAAAAAAAAAAAAAAAAAAAAAAAAAAAAAAAAAAAAAAAAAAAAAAAAAAAAAAAAAAAAAAAAAAAAAAAAAAAAAAAAAAAAAAAAAAAAAAAAAAAAAAAAAAAAAAAAAAAAAAAAAAAAAAAAAAAAAAAAAAAAAAAAAAAAAAAAAAAAAAAAAAAAAAAAAAAAAAAAAAAAAAAAAAAAAAAAAAAAAAAAAAAAAAAAAAAAAAAAAAAAAAAAAAAAAAAAAAAAAAAAAAAAAAAAAAAAAAAAAAAAAAAAAAAAAAAAAAAAAAAAAAAAAAAAAAAAAAAAAAAAAAAAAAAAAAAAAAAAAAAAAAAAAAAAAAAAAAAAAAAAAAAAAAAAAAAAAAAAAAAAAAAAAAAAAAAAAAAAAAAAAAAAAAAAAAAAAAAAAAAAAAAAAAAAAAAAAAAAAAAAAAAAAAAAAAAAAAAAAAAAAAAAAAAAAAAAAAAAAAAAAAAAAAAAAAAAAAAAAAAAAAAAAAAAAAAAAAAAAAAAAAAAAAAAAAAAAAAAAAAAAAAAAAAAAAAAAAAAAAAAAAAAAAAAAAAAAAAAAAAAAAAAAAAAAAAAAAAAAAAAAAAAAAAAAAAAAAAAAAAAAAAAAAAAAAAAAAAAAAAAAAAAAAAAAAAAAAAAAAAAAAAAAAAAAAAAAAAAAAAAAAAAAAAAAAAAAAAAAAAAAAAAAAAAAAAAAAAAAAAAAAAAAAAAAAAAAAAAAAAAAAAAAAAAAAAAAAAAAAAAAAAAAAAAAAAAAAAAAAAAAAAAAAAAAAAAAAAAAAAAAAAAAAAAAAAAAAAAAAAAAAAAAAAAAAAAAAAAAAAAAAAAAAAAAAAAAAAAAAAAAAAAAAAAAAAAAAAAAAAAAAAAAAAAAAAAAAAAAAAAAAAAAAAAAAAAAAAAAAAAAAAAAAAAAAAAAAAAAAAAAAAAAAAAAAAAAAAAAAAAAAAAAAAAAAAAAAAAAAAAAAAAAAAAAAAAAAAAAAAAAAAAAAAAAAAAAAAAAAAAAAAAAAAAAAAAAAAAAAAAAAAAAAAAAAAAAAAAAAAAAAAAAAAAAAAAAAAAAAAAAAAAAAAAAAAAAAAAAAAAAAAAAAAAAAAAAAAAAAAAAAAAAAAAAAAAAAAAAAAAAAAAAAAAAAAAAAAAAAAAAAAAAAAAAAAAAAAAAAAAAAAAAAAAAAAAAAAAAAAAAAAAAAAAAAAAAAAAAAAAAAAAAAAAAAAAAAAAAAAAAAAAAAAAAAAAAAAAAAAAAAAAAAAAAAAAAAAAAAAAAAAAAAAAAAAAAAAAAAAAAAAAAAAAAAAAAAAAAAAAAAAAAAAAAAAAAAAAAAAAAAAAAAAAAAAAAAAAAAAAAAAAAAAAAAAAAAAAAAAAAAAAAAAAAAAAAAAAAAAAAAAAAAAAAAAAAAAAAAAAAAAAAAAAAAAAAAAAAAAAAAAAAAAAAAAAAAAAAAAAAAAAAAAAAAAAAAAAAAAAAAAAAAAAAAAAAAAAAAAAAAAAAAAAAAAAAAAAAAAAAAAAAAAAAAAAAAAAAAAAAAAAAAAAAAAAAAAAAAAAAAAAAAAAAAAAAAAAAAAAAAAAAAAAAAAAAAAAAAAAAAAAAAAAAAAAAAAAAAAAAAAAAAAAAAAAAAAAAAAAAAAAAAAAAAAAAAAAAAAAAAAAAAAAAAAAAAAAAAAAAAAAAAAAAAAAAAAAAAAAAAAAAAAAAAAAAAAAAAAAAAAAAAAAAAAAAAAAAAAAAAAAAAAAAAAAAAAAAAAAAAAAAAAAAAAAAAAAAAAAAAAAAAAAAAAAAAAAAAAAAAAAAAAAAAAAAAAAAAAAAAAAAAAAAAAAAAAAAAAAAAAAAAAAAAAAAAAAAAAAAAAAAAAAAAAAAAAAAAAAAAAAAAAAAAAAAAAAAAAAAAAAAAAAAAAAAAAAAAAAAAAAAAAAAAAAAAAAAAAAAAAAAAAAAAAAAAAAAAAAAAAAAAA",
        "encoding": "base64",
        "path": [
         "_data",
         1,
         "x",
         "buffer"
        ]
       },
       {
        "data": "hmWKlqJ1JkCGZYqWonUmQIZlipaidSZAhmWKlqJ1JkCGZYqWonUmQIZlipaidSZAhmWKlqJ1JkCGZYqWonUmQIZlipaidSZAhmWKlqJ1JkCGZYqWonUmQIZlipaidSZAhmWKlqJ1JkCGZYqWonUmQIZlipaidSZAhmWKlqJ1JkCGZYqWonUmQIZlipaidSZAhmWKlqJ1JkCGZYqWonUmQIZlipaidSZAhmWKlqJ1JkCGZYqWonUmQIZlipaidSZAhmWKlqJ1JkCGZYqWonUmQIZlipaidSZAhmWKlqJ1JkCGZYqWonUmQIZlipaidSZAhmWKlqJ1JkCGZYqWonUmQIZlipaidSZAhmWKlqJ1JkCGZYqWonUmQIZlipaidSZAhmWKlqJ1JkCGZYqWonUmQIZlipaidSZAhmWKlqJ1JkCGZYqWonUmQIZlipaidSZAhmWKlqJ1JkCGZYqWonUmQIZlipaidSZAhmWKlqJ1JkCGZYqWonUmQIZlipaidSZAhmWKlqJ1JkCGZYqWonUmQIZlipaidSZAhmWKlqJ1JkCGZYqWonUmQIZlipaidSZAhmWKlqJ1JkCGZYqWonUmQIZlipaidSZAhmWKlqJ1JkCGZYqWonUmQIZlipaidSZAhmWKlqJ1JkCGZYqWonUmQIZlipaidSZAhmWKlqJ1JkCGZYqWonUmQIZlipaidSZAhmWKlqJ1JkCGZYqWonUmQIZlipaidSZAhmWKlqJ1JkCGZYqWonUmQIZlipaidSZAhmWKlqJ1JkCGZYqWonUmQIZlipaidSZAhmWKlqJ1JkCGZYqWonUmQIZlipaidSZAhmWKlqJ1JkCGZYqWonUmQIZlipaidSZAhmWKlqJ1JkCGZYqWonUmQIZlipaidSZAhmWKlqJ1JkCGZYqWonUmQIZlipaidSZAhmWKlqJ1JkCGZYqWonUmQIZlipaidSZAhmWKlqJ1JkCGZYqWonUmQIZlipaidSZAhmWKlqJ1JkCGZYqWonUmQIZlipaidSZAhmWKlqJ1JkCGZYqWonUmQIZlipaidSZAhmWKlqJ1JkCGZYqWonUmQIZlipaidSZAhmWKlqJ1JkCGZYqWonUmQIZlipaidSZAhmWKlqJ1JkCGZYqWonUmQIZlipaidSZAhmWKlqJ1JkCGZYqWonUmQIZlipaidSZAhmWKlqJ1JkCGZYqWonUmQIZlipaidSZAhmWKlqJ1JkCGZYqWonUmQIZlipaidSZAhmWKlqJ1JkCGZYqWonUmQIZlipaidSZAhmWKlqJ1JkCGZYqWonUmQIZlipaidSZAhmWKlqJ1JkCGZYqWonUmQIZlipaidSZAhmWKlqJ1JkCGZYqWonUmQIZlipaidSZAhmWKlqJ1JkCGZYqWonUmQIZlipaidSZAhmWKlqJ1JkCGZYqWonUmQIZlipaidSZAhmWKlqJ1JkCGZYqWonUmQIZlipaidSZAhmWKlqJ1JkCGZYqWonUmQIZlipaidSZAhmWKlqJ1JkCGZYqWonUmQIZlipaidSZAhmWKlqJ1JkCGZYqWonUmQIZlipaidSZAhmWKlqJ1JkCGZYqWonUmQIZlipaidSZAhmWKlqJ1JkCGZYqWonUmQIZlipaidSZAhmWKlqJ1JkCGZYqWonUmQIZlipaidSZAhmWKlqJ1JkCGZYqWonUmQIZlipaidSZAhmWKlqJ1JkCGZYqWonUmQIZlipaidSZAhmWKlqJ1JkCGZYqWonUmQIZlipaidSZAhmWKlqJ1JkCGZYqWonUmQIZlipaidSZAhmWKlqJ1JkCGZYqWonUmQIZlipaidSZAhmWKlqJ1JkCGZYqWonUmQIZlipaidSZAhmWKlqJ1JkCGZYqWonUmQIZlipaidSZAhmWKlqJ1JkCGZYqWonUmQIZlipaidSZAhmWKlqJ1JkCGZYqWonUmQIZlipaidSZAhmWKlqJ1JkCGZYqWonUmQIZlipaidSZAhmWKlqJ1JkCGZYqWonUmQIZlipaidSZAhmWKlqJ1JkCGZYqWonUmQIZlipaidSZAhmWKlqJ1JkCGZYqWonUmQIZlipaidSZAhmWKlqJ1JkCGZYqWonUmQIZlipaidSZAhmWKlqJ1JkCGZYqWonUmQIZlipaidSZAhmWKlqJ1JkCGZYqWonUmQIZlipaidSZAhmWKlqJ1JkCGZYqWonUmQIZlipaidSZAhmWKlqJ1JkCGZYqWonUmQIZlipaidSZAhmWKlqJ1JkCGZYqWonUmQIZlipaidSZAhmWKlqJ1JkCGZYqWonUmQIZlipaidSZAhmWKlqJ1JkCGZYqWonUmQIZlipaidSZAhmWKlqJ1JkCGZYqWonUmQIZlipaidSZAhmWKlqJ1JkCGZYqWonUmQIZlipaidSZA",
        "encoding": "base64",
        "path": [
         "_data",
         1,
         "y",
         "buffer"
        ]
       },
       {
        "data": "AAAAAAAAAAAAAAAAAAAAAAAAAAAAAAAAAAAAAAAAAAAAAAAAAAAAAAAAAAAAAAAAAAAAAAAAAAAAAAAAAAAAAAAAAAAAAAAAAAAAAAAAAAAAAAAAAAAAAAAAAAAAAAAAAAAAAAAAAAAAAAAAAAAAAAAAAAAAAAAAAAAAAAAAAAAAAAAAAAAAAAAAAAAAAAAAAAAAAAAAAAAAAAAAAAAAAAAAAAAAAAAAAAAAAAAAAAAAAAAAAAAAAAAAAAAAAAAAAAAAAAAAAAAAAAAAAAAAAAAAAAAAAAAAAAAAAAAAAAAAAAAAAAAAAAAAAAAAAAAAAAAAAAAAAAAAAAAAAAAAAAAAAAAAAAAAAAAAAAAAAAAAAAAAAAAAAAAAAAAAAAAAAAAAAAAAAAAAAAAAAAAAAAAAAAAAAAAAAAAAAAAAAAAAAAAAAAAAAAAAAAAAAAAAAAAAAAAAAAAAAAAAAAAAAAAAAAAAAAAAAAAAAAAAAAAAAAAAAAAAAAAAAAAAAAAAAAAAAAAAAAAAAAAAAAAAAAAAAAAAAAAAAAAAAAAAAAAAAAAAAAAAAAAAAAAAAAAAAAAAAAAAAAAAAAAAAAAAAAAAAAAAAAAAAAAAAAAAAAAAAAAAAAAAAAAAAAAAAAAAAAAAAAAAAAAAAAAAAAAAAAAAAAAAAAAAAAAAAAAAAAAAAAAAAAAAAAAAAAAAAAAAAAAAAAAAAAAAAAAAAAAAAAAAAAAAAAAAAAAAAAAAAAAAAAAAAAAAAAAAAAAAAAAAAAAAAAAAAAAAAAAAAAAAAAAAAAAAAAAAAAAAAAAAAAAAAAAAAAAAAAAAAAAAAAAAAAAAAAAAAAAAAAAAAAAAAAAAAAAAAAAAAAAAAAAAAAAAAAAAAAAAAAAAAAAAAAAAAAAAAAAAAAAAAAAAAAAAAAAAAAAAAAAAAAAAAAAAAAAAAAAAAAAAAAAAAAAAAAAAAAAAAAAAAAAAAAAAAAAAAAAAAAAAAAAAAAAAAAAAAAAAAAAAAAAAAAAAAAAAAAAAAAAAAAAAAAAAAAAAAAAAAAAAAAAAAAAAAAAAAAAAAAAAAAAAAAAAAAAAAAAAAAAAAAAAAAAAAAAAAAAAAAAAAAAAAAAAAAAAAAAAAAAAAAAAAAAAAAAAAAAAAAAAAAAAAAAAAAAAAAAAAAAAAAAAAAAAAAAAAAAAAAAAAAAAAAAAAAAAAAAAAAAAAAAAAAAAAAAAAAAAAAAAAAAAAAAAAAAAAAAAAAAAAAAAAAAAAAAAAAAAAAAAAAAAAAAAAAAAAAAAAAAAAAAAAAAAAAAAAAAAAAAAAAAAAAAAAAAAAAAAAAAAAAAAAAAAAAAAAAAAAAAAAAAAAAAAAAAAAAAAAAAAAAAAAAAAAAAAAAAAAAAAAAAAAAAAAAAAAAAAAAAAAAAAAAAAAAAAAAAAAAAAAAAAAAAAAAAAAAAAAAAAAAAAAAAAAAAAAAAAAAAAAAAAAAAAAAAAAAAAAAAAAAAAAAAAAAAAAAAAAAAAAAAAAAAAAAAAAAAAAAAAAAAAAAAAAAAAAAAAAAAAAAAAAAAAAAAAAAAAAAAAAAAAAAAAAAAAAAAAAAAAAAAAAAAAAAAAAAAAAAAAAAAAAAAAAAAAAAAAAAAAAAAAAAAAAAAAAAAAAAAAAAAAAAAAAAAAAAAAAAAAAAAAAAAAAAAAAAAAAAAAAAAAAAAAAAAAAAAAAAAAAAAAAAAAAAAAAAAAAAAAAAAAAAAAAAAAAAAAAAAAAAAAAAAAAAAAAAAAAAAAAAAAAAAAAAAAAAAAAAAAAAAAAAAAAAAAAAAAAAAAAAAAAAAAAAAAAAAAAAAAAAAAAAAAAAAAAAAAAAAAAAAAAAAAAAAAAAAAAAAAAAAAAAAAAAAAAAAAAAAAAAAAAAAAAAAAAAAAAAAAAAAAAAAAAAAAAAAAAAAAAAAAAAAAAAAAAAAAAAAAAAAAAAAAAAAAAAAAAAAAAAAAAAAAAAAAAAAAAAAAAAAAAAAAAAAAAAAAAAAAAAAAAAAAAAAAAAAAAAAAAAAAAAAAAAAAAAAAAAAAAAAAAAAAAAAAAAAAAAAAAAAAAAAAAAAAAAAAAAAAAAAAAAAAAAAAAAAAAAAAAAAAAAAAAAAAAAAAAAAAAAAAAAAAAAAAAAAAAAAAAAAAAAAAAAAAAAAAAAAAAAAAAAAAAAAAAAAAAAAAAAAAAAAAAAAAAAAAAAAAAAAAAAAAAAAAAAAAAAAAAAAAAAAAAAAAAAAAAAAAAAAAAAAAAAAAAAAAAAAAAAAAAAAAAAAAAAAAAAAAAAAAAAAAAAAAAAAAAAAAAAAAAAAAAAAAAAAAAAAAAAAAAAAAAAAAAAAAAAAAAAAAAAAAAAAAAAAAAAAAAAAAAAAAAAAAAAAAAAAAAAAAAAAAAAAA",
        "encoding": "base64",
        "path": [
         "_data",
         1,
         "z",
         "buffer"
        ]
       },
       {
        "data": "AAAAAAAAAAAAAAAAAAAAAAAAAAAAAAAAAAAAAAAAAAAAAAAAAAAAAAAAAAAAAAAAAAAAAAAAAAAAAAAAAAAAAAAAAAAAAAAAAAAAAAAAAAAAAAAAAAAAAAAAAAAAAAAAAAAAAAAAAAAAAAAAAAAAAAAAAAAAAAAAAAAAAAAAAAAAAAAAAAAAAAAAAAAAAAAAAAAAAAAAAAAAAAAAAAAAAAAAAAAAAAAAAAAAAAAAAAAAAAAAAAAAAAAAAAAAAAAAAAAAAAAAAAAAAAAAAAAAAAAAAAAAAAAAAAAAAAAAAAAAAAAAAAAAAAAAAAAAAAAAAAAAAAAAAAAAAAAAAAAAAAAAAAAAAAAAAAAAAAAAAAAAAAAAAAAAAAAAAAAAAAAAAAAAAAAAAAAAAAAAAAAAAAAAAAAAAAAAAAAAAAAAAAAAAAAAAAAAAAAAAAAAAAAAAAAAAAAAAAAAAAAAAAAAAAAAAAAAAAAAAAAAAAAAAAAAAAAAAAAAAAAAAAAAAAAAAAAAAAAAAAAAAAAAAAAAAAAAAAAAAAAAAAAAAAAAAAAAAAAAAAAAAAAAAAAAAAAAAAAAAAAAAAAAAAAAAAAAAAAAAAAAAAAAAAAAAAAAAAAAAAAAAAAAAAAAAAAAAAAAAAAAAAAAAAAAAAAAAAAAAAAAAAAAAAAAAAAAAAAAAAAAAAAAAAAAAAAAAAAAAAAAAAAAAAAAAAAAAAAAAAAAAAAAAAAAAAAAAAAAAAAAAAAAAAAAAAAAAAAAAAAAAAAAAAAAAAAAAAAAAAAAAAAAAAAAAAAAAAAAAAAAAAAAAAAAAAAAAAAAAAAAAAAAAAAAAAAAAAAAAAAAAAAAAAAAAAAAAAAAAAAAAAAAAAAAAAAAAAAAAAAAAAAAAAAAAAAAAAAAAAAAAAAAAAAAAAAAAAAAAAAAAAAAAAAAAAAAAAAAAAAAAAAAAAAAAAAAAAAAAAAAAAAAAAAAAAAAAAAAAAAAAAAAAAAAAAAAAAAAAAAAAAAAAAAAAAAAAAAAAAAAAAAAAAAAAAAAAAAAAAAAAAAAAAAAAAAAAAAAAAAAAAAAAAAAAAAAAAAAAAAAAAAAAAAAAAAAAAAAAAAAAAAAAAAAAAAAAAAAAAAAAAAAAAAAAAAAAAAAAAAAAAAAAAAAAAAAAAAAAAAAAAAAAAAAAAAAAAAAAAAAAAAAAAAAAAAAAAAAAAAAAAAAAAAAAAAAAAAAAAAAAAAAAAAAAAAAAAAAAAAAAAAAAAAAAAAAAAAAAAAAAAAAAAAAAAAAAAAAAAAAAAAAAAAAAAAAAAAAAAAAAAAAAAAAAAAAAAAAAAAAAAAAAAAAAAAAAAAAAAAAAAAAAAAAAAAAAAAAAAAAAAAAAAAAAAAAAAAAAAAAAAAAAAAAAAAAAAAAAAAAAAAAAAAAAAAAAAAAAAAAAAAAAAAAAAAAAAAAAAAAAAAAAAAAAAAAAAAAAAAAAAAAAAAAAAAAAAAAAAAAAAAAAAAAAAAAAAAAAAAAAAAAAAAAAAAAAAAAAAAAAAAAAAAAAAAAAAAAAAAAAAAAAAAAAAAAAAAAAAAAAAAAAAAAAAAAAAAAAAAAAAAAAAAAAAAAAAAAAAAAAAAAAAAAAAAAAAAAAAAAAAAAAAAAAAAAAAAAAAAAAAAAAAAAAAAAAAAAAAAAAAAAAAAAAAAAAAAAAAAAAAAAAAAAAAAAAAAAAAAAAAAAAAAAAAAAAAAAAAAAAAAAAAAAAAAAAAAAAAAAAAAAAAAAAAAAAAAAAAAAAAAAAAAAAAAAAAAAAAAAAAAAAAAAAAAAAAAAAAAAAAAAAAAAAAAAAAAAAAAAAAAAAAAAAAAAAAAAAAAAAAAAAAAAAAAAAAAAAAAAAAAAAAAAAAAAAAAAAAAAAAAAAAAAAAAAAAAAAAAAAAAAAAAAAAAAAAAAAAAAAAAAAAAAAAAAAAAAAAAAAAAAAAAAAAAAAAAAAAAAAAAAAAAAAAAAAAAAAAAAAAAAAAAAAAAAAAAAAAAAAAAAAAAAAAAAAAAAAAAAAAAAAAAAAAAAAAAAAAAAAAAAAAAAAAAAAAAAAAAAAAAAAAAAAAAAAAAAAAAAAAAAAAAAAAAAAAAAAAAAAAAAAAAAAAAAAAAAAAAAAAAAAAAAAAAAAAAAAAAAAAAAAAAAAAAAAAAAAAAAAAAAAAAAAAAAAAAAAAAAAAAAAAAAAAAAAAAAAAAAAAAAAAAAAAAAAAAAAAAAAAAAAAAAAAAAAAAAAAAAAAAAAAAAAAAAAAAAAAAAAAAAAAAAAAAAAAAAAAAAAAAAAAAAAAAAAAAAAAAAAAAAAAAAAAAAAAAAAAAAAAAAAAAAAAAAAAAAAAAAAAAAAAAAAAAAAAAAAAAAAAAAAAAAAAAAAAAAAAAAAAAAAAAAAAAAAAAA",
        "encoding": "base64",
        "path": [
         "_data",
         2,
         "x",
         "buffer"
        ]
       },
       {
        "data": "kjCfw+dgK0CSMJ/D52ArQJIwn8PnYCtAkjCfw+dgK0CSMJ/D52ArQJIwn8PnYCtAkjCfw+dgK0CSMJ/D52ArQJIwn8PnYCtAkjCfw+dgK0CSMJ/D52ArQJIwn8PnYCtAkjCfw+dgK0CSMJ/D52ArQJIwn8PnYCtAkjCfw+dgK0CSMJ/D52ArQJIwn8PnYCtAkjCfw+dgK0CSMJ/D52ArQJIwn8PnYCtAkjCfw+dgK0CSMJ/D52ArQJIwn8PnYCtAkjCfw+dgK0CSMJ/D52ArQJIwn8PnYCtAkjCfw+dgK0CSMJ/D52ArQJIwn8PnYCtAkjCfw+dgK0CSMJ/D52ArQJIwn8PnYCtAkjCfw+dgK0CSMJ/D52ArQJIwn8PnYCtAkjCfw+dgK0CSMJ/D52ArQJIwn8PnYCtAkjCfw+dgK0CSMJ/D52ArQJIwn8PnYCtAkjCfw+dgK0CSMJ/D52ArQJIwn8PnYCtAkjCfw+dgK0CSMJ/D52ArQJIwn8PnYCtAkjCfw+dgK0CSMJ/D52ArQJIwn8PnYCtAkjCfw+dgK0CSMJ/D52ArQJIwn8PnYCtAkjCfw+dgK0CSMJ/D52ArQJIwn8PnYCtAkjCfw+dgK0CSMJ/D52ArQJIwn8PnYCtAkjCfw+dgK0CSMJ/D52ArQJIwn8PnYCtAkjCfw+dgK0CSMJ/D52ArQJIwn8PnYCtAkjCfw+dgK0CSMJ/D52ArQJIwn8PnYCtAkjCfw+dgK0CSMJ/D52ArQJIwn8PnYCtAkjCfw+dgK0CSMJ/D52ArQJIwn8PnYCtAkjCfw+dgK0CSMJ/D52ArQJIwn8PnYCtAkjCfw+dgK0CSMJ/D52ArQJIwn8PnYCtAkjCfw+dgK0CSMJ/D52ArQJIwn8PnYCtAkjCfw+dgK0CSMJ/D52ArQJIwn8PnYCtAkjCfw+dgK0CSMJ/D52ArQJIwn8PnYCtAkjCfw+dgK0CSMJ/D52ArQJIwn8PnYCtAkjCfw+dgK0CSMJ/D52ArQJIwn8PnYCtAkjCfw+dgK0CSMJ/D52ArQJIwn8PnYCtAkjCfw+dgK0CSMJ/D52ArQJIwn8PnYCtAkjCfw+dgK0CSMJ/D52ArQJIwn8PnYCtAkjCfw+dgK0CSMJ/D52ArQJIwn8PnYCtAkjCfw+dgK0CSMJ/D52ArQJIwn8PnYCtAkjCfw+dgK0CSMJ/D52ArQJIwn8PnYCtAkjCfw+dgK0CSMJ/D52ArQJIwn8PnYCtAkjCfw+dgK0CSMJ/D52ArQJIwn8PnYCtAkjCfw+dgK0CSMJ/D52ArQJIwn8PnYCtAkjCfw+dgK0CSMJ/D52ArQJIwn8PnYCtAkjCfw+dgK0CSMJ/D52ArQJIwn8PnYCtAkjCfw+dgK0CSMJ/D52ArQJIwn8PnYCtAkjCfw+dgK0CSMJ/D52ArQJIwn8PnYCtAkjCfw+dgK0CSMJ/D52ArQJIwn8PnYCtAkjCfw+dgK0CSMJ/D52ArQJIwn8PnYCtAkjCfw+dgK0CSMJ/D52ArQJIwn8PnYCtAkjCfw+dgK0CSMJ/D52ArQJIwn8PnYCtAkjCfw+dgK0CSMJ/D52ArQJIwn8PnYCtAkjCfw+dgK0CSMJ/D52ArQJIwn8PnYCtAkjCfw+dgK0CSMJ/D52ArQJIwn8PnYCtAkjCfw+dgK0CSMJ/D52ArQJIwn8PnYCtAkjCfw+dgK0CSMJ/D52ArQJIwn8PnYCtAkjCfw+dgK0CSMJ/D52ArQJIwn8PnYCtAkjCfw+dgK0CSMJ/D52ArQJIwn8PnYCtAkjCfw+dgK0CSMJ/D52ArQJIwn8PnYCtAkjCfw+dgK0CSMJ/D52ArQJIwn8PnYCtAkjCfw+dgK0CSMJ/D52ArQJIwn8PnYCtAkjCfw+dgK0CSMJ/D52ArQJIwn8PnYCtAkjCfw+dgK0CSMJ/D52ArQJIwn8PnYCtAkjCfw+dgK0CSMJ/D52ArQJIwn8PnYCtAkjCfw+dgK0CSMJ/D52ArQJIwn8PnYCtAkjCfw+dgK0CSMJ/D52ArQJIwn8PnYCtAkjCfw+dgK0CSMJ/D52ArQJIwn8PnYCtAkjCfw+dgK0CSMJ/D52ArQJIwn8PnYCtAkjCfw+dgK0CSMJ/D52ArQJIwn8PnYCtAkjCfw+dgK0CSMJ/D52ArQJIwn8PnYCtAkjCfw+dgK0CSMJ/D52ArQJIwn8PnYCtAkjCfw+dgK0CSMJ/D52ArQJIwn8PnYCtAkjCfw+dgK0CSMJ/D52ArQJIwn8PnYCtAkjCfw+dgK0CSMJ/D52ArQJIwn8PnYCtAkjCfw+dgK0CSMJ/D52ArQJIwn8PnYCtAkjCfw+dgK0CSMJ/D52ArQJIwn8PnYCtAkjCfw+dgK0CSMJ/D52ArQJIwn8PnYCtA",
        "encoding": "base64",
        "path": [
         "_data",
         2,
         "y",
         "buffer"
        ]
       },
       {
        "data": "AAAAAAAAAAAAAAAAAAAAAAAAAAAAAAAAAAAAAAAAAAAAAAAAAAAAAAAAAAAAAAAAAAAAAAAAAAAAAAAAAAAAAAAAAAAAAAAAAAAAAAAAAAAAAAAAAAAAAAAAAAAAAAAAAAAAAAAAAAAAAAAAAAAAAAAAAAAAAAAAAAAAAAAAAAAAAAAAAAAAAAAAAAAAAAAAAAAAAAAAAAAAAAAAAAAAAAAAAAAAAAAAAAAAAAAAAAAAAAAAAAAAAAAAAAAAAAAAAAAAAAAAAAAAAAAAAAAAAAAAAAAAAAAAAAAAAAAAAAAAAAAAAAAAAAAAAAAAAAAAAAAAAAAAAAAAAAAAAAAAAAAAAAAAAAAAAAAAAAAAAAAAAAAAAAAAAAAAAAAAAAAAAAAAAAAAAAAAAAAAAAAAAAAAAAAAAAAAAAAAAAAAAAAAAAAAAAAAAAAAAAAAAAAAAAAAAAAAAAAAAAAAAAAAAAAAAAAAAAAAAAAAAAAAAAAAAAAAAAAAAAAAAAAAAAAAAAAAAAAAAAAAAAAAAAAAAAAAAAAAAAAAAAAAAAAAAAAAAAAAAAAAAAAAAAAAAAAAAAAAAAAAAAAAAAAAAAAAAAAAAAAAAAAAAAAAAAAAAAAAAAAAAAAAAAAAAAAAAAAAAAAAAAAAAAAAAAAAAAAAAAAAAAAAAAAAAAAAAAAAAAAAAAAAAAAAAAAAAAAAAAAAAAAAAAAAAAAAAAAAAAAAAAAAAAAAAAAAAAAAAAAAAAAAAAAAAAAAAAAAAAAAAAAAAAAAAAAAAAAAAAAAAAAAAAAAAAAAAAAAAAAAAAAAAAAAAAAAAAAAAAAAAAAAAAAAAAAAAAAAAAAAAAAAAAAAAAAAAAAAAAAAAAAAAAAAAAAAAAAAAAAAAAAAAAAAAAAAAAAAAAAAAAAAAAAAAAAAAAAAAAAAAAAAAAAAAAAAAAAAAAAAAAAAAAAAAAAAAAAAAAAAAAAAAAAAAAAAAAAAAAAAAAAAAAAAAAAAAAAAAAAAAAAAAAAAAAAAAAAAAAAAAAAAAAAAAAAAAAAAAAAAAAAAAAAAAAAAAAAAAAAAAAAAAAAAAAAAAAAAAAAAAAAAAAAAAAAAAAAAAAAAAAAAAAAAAAAAAAAAAAAAAAAAAAAAAAAAAAAAAAAAAAAAAAAAAAAAAAAAAAAAAAAAAAAAAAAAAAAAAAAAAAAAAAAAAAAAAAAAAAAAAAAAAAAAAAAAAAAAAAAAAAAAAAAAAAAAAAAAAAAAAAAAAAAAAAAAAAAAAAAAAAAAAAAAAAAAAAAAAAAAAAAAAAAAAAAAAAAAAAAAAAAAAAAAAAAAAAAAAAAAAAAAAAAAAAAAAAAAAAAAAAAAAAAAAAAAAAAAAAAAAAAAAAAAAAAAAAAAAAAAAAAAAAAAAAAAAAAAAAAAAAAAAAAAAAAAAAAAAAAAAAAAAAAAAAAAAAAAAAAAAAAAAAAAAAAAAAAAAAAAAAAAAAAAAAAAAAAAAAAAAAAAAAAAAAAAAAAAAAAAAAAAAAAAAAAAAAAAAAAAAAAAAAAAAAAAAAAAAAAAAAAAAAAAAAAAAAAAAAAAAAAAAAAAAAAAAAAAAAAAAAAAAAAAAAAAAAAAAAAAAAAAAAAAAAAAAAAAAAAAAAAAAAAAAAAAAAAAAAAAAAAAAAAAAAAAAAAAAAAAAAAAAAAAAAAAAAAAAAAAAAAAAAAAAAAAAAAAAAAAAAAAAAAAAAAAAAAAAAAAAAAAAAAAAAAAAAAAAAAAAAAAAAAAAAAAAAAAAAAAAAAAAAAAAAAAAAAAAAAAAAAAAAAAAAAAAAAAAAAAAAAAAAAAAAAAAAAAAAAAAAAAAAAAAAAAAAAAAAAAAAAAAAAAAAAAAAAAAAAAAAAAAAAAAAAAAAAAAAAAAAAAAAAAAAAAAAAAAAAAAAAAAAAAAAAAAAAAAAAAAAAAAAAAAAAAAAAAAAAAAAAAAAAAAAAAAAAAAAAAAAAAAAAAAAAAAAAAAAAAAAAAAAAAAAAAAAAAAAAAAAAAAAAAAAAAAAAAAAAAAAAAAAAAAAAAAAAAAAAAAAAAAAAAAAAAAAAAAAAAAAAAAAAAAAAAAAAAAAAAAAAAAAAAAAAAAAAAAAAAAAAAAAAAAAAAAAAAAAAAAAAAAAAAAAAAAAAAAAAAAAAAAAAAAAAAAAAAAAAAAAAAAAAAAAAAAAAAAAAAAAAAAAAAAAAAAAAAAAAAAAAAAAAAAAAAAAAAAAAAAAAAAAAAAAAAAAAAAAAAAAAAAAAAAAAAAAAAAAAAAAAAAAAAAAAAAAAAAAAAAAAAAAAAAAAAAAAAAAAAAAAAAAAAAAAAAAAAAAAAAAAAAAAAAAAAAAAAAAAAAAAAAAAAAAAAAAAAAAAAAAAAAAAAAAAAAAAAAAAAAAAAAAAAAAAAAAAA",
        "encoding": "base64",
        "path": [
         "_data",
         2,
         "z",
         "buffer"
        ]
       },
       {
        "data": "AAAAAAAAAAAAAAAAAAAAAAAAAAAAAAAAAAAAAAAAAAAAAAAAAAAAAAAAAAAAAAAAAAAAAAAAAAAAAAAAAAAAAAAAAAAAAAAAAAAAAAAAAAAAAAAAAAAAAAAAAAAAAAAAAAAAAAAAAAAAAAAAAAAAAAAAAAAAAAAAAAAAAAAAAAAAAAAAAAAAAAAAAAAAAAAAAAAAAAAAAAAAAAAAAAAAAAAAAAAAAAAAAAAAAAAAAAAAAAAAAAAAAAAAAAAAAAAAAAAAAAAAAAAAAAAAAAAAAAAAAAAAAAAAAAAAAAAAAAAAAAAAAAAAAAAAAAAAAAAAAAAAAAAAAAAAAAAAAAAAAAAAAAAAAAAAAAAAAAAAAAAAAAAAAAAAAAAAAAAAAAAAAAAAAAAAAAAAAAAAAAAAAAAAAAAAAAAAAAAAAAAAAAAAAAAAAAAAAAAAAAAAAAAAAAAAAAAAAAAAAAAAAAAAAAAAAAAAAAAAAAAAAAAAAAAAAAAAAAAAAAAAAAAAAAAAAAAAAAAAAAAAAAAAAAAAAAAAAAAAAAAAAAAAAAAAAAAAAAAAAAAAAAAAAAAAAAAAAAAAAAAAAAAAAAAAAAAAAAAAAAAAAAAAAAAAAAAAAAAAAAAAAAAAAAAAAAAAAAAAAAAAAAAAAAAAAAAAAAAAAAAAAAAAAAAAAAAAAAAAAAAAAAAAAAAAAAAAAAAAAAAAAAAAAAAAAAAAAAAAAAAAAAAAAAAAAAAAAAAAAAAAAAAAAAAAAAAAAAAAAAAAAAAAAAAAAAAAAAAAAAAAAAAAAAAAAAAAAAAAAAAAAAAAAAAAAAAAAAAAAAAAAAAAAAAAAAAAAAAAAAAAAAAAAAAAAAAAAAAAAAAAAAAAAAAAAAAAAAAAAAAAAAAAAAAAAAAAAAAAAAAAAAAAAAAAAAAAAAAAAAAAAAAAAAAAAAAAAAAAAAAAAAAAAAAAAAAAAAAAAAAAAAAAAAAAAAAAAAAAAAAAAAAAAAAAAAAAAAAAAAAAAAAAAAAAAAAAAAAAAAAAAAAAAAAAAAAAAAAAAAAAAAAAAAAAAAAAAAAAAAAAAAAAAAAAAAAAAAAAAAAAAAAAAAAAAAAAAAAAAAAAAAAAAAAAAAAAAAAAAAAAAAAAAAAAAAAAAAAAAAAAAAAAAAAAAAAAAAAAAAAAAAAAAAAAAAAAAAAAAAAAAAAAAAAAAAAAAAAAAAAAAAAAAAAAAAAAAAAAAAAAAAAAAAAAAAAAAAAAAAAAAAAAAAAAAAAAAAAAAAAAAAAAAAAAAAAAAAAAAAAAAAAAAAAAAAAAAAAAAAAAAAAAAAAAAAAAAAAAAAAAAAAAAAAAAAAAAAAAAAAAAAAAAAAAAAAAAAAAAAAAAAAAAAAAAAAAAAAAAAAAAAAAAAAAAAAAAAAAAAAAAAAAAAAAAAAAAAAAAAAAAAAAAAAAAAAAAAAAAAAAAAAAAAAAAAAAAAAAAAAAAAAAAAAAAAAAAAAAAAAAAAAAAAAAAAAAAAAAAAAAAAAAAAAAAAAAAAAAAAAAAAAAAAAAAAAAAAAAAAAAAAAAAAAAAAAAAAAAAAAAAAAAAAAAAAAAAAAAAAAAAAAAAAAAAAAAAAAAAAAAAAAAAAAAAAAAAAAAAAAAAAAAAAAAAAAAAAAAAAAAAAAAAAAAAAAAAAAAAAAAAAAAAAAAAAAAAAAAAAAAAAAAAAAAAAAAAAAAAAAAAAAAAAAAAAAAAAAAAAAAAAAAAAAAAAAAAAAAAAAAAAAAAAAAAAAAAAAAAAAAAAAAAAAAAAAAAAAAAAAAAAAAAAAAAAAAAAAAAAAAAAAAAAAAAAAAAAAAAAAAAAAAAAAAAAAAAAAAAAAAAAAAAAAAAAAAAAAAAAAAAAAAAAAAAAAAAAAAAAAAAAAAAAAAAAAAAAAAAAAAAAAAAAAAAAAAAAAAAAAAAAAAAAAAAAAAAAAAAAAAAAAAAAAAAAAAAAAAAAAAAAAAAAAAAAAAAAAAAAAAAAAAAAAAAAAAAAAAAAAAAAAAAAAAAAAAAAAAAAAAAAAAAAAAAAAAAAAAAAAAAAAAAAAAAAAAAAAAAAAAAAAAAAAAAAAAAAAAAAAAAAAAAAAAAAAAAAAAAAAAAAAAAAAAAAAAAAAAAAAAAAAAAAAAAAAAAAAAAAAAAAAAAAAAAAAAAAAAAAAAAAAAAAAAAAAAAAAAAAAAAAAAAAAAAAAAAAAAAAAAAAAAAAAAAAAAAAAAAAAAAAAAAAAAAAAAAAAAAAAAAAAAAAAAAAAAAAAAAAAAAAAAAAAAAAAAAAAAAAAAAAAAAAAAAAAAAAAAAAAAAAAAAAAAAAAAAAAAAAAAAAAAAAAAAAAAAAAAAAAAAAAAAAAAAAAAAAAAAAAAAAAAAAAAAAAAAAAAAAAAAAAAAAAAAAAAAAAA",
        "encoding": "base64",
        "path": [
         "_data",
         3,
         "x",
         "buffer"
        ]
       },
       {
        "data": "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",
        "encoding": "base64",
        "path": [
         "_data",
         3,
         "y",
         "buffer"
        ]
       },
       {
        "data": "AAAAAAAAAAAAAAAAAAAAAAAAAAAAAAAAAAAAAAAAAAAAAAAAAAAAAAAAAAAAAAAAAAAAAAAAAAAAAAAAAAAAAAAAAAAAAAAAAAAAAAAAAAAAAAAAAAAAAAAAAAAAAAAAAAAAAAAAAAAAAAAAAAAAAAAAAAAAAAAAAAAAAAAAAAAAAAAAAAAAAAAAAAAAAAAAAAAAAAAAAAAAAAAAAAAAAAAAAAAAAAAAAAAAAAAAAAAAAAAAAAAAAAAAAAAAAAAAAAAAAAAAAAAAAAAAAAAAAAAAAAAAAAAAAAAAAAAAAAAAAAAAAAAAAAAAAAAAAAAAAAAAAAAAAAAAAAAAAAAAAAAAAAAAAAAAAAAAAAAAAAAAAAAAAAAAAAAAAAAAAAAAAAAAAAAAAAAAAAAAAAAAAAAAAAAAAAAAAAAAAAAAAAAAAAAAAAAAAAAAAAAAAAAAAAAAAAAAAAAAAAAAAAAAAAAAAAAAAAAAAAAAAAAAAAAAAAAAAAAAAAAAAAAAAAAAAAAAAAAAAAAAAAAAAAAAAAAAAAAAAAAAAAAAAAAAAAAAAAAAAAAAAAAAAAAAAAAAAAAAAAAAAAAAAAAAAAAAAAAAAAAAAAAAAAAAAAAAAAAAAAAAAAAAAAAAAAAAAAAAAAAAAAAAAAAAAAAAAAAAAAAAAAAAAAAAAAAAAAAAAAAAAAAAAAAAAAAAAAAAAAAAAAAAAAAAAAAAAAAAAAAAAAAAAAAAAAAAAAAAAAAAAAAAAAAAAAAAAAAAAAAAAAAAAAAAAAAAAAAAAAAAAAAAAAAAAAAAAAAAAAAAAAAAAAAAAAAAAAAAAAAAAAAAAAAAAAAAAAAAAAAAAAAAAAAAAAAAAAAAAAAAAAAAAAAAAAAAAAAAAAAAAAAAAAAAAAAAAAAAAAAAAAAAAAAAAAAAAAAAAAAAAAAAAAAAAAAAAAAAAAAAAAAAAAAAAAAAAAAAAAAAAAAAAAAAAAAAAAAAAAAAAAAAAAAAAAAAAAAAAAAAAAAAAAAAAAAAAAAAAAAAAAAAAAAAAAAAAAAAAAAAAAAAAAAAAAAAAAAAAAAAAAAAAAAAAAAAAAAAAAAAAAAAAAAAAAAAAAAAAAAAAAAAAAAAAAAAAAAAAAAAAAAAAAAAAAAAAAAAAAAAAAAAAAAAAAAAAAAAAAAAAAAAAAAAAAAAAAAAAAAAAAAAAAAAAAAAAAAAAAAAAAAAAAAAAAAAAAAAAAAAAAAAAAAAAAAAAAAAAAAAAAAAAAAAAAAAAAAAAAAAAAAAAAAAAAAAAAAAAAAAAAAAAAAAAAAAAAAAAAAAAAAAAAAAAAAAAAAAAAAAAAAAAAAAAAAAAAAAAAAAAAAAAAAAAAAAAAAAAAAAAAAAAAAAAAAAAAAAAAAAAAAAAAAAAAAAAAAAAAAAAAAAAAAAAAAAAAAAAAAAAAAAAAAAAAAAAAAAAAAAAAAAAAAAAAAAAAAAAAAAAAAAAAAAAAAAAAAAAAAAAAAAAAAAAAAAAAAAAAAAAAAAAAAAAAAAAAAAAAAAAAAAAAAAAAAAAAAAAAAAAAAAAAAAAAAAAAAAAAAAAAAAAAAAAAAAAAAAAAAAAAAAAAAAAAAAAAAAAAAAAAAAAAAAAAAAAAAAAAAAAAAAAAAAAAAAAAAAAAAAAAAAAAAAAAAAAAAAAAAAAAAAAAAAAAAAAAAAAAAAAAAAAAAAAAAAAAAAAAAAAAAAAAAAAAAAAAAAAAAAAAAAAAAAAAAAAAAAAAAAAAAAAAAAAAAAAAAAAAAAAAAAAAAAAAAAAAAAAAAAAAAAAAAAAAAAAAAAAAAAAAAAAAAAAAAAAAAAAAAAAAAAAAAAAAAAAAAAAAAAAAAAAAAAAAAAAAAAAAAAAAAAAAAAAAAAAAAAAAAAAAAAAAAAAAAAAAAAAAAAAAAAAAAAAAAAAAAAAAAAAAAAAAAAAAAAAAAAAAAAAAAAAAAAAAAAAAAAAAAAAAAAAAAAAAAAAAAAAAAAAAAAAAAAAAAAAAAAAAAAAAAAAAAAAAAAAAAAAAAAAAAAAAAAAAAAAAAAAAAAAAAAAAAAAAAAAAAAAAAAAAAAAAAAAAAAAAAAAAAAAAAAAAAAAAAAAAAAAAAAAAAAAAAAAAAAAAAAAAAAAAAAAAAAAAAAAAAAAAAAAAAAAAAAAAAAAAAAAAAAAAAAAAAAAAAAAAAAAAAAAAAAAAAAAAAAAAAAAAAAAAAAAAAAAAAAAAAAAAAAAAAAAAAAAAAAAAAAAAAAAAAAAAAAAAAAAAAAAAAAAAAAAAAAAAAAAAAAAAAAAAAAAAAAAAAAAAAAAAAAAAAAAAAAAAAAAAAAAAAAAAAAAAAAAAAAAAAAAAAAAAAAAAAAAAAAAAAAAAAAAAAAAAAAAAAAAAAAAAAAAAAAAAAAAAAAAAAA",
        "encoding": "base64",
        "path": [
         "_data",
         3,
         "z",
         "buffer"
        ]
       },
       {
        "data": "AAAAAAAAAAAAAAAAAAAAAAAAAAAAAAAAAAAAAAAAAAAAAAAAAAAAAAAAAAAAAAAAAAAAAAAAAAAAAAAAAAAAAAAAAAAAAAAAAAAAAAAAAAAAAAAAAAAAAAAAAAAAAAAAAAAAAAAAAAAAAAAAAAAAAAAAAAAAAAAAAAAAAAAAAAAAAAAAAAAAAAAAAAAAAAAAAAAAAAAAAAAAAAAAAAAAAAAAAAAAAAAAAAAAAAAAAAAAAAAAAAAAAAAAAAAAAAAAAAAAAAAAAAAAAAAAAAAAAAAAAAAAAAAAAAAAAAAAAAAAAAAAAAAAAAAAAAAAAAAAAAAAAAAAAAAAAAAAAAAAAAAAAAAAAAAAAAAAAAAAAAAAAAAAAAAAAAAAAAAAAAAAAAAAAAAAAAAAAAAAAAAAAAAAAAAAAAAAAAAAAAAAAAAAAAAAAAAAAAAAAAAAAAAAAAAAAAAAAAAAAAAAAAAAAAAAAAAAAAAAAAAAAAAAAAAAAAAAAAAAAAAAAAAAAAAAAAAAAAAAAAAAAAAAAAAAAAAAAAAAAAAAAAAAAAAAAAAAAAAAAAAAAAAAAAAAAAAAAAAAAAAAAAAAAAAAAAAAAAAAAAAAAAAAAAAAAAAAAAAAAAAAAAAAAAAAAAAAAAAAAAAAAAAAAAAAAAAAAAAAAAAAAAAAAAAAAAAAAAAAAAAAAAAAAAAAAAAAAAAAAAAAAAAAAAAAAAAAAAAAAAAAAAAAAAAAAAAAAAAAAAAAAAAAAAAAAAAAAAAAAAAAAAAAAAAAAAAAAAAAAAAAAAAAAAAAAAAAAAAAAAAAAAAAAAAAAAAAAAAAAAAAAAAAAAAAAAAAAAAAAAAAAAAAAAAAAAAAAAAAAAAAAAAAAAAAAAAAAAAAAAAAAAAAAAAAAAAAAAAAAAAAAAAAAAAAAAAAAAAAAAAAAAAAAAAAAAAAAAAAAAAAAAAAAAAAAAAAAAAAAAAAAAAAAAAAAAAAAAAAAAAAAAAAAAAAAAAAAAAAAAAAAAAAAAAAAAAAAAAAAAAAAAAAAAAAAAAAAAAAAAAAAAAAAAAAAAAAAAAAAAAAAAAAAAAAAAAAAAAAAAAAAAAAAAAAAAAAAAAAAAAAAAAAAAAAAAAAAAAAAAAAAAAAAAAAAAAAAAAAAAAAAAAAAAAAAAAAAAAAAAAAAAAAAAAAAAAAAAAAAAAAAAAAAAAAAAAAAAAAAAAAAAAAAAAAAAAAAAAAAAAAAAAAAAAAAAAAAAAAAAAAAAAAAAAAAAAAAAAAAAAAAAAAAAAAAAAAAAAAAAAAAAAAAAAAAAAAAAAAAAAAAAAAAAAAAAAAAAAAAAAAAAAAAAAAAAAAAAAAAAAAAAAAAAAAAAAAAAAAAAAAAAAAAAAAAAAAAAAAAAAAAAAAAAAAAAAAAAAAAAAAAAAAAAAAAAAAAAAAAAAAAAAAAAAAAAAAAAAAAAAAAAAAAAAAAAAAAAAAAAAAAAAAAAAAAAAAAAAAAAAAAAAAAAAAAAAAAAAAAAAAAAAAAAAAAAAAAAAAAAAAAAAAAAAAAAAAAAAAAAAAAAAAAAAAAAAAAAAAAAAAAAAAAAAAAAAAAAAAAAAAAAAAAAAAAAAAAAAAAAAAAAAAAAAAAAAAAAAAAAAAAAAAAAAAAAAAAAAAAAAAAAAAAAAAAAAAAAAAAAAAAAAAAAAAAAAAAAAAAAAAAAAAAAAAAAAAAAAAAAAAAAAAAAAAAAAAAAAAAAAAAAAAAAAAAAAAAAAAAAAAAAAAAAAAAAAAAAAAAAAAAAAAAAAAAAAAAAAAAAAAAAAAAAAAAAAAAAAAAAAAAAAAAAAAAAAAAAAAAAAAAAAAAAAAAAAAAAAAAAAAAAAAAAAAAAAAAAAAAAAAAAAAAAAAAAAAAAAAAAAAAAAAAAAAAAAAAAAAAAAAAAAAAAAAAAAAAAAAAAAAAAAAAAAAAAAAAAAAAAAAAAAAAAAAAAAAAAAAAAAAAAAAAAAAAAAAAAAAAAAAAAAAAAAAAAAAAAAAAAAAAAAAAAAAAAAAAAAAAAAAAAAAAAAAAAAAAAAAAAAAAAAAAAAAAAAAAAAAAAAAAAAAAAAAAAAAAAAAAAAAAAAAAAAAAAAAAAAAAAAAAAAAAAAAAAAAAAAAAAAAAAAAAAAAAAAAAAAAAAAAAAAAAAAAAAAAAAAAAAAAAAAAAAAAAAAAAAAAAAAAAAAAAAAAAAAAAAAAAAAAAAAAAAAAAAAAAAAAAAAAAAAAAAAAAAAAAAAAAAAAAAAAAAAAAAAAAAAAAAAAAAAAAAAAAAAAAAAAAAAAAAAAAAAAAAAAAAAAAAAAAAAAAAAAAAAAAAAAAAAAAAAAAAAAAAAAAAAAAAAAAAAAAAAAAAAAAAAAAAAAAAAAAAAAAAAAAAAAAAAAAAAAAAAAAAAAAAAA",
        "encoding": "base64",
        "path": [
         "_data",
         4,
         "x",
         "buffer"
        ]
       },
       {
        "data": "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",
        "encoding": "base64",
        "path": [
         "_data",
         4,
         "y",
         "buffer"
        ]
       },
       {
        "data": "AAAAAAAAAAAAAAAAAAAAAAAAAAAAAAAAAAAAAAAAAAAAAAAAAAAAAAAAAAAAAAAAAAAAAAAAAAAAAAAAAAAAAAAAAAAAAAAAAAAAAAAAAAAAAAAAAAAAAAAAAAAAAAAAAAAAAAAAAAAAAAAAAAAAAAAAAAAAAAAAAAAAAAAAAAAAAAAAAAAAAAAAAAAAAAAAAAAAAAAAAAAAAAAAAAAAAAAAAAAAAAAAAAAAAAAAAAAAAAAAAAAAAAAAAAAAAAAAAAAAAAAAAAAAAAAAAAAAAAAAAAAAAAAAAAAAAAAAAAAAAAAAAAAAAAAAAAAAAAAAAAAAAAAAAAAAAAAAAAAAAAAAAAAAAAAAAAAAAAAAAAAAAAAAAAAAAAAAAAAAAAAAAAAAAAAAAAAAAAAAAAAAAAAAAAAAAAAAAAAAAAAAAAAAAAAAAAAAAAAAAAAAAAAAAAAAAAAAAAAAAAAAAAAAAAAAAAAAAAAAAAAAAAAAAAAAAAAAAAAAAAAAAAAAAAAAAAAAAAAAAAAAAAAAAAAAAAAAAAAAAAAAAAAAAAAAAAAAAAAAAAAAAAAAAAAAAAAAAAAAAAAAAAAAAAAAAAAAAAAAAAAAAAAAAAAAAAAAAAAAAAAAAAAAAAAAAAAAAAAAAAAAAAAAAAAAAAAAAAAAAAAAAAAAAAAAAAAAAAAAAAAAAAAAAAAAAAAAAAAAAAAAAAAAAAAAAAAAAAAAAAAAAAAAAAAAAAAAAAAAAAAAAAAAAAAAAAAAAAAAAAAAAAAAAAAAAAAAAAAAAAAAAAAAAAAAAAAAAAAAAAAAAAAAAAAAAAAAAAAAAAAAAAAAAAAAAAAAAAAAAAAAAAAAAAAAAAAAAAAAAAAAAAAAAAAAAAAAAAAAAAAAAAAAAAAAAAAAAAAAAAAAAAAAAAAAAAAAAAAAAAAAAAAAAAAAAAAAAAAAAAAAAAAAAAAAAAAAAAAAAAAAAAAAAAAAAAAAAAAAAAAAAAAAAAAAAAAAAAAAAAAAAAAAAAAAAAAAAAAAAAAAAAAAAAAAAAAAAAAAAAAAAAAAAAAAAAAAAAAAAAAAAAAAAAAAAAAAAAAAAAAAAAAAAAAAAAAAAAAAAAAAAAAAAAAAAAAAAAAAAAAAAAAAAAAAAAAAAAAAAAAAAAAAAAAAAAAAAAAAAAAAAAAAAAAAAAAAAAAAAAAAAAAAAAAAAAAAAAAAAAAAAAAAAAAAAAAAAAAAAAAAAAAAAAAAAAAAAAAAAAAAAAAAAAAAAAAAAAAAAAAAAAAAAAAAAAAAAAAAAAAAAAAAAAAAAAAAAAAAAAAAAAAAAAAAAAAAAAAAAAAAAAAAAAAAAAAAAAAAAAAAAAAAAAAAAAAAAAAAAAAAAAAAAAAAAAAAAAAAAAAAAAAAAAAAAAAAAAAAAAAAAAAAAAAAAAAAAAAAAAAAAAAAAAAAAAAAAAAAAAAAAAAAAAAAAAAAAAAAAAAAAAAAAAAAAAAAAAAAAAAAAAAAAAAAAAAAAAAAAAAAAAAAAAAAAAAAAAAAAAAAAAAAAAAAAAAAAAAAAAAAAAAAAAAAAAAAAAAAAAAAAAAAAAAAAAAAAAAAAAAAAAAAAAAAAAAAAAAAAAAAAAAAAAAAAAAAAAAAAAAAAAAAAAAAAAAAAAAAAAAAAAAAAAAAAAAAAAAAAAAAAAAAAAAAAAAAAAAAAAAAAAAAAAAAAAAAAAAAAAAAAAAAAAAAAAAAAAAAAAAAAAAAAAAAAAAAAAAAAAAAAAAAAAAAAAAAAAAAAAAAAAAAAAAAAAAAAAAAAAAAAAAAAAAAAAAAAAAAAAAAAAAAAAAAAAAAAAAAAAAAAAAAAAAAAAAAAAAAAAAAAAAAAAAAAAAAAAAAAAAAAAAAAAAAAAAAAAAAAAAAAAAAAAAAAAAAAAAAAAAAAAAAAAAAAAAAAAAAAAAAAAAAAAAAAAAAAAAAAAAAAAAAAAAAAAAAAAAAAAAAAAAAAAAAAAAAAAAAAAAAAAAAAAAAAAAAAAAAAAAAAAAAAAAAAAAAAAAAAAAAAAAAAAAAAAAAAAAAAAAAAAAAAAAAAAAAAAAAAAAAAAAAAAAAAAAAAAAAAAAAAAAAAAAAAAAAAAAAAAAAAAAAAAAAAAAAAAAAAAAAAAAAAAAAAAAAAAAAAAAAAAAAAAAAAAAAAAAAAAAAAAAAAAAAAAAAAAAAAAAAAAAAAAAAAAAAAAAAAAAAAAAAAAAAAAAAAAAAAAAAAAAAAAAAAAAAAAAAAAAAAAAAAAAAAAAAAAAAAAAAAAAAAAAAAAAAAAAAAAAAAAAAAAAAAAAAAAAAAAAAAAAAAAAAAAAAAAAAAAAAAAAAAAAAAAAAAAAAAAAAAAAAAAAAAAAAAAAAAAAAAAAAAAAAAAAAAAAAAAAAAAAAAAAAAAAAAAAA",
        "encoding": "base64",
        "path": [
         "_data",
         4,
         "z",
         "buffer"
        ]
       },
       {
        "data": "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",
        "encoding": "base64",
        "path": [
         "_data",
         5,
         "x",
         "buffer"
        ]
       },
       {
        "data": "AAAAAAAAJEAAAAAAAAAkQAAAAAAAACRAAAAAAAAAJEAAAAAAAAAkQAAAAAAAACRAAAAAAAAAJEAAAAAAAAAkQAAAAAAAACRAAAAAAAAAJEAAAAAAAAAkQAAAAAAAACRAAAAAAAAAJEAAAAAAAAAkQAAAAAAAACRAAAAAAAAAJEAL+6M4xggkQNSqA43PDyRAoGKdNrcTJECgYp02txMkQNSqA43PDyRAC/ujOMYIJEAAAAAAAAAkQPUEXMc59yNALFX8cjDwI0BgnWLJSOwjQGCdYslI7CNALFX8cjDwI0D1BFzHOfcjQAAAAAAAACRAAAAAAAAAJEDITb7OGxEkQAyu/CPUHiRAOoacVnEmJEA6hpxWcSYkQAyu/CPUHiRAyE2+zhsRJEAAAAAAAAAkQDiyQTHk7iNA9FED3CvhI0DGeWOpjtkjQMZ5Y6mO2SNA9FED3CvhI0A4skEx5O4jQAAAAAAAACRAAAAAAAAAJEDepafFlRgkQH8IRfxMLCRAFHA++j03JEAUcD76PTckQH8IRfxMLCRA3qWnxZUYJEAAAAAAAAAkQCJaWDpq5yNAgfe6A7PTI0Dsj8EFwsgjQOyPwQXCyCNAgfe6A7PTI0AiWlg6aucjQAAAAAAAACRAAAAAAAAAJEAMrvwj1B4kQALUWiWNNyRARjSZekVFJEBGNJl6RUUkQALUWiWNNyRADK78I9QeJEAAAAAAAAAkQPRRA9wr4SNA/iul2nLII0C6y2aFurojQLrLZoW6uiNA/iul2nLII0D0UQPcK+EjQAAAAAAAACRAAAAAAAAAJEB0DaHDhiMkQB9r4jIEQCRA8xXmv9NPJEDzFea/008kQB9r4jIEQCRAdA2hw4YjJEAAAAAAAAAkQIzyXjx53CNA4ZQdzfu/I0AN6hlALLAjQA3qGUAssCNA4ZQdzfu/I0CM8l48edwjQAAAAAAAACRAAAAAAAAAJEA6hpxWcSYkQEY0mXpFRSRADoJXSWFWJEAOgldJYVYkQEY0mXpFRSRAOoacVnEmJEAAAAAAAAAkQMZ5Y6mO2SNAustmhbq6I0Dyfai2nqkjQPJ9qLaeqSNAustmhbq6I0DGeWOpjtkjQAAAAAAAACRAAAAAAAAAJEBBxTptbickQOgaQocNRyRA/RCK+JlYJED9EIr4mVgkQOgaQocNRyRAQcU6bW4nJEAAAAAAAAAkQL86xZKR2CNAGOW9ePK4I0AD73UHZqcjQAPvdQdmpyNAGOW9ePK4I0C/OsWSkdgjQAAAAAAAACRAAAAAAAAAJEA6hpxWcSYkQEY0mXpFRSRADoJXSWFWJEAOgldJYVYkQEY0mXpFRSRAOoacVnEmJEAAAAAAAAAkQMZ5Y6mO2SNAustmhbq6I0Dyfai2nqkjQPJ9qLaeqSNAustmhbq6I0DGeWOpjtkjQAAAAAAAACRAAAAAAAAAJEB0DaHDhiMkQB9r4jIEQCRA8xXmv9NPJEDzFea/008kQB9r4jIEQCRAdA2hw4YjJEAAAAAAAAAkQIzyXjx53CNA4ZQdzfu/I0AN6hlALLAjQA3qGUAssCNA4ZQdzfu/I0CM8l48edwjQAAAAAAAACRAAAAAAAAAJEAMrvwj1B4kQALUWiWNNyRARjSZekVFJEBGNJl6RUUkQALUWiWNNyRADK78I9QeJEAAAAAAAAAkQPRRA9wr4SNA/iul2nLII0C6y2aFurojQLrLZoW6uiNA/iul2nLII0D0UQPcK+EjQAAAAAAAACRAAAAAAAAAJEDepafFlRgkQH8IRfxMLCRAFHA++j03JEAUcD76PTckQH8IRfxMLCRA3qWnxZUYJEAAAAAAAAAkQCJaWDpq5yNAgfe6A7PTI0Dsj8EFwsgjQOyPwQXCyCNAgfe6A7PTI0AiWlg6aucjQAAAAAAAACRAAAAAAAAAJEDITb7OGxEkQAyu/CPUHiRAOoacVnEmJEA6hpxWcSYkQAyu/CPUHiRAyE2+zhsRJEAAAAAAAAAkQDiyQTHk7iNA9FED3CvhI0DGeWOpjtkjQMZ5Y6mO2SNA9FED3CvhI0A4skEx5O4jQAAAAAAAACRAAAAAAAAAJEAL+6M4xggkQNSqA43PDyRAoGKdNrcTJECgYp02txMkQNSqA43PDyRAC/ujOMYIJEAAAAAAAAAkQPUEXMc59yNALFX8cjDwI0BgnWLJSOwjQGCdYslI7CNALFX8cjDwI0D1BFzHOfcjQAAAAAAAACRAAAAAAAAAJEAAAAAAAAAkQAAAAAAAACRAAAAAAAAAJEAAAAAAAAAkQAAAAAAAACRAAAAAAAAAJEAAAAAAAAAkQAAAAAAAACRAAAAAAAAAJEAAAAAAAAAkQAAAAAAAACRAAAAAAAAAJEAAAAAAAAAkQAAAAAAAACRA",
        "encoding": "base64",
        "path": [
         "_data",
         5,
         "y",
         "buffer"
        ]
       },
       {
        "data": "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",
        "encoding": "base64",
        "path": [
         "_data",
         5,
         "z",
         "buffer"
        ]
       },
       {
        "data": "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",
        "encoding": "base64",
        "path": [
         "_data",
         6,
         "x",
         "buffer"
        ]
       },
       {
        "data": "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",
        "encoding": "base64",
        "path": [
         "_data",
         6,
         "y",
         "buffer"
        ]
       },
       {
        "data": "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",
        "encoding": "base64",
        "path": [
         "_data",
         6,
         "z",
         "buffer"
        ]
       },
       {
        "data": "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",
        "encoding": "base64",
        "path": [
         "_data",
         7,
         "x",
         "buffer"
        ]
       },
       {
        "data": "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",
        "encoding": "base64",
        "path": [
         "_data",
         7,
         "y",
         "buffer"
        ]
       },
       {
        "data": "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",
        "encoding": "base64",
        "path": [
         "_data",
         7,
         "z",
         "buffer"
        ]
       },
       {
        "data": "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",
        "encoding": "base64",
        "path": [
         "_data",
         8,
         "x",
         "buffer"
        ]
       },
       {
        "data": "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",
        "encoding": "base64",
        "path": [
         "_data",
         8,
         "y",
         "buffer"
        ]
       },
       {
        "data": "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",
        "encoding": "base64",
        "path": [
         "_data",
         8,
         "z",
         "buffer"
        ]
       },
       {
        "data": "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",
        "encoding": "base64",
        "path": [
         "_data",
         9,
         "x",
         "buffer"
        ]
       },
       {
        "data": "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",
        "encoding": "base64",
        "path": [
         "_data",
         9,
         "y",
         "buffer"
        ]
       },
       {
        "data": "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",
        "encoding": "base64",
        "path": [
         "_data",
         9,
         "z",
         "buffer"
        ]
       },
       {
        "data": "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",
        "encoding": "base64",
        "path": [
         "_data",
         10,
         "x",
         "buffer"
        ]
       },
       {
        "data": "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",
        "encoding": "base64",
        "path": [
         "_data",
         10,
         "y",
         "buffer"
        ]
       },
       {
        "data": "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",
        "encoding": "base64",
        "path": [
         "_data",
         10,
         "z",
         "buffer"
        ]
       },
       {
        "data": "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",
        "encoding": "base64",
        "path": [
         "_data",
         11,
         "x",
         "buffer"
        ]
       },
       {
        "data": "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",
        "encoding": "base64",
        "path": [
         "_data",
         11,
         "y",
         "buffer"
        ]
       },
       {
        "data": "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",
        "encoding": "base64",
        "path": [
         "_data",
         11,
         "z",
         "buffer"
        ]
       },
       {
        "data": "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",
        "encoding": "base64",
        "path": [
         "_data",
         12,
         "x",
         "buffer"
        ]
       },
       {
        "data": "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",
        "encoding": "base64",
        "path": [
         "_data",
         12,
         "y",
         "buffer"
        ]
       },
       {
        "data": "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",
        "encoding": "base64",
        "path": [
         "_data",
         12,
         "z",
         "buffer"
        ]
       },
       {
        "data": "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",
        "encoding": "base64",
        "path": [
         "_data",
         13,
         "x",
         "buffer"
        ]
       },
       {
        "data": "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",
        "encoding": "base64",
        "path": [
         "_data",
         13,
         "y",
         "buffer"
        ]
       },
       {
        "data": "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",
        "encoding": "base64",
        "path": [
         "_data",
         13,
         "z",
         "buffer"
        ]
       },
       {
        "data": "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",
        "encoding": "base64",
        "path": [
         "_data",
         14,
         "x",
         "buffer"
        ]
       },
       {
        "data": "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",
        "encoding": "base64",
        "path": [
         "_data",
         14,
         "y",
         "buffer"
        ]
       },
       {
        "data": "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",
        "encoding": "base64",
        "path": [
         "_data",
         14,
         "z",
         "buffer"
        ]
       },
       {
        "data": "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",
        "encoding": "base64",
        "path": [
         "_data",
         15,
         "x",
         "buffer"
        ]
       },
       {
        "data": "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",
        "encoding": "base64",
        "path": [
         "_data",
         15,
         "y",
         "buffer"
        ]
       },
       {
        "data": "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",
        "encoding": "base64",
        "path": [
         "_data",
         15,
         "z",
         "buffer"
        ]
       },
       {
        "data": "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",
        "encoding": "base64",
        "path": [
         "_data",
         16,
         "x",
         "buffer"
        ]
       },
       {
        "data": "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",
        "encoding": "base64",
        "path": [
         "_data",
         16,
         "y",
         "buffer"
        ]
       },
       {
        "data": "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",
        "encoding": "base64",
        "path": [
         "_data",
         16,
         "z",
         "buffer"
        ]
       },
       {
        "data": "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",
        "encoding": "base64",
        "path": [
         "_data",
         17,
         "x",
         "buffer"
        ]
       },
       {
        "data": "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",
        "encoding": "base64",
        "path": [
         "_data",
         17,
         "y",
         "buffer"
        ]
       },
       {
        "data": "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",
        "encoding": "base64",
        "path": [
         "_data",
         17,
         "z",
         "buffer"
        ]
       },
       {
        "data": "uB6F61G4BkC4HoXrUbgGQLgehetRuAZAuB6F61G4BkC4HoXrUbgGQLgehetRuAZAuB6F61G4BkC4HoXrUbgGQLgehetRuAZAuB6F61G4BkC4HoXrUbgGQLgehetRuAZAuB6F61G4BkC4HoXrUbgGQLgehetRuAZAPlf+G+L7B0DOSdQk19sHQGDUAPIOggdAjkXu0FEAB0Di9xsGUnAGQBBpCeWU7gVAovM1ssyUBUAy5gu7wXQFQKLzNbLMlAVAEGkJ5ZTuBUDi9xsGUnAGQI5F7tBRAAdAYNQA8g6CB0DOSdQk19sHQD5X/hvi+wdAw3IxvzgvCUD49ZUlvvAIQJ18/0WuQQhAY8/EdbVEB0ANbkVh7isGQNPACpH1LgVAeEd0seV/BECtytgXa0EEQHhHdLHlfwRA08AKkfUuBUANbkVh7isGQGLPxHW1RAdAnXz/Ra5BCED49ZUlvvAIQMNyMb84LwlAaa2cjuxCCkD8N8lbJOkJQEwmuRCU7QhAYNQA8g6CB0AQaQnllO4FQCQXUcYPgwRAdAVBe3+HA0AHkG1Ity0DQHQFQXt/hwNAJBdRxg+DBEAPaQnllO4FQGDUAPIOggdATCa5EJTtCED8N8lbJOkJQGmtnI7sQgpAN82mXyopC0Co0KsZlbgKQKKm1a8hfQlA8su/u0q1B0B+cUobWbsFQM6WNCeC8wNAyGxevQ64AkA5cGN3eUcCQMhsXr0OuAJAzpY0J4LzA0B+cUobWbsFQPLLv7tKtQdAoqbVryF9CUCo0KsZlbgKQDfNpl8qKQtAuhiUm2bWC0DoiYF6qVQLQPw3yVsk6QlAzknUJNfbB0Cj8zWyzJQFQHQFQXt/hwNAiLOIXPobAkC2JHY7PZoBQIiziFz6GwJAdAVBe3+HA0Ci8zWyzJQFQM1J1CTX2wdA/DfJWyTpCUDoiYF6qVQLQLoYlJtm1gtAjC4mdPFBDEDifebpjbULQP0fbI8xLApAvkhbVcXzB0Cz9K6B3nwFQHMdnkdyRANAjr8j7RW7AUDkDuRisi4BQI6/I+0VuwFAcx2eR3JEA0Cy9K6B3nwFQL1IW1XF8wdA/R9sjzEsCkDifebpjbULQIwuJnTxQQxAZmZmZmZmDEC6GJSbZtYLQGmtnI7sQgpAPlf+G+L7B0Ay5gu7wXQFQAeQbUi3LQNAtiR2Oz2aAUAK16NwPQoBQLYkdjs9mgFABpBtSLctA0Ax5gu7wXQFQD5X/hvi+wdAaa2cjuxCCkC6GJSbZtYLQGZmZmZmZgxAjC4mdPFBDEDifebpjbULQP0fbI8xLApAvkhbVcXzB0Cz9K6B3nwFQHMdnkdyRANAjr8j7RW7AUDkDuRisi4BQI6/I+0VuwFAcx2eR3JEA0Cy9K6B3nwFQL1IW1XF8wdA/R9sjzEsCkDifebpjbULQIwuJnTxQQxAuhiUm2bWC0DoiYF6qVQLQPw3yVsk6QlAzknUJNfbB0Cj8zWyzJQFQHQFQXt/hwNAiLOIXPobAkC2JHY7PZoBQIiziFz6GwJAdAVBe3+HA0Ci8zWyzJQFQM1J1CTX2wdA/DfJWyTpCUDoiYF6qVQLQLoYlJtm1gtAN82mXyopC0Co0KsZlbgKQKKm1a8hfQlA8su/u0q1B0B+cUobWbsFQM6WNCeC8wNAyGxevQ64AkA5cGN3eUcCQMhsXr0OuAJAzpY0J4LzA0B+cUobWbsFQPLLv7tKtQdAoqbVryF9CUCo0KsZlbgKQDfNpl8qKQtAaa2cjuxCCkD8N8lbJOkJQEwmuRCU7QhAYNQA8g6CB0AQaQnllO4FQCQXUcYPgwRAdAVBe3+HA0AHkG1Ity0DQHQFQXt/hwNAJBdRxg+DBEAPaQnllO4FQGDUAPIOggdATCa5EJTtCED8N8lbJOkJQGmtnI7sQgpAw3IxvzgvCUD49ZUlvvAIQJ18/0WuQQhAY8/EdbVEB0ANbkVh7isGQNPACpH1LgVAeEd0seV/BECtytgXa0EEQHhHdLHlfwRA08AKkfUuBUANbkVh7isGQGPPxHW1RAdAnXz/Ra5BCED49ZUlvvAIQMNyMb84LwlAPlf+G+L7B0DOSdQk19sHQGDUAPIOggdAjkXu0FEAB0Di9xsGUnAGQBBpCeWU7gVAovM1ssyUBUAy5gu7wXQFQKLzNbLMlAVAD2kJ5ZTuBUDi9xsGUnAGQI5F7tBRAAdAYNQA8g6CB0DOSdQk19sHQD5X/hvi+wdAuB6F61G4BkC4HoXrUbgGQLgehetRuAZAuB6F61G4BkC4HoXrUbgGQLgehetRuAZAuB6F61G4BkC4HoXrUbgGQLgehetRuAZAuB6F61G4BkC4HoXrUbgGQLgehetRuAZAuB6F61G4BkC4HoXrUbgGQLgehetRuAZA",
        "encoding": "base64",
        "path": [
         "_data",
         18,
         "x",
         "buffer"
        ]
       },
       {
        "data": "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",
        "encoding": "base64",
        "path": [
         "_data",
         18,
         "y",
         "buffer"
        ]
       },
       {
        "data": "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",
        "encoding": "base64",
        "path": [
         "_data",
         18,
         "z",
         "buffer"
        ]
       },
       {
        "data": "AAAAAAAAAAAAAAAAAAAAAArXo3A9ChFACtejcD0KEUAAAAAAAAAAAAAAAAAAAAAAAAAAAAAAAAAAAAAAAAAAAAAAAAAAAAAACtejcD0KEUAK16NwPQoRQArXo3A9ChFACtejcD0KEUAK16NwPQoRQArXo3A9ChFAAAAAAAAAAAA=",
        "encoding": "base64",
        "path": [
         "_data",
         19,
         "x",
         "buffer"
        ]
       },
       {
        "data": "AAAAAAAAAADP/Vl4FiZAQM/9WXgWJkBAAAAAAAAAAAAAAAAAAAAAAAAAAAAAAAAAz/1ZeBYmQEDP/Vl4FiZAQM/9WXgWJkBAz/1ZeBYmQEDP/Vl4FiZAQAAAAAAAAAAAAAAAAAAAAADP/Vl4FiZAQAAAAAAAAAAAAAAAAAAAAAA=",
        "encoding": "base64",
        "path": [
         "_data",
         19,
         "y",
         "buffer"
        ]
       },
       {
        "data": "AAAAAAAAAAAAAAAAAAAAAAAAAAAAAAAAAAAAAAAAAAAAAAAAAAAAAGZmZmZmZixAZmZmZmZmLEAAAAAAAAAAAGZmZmZmZixAZmZmZmZmLEAAAAAAAAAAAAAAAAAAAAAAZmZmZmZmLEBmZmZmZmYsQGZmZmZmZixAZmZmZmZmLEA=",
        "encoding": "base64",
        "path": [
         "_data",
         19,
         "z",
         "buffer"
        ]
       }
      ],
      "model_module": "plotlywidget",
      "model_module_version": "^4.14.3",
      "model_name": "FigureModel",
      "state": {
       "_config": {
        "plotlyServerURL": "https://plot.ly"
       },
       "_data": [
        {
         "line": {
          "color": "gray",
          "coloraxis": "coloraxis",
          "width": 15
         },
         "marker": {
          "color": "blue"
         },
         "mode": "lines",
         "name": "Bonds",
         "type": "scatter3d",
         "uid": "4c175bfa-7002-4c83-a47b-45118790e4d6",
         "x": [
          0.0,
          0.71,
          null,
          0.0,
          0.71,
          null,
          0.0,
          -1.42,
          null,
          0.0,
          0.71,
          null,
          0.0,
          0.71,
          null,
          0.0,
          -1.42,
          null,
          0.0,
          0.71,
          null,
          0.0,
          0.71,
          null,
          0.0,
          -1.42,
          null,
          0.0,
          0.71,
          null,
          0.0,
          0.71,
          null,
          0.0,
          -1.42,
          null,
          0.71,
          2.13,
          null,
          0.71,
          2.13,
          null,
          0.71,
          2.13,
          null,
          0.71,
          2.13,
          null,
          0.71,
          2.13,
          null,
          2.13,
          2.84,
          null,
          2.13,
          2.84,
          null,
          2.13,
          2.84,
          null,
          2.13,
          2.84,
          null,
          2.13,
          2.84,
          null,
          2.13,
          2.84,
          null,
          2.13,
          2.84,
          null,
          2.13,
          2.84,
          null,
          2.84,
          4.26,
          null,
          2.84,
          4.26,
          null,
          2.84,
          4.26,
          null,
          2.84,
          4.26,
          null
         ],
         "y": [
          11.229756073373903,
          10.0,
          null,
          11.229756073373903,
          12.459512146747805,
          null,
          11.229756073373903,
          11.229756073373903,
          null,
          13.689268220121708,
          12.459512146747805,
          null,
          13.689268220121708,
          14.91902429349561,
          null,
          13.689268220121708,
          13.689268220121708,
          null,
          16.148780366869516,
          14.91902429349561,
          null,
          16.148780366869516,
          17.378536440243415,
          null,
          16.148780366869516,
          16.148780366869516,
          null,
          18.60829251361732,
          17.378536440243415,
          null,
          18.60829251361732,
          19.83804858699122,
          null,
          18.60829251361732,
          18.60829251361732,
          null,
          10.0,
          10.0,
          null,
          12.459512146747805,
          12.459512146747805,
          null,
          14.91902429349561,
          14.91902429349561,
          null,
          17.378536440243415,
          17.378536440243415,
          null,
          19.83804858699122,
          19.83804858699122,
          null,
          10.0,
          11.229756073373903,
          null,
          12.459512146747805,
          11.229756073373903,
          null,
          12.459512146747805,
          13.689268220121708,
          null,
          14.91902429349561,
          13.689268220121708,
          null,
          14.91902429349561,
          16.148780366869516,
          null,
          17.378536440243415,
          16.148780366869516,
          null,
          17.378536440243415,
          18.60829251361732,
          null,
          19.83804858699122,
          18.60829251361732,
          null,
          11.229756073373903,
          11.229756073373903,
          null,
          13.689268220121708,
          13.689268220121708,
          null,
          16.148780366869516,
          16.148780366869516,
          null,
          18.60829251361732,
          18.60829251361732,
          null
         ],
         "z": [
          0.0,
          0.0,
          null,
          0.0,
          0.0,
          null,
          0.0,
          0.0,
          null,
          0.0,
          0.0,
          null,
          0.0,
          0.0,
          null,
          0.0,
          0.0,
          null,
          0.0,
          0.0,
          null,
          0.0,
          0.0,
          null,
          0.0,
          0.0,
          null,
          0.0,
          0.0,
          null,
          0.0,
          0.0,
          null,
          0.0,
          0.0,
          null,
          0.0,
          0.0,
          null,
          0.0,
          0.0,
          null,
          0.0,
          0.0,
          null,
          0.0,
          0.0,
          null,
          0.0,
          0.0,
          null,
          0.0,
          0.0,
          null,
          0.0,
          0.0,
          null,
          0.0,
          0.0,
          null,
          0.0,
          0.0,
          null,
          0.0,
          0.0,
          null,
          0.0,
          0.0,
          null,
          0.0,
          0.0,
          null,
          0.0,
          0.0,
          null,
          0.0,
          0.0,
          null,
          0.0,
          0.0,
          null,
          0.0,
          0.0,
          null,
          0.0,
          0.0,
          null
         ]
        },
        {
         "alphahull": 0,
         "color": "rgb(71, 45, 123)",
         "hovertemplate": "%{meta[0]}",
         "legendgroup": "Atoms",
         "meta": [
          "(0.00, 11.23, 0.00)"
         ],
         "name": "0 (C)",
         "opacity": 1,
         "showlegend": true,
         "showscale": false,
         "type": "mesh3d",
         "uid": "6d7cd08a-c322-41e8-b180-86522824ea87",
         "x": {
          "dtype": "float64",
          "shape": [
           225
          ]
         },
         "y": {
          "dtype": "float64",
          "shape": [
           225
          ]
         },
         "z": {
          "dtype": "float64",
          "shape": [
           225
          ]
         }
        },
        {
         "alphahull": 0,
         "color": "rgb(44, 114, 142)",
         "hovertemplate": "%{meta[0]}",
         "legendgroup": "Atoms",
         "meta": [
          "(0.00, 13.69, 0.00)"
         ],
         "name": "1 (C)",
         "opacity": 1,
         "showlegend": false,
         "showscale": false,
         "type": "mesh3d",
         "uid": "1be2630a-7a96-46de-a966-393befa9c99c",
         "x": {
          "dtype": "float64",
          "shape": [
           225
          ]
         },
         "y": {
          "dtype": "float64",
          "shape": [
           225
          ]
         },
         "z": {
          "dtype": "float64",
          "shape": [
           225
          ]
         }
        },
        {
         "alphahull": 0,
         "color": "rgb(41, 175, 127)",
         "hovertemplate": "%{meta[0]}",
         "legendgroup": "Atoms",
         "meta": [
          "(0.00, 16.15, 0.00)"
         ],
         "name": "2 (C)",
         "opacity": 1,
         "showlegend": false,
         "showscale": false,
         "type": "mesh3d",
         "uid": "61e2e843-2cb4-4ee6-badb-bbe7e1ee267c",
         "x": {
          "dtype": "float64",
          "shape": [
           225
          ]
         },
         "y": {
          "dtype": "float64",
          "shape": [
           225
          ]
         },
         "z": {
          "dtype": "float64",
          "shape": [
           225
          ]
         }
        },
        {
         "alphahull": 0,
         "color": "rgb(175, 220, 47)",
         "hovertemplate": "%{meta[0]}",
         "legendgroup": "Atoms",
         "meta": [
          "(0.00, 18.61, 0.00)"
         ],
         "name": "3 (C)",
         "opacity": 1,
         "showlegend": false,
         "showscale": false,
         "type": "mesh3d",
         "uid": "3e796735-2143-414d-a9b0-fbe0e0b0cc49",
         "x": {
          "dtype": "float64",
          "shape": [
           225
          ]
         },
         "y": {
          "dtype": "float64",
          "shape": [
           225
          ]
         },
         "z": {
          "dtype": "float64",
          "shape": [
           225
          ]
         }
        },
        {
         "alphahull": 0,
         "color": "rgb(68, 1, 84)",
         "hovertemplate": "%{meta[0]}",
         "legendgroup": "Atoms",
         "meta": [
          "(0.71, 10.00, 0.00)"
         ],
         "name": "4 (C)",
         "opacity": 1,
         "showlegend": false,
         "showscale": false,
         "type": "mesh3d",
         "uid": "9b9b9009-1f8b-4ff3-a504-c891f773b8e3",
         "x": {
          "dtype": "float64",
          "shape": [
           225
          ]
         },
         "y": {
          "dtype": "float64",
          "shape": [
           225
          ]
         },
         "z": {
          "dtype": "float64",
          "shape": [
           225
          ]
         }
        },
        {
         "alphahull": 0,
         "color": "rgb(59, 82, 139)",
         "hovertemplate": "%{meta[0]}",
         "legendgroup": "Atoms",
         "meta": [
          "(0.71, 12.46, 0.00)"
         ],
         "name": "5 (C)",
         "opacity": 1,
         "showlegend": false,
         "showscale": false,
         "type": "mesh3d",
         "uid": "d6c8e4cd-cb6c-41dc-891a-0e938dd62eb6",
         "x": {
          "dtype": "float64",
          "shape": [
           225
          ]
         },
         "y": {
          "dtype": "float64",
          "shape": [
           225
          ]
         },
         "z": {
          "dtype": "float64",
          "shape": [
           225
          ]
         }
        },
        {
         "alphahull": 0,
         "color": "rgb(33, 145, 140)",
         "hovertemplate": "%{meta[0]}",
         "legendgroup": "Atoms",
         "meta": [
          "(0.71, 14.92, 0.00)"
         ],
         "name": "6 (C)",
         "opacity": 1,
         "showlegend": false,
         "showscale": false,
         "type": "mesh3d",
         "uid": "7a9b0b21-bb3f-4452-b958-7e5d59db51fb",
         "x": {
          "dtype": "float64",
          "shape": [
           225
          ]
         },
         "y": {
          "dtype": "float64",
          "shape": [
           225
          ]
         },
         "z": {
          "dtype": "float64",
          "shape": [
           225
          ]
         }
        },
        {
         "alphahull": 0,
         "color": "rgb(96, 202, 97)",
         "hovertemplate": "%{meta[0]}",
         "legendgroup": "Atoms",
         "meta": [
          "(0.71, 17.38, 0.00)"
         ],
         "name": "7 (C)",
         "opacity": 1,
         "showlegend": false,
         "showscale": false,
         "type": "mesh3d",
         "uid": "a55dc61f-c5dc-49f2-a923-fe94b677373a",
         "x": {
          "dtype": "float64",
          "shape": [
           225
          ]
         },
         "y": {
          "dtype": "float64",
          "shape": [
           225
          ]
         },
         "z": {
          "dtype": "float64",
          "shape": [
           225
          ]
         }
        },
        {
         "alphahull": 0,
         "color": "rgb(253, 231, 37)",
         "hovertemplate": "%{meta[0]}",
         "legendgroup": "Atoms",
         "meta": [
          "(0.71, 19.84, 0.00)"
         ],
         "name": "8 (C)",
         "opacity": 1,
         "showlegend": false,
         "showscale": false,
         "type": "mesh3d",
         "uid": "b8ce0187-2a28-43b3-af00-d055faadeb9c",
         "x": {
          "dtype": "float64",
          "shape": [
           225
          ]
         },
         "y": {
          "dtype": "float64",
          "shape": [
           225
          ]
         },
         "z": {
          "dtype": "float64",
          "shape": [
           225
          ]
         }
        },
        {
         "alphahull": 0,
         "color": "rgb(68, 1, 84)",
         "hovertemplate": "%{meta[0]}",
         "legendgroup": "Atoms",
         "meta": [
          "(2.13, 10.00, 0.00)"
         ],
         "name": "9 (C)",
         "opacity": 1,
         "showlegend": false,
         "showscale": false,
         "type": "mesh3d",
         "uid": "daff4998-6ecb-4c67-a77e-906d30d080eb",
         "x": {
          "dtype": "float64",
          "shape": [
           225
          ]
         },
         "y": {
          "dtype": "float64",
          "shape": [
           225
          ]
         },
         "z": {
          "dtype": "float64",
          "shape": [
           225
          ]
         }
        },
        {
         "alphahull": 0,
         "color": "rgb(59, 82, 139)",
         "hovertemplate": "%{meta[0]}",
         "legendgroup": "Atoms",
         "meta": [
          "(2.13, 12.46, 0.00)"
         ],
         "name": "10 (C)",
         "opacity": 1,
         "showlegend": false,
         "showscale": false,
         "type": "mesh3d",
         "uid": "a6b8afca-f27b-4ab8-b23f-1c05a7d8a86b",
         "x": {
          "dtype": "float64",
          "shape": [
           225
          ]
         },
         "y": {
          "dtype": "float64",
          "shape": [
           225
          ]
         },
         "z": {
          "dtype": "float64",
          "shape": [
           225
          ]
         }
        },
        {
         "alphahull": 0,
         "color": "rgb(33, 145, 140)",
         "hovertemplate": "%{meta[0]}",
         "legendgroup": "Atoms",
         "meta": [
          "(2.13, 14.92, 0.00)"
         ],
         "name": "11 (C)",
         "opacity": 1,
         "showlegend": false,
         "showscale": false,
         "type": "mesh3d",
         "uid": "4352da3b-6909-4512-a93a-5e6d27e4b1a3",
         "x": {
          "dtype": "float64",
          "shape": [
           225
          ]
         },
         "y": {
          "dtype": "float64",
          "shape": [
           225
          ]
         },
         "z": {
          "dtype": "float64",
          "shape": [
           225
          ]
         }
        },
        {
         "alphahull": 0,
         "color": "rgb(96, 202, 97)",
         "hovertemplate": "%{meta[0]}",
         "legendgroup": "Atoms",
         "meta": [
          "(2.13, 17.38, 0.00)"
         ],
         "name": "12 (C)",
         "opacity": 1,
         "showlegend": false,
         "showscale": false,
         "type": "mesh3d",
         "uid": "0cef1db5-045f-44f8-b2fd-e83f012e5092",
         "x": {
          "dtype": "float64",
          "shape": [
           225
          ]
         },
         "y": {
          "dtype": "float64",
          "shape": [
           225
          ]
         },
         "z": {
          "dtype": "float64",
          "shape": [
           225
          ]
         }
        },
        {
         "alphahull": 0,
         "color": "rgb(253, 231, 37)",
         "hovertemplate": "%{meta[0]}",
         "legendgroup": "Atoms",
         "meta": [
          "(2.13, 19.84, 0.00)"
         ],
         "name": "13 (C)",
         "opacity": 1,
         "showlegend": false,
         "showscale": false,
         "type": "mesh3d",
         "uid": "1a4fa329-4504-40d0-8547-18683acb9a21",
         "x": {
          "dtype": "float64",
          "shape": [
           225
          ]
         },
         "y": {
          "dtype": "float64",
          "shape": [
           225
          ]
         },
         "z": {
          "dtype": "float64",
          "shape": [
           225
          ]
         }
        },
        {
         "alphahull": 0,
         "color": "rgb(71, 45, 123)",
         "hovertemplate": "%{meta[0]}",
         "legendgroup": "Atoms",
         "meta": [
          "(2.84, 11.23, 0.00)"
         ],
         "name": "14 (C)",
         "opacity": 1,
         "showlegend": false,
         "showscale": false,
         "type": "mesh3d",
         "uid": "1e4fe308-6c27-4d97-9029-cdf1e49c81d0",
         "x": {
          "dtype": "float64",
          "shape": [
           225
          ]
         },
         "y": {
          "dtype": "float64",
          "shape": [
           225
          ]
         },
         "z": {
          "dtype": "float64",
          "shape": [
           225
          ]
         }
        },
        {
         "alphahull": 0,
         "color": "rgb(44, 114, 142)",
         "hovertemplate": "%{meta[0]}",
         "legendgroup": "Atoms",
         "meta": [
          "(2.84, 13.69, 0.00)"
         ],
         "name": "15 (C)",
         "opacity": 1,
         "showlegend": false,
         "showscale": false,
         "type": "mesh3d",
         "uid": "72ff38ac-84d6-4d93-b4b3-21d824e00217",
         "x": {
          "dtype": "float64",
          "shape": [
           225
          ]
         },
         "y": {
          "dtype": "float64",
          "shape": [
           225
          ]
         },
         "z": {
          "dtype": "float64",
          "shape": [
           225
          ]
         }
        },
        {
         "alphahull": 0,
         "color": "rgb(41, 175, 127)",
         "hovertemplate": "%{meta[0]}",
         "legendgroup": "Atoms",
         "meta": [
          "(2.84, 16.15, 0.00)"
         ],
         "name": "16 (C)",
         "opacity": 1,
         "showlegend": false,
         "showscale": false,
         "type": "mesh3d",
         "uid": "7ce20ce8-53e4-407f-8ab3-87e8b6507c60",
         "x": {
          "dtype": "float64",
          "shape": [
           225
          ]
         },
         "y": {
          "dtype": "float64",
          "shape": [
           225
          ]
         },
         "z": {
          "dtype": "float64",
          "shape": [
           225
          ]
         }
        },
        {
         "alphahull": 0,
         "color": "rgb(175, 220, 47)",
         "hovertemplate": "%{meta[0]}",
         "legendgroup": "Atoms",
         "meta": [
          "(2.84, 18.61, 0.00)"
         ],
         "name": "17 (C)",
         "opacity": 1,
         "showlegend": false,
         "showscale": false,
         "type": "mesh3d",
         "uid": "241c2e6b-3505-466a-859e-44116679ffba",
         "x": {
          "dtype": "float64",
          "shape": [
           225
          ]
         },
         "y": {
          "dtype": "float64",
          "shape": [
           225
          ]
         },
         "z": {
          "dtype": "float64",
          "shape": [
           225
          ]
         }
        },
        {
         "line": {
          "width": 2
         },
         "mode": "lines",
         "name": "Unit cell",
         "type": "scatter3d",
         "uid": "6abf772f-c696-410a-b268-4c69683f3837",
         "x": {
          "dtype": "float64",
          "shape": [
           16
          ]
         },
         "y": {
          "dtype": "float64",
          "shape": [
           16
          ]
         },
         "z": {
          "dtype": "float64",
          "shape": [
           16
          ]
         }
        }
       ],
       "_dom_classes": [],
       "_js2py_layoutDelta": {},
       "_js2py_pointsCallback": {},
       "_js2py_relayout": {},
       "_js2py_restyle": {},
       "_js2py_traceDeltas": {},
       "_js2py_update": {},
       "_last_layout_edit_id": 0,
       "_last_trace_edit_id": 0,
       "_layout": {
        "scene": {
         "aspectmode": "data"
        },
        "template": {
         "layout": {
          "hovermode": "closest",
          "paper_bgcolor": "white",
          "plot_bgcolor": "white",
          "scene": {
           "xaxis": {
            "color": "black",
            "gridcolor": "#ccc",
            "gridwidth": 1,
            "linewidth": 1,
            "mirror": true,
            "showgrid": false,
            "showline": true,
            "ticklen": 5,
            "ticks": "outside",
            "ticksuffix": " ",
            "visible": true,
            "zeroline": false,
            "zerolinecolor": "#ccc",
            "zerolinewidth": 1
           },
           "yaxis": {
            "color": "black",
            "gridcolor": "#ccc",
            "gridwidth": 1,
            "linewidth": 1,
            "mirror": true,
            "showgrid": false,
            "showline": true,
            "ticklen": 5,
            "ticks": "outside",
            "ticksuffix": " ",
            "visible": true,
            "zeroline": false,
            "zerolinecolor": "#ccc",
            "zerolinewidth": 1
           },
           "zaxis": {
            "color": "black",
            "gridcolor": "#ccc",
            "gridwidth": 1,
            "linewidth": 1,
            "mirror": true,
            "showgrid": false,
            "showline": true,
            "ticklen": 5,
            "ticks": "outside",
            "ticksuffix": " ",
            "visible": true,
            "zeroline": false,
            "zerolinecolor": "#ccc",
            "zerolinewidth": 1
           }
          },
          "xaxis": {
           "color": "black",
           "gridcolor": "#ccc",
           "gridwidth": 1,
           "linewidth": 1,
           "mirror": true,
           "showgrid": false,
           "showline": true,
           "ticklen": 5,
           "ticks": "outside",
           "ticksuffix": " ",
           "visible": true,
           "zeroline": false,
           "zerolinecolor": "#ccc",
           "zerolinewidth": 1
          },
          "yaxis": {
           "color": "black",
           "gridcolor": "#ccc",
           "gridwidth": 1,
           "linewidth": 1,
           "mirror": true,
           "showgrid": false,
           "showline": true,
           "ticklen": 5,
           "ticks": "outside",
           "ticksuffix": " ",
           "visible": true,
           "zeroline": false,
           "zerolinecolor": "#ccc",
           "zerolinewidth": 1
          }
         }
        },
        "xaxis": {
         "title": {
          "text": "X axis [Ang]"
         }
        },
        "yaxis": {
         "scaleanchor": "x",
         "scaleratio": 1,
         "title": {
          "text": "Y axis [Ang]"
         }
        }
       },
       "_model_module": "plotlywidget",
       "_model_module_version": "^4.14.3",
       "_model_name": "FigureModel",
       "_py2js_addTraces": {},
       "_py2js_animate": {},
       "_py2js_deleteTraces": {},
       "_py2js_moveTraces": {},
       "_py2js_relayout": {},
       "_py2js_removeLayoutProps": {},
       "_py2js_removeTraceProps": {},
       "_py2js_restyle": {},
       "_py2js_update": {},
       "_view_count": 0,
       "_view_module": "plotlywidget",
       "_view_module_version": "^4.14.3",
       "_view_name": "FigureView"
      }
     },
     "c357750835c2418f992ac84ba02795f7": {
      "buffers": [
       {
        "data": "AAAAAAAAAAAAAAAAAAAAAAAAAAAAAAAAAAAAAAAAAAC4HoXrUbjmP7gehetRuOY/uB6F61G45j8K16NwPQoBQArXo3A9CgFACtejcD0KAUC4HoXrUbgGQLgehetRuAZAuB6F61G4BkC4HoXrUbgGQA==",
        "encoding": "base64",
        "path": [
         "_data",
         1,
         "x",
         "buffer"
        ]
       },
       {
        "data": "hmWKlqJ1JkCSMJ/D52ArQND9WXgWJjBAVmPkDrmbMkAMyxQtResoQBiWKVqK1i1AkjCfw+dgMUAMyxQtResoQBiWKVqK1i1AkjCfw+dgMUCGZYqWonUmQJIwn8PnYCtA0P1ZeBYmMEBWY+QOuZsyQA==",
        "encoding": "base64",
        "path": [
         "_data",
         1,
         "y",
         "buffer"
        ]
       },
       {
        "data": "AAAAAAAAAAAAAAAAAAAAAArXo3A9ChFACtejcD0KEUAAAAAAAAAAAAAAAAAAAAAAAAAAAAAAAAAAAAAAAAAAAAAAAAAAAAAACtejcD0KEUAK16NwPQoRQArXo3A9ChFACtejcD0KEUAK16NwPQoRQArXo3A9ChFAAAAAAAAAAAA=",
        "encoding": "base64",
        "path": [
         "_data",
         2,
         "x",
         "buffer"
        ]
       },
       {
        "data": "AAAAAAAAAADP/Vl4FiZAQM/9WXgWJkBAAAAAAAAAAAAAAAAAAAAAAAAAAAAAAAAAz/1ZeBYmQEDP/Vl4FiZAQM/9WXgWJkBAz/1ZeBYmQEDP/Vl4FiZAQAAAAAAAAAAAAAAAAAAAAADP/Vl4FiZAQAAAAAAAAAAAAAAAAAAAAAA=",
        "encoding": "base64",
        "path": [
         "_data",
         2,
         "y",
         "buffer"
        ]
       }
      ],
      "model_module": "plotlywidget",
      "model_module_version": "^4.14.3",
      "model_name": "FigureModel",
      "state": {
       "_config": {
        "plotlyServerURL": "https://plot.ly"
       },
       "_data": [
        {
         "line": {
          "color": "#cccccc",
          "width": 3
         },
         "mode": "lines",
         "name": "bonds",
         "type": "scatter",
         "uid": "19215dae-3c65-45f7-bc29-e9bdffa78767",
         "x": [
          0.0,
          0.71,
          null,
          0.0,
          0.71,
          null,
          0.0,
          -1.42,
          null,
          0.0,
          0.71,
          null,
          0.0,
          0.71,
          null,
          0.0,
          -1.42,
          null,
          0.0,
          0.71,
          null,
          0.0,
          0.71,
          null,
          0.0,
          -1.42,
          null,
          0.0,
          0.71,
          null,
          0.0,
          0.71,
          null,
          0.0,
          -1.42,
          null,
          0.71,
          2.13,
          null,
          0.71,
          2.13,
          null,
          0.71,
          2.13,
          null,
          2.13,
          2.84,
          null,
          2.13,
          2.84,
          null,
          2.13,
          2.84,
          null,
          2.13,
          2.84,
          null,
          2.13,
          2.84,
          null,
          2.13,
          2.84,
          null,
          2.13,
          2.84,
          null,
          2.13,
          2.84,
          null,
          2.84,
          4.26,
          null,
          2.84,
          4.26,
          null,
          2.84,
          4.26,
          null,
          2.84,
          4.26,
          null
         ],
         "y": [
          11.229756073373903,
          10.0,
          null,
          11.229756073373903,
          12.459512146747805,
          null,
          11.229756073373903,
          11.229756073373903,
          null,
          13.689268220121708,
          12.459512146747805,
          null,
          13.689268220121708,
          14.91902429349561,
          null,
          13.689268220121708,
          13.689268220121708,
          null,
          16.148780366869516,
          14.91902429349561,
          null,
          16.148780366869516,
          17.378536440243415,
          null,
          16.148780366869516,
          16.148780366869516,
          null,
          18.60829251361732,
          17.378536440243415,
          null,
          18.60829251361732,
          19.83804858699122,
          null,
          18.60829251361732,
          18.60829251361732,
          null,
          12.459512146747805,
          12.459512146747805,
          null,
          14.91902429349561,
          14.91902429349561,
          null,
          17.378536440243415,
          17.378536440243415,
          null,
          10.0,
          11.229756073373903,
          null,
          12.459512146747805,
          11.229756073373903,
          null,
          12.459512146747805,
          13.689268220121708,
          null,
          14.91902429349561,
          13.689268220121708,
          null,
          14.91902429349561,
          16.148780366869516,
          null,
          17.378536440243415,
          16.148780366869516,
          null,
          17.378536440243415,
          18.60829251361732,
          null,
          19.83804858699122,
          18.60829251361732,
          null,
          11.229756073373903,
          11.229756073373903,
          null,
          13.689268220121708,
          13.689268220121708,
          null,
          16.148780366869516,
          16.148780366869516,
          null,
          18.60829251361732,
          18.60829251361732,
          null
         ]
        },
        {
         "marker": {
          "color": [
           "grey",
           "grey",
           "grey",
           "grey",
           "grey",
           "grey",
           "grey",
           "grey",
           "grey",
           "grey",
           "grey",
           "grey",
           "grey",
           "grey"
          ],
          "size": [
           10.72,
           10.72,
           10.72,
           10.72,
           10.72,
           10.72,
           10.72,
           10.72,
           10.72,
           10.72,
           10.72,
           10.72,
           10.72,
           10.72
          ]
         },
         "mode": "markers",
         "name": "Atoms",
         "text": [
          "[ 0.         11.22975607  0.        ]<br>0 (C)",
          "[ 0.         13.68926822  0.        ]<br>1 (C)",
          "[ 0.         16.14878037  0.        ]<br>2 (C)",
          "[ 0.         18.60829251  0.        ]<br>3 (C)",
          "[ 0.71       12.45951215  0.        ]<br>5 (C)",
          "[ 0.71       14.91902429  0.        ]<br>6 (C)",
          "[ 0.71       17.37853644  0.        ]<br>7 (C)",
          "[ 2.13       12.45951215  0.        ]<br>10 (C)",
          "[ 2.13       14.91902429  0.        ]<br>11 (C)",
          "[ 2.13       17.37853644  0.        ]<br>12 (C)",
          "[ 2.84       11.22975607  0.        ]<br>14 (C)",
          "[ 2.84       13.68926822  0.        ]<br>15 (C)",
          "[ 2.84       16.14878037  0.        ]<br>16 (C)",
          "[ 2.84       18.60829251  0.        ]<br>17 (C)"
         ],
         "type": "scatter",
         "uid": "81492b5d-efbe-4ef0-820a-cc99f77f8477",
         "x": {
          "dtype": "float64",
          "shape": [
           14
          ]
         },
         "y": {
          "dtype": "float64",
          "shape": [
           14
          ]
         }
        },
        {
         "mode": "lines",
         "name": "Unit cell",
         "type": "scatter",
         "uid": "6636917e-abd8-48aa-a701-71cf1bf15368",
         "x": {
          "dtype": "float64",
          "shape": [
           16
          ]
         },
         "y": {
          "dtype": "float64",
          "shape": [
           16
          ]
         }
        }
       ],
       "_dom_classes": [],
       "_js2py_layoutDelta": {},
       "_js2py_pointsCallback": {},
       "_js2py_relayout": {},
       "_js2py_restyle": {},
       "_js2py_traceDeltas": {},
       "_js2py_update": {},
       "_last_layout_edit_id": 0,
       "_last_trace_edit_id": 0,
       "_layout": {
        "scene": {
         "aspectmode": "data"
        },
        "template": {
         "layout": {
          "hovermode": "closest",
          "paper_bgcolor": "white",
          "plot_bgcolor": "white",
          "scene": {
           "xaxis": {
            "color": "black",
            "gridcolor": "#ccc",
            "gridwidth": 1,
            "linewidth": 1,
            "mirror": true,
            "showgrid": false,
            "showline": true,
            "ticklen": 5,
            "ticks": "outside",
            "ticksuffix": " ",
            "visible": true,
            "zeroline": false,
            "zerolinecolor": "#ccc",
            "zerolinewidth": 1
           },
           "yaxis": {
            "color": "black",
            "gridcolor": "#ccc",
            "gridwidth": 1,
            "linewidth": 1,
            "mirror": true,
            "showgrid": false,
            "showline": true,
            "ticklen": 5,
            "ticks": "outside",
            "ticksuffix": " ",
            "visible": true,
            "zeroline": false,
            "zerolinecolor": "#ccc",
            "zerolinewidth": 1
           },
           "zaxis": {
            "color": "black",
            "gridcolor": "#ccc",
            "gridwidth": 1,
            "linewidth": 1,
            "mirror": true,
            "showgrid": false,
            "showline": true,
            "ticklen": 5,
            "ticks": "outside",
            "ticksuffix": " ",
            "visible": true,
            "zeroline": false,
            "zerolinecolor": "#ccc",
            "zerolinewidth": 1
           }
          },
          "xaxis": {
           "color": "black",
           "gridcolor": "#ccc",
           "gridwidth": 1,
           "linewidth": 1,
           "mirror": true,
           "showgrid": false,
           "showline": true,
           "ticklen": 5,
           "ticks": "outside",
           "ticksuffix": " ",
           "visible": true,
           "zeroline": false,
           "zerolinecolor": "#ccc",
           "zerolinewidth": 1
          },
          "yaxis": {
           "color": "black",
           "gridcolor": "#ccc",
           "gridwidth": 1,
           "linewidth": 1,
           "mirror": true,
           "showgrid": false,
           "showline": true,
           "ticklen": 5,
           "ticks": "outside",
           "ticksuffix": " ",
           "visible": true,
           "zeroline": false,
           "zerolinecolor": "#ccc",
           "zerolinewidth": 1
          }
         }
        },
        "xaxis": {
         "title": {
          "text": "X axis [Ang]"
         }
        },
        "yaxis": {
         "scaleanchor": "x",
         "scaleratio": 1,
         "title": {
          "text": "Y axis [Ang]"
         }
        }
       },
       "_model_module": "plotlywidget",
       "_model_module_version": "^4.14.3",
       "_model_name": "FigureModel",
       "_py2js_addTraces": {},
       "_py2js_animate": {},
       "_py2js_deleteTraces": {},
       "_py2js_moveTraces": {},
       "_py2js_relayout": {},
       "_py2js_removeLayoutProps": {},
       "_py2js_removeTraceProps": {},
       "_py2js_restyle": {},
       "_py2js_update": {},
       "_view_count": 0,
       "_view_module": "plotlywidget",
       "_view_module_version": "^4.14.3",
       "_view_name": "FigureView"
      }
     },
     "ce7d3fa0794742c0bcfeeb3e9bdbee41": {
      "buffers": [
       {
        "data": "hmWKlqJ1JsCSMJ/D52ArwND9WXgWJjDAVmPkDrmbMsAUrkfhepQiwCB5XA7AfyfALERxOwVrLMCcB0M0JaswwCJtzcrHIDPAexSuR+F6H8BK1evQtagkwFagAP76kynAYmsVK0B/LsA3GxWsQrUxwNgdqRuOxyDA5Oi9SNOyJcDys9J1GJ4qwP5+56JdiS/A",
        "encoding": "base64",
        "path": [
         "_data",
         1,
         "x",
         "buffer"
        ]
       },
       {
        "data": "hmWKlqJ1JkCSMJ/D52ArQND9WXgWJjBAVmPkDrmbMkAAAAAAAAAkQAzLFC1F6yhAGJYpWorWLUCSMJ/D52AxQBiWKVqK1jNAAAAAAAAAJEAMyxQtResoQBiWKVqK1i1AkjCfw+dgMUAYlilaitYzQIZlipaidSZAkjCfw+dgK0DQ/Vl4FiYwQFZj5A65mzJA",
        "encoding": "base64",
        "path": [
         "_data",
         1,
         "y",
         "buffer"
        ]
       },
       {
        "data": "AAAAAAAAAADP/Vl4FiZAwNwFi5SdCTzACtejcD0KEUAAAAAAAAAAAAAAAAAAAAAAz/1ZeBYmQMDP/Vl4FiZAwM/9WXgWJkDA3AWLlJ0JPMDcBYuUnQk8wArXo3A9ChFACtejcD0KEUDcBYuUnQk8wArXo3A9ChFAAAAAAAAAAAA=",
        "encoding": "base64",
        "path": [
         "_data",
         2,
         "x",
         "buffer"
        ]
       },
       {
        "data": "AAAAAAAAAADP/Vl4FiZAQM/9WXgWJkBAAAAAAAAAAAAAAAAAAAAAAAAAAAAAAAAAz/1ZeBYmQEDP/Vl4FiZAQM/9WXgWJkBAz/1ZeBYmQEDP/Vl4FiZAQAAAAAAAAAAAAAAAAAAAAADP/Vl4FiZAQAAAAAAAAAAAAAAAAAAAAAA=",
        "encoding": "base64",
        "path": [
         "_data",
         2,
         "y",
         "buffer"
        ]
       }
      ],
      "model_module": "plotlywidget",
      "model_module_version": "^4.14.3",
      "model_name": "FigureModel",
      "state": {
       "_config": {
        "plotlyServerURL": "https://plot.ly"
       },
       "_data": [
        {
         "line": {
          "color": "#cccccc",
          "width": 3
         },
         "mode": "lines",
         "name": "bonds",
         "type": "scatter",
         "uid": "48b628a9-5d7a-4805-900c-ae5aab7b9ab7",
         "x": [
          -11.229756073373903,
          -9.29,
          null,
          -11.229756073373903,
          -11.749512146747804,
          null,
          -11.229756073373903,
          -12.649756073373903,
          null,
          -13.689268220121708,
          -11.749512146747804,
          null,
          -13.689268220121708,
          -14.20902429349561,
          null,
          -13.689268220121708,
          -15.109268220121708,
          null,
          -16.148780366869516,
          -14.20902429349561,
          null,
          -16.148780366869516,
          -16.668536440243415,
          null,
          -16.148780366869516,
          -17.568780366869518,
          null,
          -18.60829251361732,
          -16.668536440243415,
          null,
          -18.60829251361732,
          -19.12804858699122,
          null,
          -18.60829251361732,
          -20.028292513617323,
          null,
          -9.29,
          -7.87,
          null,
          -11.749512146747804,
          -10.329512146747806,
          null,
          -14.20902429349561,
          -12.789024293495611,
          null,
          -16.668536440243415,
          -15.248536440243416,
          null,
          -19.12804858699122,
          -17.70804858699122,
          null,
          -7.87,
          -8.389756073373903,
          null,
          -10.329512146747806,
          -8.389756073373903,
          null,
          -10.329512146747806,
          -10.849268220121708,
          null,
          -12.789024293495611,
          -10.849268220121708,
          null,
          -12.789024293495611,
          -13.308780366869517,
          null,
          -15.248536440243416,
          -13.308780366869517,
          null,
          -15.248536440243416,
          -15.768292513617322,
          null,
          -17.70804858699122,
          -15.768292513617322,
          null,
          -8.389756073373903,
          -6.969756073373903,
          null,
          -10.849268220121708,
          -9.429268220121708,
          null,
          -13.308780366869517,
          -11.888780366869517,
          null,
          -15.768292513617322,
          -14.348292513617322,
          null
         ],
         "y": [
          11.229756073373903,
          10.0,
          null,
          11.229756073373903,
          12.459512146747805,
          null,
          11.229756073373903,
          11.229756073373903,
          null,
          13.689268220121708,
          12.459512146747805,
          null,
          13.689268220121708,
          14.91902429349561,
          null,
          13.689268220121708,
          13.689268220121708,
          null,
          16.148780366869516,
          14.91902429349561,
          null,
          16.148780366869516,
          17.378536440243415,
          null,
          16.148780366869516,
          16.148780366869516,
          null,
          18.60829251361732,
          17.378536440243415,
          null,
          18.60829251361732,
          19.83804858699122,
          null,
          18.60829251361732,
          18.60829251361732,
          null,
          10.0,
          10.0,
          null,
          12.459512146747805,
          12.459512146747805,
          null,
          14.91902429349561,
          14.91902429349561,
          null,
          17.378536440243415,
          17.378536440243415,
          null,
          19.83804858699122,
          19.83804858699122,
          null,
          10.0,
          11.229756073373903,
          null,
          12.459512146747805,
          11.229756073373903,
          null,
          12.459512146747805,
          13.689268220121708,
          null,
          14.91902429349561,
          13.689268220121708,
          null,
          14.91902429349561,
          16.148780366869516,
          null,
          17.378536440243415,
          16.148780366869516,
          null,
          17.378536440243415,
          18.60829251361732,
          null,
          19.83804858699122,
          18.60829251361732,
          null,
          11.229756073373903,
          11.229756073373903,
          null,
          13.689268220121708,
          13.689268220121708,
          null,
          16.148780366869516,
          16.148780366869516,
          null,
          18.60829251361732,
          18.60829251361732,
          null
         ]
        },
        {
         "marker": {
          "color": [
           "grey",
           "grey",
           "grey",
           "grey",
           "grey",
           "grey",
           "grey",
           "grey",
           "grey",
           "grey",
           "grey",
           "grey",
           "grey",
           "grey",
           "grey",
           "grey",
           "grey",
           "grey"
          ],
          "size": [
           10.72,
           10.72,
           10.72,
           10.72,
           10.72,
           10.72,
           10.72,
           10.72,
           10.72,
           10.72,
           10.72,
           10.72,
           10.72,
           10.72,
           10.72,
           10.72,
           10.72,
           10.72
          ]
         },
         "mode": "markers",
         "name": "Atoms",
         "text": [
          "[ 0.         11.22975607  0.        ]<br>0 (C)",
          "[ 0.         13.68926822  0.        ]<br>1 (C)",
          "[ 0.         16.14878037  0.        ]<br>2 (C)",
          "[ 0.         18.60829251  0.        ]<br>3 (C)",
          "[ 0.71 10.    0.  ]<br>4 (C)",
          "[ 0.71       12.45951215  0.        ]<br>5 (C)",
          "[ 0.71       14.91902429  0.        ]<br>6 (C)",
          "[ 0.71       17.37853644  0.        ]<br>7 (C)",
          "[ 0.71       19.83804859  0.        ]<br>8 (C)",
          "[ 2.13 10.    0.  ]<br>9 (C)",
          "[ 2.13       12.45951215  0.        ]<br>10 (C)",
          "[ 2.13       14.91902429  0.        ]<br>11 (C)",
          "[ 2.13       17.37853644  0.        ]<br>12 (C)",
          "[ 2.13       19.83804859  0.        ]<br>13 (C)",
          "[ 2.84       11.22975607  0.        ]<br>14 (C)",
          "[ 2.84       13.68926822  0.        ]<br>15 (C)",
          "[ 2.84       16.14878037  0.        ]<br>16 (C)",
          "[ 2.84       18.60829251  0.        ]<br>17 (C)"
         ],
         "type": "scatter",
         "uid": "57531160-6197-4b90-8925-55e1d709a33e",
         "x": {
          "dtype": "float64",
          "shape": [
           18
          ]
         },
         "y": {
          "dtype": "float64",
          "shape": [
           18
          ]
         }
        },
        {
         "mode": "lines",
         "name": "Unit cell",
         "type": "scatter",
         "uid": "4a3ee40b-487a-407d-8fa9-de20aa8c0bb1",
         "x": {
          "dtype": "float64",
          "shape": [
           16
          ]
         },
         "y": {
          "dtype": "float64",
          "shape": [
           16
          ]
         }
        }
       ],
       "_dom_classes": [],
       "_js2py_layoutDelta": {},
       "_js2py_pointsCallback": {},
       "_js2py_relayout": {},
       "_js2py_restyle": {},
       "_js2py_traceDeltas": {},
       "_js2py_update": {},
       "_last_layout_edit_id": 0,
       "_last_trace_edit_id": 0,
       "_layout": {
        "scene": {
         "aspectmode": "data"
        },
        "template": {
         "layout": {
          "hovermode": "closest",
          "paper_bgcolor": "white",
          "plot_bgcolor": "white",
          "scene": {
           "xaxis": {
            "color": "black",
            "gridcolor": "#ccc",
            "gridwidth": 1,
            "linewidth": 1,
            "mirror": true,
            "showgrid": false,
            "showline": true,
            "ticklen": 5,
            "ticks": "outside",
            "ticksuffix": " ",
            "visible": true,
            "zeroline": false,
            "zerolinecolor": "#ccc",
            "zerolinewidth": 1
           },
           "yaxis": {
            "color": "black",
            "gridcolor": "#ccc",
            "gridwidth": 1,
            "linewidth": 1,
            "mirror": true,
            "showgrid": false,
            "showline": true,
            "ticklen": 5,
            "ticks": "outside",
            "ticksuffix": " ",
            "visible": true,
            "zeroline": false,
            "zerolinecolor": "#ccc",
            "zerolinewidth": 1
           },
           "zaxis": {
            "color": "black",
            "gridcolor": "#ccc",
            "gridwidth": 1,
            "linewidth": 1,
            "mirror": true,
            "showgrid": false,
            "showline": true,
            "ticklen": 5,
            "ticks": "outside",
            "ticksuffix": " ",
            "visible": true,
            "zeroline": false,
            "zerolinecolor": "#ccc",
            "zerolinewidth": 1
           }
          },
          "xaxis": {
           "color": "black",
           "gridcolor": "#ccc",
           "gridwidth": 1,
           "linewidth": 1,
           "mirror": true,
           "showgrid": false,
           "showline": true,
           "ticklen": 5,
           "ticks": "outside",
           "ticksuffix": " ",
           "visible": true,
           "zeroline": false,
           "zerolinecolor": "#ccc",
           "zerolinewidth": 1
          },
          "yaxis": {
           "color": "black",
           "gridcolor": "#ccc",
           "gridwidth": 1,
           "linewidth": 1,
           "mirror": true,
           "showgrid": false,
           "showline": true,
           "ticklen": 5,
           "ticks": "outside",
           "ticksuffix": " ",
           "visible": true,
           "zeroline": false,
           "zerolinecolor": "#ccc",
           "zerolinewidth": 1
          }
         }
        },
        "xaxis": {
         "title": {
          "text": "X axis [Ang]"
         }
        },
        "yaxis": {
         "scaleanchor": "x",
         "scaleratio": 1,
         "title": {
          "text": "[1 1 0]"
         }
        }
       },
       "_model_module": "plotlywidget",
       "_model_module_version": "^4.14.3",
       "_model_name": "FigureModel",
       "_py2js_addTraces": {},
       "_py2js_animate": {},
       "_py2js_deleteTraces": {},
       "_py2js_moveTraces": {},
       "_py2js_relayout": {},
       "_py2js_removeLayoutProps": {},
       "_py2js_removeTraceProps": {},
       "_py2js_restyle": {},
       "_py2js_update": {},
       "_view_count": 0,
       "_view_module": "plotlywidget",
       "_view_module_version": "^4.14.3",
       "_view_name": "FigureView"
      }
     },
     "db96f9bb37ae4bb584941f4cb9a9aa7d": {
      "buffers": [
       {
        "data": "AAAAAAAAAAAAAAAAAAAAAAAAAAAAAAAAAAAAAAAAAAC4HoXrUbjmP7gehetRuOY/uB6F61G45j+4HoXrUbjmP7gehetRuOY/CtejcD0KAUAK16NwPQoBQArXo3A9CgFACtejcD0KAUAK16NwPQoBQLgehetRuAZAuB6F61G4BkC4HoXrUbgGQLgehetRuAZA",
        "encoding": "base64",
        "path": [
         "_data",
         0,
         "x",
         "buffer"
        ]
       },
       {
        "data": "AAAAAAAAAAAAAAAAAAAAAAAAAAAAAAAAAAAAAAAAAAAAAAAAAAAAAAAAAAAAAAAAAAAAAAAAAAAAAAAAAAAAAAAAAAAAAAAAAAAAAAAAAAAAAAAAAAAAAAAAAAAAAAAAAAAAAAAAAAAAAAAAAAAAAAAAAAAAAAAAAAAAAAAAAAAAAAAAAAAAAAAAAAAAAAAA",
        "encoding": "base64",
        "path": [
         "_data",
         0,
         "y",
         "buffer"
        ]
       }
      ],
      "model_module": "plotlywidget",
      "model_module_version": "^4.14.3",
      "model_name": "FigureModel",
      "state": {
       "_config": {
        "plotlyServerURL": "https://plot.ly"
       },
       "_data": [
        {
         "marker": {
          "color": [
           "grey",
           "grey",
           "grey",
           "grey",
           "grey",
           "grey",
           "grey",
           "grey",
           "grey",
           "grey",
           "grey",
           "grey",
           "grey",
           "grey",
           "grey",
           "grey",
           "grey",
           "grey"
          ],
          "size": [
           10.72,
           10.72,
           10.72,
           10.72,
           10.72,
           10.72,
           10.72,
           10.72,
           10.72,
           10.72,
           10.72,
           10.72,
           10.72,
           10.72,
           10.72,
           10.72,
           10.72,
           10.72
          ]
         },
         "mode": "markers",
         "name": "Atoms",
         "text": [
          "[ 0.         11.22975607  0.        ]<br>0 (C)",
          "[ 0.         13.68926822  0.        ]<br>1 (C)",
          "[ 0.         16.14878037  0.        ]<br>2 (C)",
          "[ 0.         18.60829251  0.        ]<br>3 (C)",
          "[ 0.71 10.    0.  ]<br>4 (C)",
          "[ 0.71       12.45951215  0.        ]<br>5 (C)",
          "[ 0.71       14.91902429  0.        ]<br>6 (C)",
          "[ 0.71       17.37853644  0.        ]<br>7 (C)",
          "[ 0.71       19.83804859  0.        ]<br>8 (C)",
          "[ 2.13 10.    0.  ]<br>9 (C)",
          "[ 2.13       12.45951215  0.        ]<br>10 (C)",
          "[ 2.13       14.91902429  0.        ]<br>11 (C)",
          "[ 2.13       17.37853644  0.        ]<br>12 (C)",
          "[ 2.13       19.83804859  0.        ]<br>13 (C)",
          "[ 2.84       11.22975607  0.        ]<br>14 (C)",
          "[ 2.84       13.68926822  0.        ]<br>15 (C)",
          "[ 2.84       16.14878037  0.        ]<br>16 (C)",
          "[ 2.84       18.60829251  0.        ]<br>17 (C)"
         ],
         "type": "scatter",
         "uid": "16bb3724-c124-4edf-9183-5133c446d787",
         "x": {
          "dtype": "float64",
          "shape": [
           18
          ]
         },
         "y": {
          "dtype": "float64",
          "shape": [
           18
          ]
         }
        }
       ],
       "_dom_classes": [],
       "_js2py_layoutDelta": {},
       "_js2py_pointsCallback": {},
       "_js2py_relayout": {},
       "_js2py_restyle": {},
       "_js2py_traceDeltas": {},
       "_js2py_update": {},
       "_last_layout_edit_id": 0,
       "_last_trace_edit_id": 0,
       "_layout": {
        "scene": {
         "aspectmode": "data"
        },
        "template": {
         "layout": {
          "hovermode": "closest",
          "paper_bgcolor": "white",
          "plot_bgcolor": "white",
          "scene": {
           "xaxis": {
            "color": "black",
            "gridcolor": "#ccc",
            "gridwidth": 1,
            "linewidth": 1,
            "mirror": true,
            "showgrid": false,
            "showline": true,
            "ticklen": 5,
            "ticks": "outside",
            "ticksuffix": " ",
            "visible": true,
            "zeroline": false,
            "zerolinecolor": "#ccc",
            "zerolinewidth": 1
           },
           "yaxis": {
            "color": "black",
            "gridcolor": "#ccc",
            "gridwidth": 1,
            "linewidth": 1,
            "mirror": true,
            "showgrid": false,
            "showline": true,
            "ticklen": 5,
            "ticks": "outside",
            "ticksuffix": " ",
            "visible": true,
            "zeroline": false,
            "zerolinecolor": "#ccc",
            "zerolinewidth": 1
           },
           "zaxis": {
            "color": "black",
            "gridcolor": "#ccc",
            "gridwidth": 1,
            "linewidth": 1,
            "mirror": true,
            "showgrid": false,
            "showline": true,
            "ticklen": 5,
            "ticks": "outside",
            "ticksuffix": " ",
            "visible": true,
            "zeroline": false,
            "zerolinecolor": "#ccc",
            "zerolinewidth": 1
           }
          },
          "xaxis": {
           "color": "black",
           "gridcolor": "#ccc",
           "gridwidth": 1,
           "linewidth": 1,
           "mirror": true,
           "showgrid": false,
           "showline": true,
           "ticklen": 5,
           "ticks": "outside",
           "ticksuffix": " ",
           "visible": true,
           "zeroline": false,
           "zerolinecolor": "#ccc",
           "zerolinewidth": 1
          },
          "yaxis": {
           "color": "black",
           "gridcolor": "#ccc",
           "gridwidth": 1,
           "linewidth": 1,
           "mirror": true,
           "showgrid": false,
           "showline": true,
           "ticklen": 5,
           "ticks": "outside",
           "ticksuffix": " ",
           "visible": true,
           "zeroline": false,
           "zerolinecolor": "#ccc",
           "zerolinewidth": 1
          }
         }
        },
        "xaxis": {
         "title": {
          "text": "X axis [Ang]"
         }
        },
        "yaxis": {
         "scaleanchor": "x",
         "scaleratio": 1,
         "title": {
          "text": ""
         }
        }
       },
       "_model_module": "plotlywidget",
       "_model_module_version": "^4.14.3",
       "_model_name": "FigureModel",
       "_py2js_addTraces": {},
       "_py2js_animate": {},
       "_py2js_deleteTraces": {},
       "_py2js_moveTraces": {},
       "_py2js_relayout": {},
       "_py2js_removeLayoutProps": {},
       "_py2js_removeTraceProps": {},
       "_py2js_restyle": {},
       "_py2js_update": {},
       "_view_count": 0,
       "_view_module": "plotlywidget",
       "_view_module_version": "^4.14.3",
       "_view_name": "FigureView"
      }
     },
     "e5378aefe37c406496e351fea919a753": {
      "buffers": [
       {
        "data": "AAAAAAAAAAAAAAAAAAAAAAAAAAAAAAAAAAAAAAAAAAC4HoXrUbjmP7gehetRuOY/uB6F61G45j+4HoXrUbjmP7gehetRuOY/CtejcD0KAUAK16NwPQoBQArXo3A9CgFACtejcD0KAUAK16NwPQoBQLgehetRuAZAuB6F61G4BkC4HoXrUbgGQLgehetRuAZA",
        "encoding": "base64",
        "path": [
         "_data",
         0,
         "x",
         "buffer"
        ]
       },
       {
        "data": "AAAAAAAAGEAAAAAAAAAYQAAAAAAAABhAAAAAAAAAGEAAAAAAAAAYQAAAAAAAABhAAAAAAAAAGEAAAAAAAAAYQAAAAAAAABhAAAAAAAAAGEAAAAAAAAAYQAAAAAAAABhAAAAAAAAAGEAAAAAAAAAYQAAAAAAAABhAAAAAAAAAGEAAAAAAAAAYQAAAAAAAABhA",
        "encoding": "base64",
        "path": [
         "_data",
         0,
         "y",
         "buffer"
        ]
       }
      ],
      "model_module": "plotlywidget",
      "model_module_version": "^4.14.3",
      "model_name": "FigureModel",
      "state": {
       "_config": {
        "plotlyServerURL": "https://plot.ly"
       },
       "_data": [
        {
         "marker": {
          "color": [
           "grey",
           "grey",
           "grey",
           "grey",
           "grey",
           "grey",
           "grey",
           "grey",
           "grey",
           "grey",
           "grey",
           "grey",
           "grey",
           "grey",
           "grey",
           "grey",
           "grey",
           "grey"
          ],
          "size": [
           10.72,
           10.72,
           10.72,
           10.72,
           10.72,
           10.72,
           10.72,
           10.72,
           10.72,
           10.72,
           10.72,
           10.72,
           10.72,
           10.72,
           10.72,
           10.72,
           10.72,
           10.72
          ]
         },
         "mode": "markers",
         "name": "Atoms",
         "text": [
          "[ 0.         11.22975607  0.        ]<br>0 (C)",
          "[ 0.         13.68926822  0.        ]<br>1 (C)",
          "[ 0.         16.14878037  0.        ]<br>2 (C)",
          "[ 0.         18.60829251  0.        ]<br>3 (C)",
          "[ 0.71 10.    0.  ]<br>4 (C)",
          "[ 0.71       12.45951215  0.        ]<br>5 (C)",
          "[ 0.71       14.91902429  0.        ]<br>6 (C)",
          "[ 0.71       17.37853644  0.        ]<br>7 (C)",
          "[ 0.71       19.83804859  0.        ]<br>8 (C)",
          "[ 2.13 10.    0.  ]<br>9 (C)",
          "[ 2.13       12.45951215  0.        ]<br>10 (C)",
          "[ 2.13       14.91902429  0.        ]<br>11 (C)",
          "[ 2.13       17.37853644  0.        ]<br>12 (C)",
          "[ 2.13       19.83804859  0.        ]<br>13 (C)",
          "[ 2.84       11.22975607  0.        ]<br>14 (C)",
          "[ 2.84       13.68926822  0.        ]<br>15 (C)",
          "[ 2.84       16.14878037  0.        ]<br>16 (C)",
          "[ 2.84       18.60829251  0.        ]<br>17 (C)"
         ],
         "type": "scatter",
         "uid": "b453b9c2-0cfa-4d87-b0b2-852c206f1640",
         "x": {
          "dtype": "float64",
          "shape": [
           18
          ]
         },
         "y": {
          "dtype": "float64",
          "shape": [
           18
          ]
         }
        }
       ],
       "_dom_classes": [],
       "_js2py_layoutDelta": {},
       "_js2py_pointsCallback": {},
       "_js2py_relayout": {},
       "_js2py_restyle": {},
       "_js2py_traceDeltas": {},
       "_js2py_update": {},
       "_last_layout_edit_id": 0,
       "_last_trace_edit_id": 0,
       "_layout": {
        "scene": {
         "aspectmode": "data"
        },
        "template": {
         "layout": {
          "hovermode": "closest",
          "paper_bgcolor": "white",
          "plot_bgcolor": "white",
          "scene": {
           "xaxis": {
            "color": "black",
            "gridcolor": "#ccc",
            "gridwidth": 1,
            "linewidth": 1,
            "mirror": true,
            "showgrid": false,
            "showline": true,
            "ticklen": 5,
            "ticks": "outside",
            "ticksuffix": " ",
            "visible": true,
            "zeroline": false,
            "zerolinecolor": "#ccc",
            "zerolinewidth": 1
           },
           "yaxis": {
            "color": "black",
            "gridcolor": "#ccc",
            "gridwidth": 1,
            "linewidth": 1,
            "mirror": true,
            "showgrid": false,
            "showline": true,
            "ticklen": 5,
            "ticks": "outside",
            "ticksuffix": " ",
            "visible": true,
            "zeroline": false,
            "zerolinecolor": "#ccc",
            "zerolinewidth": 1
           },
           "zaxis": {
            "color": "black",
            "gridcolor": "#ccc",
            "gridwidth": 1,
            "linewidth": 1,
            "mirror": true,
            "showgrid": false,
            "showline": true,
            "ticklen": 5,
            "ticks": "outside",
            "ticksuffix": " ",
            "visible": true,
            "zeroline": false,
            "zerolinecolor": "#ccc",
            "zerolinewidth": 1
           }
          },
          "xaxis": {
           "color": "black",
           "gridcolor": "#ccc",
           "gridwidth": 1,
           "linewidth": 1,
           "mirror": true,
           "showgrid": false,
           "showline": true,
           "ticklen": 5,
           "ticks": "outside",
           "ticksuffix": " ",
           "visible": true,
           "zeroline": false,
           "zerolinecolor": "#ccc",
           "zerolinewidth": 1
          },
          "yaxis": {
           "color": "black",
           "gridcolor": "#ccc",
           "gridwidth": 1,
           "linewidth": 1,
           "mirror": true,
           "showgrid": false,
           "showline": true,
           "ticklen": 5,
           "ticks": "outside",
           "ticksuffix": " ",
           "visible": true,
           "zeroline": false,
           "zerolinecolor": "#ccc",
           "zerolinewidth": 1
          }
         }
        },
        "xaxis": {
         "title": {
          "text": "X axis [Ang]"
         }
        },
        "yaxis": {
         "scaleanchor": "x",
         "scaleratio": 1,
         "title": {
          "text": ""
         }
        }
       },
       "_model_module": "plotlywidget",
       "_model_module_version": "^4.14.3",
       "_model_name": "FigureModel",
       "_py2js_addTraces": {},
       "_py2js_animate": {},
       "_py2js_deleteTraces": {},
       "_py2js_moveTraces": {},
       "_py2js_relayout": {},
       "_py2js_removeLayoutProps": {},
       "_py2js_removeTraceProps": {},
       "_py2js_restyle": {},
       "_py2js_update": {},
       "_view_count": 0,
       "_view_module": "plotlywidget",
       "_view_module_version": "^4.14.3",
       "_view_name": "FigureView"
      }
     },
     "eaeef2e2441746388c12662aa6998817": {
      "buffers": [
       {
        "data": "AAAAAAAAAAAAAAAAAAAAAAAAAAAAAAAAAAAAAAAAAAC4HoXrUbjmP7gehetRuOY/uB6F61G45j+4HoXrUbjmP7gehetRuOY/CtejcD0KAUAK16NwPQoBQArXo3A9CgFACtejcD0KAUAK16NwPQoBQLgehetRuAZAuB6F61G4BkC4HoXrUbgGQLgehetRuAZA",
        "encoding": "base64",
        "path": [
         "_data",
         1,
         "x",
         "buffer"
        ]
       },
       {
        "data": "hmWKlqJ1JkCSMJ/D52ArQND9WXgWJjBAVmPkDrmbMkAAAAAAAAAkQAzLFC1F6yhAGJYpWorWLUCSMJ/D52AxQBiWKVqK1jNAAAAAAAAAJEAMyxQtResoQBiWKVqK1i1AkjCfw+dgMUAYlilaitYzQIZlipaidSZAkjCfw+dgK0DQ/Vl4FiYwQFZj5A65mzJA",
        "encoding": "base64",
        "path": [
         "_data",
         1,
         "y",
         "buffer"
        ]
       },
       {
        "data": "AAAAAAAAAAAAAAAAAAAAAArXo3A9ChFACtejcD0KEUAAAAAAAAAAAAAAAAAAAAAAAAAAAAAAAAAAAAAAAAAAAAAAAAAAAAAACtejcD0KEUAK16NwPQoRQArXo3A9ChFACtejcD0KEUAK16NwPQoRQArXo3A9ChFAAAAAAAAAAAA=",
        "encoding": "base64",
        "path": [
         "_data",
         2,
         "x",
         "buffer"
        ]
       },
       {
        "data": "AAAAAAAAAADP/Vl4FiZAQM/9WXgWJkBAAAAAAAAAAAAAAAAAAAAAAAAAAAAAAAAAz/1ZeBYmQEDP/Vl4FiZAQM/9WXgWJkBAz/1ZeBYmQEDP/Vl4FiZAQAAAAAAAAAAAAAAAAAAAAADP/Vl4FiZAQAAAAAAAAAAAAAAAAAAAAAA=",
        "encoding": "base64",
        "path": [
         "_data",
         2,
         "y",
         "buffer"
        ]
       }
      ],
      "model_module": "plotlywidget",
      "model_module_version": "^4.14.3",
      "model_name": "FigureModel",
      "state": {
       "_config": {
        "plotlyServerURL": "https://plot.ly"
       },
       "_data": [
        {
         "line": {
          "color": "#cccccc",
          "width": 3
         },
         "mode": "lines",
         "name": "bonds",
         "type": "scatter",
         "uid": "1f0a68f0-3bc2-40af-a9c6-dffb90c363aa",
         "x": [
          0.0,
          0.71,
          null,
          0.0,
          0.71,
          null,
          0.0,
          -1.42,
          null,
          0.0,
          0.71,
          null,
          0.0,
          0.71,
          null,
          0.0,
          -1.42,
          null,
          0.0,
          0.71,
          null,
          0.0,
          0.71,
          null,
          0.0,
          -1.42,
          null,
          0.0,
          0.71,
          null,
          0.0,
          0.71,
          null,
          0.0,
          -1.42,
          null,
          0.71,
          2.13,
          null,
          0.71,
          2.13,
          null,
          0.71,
          2.13,
          null,
          0.71,
          2.13,
          null,
          0.71,
          2.13,
          null,
          2.13,
          2.84,
          null,
          2.13,
          2.84,
          null,
          2.13,
          2.84,
          null,
          2.13,
          2.84,
          null,
          2.13,
          2.84,
          null,
          2.13,
          2.84,
          null,
          2.13,
          2.84,
          null,
          2.13,
          2.84,
          null,
          2.84,
          4.26,
          null,
          2.84,
          4.26,
          null,
          2.84,
          4.26,
          null,
          2.84,
          4.26,
          null
         ],
         "y": [
          11.229756073373903,
          10.0,
          null,
          11.229756073373903,
          12.459512146747805,
          null,
          11.229756073373903,
          11.229756073373903,
          null,
          13.689268220121708,
          12.459512146747805,
          null,
          13.689268220121708,
          14.91902429349561,
          null,
          13.689268220121708,
          13.689268220121708,
          null,
          16.148780366869516,
          14.91902429349561,
          null,
          16.148780366869516,
          17.378536440243415,
          null,
          16.148780366869516,
          16.148780366869516,
          null,
          18.60829251361732,
          17.378536440243415,
          null,
          18.60829251361732,
          19.83804858699122,
          null,
          18.60829251361732,
          18.60829251361732,
          null,
          10.0,
          10.0,
          null,
          12.459512146747805,
          12.459512146747805,
          null,
          14.91902429349561,
          14.91902429349561,
          null,
          17.378536440243415,
          17.378536440243415,
          null,
          19.83804858699122,
          19.83804858699122,
          null,
          10.0,
          11.229756073373903,
          null,
          12.459512146747805,
          11.229756073373903,
          null,
          12.459512146747805,
          13.689268220121708,
          null,
          14.91902429349561,
          13.689268220121708,
          null,
          14.91902429349561,
          16.148780366869516,
          null,
          17.378536440243415,
          16.148780366869516,
          null,
          17.378536440243415,
          18.60829251361732,
          null,
          19.83804858699122,
          18.60829251361732,
          null,
          11.229756073373903,
          11.229756073373903,
          null,
          13.689268220121708,
          13.689268220121708,
          null,
          16.148780366869516,
          16.148780366869516,
          null,
          18.60829251361732,
          18.60829251361732,
          null
         ]
        },
        {
         "marker": {
          "color": [
           "grey",
           "grey",
           "grey",
           "grey",
           "grey",
           "grey",
           "grey",
           "grey",
           "grey",
           "grey",
           "grey",
           "grey",
           "grey",
           "grey",
           "grey",
           "grey",
           "grey",
           "grey"
          ],
          "size": [
           10.72,
           10.72,
           10.72,
           10.72,
           10.72,
           10.72,
           10.72,
           10.72,
           10.72,
           10.72,
           10.72,
           10.72,
           10.72,
           10.72,
           10.72,
           10.72,
           10.72,
           10.72
          ]
         },
         "mode": "markers",
         "name": "Atoms",
         "text": [
          "[ 0.         11.22975607  0.        ]<br>0 (C)",
          "[ 0.         13.68926822  0.        ]<br>1 (C)",
          "[ 0.         16.14878037  0.        ]<br>2 (C)",
          "[ 0.         18.60829251  0.        ]<br>3 (C)",
          "[ 0.71 10.    0.  ]<br>4 (C)",
          "[ 0.71       12.45951215  0.        ]<br>5 (C)",
          "[ 0.71       14.91902429  0.        ]<br>6 (C)",
          "[ 0.71       17.37853644  0.        ]<br>7 (C)",
          "[ 0.71       19.83804859  0.        ]<br>8 (C)",
          "[ 2.13 10.    0.  ]<br>9 (C)",
          "[ 2.13       12.45951215  0.        ]<br>10 (C)",
          "[ 2.13       14.91902429  0.        ]<br>11 (C)",
          "[ 2.13       17.37853644  0.        ]<br>12 (C)",
          "[ 2.13       19.83804859  0.        ]<br>13 (C)",
          "[ 2.84       11.22975607  0.        ]<br>14 (C)",
          "[ 2.84       13.68926822  0.        ]<br>15 (C)",
          "[ 2.84       16.14878037  0.        ]<br>16 (C)",
          "[ 2.84       18.60829251  0.        ]<br>17 (C)"
         ],
         "type": "scatter",
         "uid": "54522ac4-e1ff-42ab-a06a-4016d75387a0",
         "x": {
          "dtype": "float64",
          "shape": [
           18
          ]
         },
         "y": {
          "dtype": "float64",
          "shape": [
           18
          ]
         }
        },
        {
         "mode": "lines",
         "name": "Unit cell",
         "type": "scatter",
         "uid": "7e81429b-9056-473d-b48a-781add3effaa",
         "x": {
          "dtype": "float64",
          "shape": [
           16
          ]
         },
         "y": {
          "dtype": "float64",
          "shape": [
           16
          ]
         }
        }
       ],
       "_dom_classes": [],
       "_js2py_layoutDelta": {},
       "_js2py_pointsCallback": {},
       "_js2py_relayout": {},
       "_js2py_restyle": {},
       "_js2py_traceDeltas": {},
       "_js2py_update": {},
       "_last_layout_edit_id": 0,
       "_last_trace_edit_id": 0,
       "_layout": {
        "scene": {
         "aspectmode": "data"
        },
        "template": {
         "layout": {
          "hovermode": "closest",
          "paper_bgcolor": "white",
          "plot_bgcolor": "white",
          "scene": {
           "xaxis": {
            "color": "black",
            "gridcolor": "#ccc",
            "gridwidth": 1,
            "linewidth": 1,
            "mirror": true,
            "showgrid": false,
            "showline": true,
            "ticklen": 5,
            "ticks": "outside",
            "ticksuffix": " ",
            "visible": true,
            "zeroline": false,
            "zerolinecolor": "#ccc",
            "zerolinewidth": 1
           },
           "yaxis": {
            "color": "black",
            "gridcolor": "#ccc",
            "gridwidth": 1,
            "linewidth": 1,
            "mirror": true,
            "showgrid": false,
            "showline": true,
            "ticklen": 5,
            "ticks": "outside",
            "ticksuffix": " ",
            "visible": true,
            "zeroline": false,
            "zerolinecolor": "#ccc",
            "zerolinewidth": 1
           },
           "zaxis": {
            "color": "black",
            "gridcolor": "#ccc",
            "gridwidth": 1,
            "linewidth": 1,
            "mirror": true,
            "showgrid": false,
            "showline": true,
            "ticklen": 5,
            "ticks": "outside",
            "ticksuffix": " ",
            "visible": true,
            "zeroline": false,
            "zerolinecolor": "#ccc",
            "zerolinewidth": 1
           }
          },
          "xaxis": {
           "color": "black",
           "gridcolor": "#ccc",
           "gridwidth": 1,
           "linewidth": 1,
           "mirror": true,
           "showgrid": false,
           "showline": true,
           "ticklen": 5,
           "ticks": "outside",
           "ticksuffix": " ",
           "visible": true,
           "zeroline": false,
           "zerolinecolor": "#ccc",
           "zerolinewidth": 1
          },
          "yaxis": {
           "color": "black",
           "gridcolor": "#ccc",
           "gridwidth": 1,
           "linewidth": 1,
           "mirror": true,
           "showgrid": false,
           "showline": true,
           "ticklen": 5,
           "ticks": "outside",
           "ticksuffix": " ",
           "visible": true,
           "zeroline": false,
           "zerolinecolor": "#ccc",
           "zerolinewidth": 1
          }
         }
        },
        "xaxis": {
         "title": {
          "text": "X axis [Ang]"
         }
        },
        "yaxis": {
         "scaleanchor": "x",
         "scaleratio": 1,
         "title": {
          "text": "Y axis [Ang]"
         }
        }
       },
       "_model_module": "plotlywidget",
       "_model_module_version": "^4.14.3",
       "_model_name": "FigureModel",
       "_py2js_addTraces": {},
       "_py2js_animate": {},
       "_py2js_deleteTraces": {},
       "_py2js_moveTraces": {},
       "_py2js_relayout": {},
       "_py2js_removeLayoutProps": {},
       "_py2js_removeTraceProps": {},
       "_py2js_restyle": {},
       "_py2js_update": {},
       "_view_count": 0,
       "_view_module": "plotlywidget",
       "_view_module_version": "^4.14.3",
       "_view_name": "FigureView"
      }
     },
     "fa3329b893df4aadb9a720b6e1691733": {
      "buffers": [
       {
        "data": "AAAAAAAAAAAAAAAAAAAAAAAAAAAAAAAAAAAAAAAAAAC4HoXrUbjmP7gehetRuOY/uB6F61G45j+4HoXrUbjmP7gehetRuOY/CtejcD0KAUAK16NwPQoBQArXo3A9CgFACtejcD0KAUAK16NwPQoBQLgehetRuAZAuB6F61G4BkC4HoXrUbgGQLgehetRuAZA",
        "encoding": "base64",
        "path": [
         "_data",
         1,
         "x",
         "buffer"
        ]
       },
       {
        "data": "hmWKlqJ1JkCSMJ/D52ArQND9WXgWJjBAVmPkDrmbMkAAAAAAAAAkQAzLFC1F6yhAGJYpWorWLUCSMJ/D52AxQBiWKVqK1jNAAAAAAAAAJEAMyxQtResoQBiWKVqK1i1AkjCfw+dgMUAYlilaitYzQIZlipaidSZAkjCfw+dgK0DQ/Vl4FiYwQFZj5A65mzJA",
        "encoding": "base64",
        "path": [
         "_data",
         1,
         "y",
         "buffer"
        ]
       },
       {
        "data": "AAAAAAAAAAAAAAAAAAAAAArXo3A9ChFACtejcD0KEUAAAAAAAAAAAAAAAAAAAAAAAAAAAAAAAAAAAAAAAAAAAAAAAAAAAAAACtejcD0KEUAK16NwPQoRQArXo3A9ChFACtejcD0KEUAK16NwPQoRQArXo3A9ChFAAAAAAAAAAAA=",
        "encoding": "base64",
        "path": [
         "_data",
         2,
         "x",
         "buffer"
        ]
       },
       {
        "data": "AAAAAAAAAADP/Vl4FiZAQM/9WXgWJkBAAAAAAAAAAAAAAAAAAAAAAAAAAAAAAAAAz/1ZeBYmQEDP/Vl4FiZAQM/9WXgWJkBAz/1ZeBYmQEDP/Vl4FiZAQAAAAAAAAAAAAAAAAAAAAADP/Vl4FiZAQAAAAAAAAAAAAAAAAAAAAAA=",
        "encoding": "base64",
        "path": [
         "_data",
         2,
         "y",
         "buffer"
        ]
       }
      ],
      "model_module": "plotlywidget",
      "model_module_version": "^4.14.3",
      "model_name": "FigureModel",
      "state": {
       "_config": {
        "plotlyServerURL": "https://plot.ly"
       },
       "_data": [
        {
         "line": {
          "color": "#cccccc",
          "width": 3
         },
         "mode": "lines",
         "name": "bonds",
         "type": "scatter",
         "uid": "ee3fff50-cd57-4618-85df-585e21752e5c",
         "x": [
          0.0,
          0.71,
          null,
          0.0,
          0.71,
          null,
          0.0,
          -1.42,
          null,
          0.0,
          0.71,
          null,
          0.0,
          0.71,
          null,
          0.0,
          -1.42,
          null,
          0.0,
          0.71,
          null,
          0.0,
          0.71,
          null,
          0.0,
          -1.42,
          null,
          0.0,
          0.71,
          null,
          0.0,
          0.71,
          null,
          0.0,
          -1.42,
          null,
          0.71,
          2.13,
          null,
          0.71,
          2.13,
          null,
          0.71,
          2.13,
          null,
          0.71,
          2.13,
          null,
          0.71,
          2.13,
          null,
          2.13,
          2.84,
          null,
          2.13,
          2.84,
          null,
          2.13,
          2.84,
          null,
          2.13,
          2.84,
          null,
          2.13,
          2.84,
          null,
          2.13,
          2.84,
          null,
          2.13,
          2.84,
          null,
          2.13,
          2.84,
          null,
          2.84,
          4.26,
          null,
          2.84,
          4.26,
          null,
          2.84,
          4.26,
          null,
          2.84,
          4.26,
          null
         ],
         "y": [
          11.229756073373903,
          10.0,
          null,
          11.229756073373903,
          12.459512146747805,
          null,
          11.229756073373903,
          11.229756073373903,
          null,
          13.689268220121708,
          12.459512146747805,
          null,
          13.689268220121708,
          14.91902429349561,
          null,
          13.689268220121708,
          13.689268220121708,
          null,
          16.148780366869516,
          14.91902429349561,
          null,
          16.148780366869516,
          17.378536440243415,
          null,
          16.148780366869516,
          16.148780366869516,
          null,
          18.60829251361732,
          17.378536440243415,
          null,
          18.60829251361732,
          19.83804858699122,
          null,
          18.60829251361732,
          18.60829251361732,
          null,
          10.0,
          10.0,
          null,
          12.459512146747805,
          12.459512146747805,
          null,
          14.91902429349561,
          14.91902429349561,
          null,
          17.378536440243415,
          17.378536440243415,
          null,
          19.83804858699122,
          19.83804858699122,
          null,
          10.0,
          11.229756073373903,
          null,
          12.459512146747805,
          11.229756073373903,
          null,
          12.459512146747805,
          13.689268220121708,
          null,
          14.91902429349561,
          13.689268220121708,
          null,
          14.91902429349561,
          16.148780366869516,
          null,
          17.378536440243415,
          16.148780366869516,
          null,
          17.378536440243415,
          18.60829251361732,
          null,
          19.83804858699122,
          18.60829251361732,
          null,
          11.229756073373903,
          11.229756073373903,
          null,
          13.689268220121708,
          13.689268220121708,
          null,
          16.148780366869516,
          16.148780366869516,
          null,
          18.60829251361732,
          18.60829251361732,
          null
         ]
        },
        {
         "marker": {
          "color": [
           "grey",
           "grey",
           "grey",
           "grey",
           "grey",
           "grey",
           "grey",
           "grey",
           "grey",
           "grey",
           "grey",
           "grey",
           "grey",
           "grey",
           "grey",
           "grey",
           "grey",
           "grey"
          ],
          "size": [
           10.72,
           10.72,
           10.72,
           10.72,
           10.72,
           10.72,
           10.72,
           10.72,
           10.72,
           10.72,
           10.72,
           10.72,
           10.72,
           10.72,
           10.72,
           10.72,
           10.72,
           10.72
          ]
         },
         "mode": "markers",
         "name": "Atoms",
         "text": [
          "[ 0.         11.22975607  0.        ]<br>0 (C)",
          "[ 0.         13.68926822  0.        ]<br>1 (C)",
          "[ 0.         16.14878037  0.        ]<br>2 (C)",
          "[ 0.         18.60829251  0.        ]<br>3 (C)",
          "[ 0.71 10.    0.  ]<br>4 (C)",
          "[ 0.71       12.45951215  0.        ]<br>5 (C)",
          "[ 0.71       14.91902429  0.        ]<br>6 (C)",
          "[ 0.71       17.37853644  0.        ]<br>7 (C)",
          "[ 0.71       19.83804859  0.        ]<br>8 (C)",
          "[ 2.13 10.    0.  ]<br>9 (C)",
          "[ 2.13       12.45951215  0.        ]<br>10 (C)",
          "[ 2.13       14.91902429  0.        ]<br>11 (C)",
          "[ 2.13       17.37853644  0.        ]<br>12 (C)",
          "[ 2.13       19.83804859  0.        ]<br>13 (C)",
          "[ 2.84       11.22975607  0.        ]<br>14 (C)",
          "[ 2.84       13.68926822  0.        ]<br>15 (C)",
          "[ 2.84       16.14878037  0.        ]<br>16 (C)",
          "[ 2.84       18.60829251  0.        ]<br>17 (C)"
         ],
         "type": "scatter",
         "uid": "a2c2857d-98f1-4d50-aa5e-3bd7d26d7e88",
         "x": {
          "dtype": "float64",
          "shape": [
           18
          ]
         },
         "y": {
          "dtype": "float64",
          "shape": [
           18
          ]
         }
        },
        {
         "mode": "lines",
         "name": "Unit cell",
         "type": "scatter",
         "uid": "e09a62da-f4ea-4d26-9313-93596a5e1bd4",
         "x": {
          "dtype": "float64",
          "shape": [
           16
          ]
         },
         "y": {
          "dtype": "float64",
          "shape": [
           16
          ]
         }
        }
       ],
       "_dom_classes": [],
       "_js2py_layoutDelta": {},
       "_js2py_pointsCallback": {},
       "_js2py_relayout": {},
       "_js2py_restyle": {},
       "_js2py_traceDeltas": {},
       "_js2py_update": {},
       "_last_layout_edit_id": 0,
       "_last_trace_edit_id": 0,
       "_layout": {
        "scene": {
         "aspectmode": "data"
        },
        "template": {
         "layout": {
          "hovermode": "closest",
          "paper_bgcolor": "white",
          "plot_bgcolor": "white",
          "scene": {
           "xaxis": {
            "color": "black",
            "gridcolor": "#ccc",
            "gridwidth": 1,
            "linewidth": 1,
            "mirror": true,
            "showgrid": false,
            "showline": true,
            "ticklen": 5,
            "ticks": "outside",
            "ticksuffix": " ",
            "visible": true,
            "zeroline": false,
            "zerolinecolor": "#ccc",
            "zerolinewidth": 1
           },
           "yaxis": {
            "color": "black",
            "gridcolor": "#ccc",
            "gridwidth": 1,
            "linewidth": 1,
            "mirror": true,
            "showgrid": false,
            "showline": true,
            "ticklen": 5,
            "ticks": "outside",
            "ticksuffix": " ",
            "visible": true,
            "zeroline": false,
            "zerolinecolor": "#ccc",
            "zerolinewidth": 1
           },
           "zaxis": {
            "color": "black",
            "gridcolor": "#ccc",
            "gridwidth": 1,
            "linewidth": 1,
            "mirror": true,
            "showgrid": false,
            "showline": true,
            "ticklen": 5,
            "ticks": "outside",
            "ticksuffix": " ",
            "visible": true,
            "zeroline": false,
            "zerolinecolor": "#ccc",
            "zerolinewidth": 1
           }
          },
          "xaxis": {
           "color": "black",
           "gridcolor": "#ccc",
           "gridwidth": 1,
           "linewidth": 1,
           "mirror": true,
           "showgrid": false,
           "showline": true,
           "ticklen": 5,
           "ticks": "outside",
           "ticksuffix": " ",
           "visible": true,
           "zeroline": false,
           "zerolinecolor": "#ccc",
           "zerolinewidth": 1
          },
          "yaxis": {
           "color": "black",
           "gridcolor": "#ccc",
           "gridwidth": 1,
           "linewidth": 1,
           "mirror": true,
           "showgrid": false,
           "showline": true,
           "ticklen": 5,
           "ticks": "outside",
           "ticksuffix": " ",
           "visible": true,
           "zeroline": false,
           "zerolinecolor": "#ccc",
           "zerolinewidth": 1
          }
         }
        },
        "xaxis": {
         "title": {
          "text": "X axis [Ang]"
         }
        },
        "yaxis": {
         "scaleanchor": "x",
         "scaleratio": 1,
         "title": {
          "text": "Y axis [Ang]"
         }
        }
       },
       "_model_module": "plotlywidget",
       "_model_module_version": "^4.14.3",
       "_model_name": "FigureModel",
       "_py2js_addTraces": {},
       "_py2js_animate": {},
       "_py2js_deleteTraces": {},
       "_py2js_moveTraces": {},
       "_py2js_relayout": {},
       "_py2js_removeLayoutProps": {},
       "_py2js_removeTraceProps": {},
       "_py2js_restyle": {},
       "_py2js_update": {},
       "_view_count": 0,
       "_view_module": "plotlywidget",
       "_view_module_version": "^4.14.3",
       "_view_name": "FigureView"
      }
     }
    },
    "version_major": 2,
    "version_minor": 0
   }
  }
 },
 "nbformat": 4,
 "nbformat_minor": 2
}
